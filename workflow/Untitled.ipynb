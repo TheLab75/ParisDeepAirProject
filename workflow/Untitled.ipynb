{
 "cells": [
  {
   "cell_type": "code",
   "execution_count": 32,
   "id": "8881c24e",
   "metadata": {},
   "outputs": [
    {
     "name": "stdout",
     "output_type": "stream",
     "text": [
      "The autoreload extension is already loaded. To reload it, use:\n",
      "  %reload_ext autoreload\n"
     ]
    },
    {
     "data": {
      "text/plain": [
       "'../../coucou'"
      ]
     },
     "execution_count": 32,
     "metadata": {},
     "output_type": "execute_result"
    }
   ],
   "source": [
    "import os\n",
    "%load_ext autoreload\n",
    "%autoreload 2\n",
    "\n",
    "from workflow.registry import load_model, LOCAL_REGISTRY_PATH\n",
    "\n",
    "tester = os.path.join('..','..',LOCAL_REGISTRY_PATH)\n",
    "tester"
   ]
  },
  {
   "cell_type": "code",
   "execution_count": 1,
   "id": "d500c288",
   "metadata": {},
   "outputs": [
    {
     "name": "stderr",
     "output_type": "stream",
     "text": [
      "/Users/Edouard_1/.pyenv/versions/3.10.6/envs/PDPA-virt_env/lib/python3.10/site-packages/tqdm/auto.py:22: TqdmWarning: IProgress not found. Please update jupyter and ipywidgets. See https://ipywidgets.readthedocs.io/en/stable/user_install.html\n",
      "  from .autonotebook import tqdm as notebook_tqdm\n"
     ]
    },
    {
     "data": {
      "text/plain": [
       "[ForecastResult(timeseries=<greykite.framework.input.univariate_time_series.UnivariateTimeSeries object at 0x2bd404d30>, grid_search=RandomizedSearchCV(cv=RollingTimeSeriesSplit(expanding_window=True, forecast_horizon=7,\n",
       "             max_splits=3, min_train_periods=14, periods_between_splits=7,\n",
       "             periods_between_train_test=0, use_most_recent_splits=None),\n",
       "                    estimator=Pipeline(steps=[('input',\n",
       "                                               PandasFeatureUnion(transformer_list=[('date',\n",
       "                                                                                     Pipeline(steps=[('select_date',\n",
       "                                                                                                      ColumnSelector(column_names=['ts']))...\n",
       "                             'OutsideTolerance3p': make_scorer(score_func_finite),\n",
       "                             'OutsideTolerance4p': make_scorer(score_func_finite),\n",
       "                             'OutsideTolerance5p': make_scorer(score_func_finite),\n",
       "                             'Q80': make_scorer(score_func_finite),\n",
       "                             'Q95': make_scorer(score_func_finite),\n",
       "                             'Q99': make_scorer(score_func_finite),\n",
       "                             'R2': make_scorer(score_func_finite),\n",
       "                             'RMSE': make_scorer(score_func_finite),\n",
       "                             'sMAPE': make_scorer(score_func_finite)},\n",
       "                    verbose=1), model=Pipeline(steps=[('input',\n",
       "                  PandasFeatureUnion(transformer_list=[('date',\n",
       "                                                        Pipeline(steps=[('select_date',\n",
       "                                                                         ColumnSelector(column_names=['ts']))])),\n",
       "                                                       ('response',\n",
       "                                                        Pipeline(steps=[('select_val',\n",
       "                                                                         ColumnSelector(column_names=['y'])),\n",
       "                                                                        ('outlier',\n",
       "                                                                         ZscoreOutlierTransformer()),\n",
       "                                                                        ('null',\n",
       "                                                                         NullTransformer(impute_algorithm='interpolate',\n",
       "                                                                                         impute_params={'axis': 0,\n",
       "                                                                                                        'limit_direct...\n",
       "                                                                                                        'method': 'linear'}))])),\n",
       "                                                       ('regressors_other',\n",
       "                                                        Pipeline(steps=[('select_reg',\n",
       "                                                                         ColumnSelector(column_names=[])),\n",
       "                                                                        ('select_reg_non_numeric',\n",
       "                                                                         DtypeColumnSelector(exclude='number'))]))])),\n",
       "                 ('degenerate', DropDegenerateTransformer()),\n",
       "                 ('estimator',\n",
       "                  AutoArimaEstimator(coverage=0.95, freq='D',\n",
       "                                     score_func=<function add_finite_filter_to_scorer.<locals>.score_func_finite at 0x2bd402440>))]), backtest=<greykite.framework.output.univariate_forecast.UnivariateForecast object at 0x2bd4e3af0>, forecast=<greykite.framework.output.univariate_forecast.UnivariateForecast object at 0x2bd510d60>),\n",
       " ForecastResult(timeseries=<greykite.framework.input.univariate_time_series.UnivariateTimeSeries object at 0x2bd404fa0>, grid_search=RandomizedSearchCV(cv=RollingTimeSeriesSplit(expanding_window=True, forecast_horizon=7,\n",
       "             max_splits=3, min_train_periods=14, periods_between_splits=7,\n",
       "             periods_between_train_test=0, use_most_recent_splits=None),\n",
       "                    estimator=Pipeline(steps=[('input',\n",
       "                                               PandasFeatureUnion(transformer_list=[('date',\n",
       "                                                                                     Pipeline(steps=[('select_date',\n",
       "                                                                                                      ColumnSelector(column_names=['ts']))...\n",
       "                             'OutsideTolerance3p': make_scorer(score_func_finite),\n",
       "                             'OutsideTolerance4p': make_scorer(score_func_finite),\n",
       "                             'OutsideTolerance5p': make_scorer(score_func_finite),\n",
       "                             'Q80': make_scorer(score_func_finite),\n",
       "                             'Q95': make_scorer(score_func_finite),\n",
       "                             'Q99': make_scorer(score_func_finite),\n",
       "                             'R2': make_scorer(score_func_finite),\n",
       "                             'RMSE': make_scorer(score_func_finite),\n",
       "                             'sMAPE': make_scorer(score_func_finite)},\n",
       "                    verbose=1), model=Pipeline(steps=[('input',\n",
       "                  PandasFeatureUnion(transformer_list=[('date',\n",
       "                                                        Pipeline(steps=[('select_date',\n",
       "                                                                         ColumnSelector(column_names=['ts']))])),\n",
       "                                                       ('response',\n",
       "                                                        Pipeline(steps=[('select_val',\n",
       "                                                                         ColumnSelector(column_names=['y'])),\n",
       "                                                                        ('outlier',\n",
       "                                                                         ZscoreOutlierTransformer()),\n",
       "                                                                        ('null',\n",
       "                                                                         NullTransformer(impute_algorithm='interpolate',\n",
       "                                                                                         impute_params={'axis': 0,\n",
       "                                                                                                        'limit_direct...\n",
       "                                                                                                        'method': 'linear'}))])),\n",
       "                                                       ('regressors_other',\n",
       "                                                        Pipeline(steps=[('select_reg',\n",
       "                                                                         ColumnSelector(column_names=[])),\n",
       "                                                                        ('select_reg_non_numeric',\n",
       "                                                                         DtypeColumnSelector(exclude='number'))]))])),\n",
       "                 ('degenerate', DropDegenerateTransformer()),\n",
       "                 ('estimator',\n",
       "                  AutoArimaEstimator(coverage=0.95, freq='D',\n",
       "                                     score_func=<function add_finite_filter_to_scorer.<locals>.score_func_finite at 0x2bd4d8040>))]), backtest=<greykite.framework.output.univariate_forecast.UnivariateForecast object at 0x2bd5652a0>, forecast=<greykite.framework.output.univariate_forecast.UnivariateForecast object at 0x2bd566260>)]"
      ]
     },
     "execution_count": 1,
     "metadata": {},
     "output_type": "execute_result"
    }
   ],
   "source": [
    "from workflow.registry import load_model\n",
    "\n",
    "test = load_model()\n",
    "\n",
    "\n",
    "test[:2]\n",
    "\n",
    "\n",
    "\n",
    "\n",
    "\n",
    "#/Users/Edouard_1/code/TheLab75/ParisDeepAirProject/model_save/models/Paris_est\n",
    "\n"
   ]
  },
  {
   "cell_type": "code",
   "execution_count": 29,
   "id": "28fc5c7b",
   "metadata": {},
   "outputs": [
    {
     "name": "stdout",
     "output_type": "stream",
     "text": [
      "/Users/Edouard_1/code/TheLab75/ParisDeepAirProject/notebooks/Edouard\r\n"
     ]
    }
   ],
   "source": [
    "!pwd\n",
    "\n"
   ]
  },
  {
   "cell_type": "code",
   "execution_count": null,
   "id": "af843b68",
   "metadata": {},
   "outputs": [],
   "source": []
  }
 ],
 "metadata": {
  "kernelspec": {
   "display_name": "Python 3 (ipykernel)",
   "language": "python",
   "name": "python3"
  },
  "language_info": {
   "codemirror_mode": {
    "name": "ipython",
    "version": 3
   },
   "file_extension": ".py",
   "mimetype": "text/x-python",
   "name": "python",
   "nbconvert_exporter": "python",
   "pygments_lexer": "ipython3",
   "version": "3.10.6"
  },
  "toc": {
   "base_numbering": 1,
   "nav_menu": {},
   "number_sections": true,
   "sideBar": true,
   "skip_h1_title": false,
   "title_cell": "Table of Contents",
   "title_sidebar": "Contents",
   "toc_cell": false,
   "toc_position": {},
   "toc_section_display": true,
   "toc_window_display": false
  },
  "vscode": {
   "interpreter": {
    "hash": "6ecb0b746a185a8c14d9b5bb8709b1aa363b5d2ecec148003282cde3b13a027a"
   }
  }
 },
 "nbformat": 4,
 "nbformat_minor": 5
}
