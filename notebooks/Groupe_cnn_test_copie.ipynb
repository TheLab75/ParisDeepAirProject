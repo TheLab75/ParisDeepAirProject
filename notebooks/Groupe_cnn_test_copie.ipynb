{
 "cells": [
  {
   "cell_type": "markdown",
   "id": "1032f8f3",
   "metadata": {},
   "source": [
    "# Recurrent Neural Network"
   ]
  },
  {
   "cell_type": "markdown",
   "id": "c017b6bf",
   "metadata": {},
   "source": [
    "## (0) Libraries"
   ]
  },
  {
   "cell_type": "code",
   "execution_count": 2,
   "id": "4b2b8350",
   "metadata": {
    "ExecuteTime": {
     "end_time": "2022-12-01T14:16:49.647250Z",
     "start_time": "2022-12-01T14:16:45.077273Z"
    }
   },
   "outputs": [],
   "source": [
    "# Data manipulation\n",
    "import numpy as np\n",
    "import pandas as pd\n",
    "pd.set_option(\"display.max_columns\", None)\n",
    "\n",
    "# Data Visualiation\n",
    "import matplotlib.pyplot as plt\n",
    "import seaborn as sns\n",
    "\n",
    "# System\n",
    "import os\n",
    "\n",
    "# Deep Learning\n",
    "import tensorflow as tf\n",
    "\n",
    "# Checking data types\n",
    "from typing import Dict, List, Tuple, Sequence\n",
    "import string"
   ]
  },
  {
   "cell_type": "markdown",
   "id": "731c3240",
   "metadata": {},
   "source": [
    "## (1) 📚 The dataset"
   ]
  },
  {
   "cell_type": "markdown",
   "id": "402fd55a",
   "metadata": {},
   "source": [
    "### (1.1) Loading the dataset"
   ]
  },
  {
   "cell_type": "markdown",
   "id": "8ce92c13",
   "metadata": {},
   "source": [
    "💾 Load it."
   ]
  },
  {
   "cell_type": "code",
   "execution_count": 3,
   "id": "4db094e1",
   "metadata": {
    "ExecuteTime": {
     "end_time": "2022-12-01T14:16:49.661166Z",
     "start_time": "2022-12-01T14:16:49.649125Z"
    }
   },
   "outputs": [],
   "source": [
    "df = pd.read_csv('../data/pollution/inputs/Xy_PA75016.csv',index_col='Date_time')\n",
    "df = df.reset_index(drop=True)"
   ]
  },
  {
   "cell_type": "code",
   "execution_count": 4,
   "id": "5a43f0a3",
   "metadata": {
    "ExecuteTime": {
     "end_time": "2022-12-01T14:16:49.673921Z",
     "start_time": "2022-12-01T14:16:49.662241Z"
    }
   },
   "outputs": [
    {
     "data": {
      "text/html": [
       "<div>\n",
       "<style scoped>\n",
       "    .dataframe tbody tr th:only-of-type {\n",
       "        vertical-align: middle;\n",
       "    }\n",
       "\n",
       "    .dataframe tbody tr th {\n",
       "        vertical-align: top;\n",
       "    }\n",
       "\n",
       "    .dataframe thead th {\n",
       "        text-align: right;\n",
       "    }\n",
       "</style>\n",
       "<table border=\"1\" class=\"dataframe\">\n",
       "  <thead>\n",
       "    <tr style=\"text-align: right;\">\n",
       "      <th></th>\n",
       "      <th>PM25</th>\n",
       "      <th>PM10</th>\n",
       "      <th>NO2</th>\n",
       "      <th>ATMO</th>\n",
       "    </tr>\n",
       "  </thead>\n",
       "  <tbody>\n",
       "    <tr>\n",
       "      <th>0</th>\n",
       "      <td>0.000000</td>\n",
       "      <td>-0.001422</td>\n",
       "      <td>-0.732394</td>\n",
       "      <td>4</td>\n",
       "    </tr>\n",
       "    <tr>\n",
       "      <th>1</th>\n",
       "      <td>0.000000</td>\n",
       "      <td>-0.001422</td>\n",
       "      <td>-0.732394</td>\n",
       "      <td>4</td>\n",
       "    </tr>\n",
       "    <tr>\n",
       "      <th>2</th>\n",
       "      <td>0.000000</td>\n",
       "      <td>-0.001422</td>\n",
       "      <td>-0.732394</td>\n",
       "      <td>4</td>\n",
       "    </tr>\n",
       "    <tr>\n",
       "      <th>3</th>\n",
       "      <td>0.000000</td>\n",
       "      <td>-0.001422</td>\n",
       "      <td>-0.732394</td>\n",
       "      <td>4</td>\n",
       "    </tr>\n",
       "    <tr>\n",
       "      <th>4</th>\n",
       "      <td>0.000000</td>\n",
       "      <td>-0.025605</td>\n",
       "      <td>-0.510563</td>\n",
       "      <td>4</td>\n",
       "    </tr>\n",
       "    <tr>\n",
       "      <th>...</th>\n",
       "      <td>...</td>\n",
       "      <td>...</td>\n",
       "      <td>...</td>\n",
       "      <td>...</td>\n",
       "    </tr>\n",
       "    <tr>\n",
       "      <th>1770</th>\n",
       "      <td>-0.562911</td>\n",
       "      <td>-0.504979</td>\n",
       "      <td>-0.517606</td>\n",
       "      <td>4</td>\n",
       "    </tr>\n",
       "    <tr>\n",
       "      <th>1771</th>\n",
       "      <td>-0.633635</td>\n",
       "      <td>0.012802</td>\n",
       "      <td>-0.278169</td>\n",
       "      <td>4</td>\n",
       "    </tr>\n",
       "    <tr>\n",
       "      <th>1772</th>\n",
       "      <td>-1.473684</td>\n",
       "      <td>-0.315789</td>\n",
       "      <td>-0.880282</td>\n",
       "      <td>3</td>\n",
       "    </tr>\n",
       "    <tr>\n",
       "      <th>1773</th>\n",
       "      <td>-0.908306</td>\n",
       "      <td>1.544808</td>\n",
       "      <td>1.109155</td>\n",
       "      <td>3</td>\n",
       "    </tr>\n",
       "    <tr>\n",
       "      <th>1774</th>\n",
       "      <td>-1.122122</td>\n",
       "      <td>1.684211</td>\n",
       "      <td>1.014085</td>\n",
       "      <td>3</td>\n",
       "    </tr>\n",
       "  </tbody>\n",
       "</table>\n",
       "<p>1775 rows × 4 columns</p>\n",
       "</div>"
      ],
      "text/plain": [
       "          PM25      PM10       NO2  ATMO\n",
       "0     0.000000 -0.001422 -0.732394     4\n",
       "1     0.000000 -0.001422 -0.732394     4\n",
       "2     0.000000 -0.001422 -0.732394     4\n",
       "3     0.000000 -0.001422 -0.732394     4\n",
       "4     0.000000 -0.025605 -0.510563     4\n",
       "...        ...       ...       ...   ...\n",
       "1770 -0.562911 -0.504979 -0.517606     4\n",
       "1771 -0.633635  0.012802 -0.278169     4\n",
       "1772 -1.473684 -0.315789 -0.880282     3\n",
       "1773 -0.908306  1.544808  1.109155     3\n",
       "1774 -1.122122  1.684211  1.014085     3\n",
       "\n",
       "[1775 rows x 4 columns]"
      ]
     },
     "execution_count": 4,
     "metadata": {},
     "output_type": "execute_result"
    }
   ],
   "source": [
    "df"
   ]
  },
  {
   "cell_type": "code",
   "execution_count": 5,
   "id": "b7db67af",
   "metadata": {
    "ExecuteTime": {
     "end_time": "2022-12-01T14:16:49.680749Z",
     "start_time": "2022-12-01T14:16:49.676112Z"
    }
   },
   "outputs": [
    {
     "data": {
      "text/plain": [
       "4    899\n",
       "5    721\n",
       "3    150\n",
       "2      4\n",
       "1      1\n",
       "Name: ATMO, dtype: int64"
      ]
     },
     "execution_count": 5,
     "metadata": {},
     "output_type": "execute_result"
    }
   ],
   "source": [
    "df['ATMO'].value_counts()"
   ]
  },
  {
   "cell_type": "code",
   "execution_count": 6,
   "id": "b5abd5e1",
   "metadata": {
    "ExecuteTime": {
     "end_time": "2022-12-01T14:16:49.684233Z",
     "start_time": "2022-12-01T14:16:49.681981Z"
    }
   },
   "outputs": [
    {
     "data": {
      "text/plain": [
       "0.5064788732394366"
      ]
     },
     "execution_count": 6,
     "metadata": {},
     "output_type": "execute_result"
    }
   ],
   "source": [
    "baseline = 899/1775\n",
    "baseline"
   ]
  },
  {
   "cell_type": "markdown",
   "id": "9ce135be",
   "metadata": {},
   "source": [
    "👆 *(Reminders*) This weather dataset is a ***single Time Series*** represented as a DataFrame, i.e. a **2D-array**.\n",
    "- `df.shape = (n_timesteps, n_features)`\n",
    "    - `n_timesteps` $= 23$k rows  (_~8 years of weather data, from 2009 to 2016 with records every 3 hours_)\n",
    "    - `n_features` $= 19$ features composed of:\n",
    "        - $1$ <font color=green>**target**</font> (we will use the past values of the temperature as a feature)\n",
    "        - $18$ <font color=orange>**past covariates**</font> (= features which past values are known)\n",
    "        - $0$ <font color=blue>**future covariates**</font> (= features which future values are known, e.g. public holidays)\n",
    "    \n",
    "<img src='https://github.com/lewagon/data-images/blob/master/DL/time-series-covariates.png?raw=true'>    "
   ]
  },
  {
   "cell_type": "markdown",
   "id": "1a13741d",
   "metadata": {},
   "source": [
    "### (1.2) 🌅 The big picture about dealing with Time Series *(reminder)*"
   ]
  },
  {
   "cell_type": "markdown",
   "id": "48f7d99d",
   "metadata": {},
   "source": [
    "1️⃣ <b>[FOLDS] <u>Cross-Validation in Time Series  </u></b>\n",
    "\n",
    "Starting from this single Time Series:\n",
    "- We will create <font color=\"#c91ac9\">**FOLDS**</font>\n",
    "- <font color=blue>**Train**</font>/<font color=\"#ff8005\">**Evaluate**</font> our LSTM  <font color=\"#c91ac9\">**on each of these different FOLDS**</font> to conclude about <b><u>the robustness of the model</u><b>.\n",
    "    \n",
    "_It is very common to create hundreds of folds in Time Series forecasting, in order to cover all types of external conditions: crash market periods, bull markets, atone markets, etc..._"
   ]
  },
  {
   "cell_type": "markdown",
   "id": "cefea409",
   "metadata": {},
   "source": [
    "2️⃣ <b>[TRAIN-TEST SPLIT] <u>Holdout method</u></b>\n",
    "\n",
    "For each <font color=\"#c91ac9\">**FOLD**</font>, we will do a <font color=blue>**TRAIN**</font>-<font color=\"#ff8005\">**TEST**</font> SPLIT to:\n",
    "* <font color=blue>**fit**</font> the model on the <font color=blue>**train**</font> set \n",
    "* <font color=\"#ff8005\">**evaluate**</font> it on the <font color=\"#ff8005\">**test**</font> set\n",
    "\n",
    "_Always split the train set **chronologically** before the test set!_"
   ]
  },
  {
   "cell_type": "markdown",
   "id": "a5dab76c",
   "metadata": {},
   "source": [
    "<hr> \n",
    "\n",
    "👇 The first two steps can be summarized in the following image (here, we illustrated a 4-fold temporal cross-validation):\n",
    "\n",
    "<img src=\"https://wagon-public-datasets.s3.amazonaws.com/data-science-images/06-DL/time_series_cross_validation.png\" alt=\"Time Series Cross Validation\" width=\"800\" height=\"400\">\n",
    "\n",
    "<hr>"
   ]
  },
  {
   "cell_type": "markdown",
   "id": "4ff8c0e8",
   "metadata": {},
   "source": [
    "3️⃣ <b>[SEQUENCES] <u>Sampling/Extracting sequences</u></b>\n",
    "\n",
    "\n",
    "After splitting each fold into a <font color=\"blue\">train</font> set and a <font color=\"#ff8005\">test</font> set, it is time to:\n",
    "- 🏋 sample lots of <font color=\"#884dff\"><i>sequences</i></font> $\\color{blue}{(X_i, y_i)}$ on which the model will be <font color=\"blue\">trained</font>\n",
    "- 👩🏻‍🏫 sample lots of <font color=\"#884dff\"><i>sequences</i></font> $\\color{#ff8005}{(X_i, y_i)}$ on which the model will be <font color=\"#ff8005\">evaluated</font>\n",
    "\n",
    "\n",
    "<img src=\"https://bit.ly/3Ri8Vfd\" alt=\"Sequences in each fold\" width=\"500\" height=\"500\"> \n",
    "\n",
    "👉 All these <font color=\"#884dff\"><i>sequences</i></font> in the <font color=\"blue\">train</font> set and the <font color=\"#ff8005\">test</font> set will have a common shape `(input_length, n_features)` $ = (14\\times8,19) = (112,19)$.\n",
    "\n",
    "👉 Each <font color=\"#884dff\"><i>sequence</i></font> has a target, the shape of which will be `(output_length, n_targets)` $ = (7\\times8, 1) = (56, 1)$.\n",
    "\n",
    "<img src=\"https://wagon-public-datasets.s3.amazonaws.com/data-science-images/06-DL/shapes_for_input_sequence_and_ouput_sequence.png\" alt=\"3d arrays time series\" width=\"1200\" height=\"800\"> \n",
    "\n",
    "<hr>"
   ]
  },
  {
   "cell_type": "markdown",
   "id": "cf741737",
   "metadata": {},
   "source": [
    "> 🔥 Open this [**infograph**](https://wagon-public-datasets.s3.amazonaws.com/data-science-images/06-DL/big_picture_temporal_data_handling.png)  side-by-side with the notebook for a visual summary! 🔥"
   ]
  },
  {
   "cell_type": "markdown",
   "id": "cb6db251",
   "metadata": {},
   "source": [
    "## (2) Adapting the functions from the _\"Predict Temperature\"_ challenge"
   ]
  },
  {
   "cell_type": "markdown",
   "id": "2fcabcfe",
   "metadata": {},
   "source": [
    "### (2.0) Global Variables"
   ]
  },
  {
   "cell_type": "markdown",
   "id": "57b9c787",
   "metadata": {},
   "source": [
    "🌐 Let's define some ***global variables*** that we will use for our tests everywhere in this notebook:"
   ]
  },
  {
   "cell_type": "code",
   "execution_count": 158,
   "id": "cdb7dd75",
   "metadata": {
    "ExecuteTime": {
     "end_time": "2022-12-01T15:48:04.407812Z",
     "start_time": "2022-12-01T15:48:04.396712Z"
    }
   },
   "outputs": [],
   "source": [
    "# Folds\n",
    "FOLD_LENGTH = 521      # dont 365J Train +  156J Test\n",
    "FOLD_STRIDE = int(209) # sliding each semester - décalage de 209J pour obtenir 7 folds\n",
    "\n",
    "# Temporal Train-Test split\n",
    "TRAIN_TEST_RATIO = 0.7 #70% de train et 30% de test par fold\n",
    "#N_TRAIN = 365 # number_of_sequences_train for each fold_train\n",
    "#N_TEST = 156 # number_of_sequences_test for each fold_test\n",
    "\n",
    "# Inputs\n",
    "N_FEATURES = 4  # 3 polluants + l'ATMO index\n",
    "INPUT_LENGTH = 7 # - Records 1 week ~ 7 days. One week is quite common for air quality  \n",
    "\n",
    "# Outputs\n",
    "TARGET = ['ATMO']\n",
    "TARGET_COLUMN_IDX = 3 # Corresponds to the third column of the df\n",
    "N_TARGETS = 1\n",
    "OUTPUT_LENGTH = N_TARGETS*7 # Predicting one target, the ATMO index for 7 days\n",
    "                              \n",
    "\n",
    "# Additional parameters\n",
    "HORIZON = 1 # - You want to predict this point HORIZON = 1 day after the last known value"
   ]
  },
  {
   "cell_type": "markdown",
   "id": "1b9fe462",
   "metadata": {},
   "source": [
    "### (2.1)  🗂 <font color=\"#c91ac9\">FOLDS</font>"
   ]
  },
  {
   "cell_type": "markdown",
   "id": "565068ec",
   "metadata": {},
   "source": [
    "🎁 **`get_folds`**\n",
    "\n",
    "You have already coded this function in *Challenge 3 - Predict Weather Temperature*. <br> _Feel free to ask the teacher any questions if something is still not clear._"
   ]
  },
  {
   "cell_type": "code",
   "execution_count": 8,
   "id": "b8fdfe92",
   "metadata": {
    "ExecuteTime": {
     "end_time": "2022-12-01T14:16:49.692117Z",
     "start_time": "2022-12-01T14:16:49.688939Z"
    }
   },
   "outputs": [],
   "source": [
    "def get_folds(df: pd.DataFrame, \n",
    "              fold_length: int,\n",
    "              fold_stride: int) -> List[pd.DataFrame]:\n",
    "    '''\n",
    "    This function slides through the Time Series dataframe of shape (n_timesteps, n_features) to create folds\n",
    "    - of equal `fold_length`\n",
    "    - using `fold_stride` between each fold\n",
    "    \n",
    "    Returns a list of folds, each as a DataFrame\n",
    "    '''\n",
    "\n",
    "    folds = []\n",
    "    for idx in range(0, len(df), fold_stride):\n",
    "        # Exits the loop as soon as the last fold index would exceed the last index\n",
    "        if (idx + fold_length) > len(df):\n",
    "            break\n",
    "        fold = df.iloc[idx:idx + fold_length, :]\n",
    "        folds.append(fold)\n",
    "    return folds"
   ]
  },
  {
   "cell_type": "markdown",
   "id": "cf665ae0",
   "metadata": {},
   "source": [
    "👉 Let's generate these <font color=\"#c91ac9\">**FOLDS**</font>."
   ]
  },
  {
   "cell_type": "code",
   "execution_count": 9,
   "id": "325d5dc3",
   "metadata": {
    "ExecuteTime": {
     "end_time": "2022-12-01T14:16:49.701304Z",
     "start_time": "2022-12-01T14:16:49.693368Z"
    }
   },
   "outputs": [
    {
     "name": "stdout",
     "output_type": "stream",
     "text": [
      "The function generated 7 folds.\n",
      "Each fold has a shape equal to (521, 4).\n"
     ]
    },
    {
     "data": {
      "text/plain": [
       "(7, 521, 4)"
      ]
     },
     "execution_count": 9,
     "metadata": {},
     "output_type": "execute_result"
    }
   ],
   "source": [
    "folds = get_folds(df, FOLD_LENGTH, FOLD_STRIDE)\n",
    "\n",
    "print(f'The function generated {len(folds)} folds.')\n",
    "print(f'Each fold has a shape equal to {folds[0].shape}.')\n",
    "np.array(folds).shape"
   ]
  },
  {
   "cell_type": "markdown",
   "id": "e05046f2",
   "metadata": {},
   "source": [
    "7 Folds\n",
    "\n",
    "521 Observation (fold_length)\n",
    "\n",
    "4 features (3 polluant + 1target )"
   ]
  },
  {
   "cell_type": "markdown",
   "id": "06616fd2",
   "metadata": {},
   "source": [
    "🧪 Make sure that the following <font color=green>***assert***</font> doesn't return anything (which means the assertion is correct)."
   ]
  },
  {
   "cell_type": "code",
   "execution_count": 10,
   "id": "fedc6e1d",
   "metadata": {
    "ExecuteTime": {
     "end_time": "2022-12-01T14:16:49.704278Z",
     "start_time": "2022-12-01T14:16:49.702421Z"
    }
   },
   "outputs": [],
   "source": [
    "assert(folds[0].shape == (521, 4))"
   ]
  },
  {
   "cell_type": "markdown",
   "id": "db8405b1",
   "metadata": {},
   "source": [
    "☝️ This amount of <font color=\"#c91ac9\">**FOLDS**</font> should be enough to cross-validate our model correctly!"
   ]
  },
  {
   "cell_type": "markdown",
   "id": "f2cf963d",
   "metadata": {},
   "source": [
    "### (2.2) ✂️  Temporal <font color=blue>Train</font>/<font color=\"#ff8005\">Test</font> Split"
   ]
  },
  {
   "cell_type": "markdown",
   "id": "16704f88",
   "metadata": {},
   "source": [
    "👩🏻‍🏫 Let's <font color=\"#c91ac9\">focus on one fold</font> for the moment, the first one for example."
   ]
  },
  {
   "cell_type": "code",
   "execution_count": 11,
   "id": "4b9cc332",
   "metadata": {
    "ExecuteTime": {
     "end_time": "2022-12-01T14:16:49.713598Z",
     "start_time": "2022-12-01T14:16:49.707315Z"
    }
   },
   "outputs": [
    {
     "data": {
      "text/html": [
       "<div>\n",
       "<style scoped>\n",
       "    .dataframe tbody tr th:only-of-type {\n",
       "        vertical-align: middle;\n",
       "    }\n",
       "\n",
       "    .dataframe tbody tr th {\n",
       "        vertical-align: top;\n",
       "    }\n",
       "\n",
       "    .dataframe thead th {\n",
       "        text-align: right;\n",
       "    }\n",
       "</style>\n",
       "<table border=\"1\" class=\"dataframe\">\n",
       "  <thead>\n",
       "    <tr style=\"text-align: right;\">\n",
       "      <th></th>\n",
       "      <th>PM25</th>\n",
       "      <th>PM10</th>\n",
       "      <th>NO2</th>\n",
       "      <th>ATMO</th>\n",
       "    </tr>\n",
       "  </thead>\n",
       "  <tbody>\n",
       "    <tr>\n",
       "      <th>0</th>\n",
       "      <td>0.000000</td>\n",
       "      <td>-0.001422</td>\n",
       "      <td>-0.732394</td>\n",
       "      <td>4</td>\n",
       "    </tr>\n",
       "    <tr>\n",
       "      <th>1</th>\n",
       "      <td>0.000000</td>\n",
       "      <td>-0.001422</td>\n",
       "      <td>-0.732394</td>\n",
       "      <td>4</td>\n",
       "    </tr>\n",
       "    <tr>\n",
       "      <th>2</th>\n",
       "      <td>0.000000</td>\n",
       "      <td>-0.001422</td>\n",
       "      <td>-0.732394</td>\n",
       "      <td>4</td>\n",
       "    </tr>\n",
       "    <tr>\n",
       "      <th>3</th>\n",
       "      <td>0.000000</td>\n",
       "      <td>-0.001422</td>\n",
       "      <td>-0.732394</td>\n",
       "      <td>4</td>\n",
       "    </tr>\n",
       "    <tr>\n",
       "      <th>4</th>\n",
       "      <td>0.000000</td>\n",
       "      <td>-0.025605</td>\n",
       "      <td>-0.510563</td>\n",
       "      <td>4</td>\n",
       "    </tr>\n",
       "    <tr>\n",
       "      <th>...</th>\n",
       "      <td>...</td>\n",
       "      <td>...</td>\n",
       "      <td>...</td>\n",
       "      <td>...</td>\n",
       "    </tr>\n",
       "    <tr>\n",
       "      <th>516</th>\n",
       "      <td>1.043586</td>\n",
       "      <td>0.588905</td>\n",
       "      <td>0.404930</td>\n",
       "      <td>5</td>\n",
       "    </tr>\n",
       "    <tr>\n",
       "      <th>517</th>\n",
       "      <td>0.314145</td>\n",
       "      <td>-0.115220</td>\n",
       "      <td>-0.098592</td>\n",
       "      <td>5</td>\n",
       "    </tr>\n",
       "    <tr>\n",
       "      <th>518</th>\n",
       "      <td>0.213816</td>\n",
       "      <td>-0.065434</td>\n",
       "      <td>-0.070423</td>\n",
       "      <td>5</td>\n",
       "    </tr>\n",
       "    <tr>\n",
       "      <th>519</th>\n",
       "      <td>0.158306</td>\n",
       "      <td>0.183499</td>\n",
       "      <td>-0.253521</td>\n",
       "      <td>4</td>\n",
       "    </tr>\n",
       "    <tr>\n",
       "      <th>520</th>\n",
       "      <td>0.166530</td>\n",
       "      <td>-0.236131</td>\n",
       "      <td>-0.158451</td>\n",
       "      <td>5</td>\n",
       "    </tr>\n",
       "  </tbody>\n",
       "</table>\n",
       "<p>521 rows × 4 columns</p>\n",
       "</div>"
      ],
      "text/plain": [
       "         PM25      PM10       NO2  ATMO\n",
       "0    0.000000 -0.001422 -0.732394     4\n",
       "1    0.000000 -0.001422 -0.732394     4\n",
       "2    0.000000 -0.001422 -0.732394     4\n",
       "3    0.000000 -0.001422 -0.732394     4\n",
       "4    0.000000 -0.025605 -0.510563     4\n",
       "..        ...       ...       ...   ...\n",
       "516  1.043586  0.588905  0.404930     5\n",
       "517  0.314145 -0.115220 -0.098592     5\n",
       "518  0.213816 -0.065434 -0.070423     5\n",
       "519  0.158306  0.183499 -0.253521     4\n",
       "520  0.166530 -0.236131 -0.158451     5\n",
       "\n",
       "[521 rows x 4 columns]"
      ]
     },
     "execution_count": 11,
     "metadata": {},
     "output_type": "execute_result"
    }
   ],
   "source": [
    "fold = folds[0]\n",
    "fold"
   ]
  },
  {
   "cell_type": "markdown",
   "id": "654a502e",
   "metadata": {},
   "source": [
    "⌚️ We want to ***split this <font color=\"#c91ac9\">fold</font> chronologically*** into a <font color=blue>***fold_train***</font> and a <font color=\"#ff8005\">***fold_test***</font>.\n",
    "\n",
    "*Each of these fold_train and fold_test will contain all the data we need to be able to sample many pairs `(Xi, yi)` in a next step!*"
   ]
  },
  {
   "cell_type": "markdown",
   "id": "ed4da9b8",
   "metadata": {},
   "source": [
    "#### (2.2.1) 🧑🏻‍🏫 The complexity introduced by the <font color=green>gap</font>"
   ]
  },
  {
   "cell_type": "markdown",
   "id": "12c554e6",
   "metadata": {},
   "source": [
    "<details>\n",
    "    <summary>⏸ Let's take a <i>quick break</i> from this weather dataset to understand what is a temporal gap.</summary>\n",
    "\n",
    "<hr>\n",
    "\n",
    "🤑 Put yourself in the shoes of a quantitative trader at timesteps $\\color{blue}{1}, \\color{blue}{2}, \\color{blue}{3}, ..., \\color{blue}{10}$.\n",
    "\n",
    "Let's say you are in the <font color=blue>training</font> phase, and you want to stop your training after day `10`:\n",
    "- You have to wait until day `10` to know the real value $y_{10}$, and compare it with the predicted value $\\hat{y}_{10}$ to train the model.\n",
    " \n",
    "Here are the <font color=blue>assumptions about your model</font>:\n",
    "- It is trained on <font color=\"#884dff\"><i>sequences</i></font> with `INPUT_LENGTH = 3`\n",
    "- The goal is to predict `OUTPUT_LENGTH = 1` point in the future\n",
    "- You want to predict this point `HORIZON = 4` days after the last known value.\n",
    "\n",
    "✅ Imagine that your model was trained and put into production\n",
    "\n",
    "❓ <u>On which day can you evaluate the live performance of the model for the first time</u> ❓\n",
    "\n",
    "* You are at day `10`. Hence, the first prediction you can make is for day `10` + `HORIZON` = `14`\n",
    "* You will have to wait until day `14` to see how good was your prediction!\n",
    "    * `y_test_first` = day `14`\n",
    "* You sit IDLE for <font color=green>3</font> days $(11, 12, 13)$\n",
    "    \n",
    "</details>    "
   ]
  },
  {
   "cell_type": "markdown",
   "id": "19b88425",
   "metadata": {},
   "source": [
    "<img src=\"https://wagon-public-datasets.s3.amazonaws.com/data-science-images/06-DL/train_test_split_with_horizon.jpg?raw=true\" height=500 width=800>"
   ]
  },
  {
   "cell_type": "markdown",
   "id": "03e6a500",
   "metadata": {},
   "source": [
    "👉 The <font color=green>gap</font> between the <font color=blue>train</font> and the <font color=orange>test</font> set should be equal to `GAP = HORIZON - 1`."
   ]
  },
  {
   "cell_type": "markdown",
   "id": "edc8532a",
   "metadata": {},
   "source": [
    "#### (2.2.2) 💻 Adapting the  `train_test_split` function accordingly"
   ]
  },
  {
   "cell_type": "markdown",
   "id": "bea2584d",
   "metadata": {},
   "source": [
    "💻 ❓ **Question ❓ (Temporal <font color=blue>Train</font>/<font color=orange>Test</font> split)** \n",
    "\n",
    "Code the function `train_test_split` down below which:\n",
    "- <i>(inputs)</i> given \n",
    "    - a `fold` (like above), \n",
    "    - a `train_test_ratio` (e.g 0.8) \n",
    "    - an `input_length` (fixed)\n",
    "    - 🆕 a `horizon` (fixed)\n",
    "- <i>(output)</i> returns a tuple (`fold_train`, `fold_test`) of DataFrames"
   ]
  },
  {
   "cell_type": "code",
   "execution_count": 12,
   "id": "12901400",
   "metadata": {
    "ExecuteTime": {
     "end_time": "2022-12-01T14:16:49.717844Z",
     "start_time": "2022-12-01T14:16:49.714992Z"
    }
   },
   "outputs": [],
   "source": [
    "def train_test_split(fold: pd.DataFrame, \n",
    "                     train_test_ratio: float,\n",
    "                     input_length: int, \n",
    "                     horizon: int) -> Tuple[pd.DataFrame]:\n",
    "    '''\n",
    "    Returns a train dataframe and a test dataframe (fold_train, fold_test)\n",
    "    from which one can sample (X,y) sequences.\n",
    "    df_train should contain all the timesteps until round(train_test_ratio * len(fold))   \n",
    "    '''\n",
    "    # $CHALLENGIFY_BEGIN\n",
    "\n",
    "    # TRAIN SET\n",
    "    # ======================\n",
    "    last_train_idx = round(train_test_ratio * len(fold))\n",
    "    fold_train = fold.iloc[0:last_train_idx, :]\n",
    "\n",
    "    # TEST SET\n",
    "    # ======================\n",
    "    first_test_idx = last_train_idx - input_length\n",
    "    fold_test = fold.iloc[first_test_idx:, :]\n",
    "\n",
    "    return (fold_train, fold_test)\n",
    "\n",
    "    # $CHALLENGIFY_END"
   ]
  },
  {
   "cell_type": "markdown",
   "id": "9104e3ef",
   "metadata": {},
   "source": [
    "💻 ❓ **Question ❓ (Temporal <font color=blue>Train</font>/<font color=orange>Test</font> split for <font color=\"#c91ac9\">one fold </font>)** \n",
    "\n",
    "Split the <font color=\"#c91ac9\">fold #0</font>.\n",
    "\n",
    "\n",
    "<details>\n",
    "    <summary><i>Reminders</i></summary>\n",
    "\n",
    "*As a reminder, in  section `(2.0) Global Variables`, we defined*:\n",
    "- *`TRAIN_TEST_RATIO` = 66%* \n",
    "- *`INPUT_LENGTH` = 2 weeks = 112 time steps for each `Xi`, which is quite common in weather forecasting*\n",
    "- *`HORIZON` = 1 day = 8 time steps*\n",
    "\n",
    "</details>\n"
   ]
  },
  {
   "cell_type": "code",
   "execution_count": 13,
   "id": "7d6acfd9",
   "metadata": {
    "ExecuteTime": {
     "end_time": "2022-12-01T14:16:49.721885Z",
     "start_time": "2022-12-01T14:16:49.719210Z"
    },
    "tags": [
     "challengify"
    ]
   },
   "outputs": [],
   "source": [
    "(fold_train, fold_test) = train_test_split(fold, \n",
    "                                           TRAIN_TEST_RATIO,\n",
    "                                           INPUT_LENGTH, \n",
    "                                           HORIZON)"
   ]
  },
  {
   "cell_type": "code",
   "execution_count": 14,
   "id": "2d3f61d2",
   "metadata": {
    "ExecuteTime": {
     "end_time": "2022-12-01T14:16:49.725549Z",
     "start_time": "2022-12-01T14:16:49.722928Z"
    }
   },
   "outputs": [
    {
     "data": {
      "text/plain": [
       "((365, 4), (163, 4))"
      ]
     },
     "execution_count": 14,
     "metadata": {},
     "output_type": "execute_result"
    }
   ],
   "source": [
    "fold_train.shape, fold_test.shape"
   ]
  },
  {
   "cell_type": "markdown",
   "id": "cee6ccca",
   "metadata": {},
   "source": [
    "🧪 Check that your shapes and your starting/ending points are correct:"
   ]
  },
  {
   "cell_type": "code",
   "execution_count": 15,
   "id": "00958153",
   "metadata": {
    "ExecuteTime": {
     "end_time": "2022-12-01T14:16:49.729325Z",
     "start_time": "2022-12-01T14:16:49.726593Z"
    }
   },
   "outputs": [],
   "source": [
    "## Double-checking the shapes for the fold_train and fold_test\n",
    "fold_train.shape == (365, 4)\n",
    "fold_test.shape == (163, 4)\n",
    "\n",
    "## Double-checking the starting point and the ending point for both folds\n",
    "assert (fold_train.index.start) == 0\n",
    "assert (fold_train.index.stop) == 365\n",
    "assert (fold_test.index.start) == 358 # 365 - 7 Jours prédiction sur 7 jours soit les 7 derniers jours non utilisés dans le training \n",
    "assert (fold_test.index.stop) == 521"
   ]
  },
  {
   "cell_type": "markdown",
   "id": "d0c93079",
   "metadata": {},
   "source": [
    "### (2.3) 💻 🔢 Create (X, y) sequences"
   ]
  },
  {
   "cell_type": "code",
   "execution_count": 16,
   "id": "364fd863",
   "metadata": {
    "ExecuteTime": {
     "end_time": "2022-12-01T14:16:49.733701Z",
     "start_time": "2022-12-01T14:16:49.730232Z"
    }
   },
   "outputs": [
    {
     "name": "stdout",
     "output_type": "stream",
     "text": [
      "##### INPUTS #####\n",
      "- INPUT_LENGTH = 7 timesteps = 7 days = 1 week\n",
      "- N_FEATURES = 4\n",
      "##### OUTPUTS #####\n",
      "- OUTPUT_LENGTH = 7 timesteps = 7 day(s)\n",
      "- N_TARGETS = 1\n",
      "##### PARAMETERS #####\n",
      "- HORIZON = 1 timesteps = 1 day(s)\n",
      "##### TRAIN SET #####\n",
      "- The training fold starts at index 0 and stops at index 365.\n",
      "##### TEST SET #####\n",
      "- The test fold starts at index 358 and stops at index 521.\n"
     ]
    }
   ],
   "source": [
    "# Inputs\n",
    "print(\"##### INPUTS #####\")\n",
    "print(f'- INPUT_LENGTH = {INPUT_LENGTH} timesteps = {int(INPUT_LENGTH)} days = {int(INPUT_LENGTH/7)} week')\n",
    "print(f'- N_FEATURES = {N_FEATURES}')\n",
    "# Outputs\n",
    "print(\"##### OUTPUTS #####\")\n",
    "print(f'- OUTPUT_LENGTH = {OUTPUT_LENGTH} timesteps = {int(OUTPUT_LENGTH)} day(s)')\n",
    "print(f'- N_TARGETS = {N_TARGETS}')\n",
    "# Parameters\n",
    "print(\"##### PARAMETERS #####\")\n",
    "print(f'- HORIZON = {HORIZON} timesteps = {int(HORIZON)} day(s)')\n",
    "# Train\n",
    "print(\"##### TRAIN SET #####\")\n",
    "print(f\"- The training fold starts at index {fold_train.index.start} and stops at index {fold_train.index.stop}.\")\n",
    "# Test\n",
    "print(\"##### TEST SET #####\")\n",
    "print(f\"- The test fold starts at index {fold_test.index.start} and stops at index {fold_test.index.stop}.\")"
   ]
  },
  {
   "cell_type": "code",
   "execution_count": 17,
   "id": "402d002d",
   "metadata": {
    "ExecuteTime": {
     "end_time": "2022-12-01T14:16:49.736879Z",
     "start_time": "2022-12-01T14:16:49.734819Z"
    }
   },
   "outputs": [
    {
     "name": "stdout",
     "output_type": "stream",
     "text": [
      "STRIDE = 1 timesteps = 1 day()\n"
     ]
    }
   ],
   "source": [
    "# New: Scanning  through a fold  \n",
    "STRIDE = 1 # sliding every  days, for subfolds\n",
    "print(f'STRIDE = {STRIDE} timesteps = {int(STRIDE)} day()')"
   ]
  },
  {
   "cell_type": "markdown",
   "id": "bb0b8c6e",
   "metadata": {},
   "source": [
    "💻 ❓ **Question ❓ (Extracting a <font color=\"#884dff\"><i>sequence</i></font>)** \n",
    "\n",
    "Code the function `get_Xi_yi` which extracts a <font color=\"#884dff\"><i>sequence</i></font> from a Time Series: it should take the following arguments:\n",
    "- `first_index`\n",
    "- `data` (your 2D-dataframe representing the Time Series)\n",
    "- `input_length`\n",
    "- `output_length`\n",
    "- `horizon`"
   ]
  },
  {
   "cell_type": "code",
   "execution_count": 18,
   "id": "2e51d57d",
   "metadata": {
    "ExecuteTime": {
     "end_time": "2022-12-01T14:16:49.741786Z",
     "start_time": "2022-12-01T14:16:49.738756Z"
    }
   },
   "outputs": [],
   "source": [
    "def get_Xi_yi(first_index: int, \n",
    "              fold: pd.DataFrame, \n",
    "              horizon: int,\n",
    "              input_length: int,\n",
    "              output_length: int) -> Tuple[np.ndarray, np.ndarray]:\n",
    "    '''\n",
    "    - extracts one sub-fold from a fold\n",
    "    - returns a pair (Xi, yi) with:\n",
    "        * len(Xi) = `input_length` and Xi starting at first_index\n",
    "        * len(yi) = `output_length`\n",
    "        * last_Xi and first_yi separated by the gap = horizon -1\n",
    "    '''\n",
    "\n",
    "    # $CHALLENGIFY_BEGIN\n",
    "\n",
    "    Xi_start = first_index\n",
    "    Xi_last = Xi_start + input_length\n",
    "    yi_start = Xi_last + horizon - 1\n",
    "    yi_last = yi_start + output_length\n",
    "\n",
    "    Xi = fold[Xi_start:Xi_last]\n",
    "    yi = fold[yi_start:yi_last][TARGET]\n",
    "\n",
    "    return (Xi, yi)\n",
    "\n",
    "    # $CHALLENGIFY_END"
   ]
  },
  {
   "cell_type": "markdown",
   "id": "e9628927",
   "metadata": {},
   "source": [
    "🧪 Run the following cell to test your function:"
   ]
  },
  {
   "cell_type": "code",
   "execution_count": 19,
   "id": "88413489",
   "metadata": {
    "ExecuteTime": {
     "end_time": "2022-12-01T14:16:49.749374Z",
     "start_time": "2022-12-01T14:16:49.744708Z"
    }
   },
   "outputs": [],
   "source": [
    "## Testing your function get_Xi_yi\n",
    "\n",
    "first_index = fold.index.start\n",
    "Xi, yi = get_Xi_yi(first_index=first_index,\n",
    "                   fold=fold,\n",
    "                   horizon=HORIZON,\n",
    "                   input_length=INPUT_LENGTH,\n",
    "                   output_length=OUTPUT_LENGTH)\n",
    "\n",
    "assert (Xi.index.start == first_index)\n",
    "assert (Xi.shape == (INPUT_LENGTH, 4))\n",
    "assert (yi.index.stop == Xi.index.stop + HORIZON - 1 + OUTPUT_LENGTH)\n",
    "assert (yi.shape == (OUTPUT_LENGTH, 1))"
   ]
  },
  {
   "cell_type": "markdown",
   "id": "a346371a",
   "metadata": {},
   "source": [
    "💻 ❓ **Question ❓ (Creating <font color=\"#884dff\"><i>sequences</i></font>, scanning chronologically through a fold)** \n",
    "\n",
    "Code the function `get_X_y` to scan an entire fold and extract sequences."
   ]
  },
  {
   "cell_type": "code",
   "execution_count": 20,
   "id": "840c36b4",
   "metadata": {
    "ExecuteTime": {
     "end_time": "2022-12-01T14:16:49.755007Z",
     "start_time": "2022-12-01T14:16:49.750473Z"
    }
   },
   "outputs": [],
   "source": [
    "def get_X_y(fold: pd.DataFrame,\n",
    "            horizon: int,\n",
    "            input_length: int,\n",
    "            output_length: int,\n",
    "            stride: int,\n",
    "            shuffle=True) -> Tuple[np.ndarray, np.ndarray]:\n",
    "    \"\"\"\n",
    "    - Uses `data`, a 2D-array with axis=0 for timesteps, and axis=1 for (targets+covariates columns)\n",
    "    - Returns a Tuple (X,y) of two ndarrays :\n",
    "        * X.shape = (n_samples, input_length, n_covariates)\n",
    "        * y.shape =\n",
    "            (n_samples, output_length, n_targets) if all 3-dimensions are of size > 1\n",
    "            (n_samples, output_length) if n_targets == 1\n",
    "            (n_samples, n_targets) if output_length == 1\n",
    "            (n_samples, ) if both n_targets and lenghts == 1\n",
    "    - You can shuffle the pairs (Xi,yi) of your fold\n",
    "    \"\"\"\n",
    "\n",
    "    # $CHALLENGIFY_BEGIN\n",
    "    X = []\n",
    "    y = []\n",
    "\n",
    "    # Scanning the fold/data entirely with a certain stride\n",
    "    for i in range(0, len(fold), stride):\n",
    "        ## Extracting a sequence starting at index_i\n",
    "        Xi, yi = get_Xi_yi(first_index=i,\n",
    "                           fold=fold,\n",
    "                           horizon=horizon,\n",
    "                           input_length=input_length,\n",
    "                           output_length=output_length)\n",
    "        ## Exits loop as soon as we reach the end of the dataset\n",
    "        if len(yi) < output_length:\n",
    "            break\n",
    "        X.append(Xi)\n",
    "        y.append(yi)\n",
    "\n",
    "    X = np.array(X)\n",
    "    y = np.array(y)\n",
    "    y = np.squeeze(y)\n",
    "\n",
    "    if shuffle:\n",
    "        idx = np.arange(len(X))\n",
    "        np.random.shuffle(idx)\n",
    "        X = X[idx]\n",
    "        y = y[idx]\n",
    "\n",
    "    return X, y\n",
    "\n",
    "    # $CHALLENGIFY_END"
   ]
  },
  {
   "cell_type": "markdown",
   "id": "f64f849f",
   "metadata": {},
   "source": [
    "💻 ❓ **Question ❓ Generate <font color=\"#884dff\"><i>sequences</i></font>** both in the <font color=blue>**train**</font> set and the <font color=\"#ff8005\">**test**</font> set."
   ]
  },
  {
   "cell_type": "code",
   "execution_count": 21,
   "id": "de24b188",
   "metadata": {
    "ExecuteTime": {
     "end_time": "2022-12-01T14:16:49.928475Z",
     "start_time": "2022-12-01T14:16:49.756200Z"
    },
    "tags": [
     "challengify"
    ]
   },
   "outputs": [
    {
     "name": "stdout",
     "output_type": "stream",
     "text": [
      "Shapes for the training set:\n",
      "X_train.shape = (352, 7, 4), y_train.shape = (352, 7)\n",
      "Shapes for the test set:\n",
      "X_test.shape = (150, 7, 4), y_test.shape = (150, 7)\n"
     ]
    }
   ],
   "source": [
    "X_train, y_train = get_X_y(fold=fold_train,\n",
    "                           horizon=HORIZON,\n",
    "                           input_length=INPUT_LENGTH,\n",
    "                           output_length=OUTPUT_LENGTH,\n",
    "                           stride=STRIDE)\n",
    "X_test, y_test = get_X_y(fold=fold_test,\n",
    "                         horizon=HORIZON,\n",
    "                         input_length=INPUT_LENGTH,\n",
    "                         output_length=OUTPUT_LENGTH,\n",
    "                         stride=STRIDE)\n",
    "\n",
    "print(\"Shapes for the training set:\")\n",
    "print(f\"X_train.shape = {X_train.shape}, y_train.shape = {y_train.shape}\")\n",
    "\n",
    "print(\"Shapes for the test set:\")\n",
    "print(f\"X_test.shape = {X_test.shape}, y_test.shape = {y_test.shape}\")"
   ]
  },
  {
   "cell_type": "markdown",
   "id": "520e408f",
   "metadata": {},
   "source": [
    "> For X_train, the base is 365 days. Subfolds have a length of 7 days. The 1st subfold xi is the 1st 7 days, and the 1st yi is the 8th to 14th days = 7 days.\n",
    "There are 358 days left for other subfolds (because the 1st subfold xi takes 7 days), but as y has a length of 7 days, there are 351 days left to subfold for xi.\n",
    "--> 1 subfold + 351 next subfolds.\n",
    "\n",
    "> For X_test, the base is 163 days (156 days + 7 last days of X_train). Subfolds have a length of 7 days. The 1st subfold xi is the 1st 7 days, and the 1st yi is the 8th to 14th days = 7 days.\n",
    "There are 156 days left for other subfolds (because the 1st subfold xi takes 7 days), but as y has a length of 7 days, there are 149 days left to subfold for xi.\n",
    "--> 1 subfold + 150 next subfolds."
   ]
  },
  {
   "cell_type": "markdown",
   "id": "ea1ace41",
   "metadata": {},
   "source": [
    "🧪 Test that your shapes are correct. If not, go back to the function to debug it."
   ]
  },
  {
   "cell_type": "code",
   "execution_count": 22,
   "id": "5df1532a",
   "metadata": {
    "ExecuteTime": {
     "end_time": "2022-12-01T14:16:49.932665Z",
     "start_time": "2022-12-01T14:16:49.929901Z"
    }
   },
   "outputs": [
    {
     "data": {
      "text/plain": [
       "((352, 7, 4), 7, 4)"
      ]
     },
     "execution_count": 22,
     "metadata": {},
     "output_type": "execute_result"
    }
   ],
   "source": [
    "X_train.shape, INPUT_LENGTH, N_FEATURES"
   ]
  },
  {
   "cell_type": "code",
   "execution_count": 23,
   "id": "ef379843",
   "metadata": {
    "ExecuteTime": {
     "end_time": "2022-12-01T14:16:49.936482Z",
     "start_time": "2022-12-01T14:16:49.933992Z"
    }
   },
   "outputs": [
    {
     "data": {
      "text/plain": [
       "(352, 7)"
      ]
     },
     "execution_count": 23,
     "metadata": {},
     "output_type": "execute_result"
    }
   ],
   "source": [
    "y_train.shape"
   ]
  },
  {
   "cell_type": "code",
   "execution_count": 24,
   "id": "8cfa2eb8",
   "metadata": {
    "ExecuteTime": {
     "end_time": "2022-12-01T14:16:49.939863Z",
     "start_time": "2022-12-01T14:16:49.937612Z"
    }
   },
   "outputs": [],
   "source": [
    "## ASSERTS\n",
    "assert(X_train.shape == (352, INPUT_LENGTH, N_FEATURES))\n",
    "assert(y_train.shape == (352, OUTPUT_LENGTH))\n",
    "assert(X_test.shape == (150, INPUT_LENGTH, N_FEATURES))\n",
    "assert(y_test.shape == (150, OUTPUT_LENGTH))"
   ]
  },
  {
   "cell_type": "markdown",
   "id": "091406c6",
   "metadata": {},
   "source": [
    "## (3) 💻 Modelling"
   ]
  },
  {
   "cell_type": "markdown",
   "id": "6eb4d2cf",
   "metadata": {},
   "source": [
    "### (3.1) 💻 LSTM"
   ]
  },
  {
   "cell_type": "markdown",
   "id": "5a65a28f",
   "metadata": {},
   "source": [
    "💻 ❓ **Question (the LSTM model)** ❓ (<i>Adapting the code from Challenge 3</i>)\n",
    "\n",
    "We took the architecture of the LSTM model from the previous challenge. The function `init_model` initializes and compiles it.\n",
    "\n",
    "👉 Now that we are ***predicting multiple steps in the future***, what do you need to change in this function?"
   ]
  },
  {
   "cell_type": "code",
   "execution_count": 82,
   "id": "aefd363d",
   "metadata": {
    "ExecuteTime": {
     "end_time": "2022-12-01T14:37:10.374817Z",
     "start_time": "2022-12-01T14:37:10.367549Z"
    }
   },
   "outputs": [],
   "source": [
    "from tensorflow.keras import models\n",
    "from tensorflow.keras import layers\n",
    "from tensorflow.keras import optimizers, metrics\n",
    "from tensorflow.keras.layers.experimental.preprocessing import Normalization\n",
    "from tensorflow.keras.optimizers.schedules import ExponentialDecay\n",
    "from tensorflow.keras import regularizers"
   ]
  },
  {
   "cell_type": "code",
   "execution_count": 27,
   "id": "0bb7b2a1",
   "metadata": {
    "ExecuteTime": {
     "end_time": "2022-12-01T14:16:49.956020Z",
     "start_time": "2022-12-01T14:16:49.952735Z"
    }
   },
   "outputs": [
    {
     "data": {
      "text/plain": [
       "(352, 7)"
      ]
     },
     "execution_count": 27,
     "metadata": {},
     "output_type": "execute_result"
    }
   ],
   "source": [
    "y_train.shape"
   ]
  },
  {
   "cell_type": "code",
   "execution_count": 28,
   "id": "4f063310",
   "metadata": {
    "ExecuteTime": {
     "end_time": "2022-12-01T14:16:49.960367Z",
     "start_time": "2022-12-01T14:16:49.957318Z"
    }
   },
   "outputs": [
    {
     "data": {
      "text/plain": [
       "(352, 7, 4)"
      ]
     },
     "execution_count": 28,
     "metadata": {},
     "output_type": "execute_result"
    }
   ],
   "source": [
    "X_train.shape"
   ]
  },
  {
   "cell_type": "code",
   "execution_count": 29,
   "id": "fc46696f",
   "metadata": {
    "ExecuteTime": {
     "end_time": "2022-12-01T14:16:49.967924Z",
     "start_time": "2022-12-01T14:16:49.965430Z"
    }
   },
   "outputs": [
    {
     "data": {
      "text/plain": [
       "(150, 7)"
      ]
     },
     "execution_count": 29,
     "metadata": {},
     "output_type": "execute_result"
    }
   ],
   "source": [
    "y_test.shape"
   ]
  },
  {
   "cell_type": "code",
   "execution_count": 148,
   "id": "211616a1",
   "metadata": {
    "ExecuteTime": {
     "end_time": "2022-12-01T15:35:53.211893Z",
     "start_time": "2022-12-01T15:35:53.201056Z"
    }
   },
   "outputs": [],
   "source": [
    "def init_model(X_train, y_train):\n",
    "\n",
    "     # 1 - RNN architecture\n",
    "    # ======================    \n",
    "    model = models.Sequential()  \n",
    "    \n",
    "#    normalizer = Normalization()\n",
    "#    normalizer.adapt(X_train)\n",
    "    \n",
    "    # Recurrent Layer\n",
    "    model.add(layers.LSTM(units=80, activation='relu',input_shape=X_train[0].shape ,return_sequences=True))\n",
    "    \n",
    "    # Recurrent Layer\n",
    "    model.add(layers.LSTM(units=60, activation='relu',return_sequences=True))\n",
    "    \n",
    "    # Recurrent Layer\n",
    "    model.add(layers.LSTM(units=40, activation='relu',return_sequences=True))\n",
    "    #model.add(layers.Dropout(rate=0.2))\n",
    "    \n",
    "    # Recurrent Layer\n",
    "    model.add(layers.LSTM(units=20, activation='relu',return_sequences=True))\n",
    "    #model.add(layers.Dropout(rate=0.2))\n",
    "\n",
    "    # Predictive Dense Layer \n",
    "    model.add(layers.Dense(6, activation='softmax'))\n",
    "    \n",
    "    \n",
    "    # 2 - Compiler\n",
    "    # ======================\n",
    "    initial_learning_rate = 0.001\n",
    "    lr_schedule = ExponentialDecay(initial_learning_rate, decay_steps=1000, decay_rate=0.0001)\n",
    "\n",
    "    #Le sparse_categorical_crossentrop permet de ne pas avoir à faire un OneHotEncoding de la target en 6 catégories\n",
    "    adam = optimizers.Adam(learning_rate=lr_schedule)\n",
    "    model.compile(loss='sparse_categorical_crossentropy', optimizer=adam, metrics=[\"accuracy\"])\n",
    "\n",
    "    return model\n",
    "    "
   ]
  },
  {
   "cell_type": "code",
   "execution_count": null,
   "id": "e73cd4b3",
   "metadata": {},
   "outputs": [],
   "source": []
  },
  {
   "cell_type": "markdown",
   "id": "14ebe2f9",
   "metadata": {
    "ExecuteTime": {
     "end_time": "2022-12-01T14:47:09.953455Z",
     "start_time": "2022-12-01T14:47:09.937951Z"
    }
   },
   "source": [
    "def init_model(X_train, y_train):\n",
    "\n",
    "     # 1 - RNN architecture\n",
    "    # ======================    \n",
    "    model = models.Sequential()  \n",
    "    \n",
    "#    normalizer = Normalization()\n",
    "#    normalizer.adapt(X_train)\n",
    "\n",
    "    # Recurrent Layer\n",
    "    model.add(layers.Conv1D(filters=64,\n",
    "                           kernel_size=3,\n",
    "                           strides=1,\n",
    "                           padding=\"causal\",\n",
    "                           activation=\"relu\",\n",
    "                           input_shape=X_train[0].shape))\n",
    "    \n",
    "   \n",
    "    \n",
    "    \n",
    "    model.add(layers.Conv1D(filters=64, kernel_size=3, activation='relu', padding=\"causal\"))\n",
    "    model.add(layers.Conv1D(filters=32, kernel_size=3, activation='relu', padding=\"causal\"))\n",
    "   \n",
    "    # Recurrent Layer\n",
    "    model.add(layers.MaxPooling1D(pool_size=2, strides=1, padding=\"same\"))\n",
    "    \n",
    "    \n",
    "    \n",
    "    model.add(layers.LSTM(units=100, activation='relu' ,return_sequences=True))\n",
    "    model.add(layers.Dropout(rate=0.2))\n",
    "    \n",
    "    # Recurrent Layer\n",
    "    model.add(layers.LSTM(units=50, activation='relu',return_sequences=True))\n",
    "    model.add(layers.Dropout(rate=0.3))\n",
    "    \n",
    "\n",
    "    # Predictive Dense Layer \n",
    "    #output_length = y_train.shape[1]\n",
    "    model.add(layers.Dense(6, activation='softmax'))\n",
    "    \n",
    "    \n",
    "    # 2 - Compiler\n",
    "    # ======================\n",
    "    #initial_learning_rate = 0.001\n",
    "\n",
    "    #lr_schedule = ExponentialDecay(initial_learning_rate, decay_steps=1000, decay_rate=0.001)\n",
    "    #learning_rate=lr_schedule\n",
    "\n",
    "    #Le sparse_categorical_crossentrop permet de ne pas avoir a faire un OneHotEncoding de lq target en 6 categories\n",
    "    adam = optimizers.Adam()\n",
    "    model.compile(loss='sparse_categorical_crossentropy', optimizer=adam, metrics=[\"accuracy\"])\n",
    "\n",
    "    return model\n",
    "    "
   ]
  },
  {
   "cell_type": "code",
   "execution_count": 159,
   "id": "98a3dec5",
   "metadata": {
    "ExecuteTime": {
     "end_time": "2022-12-01T15:48:43.163933Z",
     "start_time": "2022-12-01T15:48:42.925879Z"
    }
   },
   "outputs": [],
   "source": [
    "model_1 = init_model(X_train, y_train)\n",
    "#X_train[0].shape"
   ]
  },
  {
   "cell_type": "code",
   "execution_count": 160,
   "id": "58c79aae",
   "metadata": {
    "ExecuteTime": {
     "end_time": "2022-12-01T15:48:43.443841Z",
     "start_time": "2022-12-01T15:48:43.427141Z"
    }
   },
   "outputs": [
    {
     "name": "stdout",
     "output_type": "stream",
     "text": [
      "Model: \"sequential_39\"\n",
      "_________________________________________________________________\n",
      " Layer (type)                Output Shape              Param #   \n",
      "=================================================================\n",
      " lstm_88 (LSTM)              (None, 7, 80)             27200     \n",
      "                                                                 \n",
      " lstm_89 (LSTM)              (None, 7, 60)             33840     \n",
      "                                                                 \n",
      " lstm_90 (LSTM)              (None, 7, 40)             16160     \n",
      "                                                                 \n",
      " lstm_91 (LSTM)              (None, 7, 20)             4880      \n",
      "                                                                 \n",
      " dense_35 (Dense)            (None, 7, 6)              126       \n",
      "                                                                 \n",
      "=================================================================\n",
      "Total params: 82,206\n",
      "Trainable params: 82,206\n",
      "Non-trainable params: 0\n",
      "_________________________________________________________________\n"
     ]
    }
   ],
   "source": [
    "model_1.summary()"
   ]
  },
  {
   "cell_type": "code",
   "execution_count": 161,
   "id": "82bed29b",
   "metadata": {
    "ExecuteTime": {
     "end_time": "2022-12-01T15:48:44.551056Z",
     "start_time": "2022-12-01T15:48:44.535171Z"
    }
   },
   "outputs": [
    {
     "name": "stdout",
     "output_type": "stream",
     "text": [
      "Model: \"sequential_39\"\n",
      "_________________________________________________________________\n",
      " Layer (type)                Output Shape              Param #   \n",
      "=================================================================\n",
      " lstm_88 (LSTM)              (None, 7, 80)             27200     \n",
      "                                                                 \n",
      " lstm_89 (LSTM)              (None, 7, 60)             33840     \n",
      "                                                                 \n",
      " lstm_90 (LSTM)              (None, 7, 40)             16160     \n",
      "                                                                 \n",
      " lstm_91 (LSTM)              (None, 7, 20)             4880      \n",
      "                                                                 \n",
      " dense_35 (Dense)            (None, 7, 6)              126       \n",
      "                                                                 \n",
      "=================================================================\n",
      "Total params: 82,206\n",
      "Trainable params: 82,206\n",
      "Non-trainable params: 0\n",
      "_________________________________________________________________\n"
     ]
    }
   ],
   "source": [
    "model_1.summary()"
   ]
  },
  {
   "cell_type": "markdown",
   "id": "8d58a701",
   "metadata": {},
   "source": [
    "🎁 **Training**: We can re-use the function `fit_model` from the last challenge to <font color=blue>train</font> the model."
   ]
  },
  {
   "cell_type": "code",
   "execution_count": 162,
   "id": "e1e7cc76",
   "metadata": {
    "ExecuteTime": {
     "end_time": "2022-12-01T15:48:45.586122Z",
     "start_time": "2022-12-01T15:48:45.577030Z"
    }
   },
   "outputs": [],
   "source": [
    "from tensorflow.keras.callbacks import EarlyStopping\n",
    "\n",
    "\n",
    "def fit_model(model: tf.keras.Model, verbose=1) -> Tuple[tf.keras.Model, dict]:\n",
    "\n",
    "    es = EarlyStopping(monitor=\"val_loss\",\n",
    "                       patience=5,\n",
    "                       mode=\"min\",\n",
    "                       restore_best_weights=True)\n",
    "\n",
    "    history = model.fit(X_train,\n",
    "                        y_train,\n",
    "                        validation_split=0.3,\n",
    "                        shuffle=False,\n",
    "                        batch_size=32,\n",
    "                        epochs=80,\n",
    "                        callbacks=[es],\n",
    "                        verbose=verbose)\n",
    "\n",
    "    return model, history"
   ]
  },
  {
   "cell_type": "markdown",
   "id": "82aaef12",
   "metadata": {},
   "source": [
    "🎁 **Visualizing performance:** Feel free to use the `plot_history` function to visualize how your model learned."
   ]
  },
  {
   "cell_type": "code",
   "execution_count": 163,
   "id": "57e6b2d3",
   "metadata": {
    "ExecuteTime": {
     "end_time": "2022-12-01T15:48:46.404956Z",
     "start_time": "2022-12-01T15:48:46.393021Z"
    }
   },
   "outputs": [],
   "source": [
    "def plot_history(history):\n",
    "    \n",
    "    fig, ax = plt.subplots(1,2, figsize=(20,7))\n",
    "    # --- LOSS: MSE --- \n",
    "    ax[0].plot(history.history['loss'])\n",
    "    ax[0].plot(history.history['val_loss'])\n",
    "    ax[0].set_title('MSE')\n",
    "    ax[0].set_ylabel('Loss')\n",
    "    ax[0].set_xlabel('Epoch')\n",
    "    ax[0].legend(['Train', 'Validation'], loc='best')\n",
    "    ax[0].grid(axis=\"x\",linewidth=0.5)\n",
    "    ax[0].grid(axis=\"y\",linewidth=0.5)\n",
    "    \n",
    "    # --- METRICS:MAE ---\n",
    "    \n",
    "    ax[1].plot(history.history['accuracy'])\n",
    "    ax[1].plot(history.history['val_accuracy'])\n",
    "    ax[1].set_title('accuracy')\n",
    "    ax[1].set_ylabel('accuracy')\n",
    "    ax[1].set_xlabel('Epoch')\n",
    "    ax[1].legend(['Train', 'Validation'], loc='best')\n",
    "    ax[1].grid(axis=\"x\",linewidth=0.5)\n",
    "    ax[1].grid(axis=\"y\",linewidth=0.5)\n",
    "                        \n",
    "    return ax"
   ]
  },
  {
   "cell_type": "markdown",
   "id": "b9a96891",
   "metadata": {},
   "source": [
    "💻 ❓ **Questions ❓ (Training and Evaluating the LSTM model)**\n",
    "\n",
    "Using your functions `init_model` and `fit_model`:\n",
    "1. **Initialize** your model\n",
    "2. <font color=blue>**Train**</font> it and observe the performances on the train set and the validation set\n",
    "3. <font color=orange>**Evaluate**</font> it on the test set\n",
    "\n",
    "_Feel free to apply regularization techniques in the architecture if the model overfits._"
   ]
  },
  {
   "cell_type": "code",
   "execution_count": 164,
   "id": "85ed34b4",
   "metadata": {
    "ExecuteTime": {
     "end_time": "2022-12-01T15:48:58.914825Z",
     "start_time": "2022-12-01T15:48:47.319386Z"
    },
    "scrolled": false,
    "tags": [
     "challengify"
    ]
   },
   "outputs": [
    {
     "name": "stdout",
     "output_type": "stream",
     "text": [
      "Model: \"sequential_40\"\n",
      "_________________________________________________________________\n",
      " Layer (type)                Output Shape              Param #   \n",
      "=================================================================\n",
      " lstm_92 (LSTM)              (None, 7, 80)             27200     \n",
      "                                                                 \n",
      " lstm_93 (LSTM)              (None, 7, 60)             33840     \n",
      "                                                                 \n",
      " lstm_94 (LSTM)              (None, 7, 40)             16160     \n",
      "                                                                 \n",
      " lstm_95 (LSTM)              (None, 7, 20)             4880      \n",
      "                                                                 \n",
      " dense_36 (Dense)            (None, 7, 6)              126       \n",
      "                                                                 \n",
      "=================================================================\n",
      "Total params: 82,206\n",
      "Trainable params: 82,206\n",
      "Non-trainable params: 0\n",
      "_________________________________________________________________\n",
      "Epoch 1/80\n",
      "8/8 [==============================] - 4s 72ms/step - loss: 1.7844 - accuracy: 0.5871 - val_loss: 1.7723 - val_accuracy: 0.7035\n",
      "Epoch 2/80\n",
      "8/8 [==============================] - 0s 11ms/step - loss: 1.7594 - accuracy: 0.7125 - val_loss: 1.7400 - val_accuracy: 0.7035\n",
      "Epoch 3/80\n",
      "8/8 [==============================] - 0s 11ms/step - loss: 1.7081 - accuracy: 0.7125 - val_loss: 1.6711 - val_accuracy: 0.7035\n",
      "Epoch 4/80\n",
      "8/8 [==============================] - 0s 11ms/step - loss: 1.6508 - accuracy: 0.7125 - val_loss: 1.6256 - val_accuracy: 0.7035\n",
      "Epoch 5/80\n",
      "8/8 [==============================] - 0s 11ms/step - loss: 1.5946 - accuracy: 0.7125 - val_loss: 1.5806 - val_accuracy: 0.7035\n",
      "Epoch 6/80\n",
      "8/8 [==============================] - 0s 11ms/step - loss: 1.5216 - accuracy: 0.7125 - val_loss: 1.4743 - val_accuracy: 0.7035\n",
      "Epoch 7/80\n",
      "8/8 [==============================] - 0s 11ms/step - loss: 1.3528 - accuracy: 0.7062 - val_loss: 1.3278 - val_accuracy: 0.6644\n",
      "Epoch 8/80\n",
      "8/8 [==============================] - 0s 11ms/step - loss: 1.2700 - accuracy: 0.7003 - val_loss: 1.2153 - val_accuracy: 0.7035\n",
      "Epoch 9/80\n",
      "8/8 [==============================] - 0s 11ms/step - loss: 1.1774 - accuracy: 0.7009 - val_loss: 1.1672 - val_accuracy: 0.7035\n",
      "Epoch 10/80\n",
      "8/8 [==============================] - 0s 11ms/step - loss: 1.1141 - accuracy: 0.7125 - val_loss: 1.1292 - val_accuracy: 0.6981\n",
      "Epoch 11/80\n",
      "8/8 [==============================] - 0s 11ms/step - loss: 1.0836 - accuracy: 0.7079 - val_loss: 1.0946 - val_accuracy: 0.7035\n",
      "Epoch 12/80\n",
      "8/8 [==============================] - 0s 12ms/step - loss: 1.0400 - accuracy: 0.7125 - val_loss: 1.0656 - val_accuracy: 0.7035\n",
      "Epoch 13/80\n",
      "8/8 [==============================] - 0s 12ms/step - loss: 1.0168 - accuracy: 0.7125 - val_loss: 1.0448 - val_accuracy: 0.7035\n",
      "Epoch 14/80\n",
      "8/8 [==============================] - 0s 12ms/step - loss: 1.0035 - accuracy: 0.7131 - val_loss: 1.0250 - val_accuracy: 0.7035\n",
      "Epoch 15/80\n",
      "8/8 [==============================] - 0s 12ms/step - loss: 0.9798 - accuracy: 0.7120 - val_loss: 1.0087 - val_accuracy: 0.7035\n",
      "Epoch 16/80\n",
      "8/8 [==============================] - 0s 12ms/step - loss: 0.9616 - accuracy: 0.7125 - val_loss: 0.9949 - val_accuracy: 0.6995\n",
      "Epoch 17/80\n",
      "8/8 [==============================] - 0s 12ms/step - loss: 0.9529 - accuracy: 0.7137 - val_loss: 0.9814 - val_accuracy: 0.7035\n",
      "Epoch 18/80\n",
      "8/8 [==============================] - 0s 12ms/step - loss: 0.9394 - accuracy: 0.7143 - val_loss: 0.9710 - val_accuracy: 0.7035\n",
      "Epoch 19/80\n",
      "8/8 [==============================] - 0s 12ms/step - loss: 0.9240 - accuracy: 0.7120 - val_loss: 0.9588 - val_accuracy: 0.7008\n",
      "Epoch 20/80\n",
      "8/8 [==============================] - 0s 12ms/step - loss: 0.9166 - accuracy: 0.7143 - val_loss: 0.9533 - val_accuracy: 0.6927\n",
      "Epoch 21/80\n",
      "8/8 [==============================] - 0s 12ms/step - loss: 0.9115 - accuracy: 0.7137 - val_loss: 0.9401 - val_accuracy: 0.7022\n",
      "Epoch 22/80\n",
      "8/8 [==============================] - 0s 12ms/step - loss: 0.8997 - accuracy: 0.7137 - val_loss: 0.9332 - val_accuracy: 0.7035\n",
      "Epoch 23/80\n",
      "8/8 [==============================] - 0s 12ms/step - loss: 0.8874 - accuracy: 0.7137 - val_loss: 0.9233 - val_accuracy: 0.6995\n",
      "Epoch 24/80\n",
      "8/8 [==============================] - 0s 12ms/step - loss: 0.8819 - accuracy: 0.7149 - val_loss: 0.9166 - val_accuracy: 0.7035\n",
      "Epoch 25/80\n",
      "8/8 [==============================] - 0s 12ms/step - loss: 0.8706 - accuracy: 0.7154 - val_loss: 0.9071 - val_accuracy: 0.6968\n",
      "Epoch 26/80\n",
      "8/8 [==============================] - 0s 12ms/step - loss: 0.8646 - accuracy: 0.7143 - val_loss: 0.9000 - val_accuracy: 0.6968\n",
      "Epoch 27/80\n",
      "8/8 [==============================] - 0s 12ms/step - loss: 0.8566 - accuracy: 0.7160 - val_loss: 0.8920 - val_accuracy: 0.6968\n",
      "Epoch 28/80\n",
      "8/8 [==============================] - 0s 12ms/step - loss: 0.8487 - accuracy: 0.7154 - val_loss: 0.8854 - val_accuracy: 0.6995\n",
      "Epoch 29/80\n",
      "8/8 [==============================] - 0s 12ms/step - loss: 0.8431 - accuracy: 0.7160 - val_loss: 0.8793 - val_accuracy: 0.6995\n",
      "Epoch 30/80\n",
      "8/8 [==============================] - 0s 12ms/step - loss: 0.8370 - accuracy: 0.7154 - val_loss: 0.8733 - val_accuracy: 0.6981\n",
      "Epoch 31/80\n",
      "8/8 [==============================] - 0s 12ms/step - loss: 0.8304 - accuracy: 0.7166 - val_loss: 0.8689 - val_accuracy: 0.6995\n",
      "Epoch 32/80\n",
      "8/8 [==============================] - 0s 12ms/step - loss: 0.8287 - accuracy: 0.7149 - val_loss: 0.8633 - val_accuracy: 0.6968\n",
      "Epoch 33/80\n",
      "8/8 [==============================] - 0s 12ms/step - loss: 0.8209 - accuracy: 0.7154 - val_loss: 0.8571 - val_accuracy: 0.7008\n",
      "Epoch 34/80\n",
      "8/8 [==============================] - 0s 12ms/step - loss: 0.8166 - accuracy: 0.7195 - val_loss: 0.8541 - val_accuracy: 0.7008\n",
      "Epoch 35/80\n",
      "8/8 [==============================] - 0s 14ms/step - loss: 0.8143 - accuracy: 0.7160 - val_loss: 0.8504 - val_accuracy: 0.6968\n",
      "Epoch 36/80\n",
      "8/8 [==============================] - 0s 14ms/step - loss: 0.8081 - accuracy: 0.7184 - val_loss: 0.8455 - val_accuracy: 0.7022\n",
      "Epoch 37/80\n",
      "8/8 [==============================] - 0s 12ms/step - loss: 0.8058 - accuracy: 0.7195 - val_loss: 0.8439 - val_accuracy: 0.7035\n",
      "Epoch 38/80\n",
      "8/8 [==============================] - 0s 12ms/step - loss: 0.8051 - accuracy: 0.7154 - val_loss: 0.8409 - val_accuracy: 0.7022\n",
      "Epoch 39/80\n",
      "8/8 [==============================] - 0s 12ms/step - loss: 0.7998 - accuracy: 0.7166 - val_loss: 0.8372 - val_accuracy: 0.7022\n",
      "Epoch 40/80\n",
      "8/8 [==============================] - 0s 12ms/step - loss: 0.7966 - accuracy: 0.7172 - val_loss: 0.8348 - val_accuracy: 0.7035\n",
      "Epoch 41/80\n",
      "8/8 [==============================] - 0s 12ms/step - loss: 0.7948 - accuracy: 0.7184 - val_loss: 0.8326 - val_accuracy: 0.7035\n",
      "Epoch 42/80\n",
      "8/8 [==============================] - 0s 12ms/step - loss: 0.7917 - accuracy: 0.7172 - val_loss: 0.8303 - val_accuracy: 0.7035\n",
      "Epoch 43/80\n",
      "8/8 [==============================] - 0s 12ms/step - loss: 0.7900 - accuracy: 0.7178 - val_loss: 0.8288 - val_accuracy: 0.7035\n",
      "Epoch 44/80\n",
      "8/8 [==============================] - 0s 12ms/step - loss: 0.7880 - accuracy: 0.7172 - val_loss: 0.8272 - val_accuracy: 0.7035\n",
      "Epoch 45/80\n",
      "8/8 [==============================] - 0s 12ms/step - loss: 0.7864 - accuracy: 0.7172 - val_loss: 0.8258 - val_accuracy: 0.7035\n",
      "Epoch 46/80\n",
      "8/8 [==============================] - 0s 12ms/step - loss: 0.7848 - accuracy: 0.7178 - val_loss: 0.8245 - val_accuracy: 0.7035\n",
      "Epoch 47/80\n",
      "8/8 [==============================] - 0s 12ms/step - loss: 0.7834 - accuracy: 0.7178 - val_loss: 0.8234 - val_accuracy: 0.7035\n",
      "Epoch 48/80\n",
      "8/8 [==============================] - 0s 12ms/step - loss: 0.7822 - accuracy: 0.7184 - val_loss: 0.8224 - val_accuracy: 0.7035\n",
      "Epoch 49/80\n",
      "8/8 [==============================] - 0s 12ms/step - loss: 0.7810 - accuracy: 0.7184 - val_loss: 0.8215 - val_accuracy: 0.7035\n",
      "Epoch 50/80\n",
      "8/8 [==============================] - 0s 12ms/step - loss: 0.7799 - accuracy: 0.7184 - val_loss: 0.8206 - val_accuracy: 0.7035\n",
      "Epoch 51/80\n",
      "8/8 [==============================] - 0s 12ms/step - loss: 0.7789 - accuracy: 0.7184 - val_loss: 0.8199 - val_accuracy: 0.7035\n"
     ]
    },
    {
     "name": "stdout",
     "output_type": "stream",
     "text": [
      "Epoch 52/80\n",
      "8/8 [==============================] - 0s 12ms/step - loss: 0.7779 - accuracy: 0.7184 - val_loss: 0.8192 - val_accuracy: 0.7035\n",
      "Epoch 53/80\n",
      "8/8 [==============================] - 0s 12ms/step - loss: 0.7771 - accuracy: 0.7184 - val_loss: 0.8186 - val_accuracy: 0.7035\n",
      "Epoch 54/80\n",
      "8/8 [==============================] - 0s 12ms/step - loss: 0.7763 - accuracy: 0.7184 - val_loss: 0.8180 - val_accuracy: 0.7035\n",
      "Epoch 55/80\n",
      "8/8 [==============================] - 0s 12ms/step - loss: 0.7755 - accuracy: 0.7178 - val_loss: 0.8175 - val_accuracy: 0.7035\n",
      "Epoch 56/80\n",
      "8/8 [==============================] - 0s 12ms/step - loss: 0.7749 - accuracy: 0.7178 - val_loss: 0.8171 - val_accuracy: 0.7035\n",
      "Epoch 57/80\n",
      "8/8 [==============================] - 0s 12ms/step - loss: 0.7742 - accuracy: 0.7178 - val_loss: 0.8166 - val_accuracy: 0.7035\n",
      "Epoch 58/80\n",
      "8/8 [==============================] - 0s 12ms/step - loss: 0.7737 - accuracy: 0.7184 - val_loss: 0.8162 - val_accuracy: 0.7049\n",
      "Epoch 59/80\n",
      "8/8 [==============================] - 0s 11ms/step - loss: 0.7731 - accuracy: 0.7184 - val_loss: 0.8159 - val_accuracy: 0.7049\n",
      "Epoch 60/80\n",
      "8/8 [==============================] - 0s 12ms/step - loss: 0.7726 - accuracy: 0.7184 - val_loss: 0.8157 - val_accuracy: 0.7049\n",
      "Epoch 61/80\n",
      "8/8 [==============================] - 0s 12ms/step - loss: 0.7722 - accuracy: 0.7184 - val_loss: 0.8154 - val_accuracy: 0.7049\n",
      "Epoch 62/80\n",
      "8/8 [==============================] - 0s 12ms/step - loss: 0.7717 - accuracy: 0.7184 - val_loss: 0.8151 - val_accuracy: 0.7049\n",
      "Epoch 63/80\n",
      "8/8 [==============================] - 0s 12ms/step - loss: 0.7713 - accuracy: 0.7189 - val_loss: 0.8149 - val_accuracy: 0.7049\n",
      "Epoch 64/80\n",
      "8/8 [==============================] - 0s 12ms/step - loss: 0.7709 - accuracy: 0.7189 - val_loss: 0.8147 - val_accuracy: 0.7049\n",
      "Epoch 65/80\n",
      "8/8 [==============================] - 0s 12ms/step - loss: 0.7706 - accuracy: 0.7189 - val_loss: 0.8145 - val_accuracy: 0.7049\n",
      "Epoch 66/80\n",
      "8/8 [==============================] - 0s 12ms/step - loss: 0.7703 - accuracy: 0.7189 - val_loss: 0.8143 - val_accuracy: 0.7049\n",
      "Epoch 67/80\n",
      "8/8 [==============================] - 0s 12ms/step - loss: 0.7700 - accuracy: 0.7189 - val_loss: 0.8142 - val_accuracy: 0.7049\n",
      "Epoch 68/80\n",
      "8/8 [==============================] - 0s 12ms/step - loss: 0.7697 - accuracy: 0.7195 - val_loss: 0.8140 - val_accuracy: 0.7049\n",
      "Epoch 69/80\n",
      "8/8 [==============================] - 0s 12ms/step - loss: 0.7695 - accuracy: 0.7195 - val_loss: 0.8139 - val_accuracy: 0.7049\n",
      "Epoch 70/80\n",
      "8/8 [==============================] - 0s 12ms/step - loss: 0.7692 - accuracy: 0.7195 - val_loss: 0.8137 - val_accuracy: 0.7049\n",
      "Epoch 71/80\n",
      "8/8 [==============================] - 0s 12ms/step - loss: 0.7690 - accuracy: 0.7195 - val_loss: 0.8136 - val_accuracy: 0.7049\n",
      "Epoch 72/80\n",
      "8/8 [==============================] - 0s 12ms/step - loss: 0.7688 - accuracy: 0.7201 - val_loss: 0.8135 - val_accuracy: 0.7049\n",
      "Epoch 73/80\n",
      "8/8 [==============================] - 0s 12ms/step - loss: 0.7686 - accuracy: 0.7201 - val_loss: 0.8134 - val_accuracy: 0.7049\n",
      "Epoch 74/80\n",
      "8/8 [==============================] - 0s 12ms/step - loss: 0.7685 - accuracy: 0.7201 - val_loss: 0.8133 - val_accuracy: 0.7049\n",
      "Epoch 75/80\n",
      "8/8 [==============================] - 0s 12ms/step - loss: 0.7683 - accuracy: 0.7201 - val_loss: 0.8132 - val_accuracy: 0.7049\n",
      "Epoch 76/80\n",
      "8/8 [==============================] - 0s 12ms/step - loss: 0.7682 - accuracy: 0.7201 - val_loss: 0.8131 - val_accuracy: 0.7049\n",
      "Epoch 77/80\n",
      "8/8 [==============================] - 0s 12ms/step - loss: 0.7680 - accuracy: 0.7207 - val_loss: 0.8131 - val_accuracy: 0.7049\n",
      "Epoch 78/80\n",
      "8/8 [==============================] - 0s 12ms/step - loss: 0.7679 - accuracy: 0.7207 - val_loss: 0.8130 - val_accuracy: 0.7049\n",
      "Epoch 79/80\n",
      "8/8 [==============================] - 0s 14ms/step - loss: 0.7678 - accuracy: 0.7207 - val_loss: 0.8129 - val_accuracy: 0.7049\n",
      "Epoch 80/80\n",
      "8/8 [==============================] - 0s 12ms/step - loss: 0.7677 - accuracy: 0.7207 - val_loss: 0.8129 - val_accuracy: 0.7049\n",
      "5/5 [==============================] - 0s 3ms/step - loss: 0.7455 - accuracy: 0.7581\n",
      "--------------------------------------------------\n",
      "The LSTM accuracy on the test set is equal to 0.76, (meaning the model is guessing the correct predictions 75.81% of the time).\n",
      "CPU times: user 12 s, sys: 1.75 s, total: 13.7 s\n",
      "Wall time: 11.3 s\n"
     ]
    },
    {
     "data": {
      "image/png": "[encoded data removed]",
      "text/plain": [
       "<Figure size 2000x700 with 2 Axes>"
      ]
     },
     "metadata": {},
     "output_type": "display_data"
    }
   ],
   "source": [
    "%%time\n",
    "# 1 - Initialising the RNN model\n",
    "# ==================================== #\n",
    "model_1 = init_model(X_train, y_train)\n",
    "model_1.summary()\n",
    "\n",
    "# 2 - Training\n",
    "# ====================================\n",
    "model, history = fit_model(model_1, verbose=1)\n",
    "plot_history(history);\n",
    "\n",
    "# 3 - Evaluation\n",
    "# ====================================\n",
    "res = model.evaluate(X_test, y_test)\n",
    "print(\"-\"*50)\n",
    "print(f\"The LSTM accuracy on the test set is equal to {round(res[1],2)}, (meaning the model is guessing the correct predictions {round(res[1]*100,2)}% of the time).\")"
   ]
  },
  {
   "cell_type": "code",
   "execution_count": 171,
   "id": "b0e75dc2",
   "metadata": {
    "ExecuteTime": {
     "end_time": "2022-12-01T11:24:32.553165Z",
     "start_time": "2022-12-01T11:24:32.150946Z"
    }
   },
   "outputs": [
    {
     "name": "stdout",
     "output_type": "stream",
     "text": [
      "5/5 [==============================] - 0s 3ms/step\n"
     ]
    },
    {
     "data": {
      "text/plain": [
       "(150, 7, 6)"
      ]
     },
     "execution_count": 171,
     "metadata": {},
     "output_type": "execute_result"
    }
   ],
   "source": [
    "model_1.predict(X_test).shape"
   ]
  },
  {
   "cell_type": "code",
   "execution_count": 183,
   "id": "46a1dbbb",
   "metadata": {
    "ExecuteTime": {
     "end_time": "2022-12-01T11:36:12.380070Z",
     "start_time": "2022-12-01T11:36:12.309587Z"
    }
   },
   "outputs": [
    {
     "name": "stdout",
     "output_type": "stream",
     "text": [
      "5/5 [==============================] - 0s 3ms/step\n"
     ]
    },
    {
     "data": {
      "text/plain": [
       "array([[0.  , 0.  , 0.  , 0.01, 0.25, 0.74],\n",
       "       [0.  , 0.  , 0.  , 0.  , 0.29, 0.71],\n",
       "       [0.  , 0.  , 0.  , 0.  , 0.32, 0.67],\n",
       "       [0.  , 0.  , 0.  , 0.01, 0.31, 0.68],\n",
       "       [0.  , 0.  , 0.  , 0.01, 0.28, 0.71],\n",
       "       [0.  , 0.  , 0.  , 0.01, 0.31, 0.68],\n",
       "       [0.  , 0.  , 0.  , 0.  , 0.36, 0.64]], dtype=float32)"
      ]
     },
     "execution_count": 183,
     "metadata": {},
     "output_type": "execute_result"
    }
   ],
   "source": [
    "np.round(model_1.predict(X_test)[80],2)"
   ]
  },
  {
   "cell_type": "markdown",
   "id": "ead08e85",
   "metadata": {},
   "source": [
    "### (3.2) 🎁 Baseline with a horizon"
   ]
  },
  {
   "cell_type": "markdown",
   "id": "9d9ce810",
   "metadata": {},
   "source": [
    "👉 (*Reminder*) ***In Time Series, an \"intuitive\" baseline model is to repeat the last seen value as (a) prediction(s) for the future value(s)*** you want to forecast, as illustrated down below!"
   ]
  },
  {
   "cell_type": "markdown",
   "id": "38715e66",
   "metadata": {},
   "source": [
    "<img src = \"https://github.com/davydw/public-pictures/blob/main/last_seen_value_with_horizon.png?raw=true\" width = 600 height = 300>"
   ]
  },
  {
   "cell_type": "markdown",
   "id": "f354117b",
   "metadata": {},
   "source": [
    "🎁 **The Last Seen Value Baseline Model** \n",
    "\n",
    "Let's go together through the function `last_seen_value_baseline` which:\n",
    "- (_input_) takes a pair $(X, y)$ \n",
    "- (_output_) computes the MAE of the `\"repeated last seen value\"`  baseline model"
   ]
  },
  {
   "cell_type": "code",
   "execution_count": 194,
   "id": "12040fdc",
   "metadata": {
    "ExecuteTime": {
     "end_time": "2022-12-01T16:44:35.629027Z",
     "start_time": "2022-12-01T16:44:35.619839Z"
    }
   },
   "outputs": [],
   "source": [
    "TARGET_COLUMN_IDX = 3 # the second column of each fold corresponds to the temperature\n",
    "\n",
    "def last_seen_value_baseline(X, y):\n",
    "\n",
    "    # How many values do you want to predict in the future ?\n",
    "    output_length = y.shape[-1]\n",
    "    \n",
    "    # For each sequence, let's consider the last seen value\n",
    "    # and only the temperature column\n",
    "    last_seen_values = X[:,-1, TARGET_COLUMN_IDX].reshape(-1,1)\n",
    "\n",
    "    # We need to duplicate these values as many times as output_length\n",
    "    # The author of this notebook did not know how to do it, so they searched on Stackoverflow\n",
    "    # and found this nice np.repeat in Numpy, which is self-explanatory\n",
    "    repeated = np.repeat(last_seen_values, axis = 1, repeats = output_length)\n",
    "\n",
    "    return np.mean(np.abs(y - repeated))"
   ]
  },
  {
   "cell_type": "code",
   "execution_count": 211,
   "id": "0cb97182",
   "metadata": {
    "ExecuteTime": {
     "end_time": "2022-12-01T17:11:09.774798Z",
     "start_time": "2022-12-01T17:11:09.767551Z"
    }
   },
   "outputs": [],
   "source": [
    "df['ATMO_baseline'] = df['ATMO'].shift(periods=8,axis=0)"
   ]
  },
  {
   "cell_type": "code",
   "execution_count": 221,
   "id": "7f0fb079",
   "metadata": {
    "ExecuteTime": {
     "end_time": "2022-12-01T17:18:42.156076Z",
     "start_time": "2022-12-01T17:18:42.137017Z"
    }
   },
   "outputs": [
    {
     "data": {
      "text/plain": [
       "array([[3.],\n",
       "       [4.],\n",
       "       [4.],\n",
       "       [4.],\n",
       "       [4.],\n",
       "       [4.],\n",
       "       [4.],\n",
       "       [4.],\n",
       "       [4.],\n",
       "       [4.],\n",
       "       [5.],\n",
       "       [4.],\n",
       "       [4.],\n",
       "       [3.],\n",
       "       [4.],\n",
       "       [4.],\n",
       "       [4.],\n",
       "       [4.],\n",
       "       [3.],\n",
       "       [3.],\n",
       "       [4.],\n",
       "       [5.],\n",
       "       [4.],\n",
       "       [4.],\n",
       "       [4.],\n",
       "       [4.],\n",
       "       [5.],\n",
       "       [5.],\n",
       "       [5.],\n",
       "       [4.],\n",
       "       [4.],\n",
       "       [4.],\n",
       "       [4.],\n",
       "       [4.],\n",
       "       [4.],\n",
       "       [4.],\n",
       "       [4.],\n",
       "       [4.],\n",
       "       [5.],\n",
       "       [3.],\n",
       "       [4.],\n",
       "       [4.],\n",
       "       [5.],\n",
       "       [4.],\n",
       "       [4.],\n",
       "       [5.],\n",
       "       [4.],\n",
       "       [5.],\n",
       "       [4.],\n",
       "       [5.],\n",
       "       [4.],\n",
       "       [4.],\n",
       "       [4.],\n",
       "       [5.],\n",
       "       [4.],\n",
       "       [4.],\n",
       "       [4.],\n",
       "       [4.],\n",
       "       [4.],\n",
       "       [5.],\n",
       "       [4.],\n",
       "       [3.],\n",
       "       [4.],\n",
       "       [4.],\n",
       "       [5.],\n",
       "       [4.],\n",
       "       [4.],\n",
       "       [5.],\n",
       "       [5.],\n",
       "       [4.],\n",
       "       [5.],\n",
       "       [4.],\n",
       "       [5.],\n",
       "       [3.],\n",
       "       [4.],\n",
       "       [5.],\n",
       "       [3.],\n",
       "       [5.],\n",
       "       [3.],\n",
       "       [4.],\n",
       "       [4.],\n",
       "       [4.],\n",
       "       [4.],\n",
       "       [3.],\n",
       "       [4.],\n",
       "       [3.],\n",
       "       [4.],\n",
       "       [4.],\n",
       "       [4.],\n",
       "       [4.],\n",
       "       [4.],\n",
       "       [3.],\n",
       "       [4.],\n",
       "       [4.],\n",
       "       [5.],\n",
       "       [5.],\n",
       "       [4.],\n",
       "       [5.],\n",
       "       [4.],\n",
       "       [4.],\n",
       "       [4.],\n",
       "       [4.],\n",
       "       [5.],\n",
       "       [5.],\n",
       "       [4.],\n",
       "       [4.],\n",
       "       [4.],\n",
       "       [4.],\n",
       "       [5.],\n",
       "       [3.],\n",
       "       [4.],\n",
       "       [4.],\n",
       "       [4.],\n",
       "       [5.],\n",
       "       [5.],\n",
       "       [5.],\n",
       "       [5.],\n",
       "       [4.],\n",
       "       [4.],\n",
       "       [4.],\n",
       "       [5.],\n",
       "       [4.],\n",
       "       [4.],\n",
       "       [4.],\n",
       "       [4.],\n",
       "       [4.],\n",
       "       [4.],\n",
       "       [4.],\n",
       "       [4.],\n",
       "       [3.],\n",
       "       [4.],\n",
       "       [5.],\n",
       "       [5.],\n",
       "       [5.],\n",
       "       [4.],\n",
       "       [4.],\n",
       "       [5.],\n",
       "       [5.],\n",
       "       [4.],\n",
       "       [3.],\n",
       "       [4.],\n",
       "       [4.],\n",
       "       [4.],\n",
       "       [4.],\n",
       "       [5.],\n",
       "       [4.],\n",
       "       [5.],\n",
       "       [4.],\n",
       "       [4.],\n",
       "       [4.],\n",
       "       [4.],\n",
       "       [5.],\n",
       "       [3.],\n",
       "       [4.],\n",
       "       [4.],\n",
       "       [4.],\n",
       "       [5.],\n",
       "       [4.],\n",
       "       [4.],\n",
       "       [3.],\n",
       "       [5.],\n",
       "       [4.],\n",
       "       [4.],\n",
       "       [5.],\n",
       "       [4.],\n",
       "       [4.],\n",
       "       [4.],\n",
       "       [4.],\n",
       "       [3.],\n",
       "       [5.],\n",
       "       [4.],\n",
       "       [4.],\n",
       "       [4.],\n",
       "       [4.],\n",
       "       [5.],\n",
       "       [4.],\n",
       "       [4.],\n",
       "       [4.],\n",
       "       [4.],\n",
       "       [4.],\n",
       "       [3.],\n",
       "       [4.],\n",
       "       [5.],\n",
       "       [4.],\n",
       "       [5.],\n",
       "       [5.],\n",
       "       [5.],\n",
       "       [4.],\n",
       "       [4.],\n",
       "       [4.],\n",
       "       [4.],\n",
       "       [4.],\n",
       "       [5.],\n",
       "       [5.],\n",
       "       [4.],\n",
       "       [5.],\n",
       "       [4.],\n",
       "       [5.],\n",
       "       [5.],\n",
       "       [3.],\n",
       "       [4.],\n",
       "       [4.],\n",
       "       [5.],\n",
       "       [5.],\n",
       "       [5.],\n",
       "       [4.],\n",
       "       [5.],\n",
       "       [5.],\n",
       "       [4.],\n",
       "       [3.],\n",
       "       [4.],\n",
       "       [4.],\n",
       "       [4.],\n",
       "       [4.],\n",
       "       [4.],\n",
       "       [4.],\n",
       "       [4.],\n",
       "       [5.],\n",
       "       [4.],\n",
       "       [5.],\n",
       "       [5.],\n",
       "       [4.],\n",
       "       [5.],\n",
       "       [4.],\n",
       "       [4.],\n",
       "       [4.],\n",
       "       [5.],\n",
       "       [5.],\n",
       "       [4.],\n",
       "       [4.],\n",
       "       [4.],\n",
       "       [4.],\n",
       "       [4.],\n",
       "       [4.],\n",
       "       [4.],\n",
       "       [5.],\n",
       "       [4.],\n",
       "       [4.],\n",
       "       [4.],\n",
       "       [4.],\n",
       "       [5.],\n",
       "       [4.],\n",
       "       [5.],\n",
       "       [4.],\n",
       "       [4.],\n",
       "       [4.],\n",
       "       [4.],\n",
       "       [4.],\n",
       "       [4.],\n",
       "       [4.],\n",
       "       [4.],\n",
       "       [5.],\n",
       "       [4.],\n",
       "       [4.],\n",
       "       [4.],\n",
       "       [5.],\n",
       "       [3.],\n",
       "       [4.],\n",
       "       [4.],\n",
       "       [4.],\n",
       "       [3.],\n",
       "       [4.],\n",
       "       [4.],\n",
       "       [5.],\n",
       "       [4.],\n",
       "       [4.],\n",
       "       [5.],\n",
       "       [4.],\n",
       "       [4.],\n",
       "       [4.],\n",
       "       [4.],\n",
       "       [5.],\n",
       "       [4.],\n",
       "       [4.],\n",
       "       [5.],\n",
       "       [4.],\n",
       "       [5.],\n",
       "       [5.],\n",
       "       [4.],\n",
       "       [5.],\n",
       "       [4.],\n",
       "       [5.],\n",
       "       [4.],\n",
       "       [4.],\n",
       "       [4.],\n",
       "       [5.],\n",
       "       [5.],\n",
       "       [4.],\n",
       "       [4.],\n",
       "       [3.],\n",
       "       [5.],\n",
       "       [4.],\n",
       "       [4.],\n",
       "       [5.],\n",
       "       [4.],\n",
       "       [5.],\n",
       "       [5.],\n",
       "       [4.],\n",
       "       [4.],\n",
       "       [5.],\n",
       "       [4.],\n",
       "       [4.],\n",
       "       [4.],\n",
       "       [5.],\n",
       "       [5.],\n",
       "       [4.],\n",
       "       [4.],\n",
       "       [5.],\n",
       "       [5.],\n",
       "       [5.],\n",
       "       [4.],\n",
       "       [4.],\n",
       "       [4.],\n",
       "       [5.],\n",
       "       [4.],\n",
       "       [4.],\n",
       "       [5.],\n",
       "       [4.],\n",
       "       [4.],\n",
       "       [3.],\n",
       "       [4.],\n",
       "       [4.],\n",
       "       [4.],\n",
       "       [4.],\n",
       "       [3.],\n",
       "       [5.],\n",
       "       [4.],\n",
       "       [4.],\n",
       "       [5.],\n",
       "       [4.],\n",
       "       [4.],\n",
       "       [4.],\n",
       "       [4.],\n",
       "       [4.],\n",
       "       [4.],\n",
       "       [5.],\n",
       "       [4.],\n",
       "       [4.],\n",
       "       [4.],\n",
       "       [3.],\n",
       "       [4.],\n",
       "       [5.],\n",
       "       [3.],\n",
       "       [5.],\n",
       "       [5.],\n",
       "       [4.],\n",
       "       [5.],\n",
       "       [4.],\n",
       "       [4.],\n",
       "       [4.],\n",
       "       [4.],\n",
       "       [4.]])"
      ]
     },
     "execution_count": 221,
     "metadata": {},
     "output_type": "execute_result"
    }
   ],
   "source": [
    "last_seen_values = X_train[:,-1, TARGET_COLUMN_IDX].reshape(-1,1)\n",
    "last_seen_values"
   ]
  },
  {
   "cell_type": "code",
   "execution_count": 212,
   "id": "55d73f09",
   "metadata": {
    "ExecuteTime": {
     "end_time": "2022-12-01T17:11:10.431165Z",
     "start_time": "2022-12-01T17:11:10.416694Z"
    }
   },
   "outputs": [
    {
     "data": {
      "text/html": [
       "<div>\n",
       "<style scoped>\n",
       "    .dataframe tbody tr th:only-of-type {\n",
       "        vertical-align: middle;\n",
       "    }\n",
       "\n",
       "    .dataframe tbody tr th {\n",
       "        vertical-align: top;\n",
       "    }\n",
       "\n",
       "    .dataframe thead th {\n",
       "        text-align: right;\n",
       "    }\n",
       "</style>\n",
       "<table border=\"1\" class=\"dataframe\">\n",
       "  <thead>\n",
       "    <tr style=\"text-align: right;\">\n",
       "      <th></th>\n",
       "      <th>PM25</th>\n",
       "      <th>PM10</th>\n",
       "      <th>NO2</th>\n",
       "      <th>ATMO</th>\n",
       "      <th>ATMO_baseline</th>\n",
       "    </tr>\n",
       "  </thead>\n",
       "  <tbody>\n",
       "    <tr>\n",
       "      <th>0</th>\n",
       "      <td>0.000000</td>\n",
       "      <td>-0.001422</td>\n",
       "      <td>-0.732394</td>\n",
       "      <td>4</td>\n",
       "      <td>NaN</td>\n",
       "    </tr>\n",
       "    <tr>\n",
       "      <th>1</th>\n",
       "      <td>0.000000</td>\n",
       "      <td>-0.001422</td>\n",
       "      <td>-0.732394</td>\n",
       "      <td>4</td>\n",
       "      <td>NaN</td>\n",
       "    </tr>\n",
       "    <tr>\n",
       "      <th>2</th>\n",
       "      <td>0.000000</td>\n",
       "      <td>-0.001422</td>\n",
       "      <td>-0.732394</td>\n",
       "      <td>4</td>\n",
       "      <td>NaN</td>\n",
       "    </tr>\n",
       "    <tr>\n",
       "      <th>3</th>\n",
       "      <td>0.000000</td>\n",
       "      <td>-0.001422</td>\n",
       "      <td>-0.732394</td>\n",
       "      <td>4</td>\n",
       "      <td>NaN</td>\n",
       "    </tr>\n",
       "    <tr>\n",
       "      <th>4</th>\n",
       "      <td>0.000000</td>\n",
       "      <td>-0.025605</td>\n",
       "      <td>-0.510563</td>\n",
       "      <td>4</td>\n",
       "      <td>NaN</td>\n",
       "    </tr>\n",
       "    <tr>\n",
       "      <th>5</th>\n",
       "      <td>0.000000</td>\n",
       "      <td>0.596017</td>\n",
       "      <td>0.140845</td>\n",
       "      <td>4</td>\n",
       "      <td>NaN</td>\n",
       "    </tr>\n",
       "    <tr>\n",
       "      <th>6</th>\n",
       "      <td>0.000000</td>\n",
       "      <td>1.385491</td>\n",
       "      <td>-0.271127</td>\n",
       "      <td>4</td>\n",
       "      <td>NaN</td>\n",
       "    </tr>\n",
       "    <tr>\n",
       "      <th>7</th>\n",
       "      <td>0.194901</td>\n",
       "      <td>1.167852</td>\n",
       "      <td>0.609155</td>\n",
       "      <td>5</td>\n",
       "      <td>NaN</td>\n",
       "    </tr>\n",
       "    <tr>\n",
       "      <th>8</th>\n",
       "      <td>-0.413651</td>\n",
       "      <td>1.467994</td>\n",
       "      <td>0.644366</td>\n",
       "      <td>4</td>\n",
       "      <td>4.0</td>\n",
       "    </tr>\n",
       "    <tr>\n",
       "      <th>9</th>\n",
       "      <td>0.513158</td>\n",
       "      <td>0.099573</td>\n",
       "      <td>0.542254</td>\n",
       "      <td>5</td>\n",
       "      <td>4.0</td>\n",
       "    </tr>\n",
       "  </tbody>\n",
       "</table>\n",
       "</div>"
      ],
      "text/plain": [
       "       PM25      PM10       NO2  ATMO  ATMO_baseline\n",
       "0  0.000000 -0.001422 -0.732394     4            NaN\n",
       "1  0.000000 -0.001422 -0.732394     4            NaN\n",
       "2  0.000000 -0.001422 -0.732394     4            NaN\n",
       "3  0.000000 -0.001422 -0.732394     4            NaN\n",
       "4  0.000000 -0.025605 -0.510563     4            NaN\n",
       "5  0.000000  0.596017  0.140845     4            NaN\n",
       "6  0.000000  1.385491 -0.271127     4            NaN\n",
       "7  0.194901  1.167852  0.609155     5            NaN\n",
       "8 -0.413651  1.467994  0.644366     4            4.0\n",
       "9  0.513158  0.099573  0.542254     5            4.0"
      ]
     },
     "execution_count": 212,
     "metadata": {},
     "output_type": "execute_result"
    }
   ],
   "source": [
    "df.head(10)"
   ]
  },
  {
   "cell_type": "code",
   "execution_count": 218,
   "id": "eaa2417c",
   "metadata": {
    "ExecuteTime": {
     "end_time": "2022-12-01T17:15:17.548250Z",
     "start_time": "2022-12-01T17:15:17.541400Z"
    }
   },
   "outputs": [
    {
     "data": {
      "text/plain": [
       "(150, 7)"
      ]
     },
     "execution_count": 218,
     "metadata": {},
     "output_type": "execute_result"
    }
   ],
   "source": [
    "y_baseline = df['ATMO_baseline']\n",
    "y_test.shape"
   ]
  },
  {
   "cell_type": "code",
   "execution_count": null,
   "id": "9e68bebe",
   "metadata": {},
   "outputs": [],
   "source": []
  },
  {
   "cell_type": "code",
   "execution_count": 215,
   "id": "418e79cb",
   "metadata": {
    "ExecuteTime": {
     "end_time": "2022-12-01T17:14:25.726487Z",
     "start_time": "2022-12-01T17:14:25.450793Z"
    }
   },
   "outputs": [
    {
     "ename": "ValueError",
     "evalue": "operands could not be broadcast together with shapes (150,7) (1775,) ",
     "output_type": "error",
     "traceback": [
      "\u001b[0;31m---------------------------------------------------------------------------\u001b[0m",
      "\u001b[0;31mValueError\u001b[0m                                Traceback (most recent call last)",
      "Cell \u001b[0;32mIn[215], line 1\u001b[0m\n\u001b[0;32m----> 1\u001b[0m np\u001b[38;5;241m.\u001b[39mmean(np\u001b[38;5;241m.\u001b[39mabs(\u001b[43my_test\u001b[49m\u001b[43m \u001b[49m\u001b[38;5;241;43m-\u001b[39;49m\u001b[43m \u001b[49m\u001b[43my_baseline\u001b[49m))\n",
      "File \u001b[0;32m~/.pyenv/versions/PDPA-virt_env/lib/python3.10/site-packages/pandas/core/generic.py:2113\u001b[0m, in \u001b[0;36mNDFrame.__array_ufunc__\u001b[0;34m(self, ufunc, method, *inputs, **kwargs)\u001b[0m\n\u001b[1;32m   2109\u001b[0m \u001b[38;5;129m@final\u001b[39m\n\u001b[1;32m   2110\u001b[0m \u001b[38;5;28;01mdef\u001b[39;00m \u001b[38;5;21m__array_ufunc__\u001b[39m(\n\u001b[1;32m   2111\u001b[0m     \u001b[38;5;28mself\u001b[39m, ufunc: np\u001b[38;5;241m.\u001b[39mufunc, method: \u001b[38;5;28mstr\u001b[39m, \u001b[38;5;241m*\u001b[39minputs: Any, \u001b[38;5;241m*\u001b[39m\u001b[38;5;241m*\u001b[39mkwargs: Any\n\u001b[1;32m   2112\u001b[0m ):\n\u001b[0;32m-> 2113\u001b[0m     \u001b[38;5;28;01mreturn\u001b[39;00m \u001b[43marraylike\u001b[49m\u001b[38;5;241;43m.\u001b[39;49m\u001b[43marray_ufunc\u001b[49m\u001b[43m(\u001b[49m\u001b[38;5;28;43mself\u001b[39;49m\u001b[43m,\u001b[49m\u001b[43m \u001b[49m\u001b[43mufunc\u001b[49m\u001b[43m,\u001b[49m\u001b[43m \u001b[49m\u001b[43mmethod\u001b[49m\u001b[43m,\u001b[49m\u001b[43m \u001b[49m\u001b[38;5;241;43m*\u001b[39;49m\u001b[43minputs\u001b[49m\u001b[43m,\u001b[49m\u001b[43m \u001b[49m\u001b[38;5;241;43m*\u001b[39;49m\u001b[38;5;241;43m*\u001b[39;49m\u001b[43mkwargs\u001b[49m\u001b[43m)\u001b[49m\n",
      "File \u001b[0;32m~/.pyenv/versions/PDPA-virt_env/lib/python3.10/site-packages/pandas/core/arraylike.py:265\u001b[0m, in \u001b[0;36marray_ufunc\u001b[0;34m(self, ufunc, method, *inputs, **kwargs)\u001b[0m\n\u001b[1;32m    262\u001b[0m     \u001b[38;5;28;01mreturn\u001b[39;00m result\n\u001b[1;32m    264\u001b[0m \u001b[38;5;66;03m# for binary ops, use our custom dunder methods\u001b[39;00m\n\u001b[0;32m--> 265\u001b[0m result \u001b[38;5;241m=\u001b[39m \u001b[43mmaybe_dispatch_ufunc_to_dunder_op\u001b[49m\u001b[43m(\u001b[49m\u001b[38;5;28;43mself\u001b[39;49m\u001b[43m,\u001b[49m\u001b[43m \u001b[49m\u001b[43mufunc\u001b[49m\u001b[43m,\u001b[49m\u001b[43m \u001b[49m\u001b[43mmethod\u001b[49m\u001b[43m,\u001b[49m\u001b[43m \u001b[49m\u001b[38;5;241;43m*\u001b[39;49m\u001b[43minputs\u001b[49m\u001b[43m,\u001b[49m\u001b[43m \u001b[49m\u001b[38;5;241;43m*\u001b[39;49m\u001b[38;5;241;43m*\u001b[39;49m\u001b[43mkwargs\u001b[49m\u001b[43m)\u001b[49m\n\u001b[1;32m    266\u001b[0m \u001b[38;5;28;01mif\u001b[39;00m result \u001b[38;5;129;01mis\u001b[39;00m \u001b[38;5;129;01mnot\u001b[39;00m \u001b[38;5;28mNotImplemented\u001b[39m:\n\u001b[1;32m    267\u001b[0m     \u001b[38;5;28;01mreturn\u001b[39;00m result\n",
      "File \u001b[0;32m~/.pyenv/versions/PDPA-virt_env/lib/python3.10/site-packages/pandas/_libs/ops_dispatch.pyx:113\u001b[0m, in \u001b[0;36mpandas._libs.ops_dispatch.maybe_dispatch_ufunc_to_dunder_op\u001b[0;34m()\u001b[0m\n",
      "File \u001b[0;32m~/.pyenv/versions/PDPA-virt_env/lib/python3.10/site-packages/pandas/core/ops/common.py:72\u001b[0m, in \u001b[0;36m_unpack_zerodim_and_defer.<locals>.new_method\u001b[0;34m(self, other)\u001b[0m\n\u001b[1;32m     68\u001b[0m             \u001b[38;5;28;01mreturn\u001b[39;00m \u001b[38;5;28mNotImplemented\u001b[39m\n\u001b[1;32m     70\u001b[0m other \u001b[38;5;241m=\u001b[39m item_from_zerodim(other)\n\u001b[0;32m---> 72\u001b[0m \u001b[38;5;28;01mreturn\u001b[39;00m \u001b[43mmethod\u001b[49m\u001b[43m(\u001b[49m\u001b[38;5;28;43mself\u001b[39;49m\u001b[43m,\u001b[49m\u001b[43m \u001b[49m\u001b[43mother\u001b[49m\u001b[43m)\u001b[49m\n",
      "File \u001b[0;32m~/.pyenv/versions/PDPA-virt_env/lib/python3.10/site-packages/pandas/core/arraylike.py:114\u001b[0m, in \u001b[0;36mOpsMixin.__rsub__\u001b[0;34m(self, other)\u001b[0m\n\u001b[1;32m    112\u001b[0m \u001b[38;5;129m@unpack_zerodim_and_defer\u001b[39m(\u001b[38;5;124m\"\u001b[39m\u001b[38;5;124m__rsub__\u001b[39m\u001b[38;5;124m\"\u001b[39m)\n\u001b[1;32m    113\u001b[0m \u001b[38;5;28;01mdef\u001b[39;00m \u001b[38;5;21m__rsub__\u001b[39m(\u001b[38;5;28mself\u001b[39m, other):\n\u001b[0;32m--> 114\u001b[0m     \u001b[38;5;28;01mreturn\u001b[39;00m \u001b[38;5;28;43mself\u001b[39;49m\u001b[38;5;241;43m.\u001b[39;49m\u001b[43m_arith_method\u001b[49m\u001b[43m(\u001b[49m\u001b[43mother\u001b[49m\u001b[43m,\u001b[49m\u001b[43m \u001b[49m\u001b[43mroperator\u001b[49m\u001b[38;5;241;43m.\u001b[39;49m\u001b[43mrsub\u001b[49m\u001b[43m)\u001b[49m\n",
      "File \u001b[0;32m~/.pyenv/versions/PDPA-virt_env/lib/python3.10/site-packages/pandas/core/series.py:6259\u001b[0m, in \u001b[0;36mSeries._arith_method\u001b[0;34m(self, other, op)\u001b[0m\n\u001b[1;32m   6257\u001b[0m \u001b[38;5;28;01mdef\u001b[39;00m \u001b[38;5;21m_arith_method\u001b[39m(\u001b[38;5;28mself\u001b[39m, other, op):\n\u001b[1;32m   6258\u001b[0m     \u001b[38;5;28mself\u001b[39m, other \u001b[38;5;241m=\u001b[39m ops\u001b[38;5;241m.\u001b[39malign_method_SERIES(\u001b[38;5;28mself\u001b[39m, other)\n\u001b[0;32m-> 6259\u001b[0m     \u001b[38;5;28;01mreturn\u001b[39;00m \u001b[43mbase\u001b[49m\u001b[38;5;241;43m.\u001b[39;49m\u001b[43mIndexOpsMixin\u001b[49m\u001b[38;5;241;43m.\u001b[39;49m\u001b[43m_arith_method\u001b[49m\u001b[43m(\u001b[49m\u001b[38;5;28;43mself\u001b[39;49m\u001b[43m,\u001b[49m\u001b[43m \u001b[49m\u001b[43mother\u001b[49m\u001b[43m,\u001b[49m\u001b[43m \u001b[49m\u001b[43mop\u001b[49m\u001b[43m)\u001b[49m\n",
      "File \u001b[0;32m~/.pyenv/versions/PDPA-virt_env/lib/python3.10/site-packages/pandas/core/base.py:1325\u001b[0m, in \u001b[0;36mIndexOpsMixin._arith_method\u001b[0;34m(self, other, op)\u001b[0m\n\u001b[1;32m   1322\u001b[0m rvalues \u001b[38;5;241m=\u001b[39m ensure_wrapped_if_datetimelike(rvalues)\n\u001b[1;32m   1324\u001b[0m \u001b[38;5;28;01mwith\u001b[39;00m np\u001b[38;5;241m.\u001b[39merrstate(\u001b[38;5;28mall\u001b[39m\u001b[38;5;241m=\u001b[39m\u001b[38;5;124m\"\u001b[39m\u001b[38;5;124mignore\u001b[39m\u001b[38;5;124m\"\u001b[39m):\n\u001b[0;32m-> 1325\u001b[0m     result \u001b[38;5;241m=\u001b[39m \u001b[43mops\u001b[49m\u001b[38;5;241;43m.\u001b[39;49m\u001b[43marithmetic_op\u001b[49m\u001b[43m(\u001b[49m\u001b[43mlvalues\u001b[49m\u001b[43m,\u001b[49m\u001b[43m \u001b[49m\u001b[43mrvalues\u001b[49m\u001b[43m,\u001b[49m\u001b[43m \u001b[49m\u001b[43mop\u001b[49m\u001b[43m)\u001b[49m\n\u001b[1;32m   1327\u001b[0m \u001b[38;5;28;01mreturn\u001b[39;00m \u001b[38;5;28mself\u001b[39m\u001b[38;5;241m.\u001b[39m_construct_result(result, name\u001b[38;5;241m=\u001b[39mres_name)\n",
      "File \u001b[0;32m~/.pyenv/versions/PDPA-virt_env/lib/python3.10/site-packages/pandas/core/ops/array_ops.py:226\u001b[0m, in \u001b[0;36marithmetic_op\u001b[0;34m(left, right, op)\u001b[0m\n\u001b[1;32m    222\u001b[0m     _bool_arith_check(op, left, right)\n\u001b[1;32m    224\u001b[0m     \u001b[38;5;66;03m# error: Argument 1 to \"_na_arithmetic_op\" has incompatible type\u001b[39;00m\n\u001b[1;32m    225\u001b[0m     \u001b[38;5;66;03m# \"Union[ExtensionArray, ndarray[Any, Any]]\"; expected \"ndarray[Any, Any]\"\u001b[39;00m\n\u001b[0;32m--> 226\u001b[0m     res_values \u001b[38;5;241m=\u001b[39m \u001b[43m_na_arithmetic_op\u001b[49m\u001b[43m(\u001b[49m\u001b[43mleft\u001b[49m\u001b[43m,\u001b[49m\u001b[43m \u001b[49m\u001b[43mright\u001b[49m\u001b[43m,\u001b[49m\u001b[43m \u001b[49m\u001b[43mop\u001b[49m\u001b[43m)\u001b[49m  \u001b[38;5;66;03m# type: ignore[arg-type]\u001b[39;00m\n\u001b[1;32m    228\u001b[0m \u001b[38;5;28;01mreturn\u001b[39;00m res_values\n",
      "File \u001b[0;32m~/.pyenv/versions/PDPA-virt_env/lib/python3.10/site-packages/pandas/core/ops/array_ops.py:165\u001b[0m, in \u001b[0;36m_na_arithmetic_op\u001b[0;34m(left, right, op, is_cmp)\u001b[0m\n\u001b[1;32m    162\u001b[0m     func \u001b[38;5;241m=\u001b[39m partial(expressions\u001b[38;5;241m.\u001b[39mevaluate, op)\n\u001b[1;32m    164\u001b[0m \u001b[38;5;28;01mtry\u001b[39;00m:\n\u001b[0;32m--> 165\u001b[0m     result \u001b[38;5;241m=\u001b[39m \u001b[43mfunc\u001b[49m\u001b[43m(\u001b[49m\u001b[43mleft\u001b[49m\u001b[43m,\u001b[49m\u001b[43m \u001b[49m\u001b[43mright\u001b[49m\u001b[43m)\u001b[49m\n\u001b[1;32m    166\u001b[0m \u001b[38;5;28;01mexcept\u001b[39;00m \u001b[38;5;167;01mTypeError\u001b[39;00m:\n\u001b[1;32m    167\u001b[0m     \u001b[38;5;28;01mif\u001b[39;00m \u001b[38;5;129;01mnot\u001b[39;00m is_cmp \u001b[38;5;129;01mand\u001b[39;00m (is_object_dtype(left\u001b[38;5;241m.\u001b[39mdtype) \u001b[38;5;129;01mor\u001b[39;00m is_object_dtype(right)):\n\u001b[1;32m    168\u001b[0m         \u001b[38;5;66;03m# For object dtype, fallback to a masked operation (only operating\u001b[39;00m\n\u001b[1;32m    169\u001b[0m         \u001b[38;5;66;03m#  on the non-missing values)\u001b[39;00m\n\u001b[1;32m    170\u001b[0m         \u001b[38;5;66;03m# Don't do this for comparisons, as that will handle complex numbers\u001b[39;00m\n\u001b[1;32m    171\u001b[0m         \u001b[38;5;66;03m#  incorrectly, see GH#32047\u001b[39;00m\n",
      "File \u001b[0;32m~/.pyenv/versions/PDPA-virt_env/lib/python3.10/site-packages/pandas/core/computation/expressions.py:241\u001b[0m, in \u001b[0;36mevaluate\u001b[0;34m(op, a, b, use_numexpr)\u001b[0m\n\u001b[1;32m    238\u001b[0m \u001b[38;5;28;01mif\u001b[39;00m op_str \u001b[38;5;129;01mis\u001b[39;00m \u001b[38;5;129;01mnot\u001b[39;00m \u001b[38;5;28;01mNone\u001b[39;00m:\n\u001b[1;32m    239\u001b[0m     \u001b[38;5;28;01mif\u001b[39;00m use_numexpr:\n\u001b[1;32m    240\u001b[0m         \u001b[38;5;66;03m# error: \"None\" not callable\u001b[39;00m\n\u001b[0;32m--> 241\u001b[0m         \u001b[38;5;28;01mreturn\u001b[39;00m \u001b[43m_evaluate\u001b[49m\u001b[43m(\u001b[49m\u001b[43mop\u001b[49m\u001b[43m,\u001b[49m\u001b[43m \u001b[49m\u001b[43mop_str\u001b[49m\u001b[43m,\u001b[49m\u001b[43m \u001b[49m\u001b[43ma\u001b[49m\u001b[43m,\u001b[49m\u001b[43m \u001b[49m\u001b[43mb\u001b[49m\u001b[43m)\u001b[49m  \u001b[38;5;66;03m# type: ignore[misc]\u001b[39;00m\n\u001b[1;32m    242\u001b[0m \u001b[38;5;28;01mreturn\u001b[39;00m _evaluate_standard(op, op_str, a, b)\n",
      "File \u001b[0;32m~/.pyenv/versions/PDPA-virt_env/lib/python3.10/site-packages/pandas/core/computation/expressions.py:70\u001b[0m, in \u001b[0;36m_evaluate_standard\u001b[0;34m(op, op_str, a, b)\u001b[0m\n\u001b[1;32m     68\u001b[0m \u001b[38;5;28;01mif\u001b[39;00m _TEST_MODE:\n\u001b[1;32m     69\u001b[0m     _store_test_result(\u001b[38;5;28;01mFalse\u001b[39;00m)\n\u001b[0;32m---> 70\u001b[0m \u001b[38;5;28;01mreturn\u001b[39;00m \u001b[43mop\u001b[49m\u001b[43m(\u001b[49m\u001b[43ma\u001b[49m\u001b[43m,\u001b[49m\u001b[43m \u001b[49m\u001b[43mb\u001b[49m\u001b[43m)\u001b[49m\n",
      "File \u001b[0;32m~/.pyenv/versions/PDPA-virt_env/lib/python3.10/site-packages/pandas/core/roperator.py:15\u001b[0m, in \u001b[0;36mrsub\u001b[0;34m(left, right)\u001b[0m\n\u001b[1;32m     14\u001b[0m \u001b[38;5;28;01mdef\u001b[39;00m \u001b[38;5;21mrsub\u001b[39m(left, right):\n\u001b[0;32m---> 15\u001b[0m     \u001b[38;5;28;01mreturn\u001b[39;00m \u001b[43mright\u001b[49m\u001b[43m \u001b[49m\u001b[38;5;241;43m-\u001b[39;49m\u001b[43m \u001b[49m\u001b[43mleft\u001b[49m\n",
      "\u001b[0;31mValueError\u001b[0m: operands could not be broadcast together with shapes (150,7) (1775,) "
     ]
    }
   ],
   "source": [
    "np.mean(np.abs(y_test - y_baseline))"
   ]
  },
  {
   "cell_type": "code",
   "execution_count": 183,
   "id": "4bbc280e",
   "metadata": {
    "ExecuteTime": {
     "end_time": "2022-12-01T16:34:18.505282Z",
     "start_time": "2022-12-01T16:34:18.498692Z"
    }
   },
   "outputs": [
    {
     "data": {
      "text/plain": [
       "((352, 7), (352, 7, 4))"
      ]
     },
     "execution_count": 183,
     "metadata": {},
     "output_type": "execute_result"
    }
   ],
   "source": []
  },
  {
   "cell_type": "markdown",
   "id": "542127c5",
   "metadata": {},
   "source": [
    "🕵🏻‍♀️ What is the performance of the \"last seen value baseline model\" on the <font color=orange>**test**</font> set?"
   ]
  },
  {
   "cell_type": "code",
   "execution_count": 166,
   "id": "ff4c5763",
   "metadata": {
    "ExecuteTime": {
     "end_time": "2022-12-01T15:51:37.111622Z",
     "start_time": "2022-12-01T15:51:37.102242Z"
    }
   },
   "outputs": [
    {
     "name": "stdout",
     "output_type": "stream",
     "text": [
      "- The Baseline MAE on the test set is equal to 3.88 Celsius degrees\n",
      "- The LSTM MAE on the test set is equal to 0.76 Celsius degrees\n",
      "👉 Improvement/decrease of the LSTM model over the baseline (on this fold for the test set) = : 80.48 % 👈\n"
     ]
    }
   ],
   "source": [
    "# 1 - Evaluation of the Baseline Model\n",
    "# ====================================\n",
    "mae_baseline = last_seen_value_baseline(X_test, y_test)\n",
    "print(f\"- The Baseline MAE on the test set is equal to {round(mae_baseline,2)} Celsius degrees\")\n",
    "\n",
    "# 4 - Comparison with the LSTM model\n",
    "# ====================================\n",
    "print(f\"- The LSTM MAE on the test set is equal to {round(res[1],2)} Celsius degrees\")\n",
    "print(f\"👉 Improvement/decrease of the LSTM model over the baseline (on this fold for the test set) = : {round((1 - (res[1]/mae_baseline))*100,2)} % 👈\")"
   ]
  },
  {
   "cell_type": "markdown",
   "id": "41ccf45c",
   "metadata": {},
   "source": [
    "<u><b><i>Warnings:</i></b></u>\n",
    "\n",
    "* Do you remember the challenge `Predict weather temperature` where we were trying to predict the temperature in three hours, i.e. ***the next data point***? We were able to improve the MAE by 30-40% on the LSTM vs. the baseline for every fold, and the MAE was more or less between 1 and 2 degrees Celsius.\n",
    "\n",
    "* <font color=red>***The more data points in the future we try to predict, the higher your MAE will be!***</font>\n",
    "\n",
    "* *It is more and more frequent to see a 4/5 Celsius degrees - difference between the real temperature in seven days and the currently predicted value!*"
   ]
  },
  {
   "cell_type": "markdown",
   "id": "a1254d01",
   "metadata": {},
   "source": [
    "### (3.3) 💻 Cross-Validation"
   ]
  },
  {
   "cell_type": "markdown",
   "id": "f9d14926",
   "metadata": {},
   "source": [
    "ℹ️ Reminders of the global variables in this notebook:"
   ]
  },
  {
   "cell_type": "code",
   "execution_count": 171,
   "id": "35955631",
   "metadata": {
    "ExecuteTime": {
     "end_time": "2022-12-01T15:56:06.488949Z",
     "start_time": "2022-12-01T15:56:06.461274Z"
    }
   },
   "outputs": [
    {
     "name": "stdout",
     "output_type": "stream",
     "text": [
      "##### TRAIN TEST SPLIT #####\n",
      "- TRAIN_TEST_RATIO = 0.7\n"
     ]
    },
    {
     "ename": "NameError",
     "evalue": "name 'N_TEST' is not defined",
     "output_type": "error",
     "traceback": [
      "\u001b[0;31m---------------------------------------------------------------------------\u001b[0m",
      "\u001b[0;31mNameError\u001b[0m                                 Traceback (most recent call last)",
      "Cell \u001b[0;32mIn[171], line 10\u001b[0m\n\u001b[1;32m      8\u001b[0m \u001b[38;5;28mprint\u001b[39m(\u001b[38;5;124mf\u001b[39m\u001b[38;5;124m'\u001b[39m\u001b[38;5;124m- TRAIN_TEST_RATIO = \u001b[39m\u001b[38;5;132;01m{\u001b[39;00mTRAIN_TEST_RATIO\u001b[38;5;132;01m}\u001b[39;00m\u001b[38;5;124m'\u001b[39m)\n\u001b[1;32m      9\u001b[0m \u001b[38;5;66;03m#print(f'- N_TRAIN = {N_TRAIN}')\u001b[39;00m\n\u001b[0;32m---> 10\u001b[0m \u001b[38;5;28mprint\u001b[39m(\u001b[38;5;124mf\u001b[39m\u001b[38;5;124m'\u001b[39m\u001b[38;5;124m- N_TEST = \u001b[39m\u001b[38;5;132;01m{\u001b[39;00m\u001b[43mN_TEST\u001b[49m\u001b[38;5;132;01m}\u001b[39;00m\u001b[38;5;124m'\u001b[39m)\n\u001b[1;32m     12\u001b[0m \u001b[38;5;66;03m# Inputs\u001b[39;00m\n\u001b[1;32m     13\u001b[0m \u001b[38;5;28mprint\u001b[39m(\u001b[38;5;124m'\u001b[39m\u001b[38;5;124m##### INPUTS #####\u001b[39m\u001b[38;5;124m'\u001b[39m)\n",
      "\u001b[0;31mNameError\u001b[0m: name 'N_TEST' is not defined"
     ]
    }
   ],
   "source": [
    "# Folds\n",
    "#print('##### FOLDS ##### ')\n",
    "#print(f'- FOLD_LENGTH = {FOLD_LENGTH} timesteps =  {365} days x {7} records per day')\n",
    "#print(f'- FOLD_STRIDE = {FOLD_STRIDE} timesteps = {(365/2)} days x {8} records per day = sliding each semester')\n",
    "\n",
    "# Chronological Train Test Split\n",
    "print('##### TRAIN TEST SPLIT #####')\n",
    "print(f'- TRAIN_TEST_RATIO = {TRAIN_TEST_RATIO}')\n",
    "#print(f'- N_TRAIN = {N_TRAIN}')\n",
    "print(f'- N_TEST = {N_TEST}')\n",
    "\n",
    "# Inputs\n",
    "print('##### INPUTS #####')\n",
    "print(f'- INPUT_LENGTH = {INPUT_LENGTH} timesteps = {int(INPUT_LENGTH/8)} days x {8} records per day = {int(INPUT_LENGTH/8/7)} weeks')\n",
    "print(f'- N_FEATURES = {N_FEATURES}') \n",
    "\n",
    "# Outputs\n",
    "print('##### OUTPUTS #####')\n",
    "print(f'- OUTPUT_LENGTH = {OUTPUT_LENGTH} timesteps = {int(OUTPUT_LENGTH/8)} day(s) x {8} records per day')\n",
    "print(f\"- Trying to predict:{TARGET}\")\n",
    "print(f'- N_TARGETS = {N_TARGETS}') \n",
    "\n",
    "# Parameters\n",
    "print('##### PARAMETERS #####')\n",
    "print(f'- HORIZON = {HORIZON} timesteps = {int(HORIZON/8)} day(s) x {8} records per day')\n"
   ]
  },
  {
   "cell_type": "code",
   "execution_count": 167,
   "id": "15d2e691",
   "metadata": {
    "ExecuteTime": {
     "end_time": "2022-12-01T15:52:20.444137Z",
     "start_time": "2022-12-01T15:52:20.431308Z"
    }
   },
   "outputs": [
    {
     "name": "stdout",
     "output_type": "stream",
     "text": [
      "WARNING, we have 7 FOLDS, it may take a long time to run...!\n"
     ]
    }
   ],
   "source": [
    "# Remember how many folds do we have ?\n",
    "folds = get_folds(df, FOLD_LENGTH, FOLD_STRIDE)\n",
    "print(f\"WARNING, we have {len(folds)} FOLDS, it may take a long time to run...!\")"
   ]
  },
  {
   "cell_type": "markdown",
   "id": "bdafe484",
   "metadata": {},
   "source": [
    "🎁 **Cross-validating the LSTM and the baseline** \n",
    "\n",
    "_Let's go together through the following code_ 👇"
   ]
  },
  {
   "cell_type": "code",
   "execution_count": 168,
   "id": "9b98001c",
   "metadata": {
    "ExecuteTime": {
     "end_time": "2022-12-01T15:53:54.683270Z",
     "start_time": "2022-12-01T15:53:54.656424Z"
    }
   },
   "outputs": [],
   "source": [
    "# Let's reload the dataset, just in case\n",
    "df = pd.read_csv('../data/pollution/inputs/Xy_PA75016.csv',index_col='Date_time')\n",
    "df = df.reset_index(drop=True)"
   ]
  },
  {
   "cell_type": "code",
   "execution_count": 169,
   "id": "442bac8b",
   "metadata": {
    "ExecuteTime": {
     "end_time": "2022-12-01T15:55:17.861016Z",
     "start_time": "2022-12-01T15:54:06.643545Z"
    }
   },
   "outputs": [
    {
     "name": "stdout",
     "output_type": "stream",
     "text": [
      "--------------------------------------------------\n",
      "MAE baseline fold n°0 = 3.88\n",
      "MAE LSTM fold n°0 = 0.74\n",
      "🏋🏽‍♂️ Improvement/Decrease vs. Baseline: 80.82 % \n",
      "\n",
      "--------------------------------------------------\n",
      "MAE baseline fold n°1 = 4.31\n",
      "MAE LSTM fold n°1 = 0.34\n",
      "🏋🏽‍♂️ Improvement/Decrease vs. Baseline: 92.05 % \n",
      "\n",
      "--------------------------------------------------\n",
      "MAE baseline fold n°2 = 4.18\n",
      "MAE LSTM fold n°2 = 0.47\n",
      "🏋🏽‍♂️ Improvement/Decrease vs. Baseline: 88.75 % \n",
      "\n",
      "--------------------------------------------------\n",
      "MAE baseline fold n°3 = 3.74\n",
      "MAE LSTM fold n°3 = 0.76\n",
      "🏋🏽‍♂️ Improvement/Decrease vs. Baseline: 79.75 % \n",
      "\n",
      "--------------------------------------------------\n",
      "MAE baseline fold n°4 = 4.16\n",
      "MAE LSTM fold n°4 = 0.58\n",
      "🏋🏽‍♂️ Improvement/Decrease vs. Baseline: 86.14 % \n",
      "\n",
      "--------------------------------------------------\n",
      "MAE baseline fold n°5 = 3.66\n",
      "MAE LSTM fold n°5 = 0.64\n",
      "🏋🏽‍♂️ Improvement/Decrease vs. Baseline: 82.59 % \n",
      "\n",
      "--------------------------------------------------\n",
      "MAE baseline fold n°6 = 4.12\n",
      "MAE LSTM fold n°6 = 0.61\n",
      "🏋🏽‍♂️ Improvement/Decrease vs. Baseline: 85.28 % \n",
      "\n"
     ]
    }
   ],
   "source": [
    "list_of_mae_baseline_model = []\n",
    "list_of_mae_recurrent_model = []\n",
    "    \n",
    "# 1 - Creating FOLDS\n",
    "# =======================================================\n",
    "    \n",
    "folds = get_folds(df, FOLD_LENGTH, FOLD_STRIDE)\n",
    "    \n",
    "for fold_id, fold in enumerate(folds):    \n",
    "    \n",
    "    # 2 - CHRONOLOGICAL TRAIN TEST SPLIT of the current FOLD\n",
    "    # =======================================================    \n",
    "    \n",
    "    (fold_train, fold_test) = train_test_split(fold = fold, \n",
    "                                               train_test_ratio = TRAIN_TEST_RATIO, \n",
    "                                               input_length = INPUT_LENGTH, \n",
    "                                               horizon = HORIZON) \n",
    "    \n",
    "    # 3 - Scanninng fold_train and fold_test for SEQUENCES \n",
    "    # =======================================================       \n",
    "    \n",
    "    X_train, y_train = get_X_y(fold = fold_train, \n",
    "                               horizon = HORIZON, \n",
    "                               input_length = INPUT_LENGTH, \n",
    "                               output_length = OUTPUT_LENGTH, \n",
    "                               stride = STRIDE)\n",
    "    \n",
    "    X_test, y_test = get_X_y(fold_test, \n",
    "                             horizon = HORIZON, \n",
    "                             input_length = INPUT_LENGTH, \n",
    "                             output_length = OUTPUT_LENGTH,\n",
    "                             stride = STRIDE)\n",
    "    \n",
    "    # 4.1 - Baseline Model\n",
    "    # =======================================================\n",
    "    mae_baseline = last_seen_value_baseline(X_test, y_test)\n",
    "    list_of_mae_baseline_model.append(mae_baseline)\n",
    "    \n",
    "    print(\"-\"*50)\n",
    "    print(f\"MAE baseline fold n°{fold_id} = {round(mae_baseline, 2)}\")        \n",
    "    \n",
    "    \n",
    "    # 4.2 - LSTM Model\n",
    "    # =======================================================\n",
    "    \n",
    "    # Initializing the LSTM Model\n",
    "    model = init_model(X_train, y_train)\n",
    "    # Training\n",
    "    model, history = fit_model(model, verbose=0)\n",
    "    # Evaluation\n",
    "    res = model.evaluate(X_test, y_test, verbose = 0)\n",
    "    mae_lstm = res[1]\n",
    "    \n",
    "    list_of_mae_recurrent_model.append(mae_lstm)\n",
    "    \n",
    "    print(f\"MAE LSTM fold n°{fold_id} = {round(mae_lstm, 2)}\")\n",
    "    \n",
    "    # 4.3 - Comparison LSTM vs Baseline for the current fold\n",
    "    # =======================================================\n",
    "    print(f\"🏋🏽‍♂️ Improvement/Decrease vs. Baseline: {round((1 - (mae_lstm/mae_baseline))*100,2)} % \\n\")      "
   ]
  },
  {
   "cell_type": "code",
   "execution_count": null,
   "id": "fcc6d883",
   "metadata": {
    "ExecuteTime": {
     "end_time": "2022-11-30T13:17:09.665867Z",
     "start_time": "2022-11-30T13:17:09.125956Z"
    }
   },
   "outputs": [],
   "source": [
    "cv_mae_baseline = np.mean(list_of_mae_baseline_model)\n",
    "cv_mae_lstm = np.mean(list_of_mae_recurrent_model)\n",
    "\n",
    "print(\"-\"*50)\n",
    "print(f\"Average MAE baseline = {round(cv_mae_baseline, 2)}\")    \n",
    "print(f\"Average LSTM baseline = {round(cv_mae_lstm, 2)}\")    \n",
    "print(f\"🏋🏽‍♂️ Improvement/Decrease vs. Baseline: {round((1 - (cv_mae_lstm/cv_mae_baseline))*100,2)} % \\n\")"
   ]
  },
  {
   "cell_type": "markdown",
   "id": "65e7453e",
   "metadata": {},
   "source": [
    "🏁 Congratulations for finishing this day about RNN!\n",
    "\n",
    "🃏 Don't forget your flashcards!"
   ]
  },
  {
   "cell_type": "markdown",
   "id": "27579f09",
   "metadata": {},
   "source": [
    "## 🏁 Final words"
   ]
  },
  {
   "cell_type": "markdown",
   "id": "1bb240f9",
   "metadata": {},
   "source": [
    "* 🤯 Predicting the temperature for 7 days every 3 hours, after waiting for 7 days, is not an easy task at all.\n",
    "    - The LSTM model did not perform well on some folds\n",
    "    - 5 degrees is a high MAE, one should take into account how \"volatile\" the temperature has been over the last two decades...\n",
    "\n",
    "<hr>\n",
    "\n",
    "\n",
    "* 🕵🏻 We may need weather data from other cities.\n",
    "* 🤔 If you plan to use Recurrent Neural Networks during your project, ask your Batch Mananger and the most experienced teachers and TAs if about the quality of your data and the feasibility of your projects.\n",
    "* 😇 Keep the morale high, RNNs are complex networks but they are pretty useful for _Natural Language Processing_. Stay tuned!\n",
    "\n",
    "<hr>"
   ]
  },
  {
   "cell_type": "markdown",
   "id": "f74ba10b",
   "metadata": {},
   "source": [
    "#### Bonus: what is the main difficulty when trying to regress multiple targets in RNN ? "
   ]
  },
  {
   "cell_type": "markdown",
   "id": "3a6af16c",
   "metadata": {},
   "source": [
    "- *Optional question only for very advanced students!*\n",
    "- *For 99% of the students: read it later :) it's time to go home!*\n",
    "\n",
    "🕵🏻‍♂️ We could have also tried to predict to <b>predict multiple targets</b>... which would have complexified the problem! \n",
    "\n",
    "<hr>\n",
    "\n",
    "<details>\n",
    "        <summary><i>Why, you ask ?</i></summary>\n",
    "    \n",
    "Imagine that you want to predict `N_TARGETS = 3` for 7 days in the future `OUTPUT_LENGTH = 7 x 8  = 56 timesteps`\n",
    "    \n",
    "- 🌡 `T (degC)` = temperature in Celsius degrees\n",
    "- ♒️ `p (mbar)` = atmospheric air pressure in millibars\n",
    "- 💦 `rh (%)` = relative humidity expressed as a percent \n",
    "    \n",
    "👍 The predictive Dense Layer in your architecture will contain `3 x (7 x 8) = 168` neurons, that is totally doable. \n",
    "    \n",
    "☢️ However when you compile the model, you will choose `metrics = ['mae']` and will evaluate your model on a metric which doesn't make any sense because you are mixing absolute errors of temperature, air pressure and relative humidity... ***You should create a custom metrics which computes one mae per target*** for example. It is possible  but for this recap, we will stay focused on one feature. Feel free to think about this question if your data science project needs it! </details>        "
   ]
  },
  {
   "cell_type": "code",
   "execution_count": null,
   "id": "f0a2de62",
   "metadata": {},
   "outputs": [],
   "source": []
  },
  {
   "cell_type": "code",
   "execution_count": null,
   "id": "e0294924",
   "metadata": {},
   "outputs": [],
   "source": []
  }
 ],
 "metadata": {
  "kernelspec": {
   "display_name": "Python 3 (ipykernel)",
   "language": "python",
   "name": "python3"
  },
  "language_info": {
   "codemirror_mode": {
    "name": "ipython",
    "version": 3
   },
   "file_extension": ".py",
   "mimetype": "text/x-python",
   "name": "python",
   "nbconvert_exporter": "python",
   "pygments_lexer": "ipython3",
   "version": "3.10.6"
  },
  "toc": {
   "base_numbering": 1,
   "nav_menu": {},
   "number_sections": true,
   "sideBar": true,
   "skip_h1_title": false,
   "title_cell": "Table of Contents",
   "title_sidebar": "Contents",
   "toc_cell": false,
   "toc_position": {},
   "toc_section_display": true,
   "toc_window_display": false
  }
 },
 "nbformat": 4,
 "nbformat_minor": 5
}
