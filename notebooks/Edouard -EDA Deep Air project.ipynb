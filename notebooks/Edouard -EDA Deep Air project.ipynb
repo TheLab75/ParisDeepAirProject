{
 "cells": [
  {
   "cell_type": "code",
   "execution_count": 5,
   "id": "20602fa9",
   "metadata": {},
   "outputs": [],
   "source": [
    "import requests\n"
   ]
  },
  {
   "cell_type": "code",
   "execution_count": 1,
   "id": "26d8081e",
   "metadata": {},
   "outputs": [
    {
     "ename": "SyntaxError",
     "evalue": "invalid syntax (973858251.py, line 1)",
     "output_type": "error",
     "traceback": [
      "\u001b[0;36m  Cell \u001b[0;32mIn [1], line 1\u001b[0;36m\u001b[0m\n\u001b[0;31m    https://api.weatherstack.com/current\u001b[0m\n\u001b[0m          ^\u001b[0m\n\u001b[0;31mSyntaxError\u001b[0m\u001b[0;31m:\u001b[0m invalid syntax\n"
     ]
    }
   ],
   "source": [
    "https://api.weatherstack.com/current\n",
    "    ? access_key = 324dc0e5df0113cbe9325ed65a310f49\n",
    "    \n",
    "    & query = Paris"
   ]
  },
  {
   "cell_type": "code",
   "execution_count": 16,
   "id": "a3f0cb2e",
   "metadata": {},
   "outputs": [
    {
     "data": {
      "text/plain": [
       "{'success': False,\n",
       " 'error': {'code': 105,\n",
       "  'type': 'https_access_restricted',\n",
       "  'info': 'Access Restricted - Your current Subscription Plan does not support HTTPS Encryption.'}}"
      ]
     },
     "execution_count": 16,
     "metadata": {},
     "output_type": "execute_result"
    }
   ],
   "source": [
    "url = \"https://api.weatherstack.com/current\"\n",
    "access_key = \"324dc0e5df0113cbe9325ed65a310f49\"\n",
    "params = { \"query\" : \"Paris,France\",\"access_key\":access_key}\n",
    "\n",
    "\n",
    "\n",
    "\n",
    "\n",
    "response = requests.get(url,params=params).json()\n",
    "\n",
    "\n",
    "response\n",
    "\n",
    "    \n",
    "    \n",
    "    \n",
    "    \n",
    "    "
   ]
  },
  {
   "cell_type": "code",
   "execution_count": 22,
   "id": "8592f4b1",
   "metadata": {},
   "outputs": [
    {
     "ename": "SyntaxError",
     "evalue": "invalid syntax (3862819868.py, line 6)",
     "output_type": "error",
     "traceback": [
      "\u001b[0;36m  Cell \u001b[0;32mIn [22], line 6\u001b[0;36m\u001b[0m\n\u001b[0;31m    & query = New York\u001b[0m\n\u001b[0m    ^\u001b[0m\n\u001b[0;31mSyntaxError\u001b[0m\u001b[0;31m:\u001b[0m invalid syntax\n"
     ]
    }
   ],
   "source": [
    "\"https://api.weatherstack.com/current\"\n",
    "\n",
    "\n",
    "? access_key = \"324dc0e5df0113cbe9325ed65a310f49\"\n",
    "\n",
    "& query = New York\n",
    "\n",
    "    \n",
    "    "
   ]
  },
  {
   "cell_type": "code",
   "execution_count": 24,
   "id": "0b2abd32",
   "metadata": {},
   "outputs": [
    {
     "data": {
      "text/plain": [
       "{'success': False,\n",
       " 'error': {'code': 105,\n",
       "  'type': 'https_access_restricted',\n",
       "  'info': 'Access Restricted - Your current Subscription Plan does not support HTTPS Encryption.'}}"
      ]
     },
     "execution_count": 24,
     "metadata": {},
     "output_type": "execute_result"
    }
   ],
   "source": [
    "# coding: utf-8\n",
    "import requests\n",
    "\n",
    "params = {\n",
    "  'access_key': '324dc0e5df0113cbe9325ed65a310f49',\n",
    "  'query': 'Paris'\n",
    "}\n",
    "\n",
    "api_result = requests.get('https://api.weatherstack.com/current', params)\n",
    "\n",
    "api_response = api_result.json()\n",
    "api_response\n",
    "\n",
    "\n",
    "#print(u'Current temperature in %s is %d℃' % (api_response['location']['name'], api_response['current']['temperature']))"
   ]
  },
  {
   "cell_type": "code",
   "execution_count": 32,
   "id": "57866fd8",
   "metadata": {},
   "outputs": [
    {
     "data": {
      "text/plain": [
       "{'location': {'name': 'Paris',\n",
       "  'region': 'Ile-de-France',\n",
       "  'country': 'France',\n",
       "  'lat': 48.87,\n",
       "  'lon': 2.33,\n",
       "  'tz_id': 'Europe/Paris',\n",
       "  'localtime_epoch': 1669634640,\n",
       "  'localtime': '2022-11-28 12:24'},\n",
       " 'current': {'last_updated_epoch': 1669634100,\n",
       "  'last_updated': '2022-11-28 12:15',\n",
       "  'temp_c': 11.0,\n",
       "  'temp_f': 51.8,\n",
       "  'is_day': 1,\n",
       "  'condition': {'text': 'Partly cloudy',\n",
       "   'icon': '//cdn.weatherapi.com/weather/64x64/day/116.png',\n",
       "   'code': 1003},\n",
       "  'wind_mph': 8.1,\n",
       "  'wind_kph': 13.0,\n",
       "  'wind_degree': 240,\n",
       "  'wind_dir': 'WSW',\n",
       "  'pressure_mb': 1012.0,\n",
       "  'pressure_in': 29.88,\n",
       "  'precip_mm': 0.0,\n",
       "  'precip_in': 0.0,\n",
       "  'humidity': 82,\n",
       "  'cloud': 75,\n",
       "  'feelslike_c': 9.9,\n",
       "  'feelslike_f': 49.9,\n",
       "  'vis_km': 10.0,\n",
       "  'vis_miles': 6.0,\n",
       "  'uv': 3.0,\n",
       "  'gust_mph': 8.1,\n",
       "  'gust_kph': 13.0}}"
      ]
     },
     "execution_count": 32,
     "metadata": {},
     "output_type": "execute_result"
    }
   ],
   "source": [
    "url = \"http://api.weatherapi.com/v1/current.json\"\n",
    "\n",
    "params = {\"key\":\"17f17ca842124edc982111044222811\",\"q\":\"Paris\",\"dt\":\"2018-03-03\"}\n",
    "response = requests.get(url,params=params).json()\n",
    "\n",
    "\n",
    "response\n",
    "\n",
    "\n",
    "\n"
   ]
  },
  {
   "cell_type": "code",
   "execution_count": 34,
   "id": "ad66f99d",
   "metadata": {},
   "outputs": [],
   "source": [
    "import pandas as pd\n",
    "\n"
   ]
  },
  {
   "cell_type": "code",
   "execution_count": 36,
   "id": "fcbf1f5d",
   "metadata": {},
   "outputs": [],
   "source": [
    "df = pd.read_csv(\"/Users/Edouard_1/Deep Air project/75008_T_Champs_Elysees.csv\")\n",
    "df = df.drop(columns=\"Unnamed: 0\")\n",
    "\n"
   ]
  },
  {
   "cell_type": "code",
   "execution_count": 44,
   "id": "3a45b8c9",
   "metadata": {},
   "outputs": [
    {
     "data": {
      "text/plain": [
       "ELYS:PM10       17.211375\n",
       "ELYS:NO2         5.864460\n",
       "ELYS:NO          5.864460\n",
       "ELYS:NOX         5.840879\n",
       "index            0.000000\n",
       "Station_name     0.000000\n",
       "Station_type     0.000000\n",
       "dtype: float64"
      ]
     },
     "execution_count": 44,
     "metadata": {},
     "output_type": "execute_result"
    }
   ],
   "source": [
    "total = df.isnull().sum().sort_values(ascending = False)\n",
    "percent = total / len(df) * 100\n",
    "percent\n",
    "\n",
    "\n",
    "\n",
    "\n",
    "\n",
    "\n",
    "\n"
   ]
  },
  {
   "cell_type": "code",
   "execution_count": 47,
   "id": "83435425",
   "metadata": {},
   "outputs": [
    {
     "data": {
      "text/html": [
       "<div>\n",
       "<style scoped>\n",
       "    .dataframe tbody tr th:only-of-type {\n",
       "        vertical-align: middle;\n",
       "    }\n",
       "\n",
       "    .dataframe tbody tr th {\n",
       "        vertical-align: top;\n",
       "    }\n",
       "\n",
       "    .dataframe thead th {\n",
       "        text-align: right;\n",
       "    }\n",
       "</style>\n",
       "<table border=\"1\" class=\"dataframe\">\n",
       "  <thead>\n",
       "    <tr style=\"text-align: right;\">\n",
       "      <th></th>\n",
       "      <th>index</th>\n",
       "      <th>ELYS:PM10</th>\n",
       "      <th>ELYS:NO2</th>\n",
       "      <th>ELYS:NO</th>\n",
       "      <th>ELYS:NOX</th>\n",
       "      <th>Station_name</th>\n",
       "      <th>Station_type</th>\n",
       "    </tr>\n",
       "  </thead>\n",
       "  <tbody>\n",
       "    <tr>\n",
       "      <th>0</th>\n",
       "      <td>2018/01/01 01:00:00+00</td>\n",
       "      <td>21.3</td>\n",
       "      <td>20.0</td>\n",
       "      <td>3.0</td>\n",
       "      <td>23.9</td>\n",
       "      <td>75008 - Champs Elysees</td>\n",
       "      <td>Traffic</td>\n",
       "    </tr>\n",
       "    <tr>\n",
       "      <th>1</th>\n",
       "      <td>2018/01/01 02:00:00+00</td>\n",
       "      <td>30.1</td>\n",
       "      <td>52.0</td>\n",
       "      <td>82.0</td>\n",
       "      <td>176.9</td>\n",
       "      <td>75008 - Champs Elysees</td>\n",
       "      <td>Traffic</td>\n",
       "    </tr>\n",
       "    <tr>\n",
       "      <th>2</th>\n",
       "      <td>2018/01/01 03:00:00+00</td>\n",
       "      <td>29.4</td>\n",
       "      <td>31.0</td>\n",
       "      <td>23.0</td>\n",
       "      <td>66.0</td>\n",
       "      <td>75008 - Champs Elysees</td>\n",
       "      <td>Traffic</td>\n",
       "    </tr>\n",
       "    <tr>\n",
       "      <th>3</th>\n",
       "      <td>2018/01/01 04:00:00+00</td>\n",
       "      <td>24.6</td>\n",
       "      <td>34.0</td>\n",
       "      <td>21.0</td>\n",
       "      <td>66.0</td>\n",
       "      <td>75008 - Champs Elysees</td>\n",
       "      <td>Traffic</td>\n",
       "    </tr>\n",
       "    <tr>\n",
       "      <th>4</th>\n",
       "      <td>2018/01/01 05:00:00+00</td>\n",
       "      <td>22.1</td>\n",
       "      <td>22.0</td>\n",
       "      <td>13.0</td>\n",
       "      <td>41.6</td>\n",
       "      <td>75008 - Champs Elysees</td>\n",
       "      <td>Traffic</td>\n",
       "    </tr>\n",
       "    <tr>\n",
       "      <th>...</th>\n",
       "      <td>...</td>\n",
       "      <td>...</td>\n",
       "      <td>...</td>\n",
       "      <td>...</td>\n",
       "      <td>...</td>\n",
       "      <td>...</td>\n",
       "      <td>...</td>\n",
       "    </tr>\n",
       "    <tr>\n",
       "      <th>42403</th>\n",
       "      <td>2022/11/14 20:00:00+00</td>\n",
       "      <td>25.1</td>\n",
       "      <td>33.7</td>\n",
       "      <td>14.7</td>\n",
       "      <td>56.3</td>\n",
       "      <td>75008 - Champs Elysees</td>\n",
       "      <td>Traffic</td>\n",
       "    </tr>\n",
       "    <tr>\n",
       "      <th>42404</th>\n",
       "      <td>2022/11/14 21:00:00+00</td>\n",
       "      <td>NaN</td>\n",
       "      <td>25.4</td>\n",
       "      <td>9.8</td>\n",
       "      <td>40.4</td>\n",
       "      <td>75008 - Champs Elysees</td>\n",
       "      <td>Traffic</td>\n",
       "    </tr>\n",
       "    <tr>\n",
       "      <th>42405</th>\n",
       "      <td>2022/11/14 22:00:00+00</td>\n",
       "      <td>NaN</td>\n",
       "      <td>NaN</td>\n",
       "      <td>NaN</td>\n",
       "      <td>NaN</td>\n",
       "      <td>75008 - Champs Elysees</td>\n",
       "      <td>Traffic</td>\n",
       "    </tr>\n",
       "    <tr>\n",
       "      <th>42406</th>\n",
       "      <td>2022/11/14 23:00:00+00</td>\n",
       "      <td>NaN</td>\n",
       "      <td>NaN</td>\n",
       "      <td>NaN</td>\n",
       "      <td>NaN</td>\n",
       "      <td>75008 - Champs Elysees</td>\n",
       "      <td>Traffic</td>\n",
       "    </tr>\n",
       "    <tr>\n",
       "      <th>42407</th>\n",
       "      <td>2022/11/15 00:00:00+00</td>\n",
       "      <td>NaN</td>\n",
       "      <td>NaN</td>\n",
       "      <td>NaN</td>\n",
       "      <td>NaN</td>\n",
       "      <td>75008 - Champs Elysees</td>\n",
       "      <td>Traffic</td>\n",
       "    </tr>\n",
       "  </tbody>\n",
       "</table>\n",
       "<p>42408 rows × 7 columns</p>\n",
       "</div>"
      ],
      "text/plain": [
       "                        index  ELYS:PM10  ELYS:NO2  ELYS:NO  ELYS:NOX  \\\n",
       "0      2018/01/01 01:00:00+00       21.3      20.0      3.0      23.9   \n",
       "1      2018/01/01 02:00:00+00       30.1      52.0     82.0     176.9   \n",
       "2      2018/01/01 03:00:00+00       29.4      31.0     23.0      66.0   \n",
       "3      2018/01/01 04:00:00+00       24.6      34.0     21.0      66.0   \n",
       "4      2018/01/01 05:00:00+00       22.1      22.0     13.0      41.6   \n",
       "...                       ...        ...       ...      ...       ...   \n",
       "42403  2022/11/14 20:00:00+00       25.1      33.7     14.7      56.3   \n",
       "42404  2022/11/14 21:00:00+00        NaN      25.4      9.8      40.4   \n",
       "42405  2022/11/14 22:00:00+00        NaN       NaN      NaN       NaN   \n",
       "42406  2022/11/14 23:00:00+00        NaN       NaN      NaN       NaN   \n",
       "42407  2022/11/15 00:00:00+00        NaN       NaN      NaN       NaN   \n",
       "\n",
       "                 Station_name Station_type  \n",
       "0      75008 - Champs Elysees      Traffic  \n",
       "1      75008 - Champs Elysees      Traffic  \n",
       "2      75008 - Champs Elysees      Traffic  \n",
       "3      75008 - Champs Elysees      Traffic  \n",
       "4      75008 - Champs Elysees      Traffic  \n",
       "...                       ...          ...  \n",
       "42403  75008 - Champs Elysees      Traffic  \n",
       "42404  75008 - Champs Elysees      Traffic  \n",
       "42405  75008 - Champs Elysees      Traffic  \n",
       "42406  75008 - Champs Elysees      Traffic  \n",
       "42407  75008 - Champs Elysees      Traffic  \n",
       "\n",
       "[42408 rows x 7 columns]"
      ]
     },
     "execution_count": 47,
     "metadata": {},
     "output_type": "execute_result"
    }
   ],
   "source": [
    "df\n",
    "#On veut \n",
    "\n"
   ]
  },
  {
   "cell_type": "code",
   "execution_count": 46,
   "id": "af4ee1bc",
   "metadata": {},
   "outputs": [
    {
     "data": {
      "text/plain": [
       "<seaborn.axisgrid.FacetGrid at 0x14a870d60>"
      ]
     },
     "execution_count": 46,
     "metadata": {},
     "output_type": "execute_result"
    },
    {
     "data": {
      "image/png": "[encoded data removed]",
      "text/plain": [
       "<Figure size 2000x500 with 1 Axes>"
      ]
     },
     "metadata": {},
     "output_type": "display_data"
    }
   ],
   "source": [
    "import seaborn as sns\n",
    "sns.catplot(x = \"ELYS:PM10\", kind = \"count\",  data = df, height=5, aspect = 4)\n"
   ]
  },
  {
   "cell_type": "code",
   "execution_count": null,
   "id": "3dd77765",
   "metadata": {},
   "outputs": [],
   "source": [
    "#Nous on veut grouper par jour\n"
   ]
  },
  {
   "cell_type": "code",
   "execution_count": null,
   "id": "f65b7182",
   "metadata": {},
   "outputs": [],
   "source": []
  }
 ],
 "metadata": {
  "kernelspec": {
   "display_name": "Python 3 (ipykernel)",
   "language": "python",
   "name": "python3"
  },
  "language_info": {
   "codemirror_mode": {
    "name": "ipython",
    "version": 3
   },
   "file_extension": ".py",
   "mimetype": "text/x-python",
   "name": "python",
   "nbconvert_exporter": "python",
   "pygments_lexer": "ipython3",
   "version": "3.10.6"
  },
  "toc": {
   "base_numbering": 1,
   "nav_menu": {},
   "number_sections": true,
   "sideBar": true,
   "skip_h1_title": false,
   "title_cell": "Table of Contents",
   "title_sidebar": "Contents",
   "toc_cell": false,
   "toc_position": {},
   "toc_section_display": true,
   "toc_window_display": false
  }
 },
 "nbformat": 4,
 "nbformat_minor": 5
}
