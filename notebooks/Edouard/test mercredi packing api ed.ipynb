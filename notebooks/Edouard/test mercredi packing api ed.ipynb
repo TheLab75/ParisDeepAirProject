{
 "cells": [
  {
   "cell_type": "code",
   "execution_count": 1,
   "id": "01b25138",
   "metadata": {},
   "outputs": [
    {
     "name": "stderr",
     "output_type": "stream",
     "text": [
      "/Users/Edouard_1/.pyenv/versions/3.10.6/envs/PDPA-virt_env/lib/python3.10/site-packages/tqdm/auto.py:22: TqdmWarning: IProgress not found. Please update jupyter and ipywidgets. See https://ipywidgets.readthedocs.io/en/stable/user_install.html\n",
      "  from .autonotebook import tqdm as notebook_tqdm\n"
     ]
    }
   ],
   "source": [
    "from workflow.registry import save_model, load_model\n",
    "\n",
    "%load_ext autoreload\n",
    "%autoreload 2\n",
    "    \n",
    "\n"
   ]
  },
  {
   "cell_type": "code",
   "execution_count": 37,
   "id": "6bd2bb54",
   "metadata": {},
   "outputs": [
    {
     "data": {
      "text/plain": [
       "5"
      ]
     },
     "execution_count": 37,
     "metadata": {},
     "output_type": "execute_result"
    }
   ],
   "source": [
    "test = load_model()\n",
    "len(test)\n",
    "\n",
    "\n",
    "\n",
    "\n",
    "\n",
    "\n",
    "\n",
    "\n",
    "\n",
    "\n",
    "\n",
    "\n",
    "\n",
    "\n",
    "\n",
    "\n",
    "\n",
    "\n",
    "\n",
    "\n"
   ]
  },
  {
   "cell_type": "code",
   "execution_count": 38,
   "id": "fcf60a73",
   "metadata": {},
   "outputs": [
    {
     "data": {
      "text/html": [
       "<div>\n",
       "<style scoped>\n",
       "    .dataframe tbody tr th:only-of-type {\n",
       "        vertical-align: middle;\n",
       "    }\n",
       "\n",
       "    .dataframe tbody tr th {\n",
       "        vertical-align: top;\n",
       "    }\n",
       "\n",
       "    .dataframe thead th {\n",
       "        text-align: right;\n",
       "    }\n",
       "</style>\n",
       "<table border=\"1\" class=\"dataframe\">\n",
       "  <thead>\n",
       "    <tr style=\"text-align: right;\">\n",
       "      <th></th>\n",
       "      <th>Date_time</th>\n",
       "      <th>actual</th>\n",
       "      <th>forecast</th>\n",
       "      <th>forecast_lower</th>\n",
       "      <th>forecast_upper</th>\n",
       "    </tr>\n",
       "  </thead>\n",
       "  <tbody>\n",
       "    <tr>\n",
       "      <th>0</th>\n",
       "      <td>2018-01-01</td>\n",
       "      <td>1.0</td>\n",
       "      <td>NaN</td>\n",
       "      <td>NaN</td>\n",
       "      <td>NaN</td>\n",
       "    </tr>\n",
       "    <tr>\n",
       "      <th>1</th>\n",
       "      <td>2018-01-02</td>\n",
       "      <td>1.0</td>\n",
       "      <td>0.999657</td>\n",
       "      <td>-0.261675</td>\n",
       "      <td>2.260990</td>\n",
       "    </tr>\n",
       "    <tr>\n",
       "      <th>2</th>\n",
       "      <td>2018-01-03</td>\n",
       "      <td>1.0</td>\n",
       "      <td>0.999604</td>\n",
       "      <td>-0.246527</td>\n",
       "      <td>2.245736</td>\n",
       "    </tr>\n",
       "    <tr>\n",
       "      <th>3</th>\n",
       "      <td>2018-01-04</td>\n",
       "      <td>1.0</td>\n",
       "      <td>0.999538</td>\n",
       "      <td>-0.228966</td>\n",
       "      <td>2.228043</td>\n",
       "    </tr>\n",
       "    <tr>\n",
       "      <th>4</th>\n",
       "      <td>2018-01-05</td>\n",
       "      <td>1.0</td>\n",
       "      <td>0.999483</td>\n",
       "      <td>-0.220238</td>\n",
       "      <td>2.219204</td>\n",
       "    </tr>\n",
       "    <tr>\n",
       "      <th>...</th>\n",
       "      <td>...</td>\n",
       "      <td>...</td>\n",
       "      <td>...</td>\n",
       "      <td>...</td>\n",
       "      <td>...</td>\n",
       "    </tr>\n",
       "    <tr>\n",
       "      <th>1795</th>\n",
       "      <td>2022-12-01</td>\n",
       "      <td>2.0</td>\n",
       "      <td>1.063892</td>\n",
       "      <td>-0.070841</td>\n",
       "      <td>2.198625</td>\n",
       "    </tr>\n",
       "    <tr>\n",
       "      <th>1796</th>\n",
       "      <td>2022-12-02</td>\n",
       "      <td>3.0</td>\n",
       "      <td>1.713465</td>\n",
       "      <td>0.578732</td>\n",
       "      <td>2.848198</td>\n",
       "    </tr>\n",
       "    <tr>\n",
       "      <th>1797</th>\n",
       "      <td>2022-12-03</td>\n",
       "      <td>1.0</td>\n",
       "      <td>2.322463</td>\n",
       "      <td>1.187730</td>\n",
       "      <td>3.457196</td>\n",
       "    </tr>\n",
       "    <tr>\n",
       "      <th>1798</th>\n",
       "      <td>2022-12-04</td>\n",
       "      <td>2.0</td>\n",
       "      <td>0.998894</td>\n",
       "      <td>-0.135839</td>\n",
       "      <td>2.133626</td>\n",
       "    </tr>\n",
       "    <tr>\n",
       "      <th>1799</th>\n",
       "      <td>2022-12-05</td>\n",
       "      <td>NaN</td>\n",
       "      <td>1.695869</td>\n",
       "      <td>0.561136</td>\n",
       "      <td>2.830601</td>\n",
       "    </tr>\n",
       "  </tbody>\n",
       "</table>\n",
       "<p>1800 rows × 5 columns</p>\n",
       "</div>"
      ],
      "text/plain": [
       "      Date_time  actual  forecast  forecast_lower  forecast_upper\n",
       "0    2018-01-01     1.0       NaN             NaN             NaN\n",
       "1    2018-01-02     1.0  0.999657       -0.261675        2.260990\n",
       "2    2018-01-03     1.0  0.999604       -0.246527        2.245736\n",
       "3    2018-01-04     1.0  0.999538       -0.228966        2.228043\n",
       "4    2018-01-05     1.0  0.999483       -0.220238        2.219204\n",
       "...         ...     ...       ...             ...             ...\n",
       "1795 2022-12-01     2.0  1.063892       -0.070841        2.198625\n",
       "1796 2022-12-02     3.0  1.713465        0.578732        2.848198\n",
       "1797 2022-12-03     1.0  2.322463        1.187730        3.457196\n",
       "1798 2022-12-04     2.0  0.998894       -0.135839        2.133626\n",
       "1799 2022-12-05     NaN  1.695869        0.561136        2.830601\n",
       "\n",
       "[1800 rows x 5 columns]"
      ]
     },
     "execution_count": 38,
     "metadata": {},
     "output_type": "execute_result"
    }
   ],
   "source": [
    "test[1].forecast.df\n",
    "\n",
    "\n",
    "\n",
    "\n",
    "\n",
    "\n"
   ]
  },
  {
   "cell_type": "code",
   "execution_count": null,
   "id": "b92259da",
   "metadata": {},
   "outputs": [],
   "source": [
    "for cluster in cluster_list: \n",
    "    #on itére sur les modèles \n",
    "    \n",
    "    cluster : day1:,day2: \"\"/ "
   ]
  },
  {
   "cell_type": "code",
   "execution_count": null,
   "id": "758ce13b",
   "metadata": {},
   "outputs": [],
   "source": [
    "dico_cluster_forecast = {}\n",
    "    for cluster in cluster_list:\n",
    "        for element in list_prediction \n",
    "        dico_cluster_forecast[cluster]="
   ]
  },
  {
   "cell_type": "code",
   "execution_count": 59,
   "id": "edc17ec8",
   "metadata": {},
   "outputs": [
    {
     "name": "stdout",
     "output_type": "stream",
     "text": [
      "[0, 1, 2, 3, 4, 5, 6]\n",
      "[1, 1, 1, 2, 2, 1, 2]\n"
     ]
    }
   ],
   "source": [
    "from workflow.registry import predict\n",
    "\n",
    "\n",
    "edg = predict(test)[0]\n",
    "edg\n",
    "\n",
    "\n",
    "for i,e in edg.iteritems():\n",
    "\n",
    "    print (list(e))\n",
    "    \n",
    "    \n",
    "\n",
    "    \n",
    "    \n",
    "    \n",
    "    \n",
    "    \n",
    "    \n",
    "    \n",
    "\n",
    "\n",
    "\n",
    "\n",
    "\n",
    "\n",
    "\n",
    "#for model in list_model:\n",
    "\n",
    "\n"
   ]
  },
  {
   "cell_type": "code",
   "execution_count": 61,
   "id": "92893dd5",
   "metadata": {},
   "outputs": [
    {
     "name": "stdout",
     "output_type": "stream",
     "text": [
      "{'day 0': 1, 'day 1': 1, 'day 2': 1, 'day 3': 2, 'day 4': 2, 'day 5': 1, 'day 6': 2}\n"
     ]
    }
   ],
   "source": [
    "dico_t ={}\n",
    "\n",
    "for i in range(7):\n",
    "\n",
    "    dico_t[f\"day {i}\"]= edg.loc[i,\"forecast\"]\n",
    "    \n",
    "print(dico_t)\n",
    "\n"
   ]
  },
  {
   "cell_type": "code",
   "execution_count": 69,
   "id": "bd7fa046",
   "metadata": {},
   "outputs": [
    {
     "name": "stdout",
     "output_type": "stream",
     "text": [
      "{'Paris_est': {'day 1': 1, 'day 2': 1, 'day 3': 1, 'day 4': 2, 'day 5': 2, 'day 6': 1, 'day 7': 2}, 'Paris_south': {'day 1': 1, 'day 2': 1, 'day 3': 1, 'day 4': 2, 'day 5': 2, 'day 6': 1, 'day 7': 2}, 'Paris_north': {'day 1': 1, 'day 2': 1, 'day 3': 1, 'day 4': 2, 'day 5': 2, 'day 6': 1, 'day 7': 2}, 'Paris_west': {'day 1': 1, 'day 2': 1, 'day 3': 1, 'day 4': 2, 'day 5': 2, 'day 6': 1, 'day 7': 2}, 'Paris_center': {'day 1': 1, 'day 2': 1, 'day 3': 1, 'day 4': 2, 'day 5': 2, 'day 6': 1, 'day 7': 2}}\n"
     ]
    },
    {
     "data": {
      "text/plain": [
       "{'day 1': 1,\n",
       " 'day 2': 1,\n",
       " 'day 3': 1,\n",
       " 'day 4': 2,\n",
       " 'day 5': 2,\n",
       " 'day 6': 1,\n",
       " 'day 7': 2}"
      ]
     },
     "execution_count": 69,
     "metadata": {},
     "output_type": "execute_result"
    }
   ],
   "source": [
    "test = load_model()\n",
    "prediction = predict(test)\n",
    "\n",
    "prediction[\"Paris_est\"]\n",
    "\n",
    "\n",
    "\n",
    "\n",
    "\n",
    "\n",
    "\n"
   ]
  },
  {
   "cell_type": "code",
   "execution_count": 72,
   "id": "dc4e2980",
   "metadata": {},
   "outputs": [
    {
     "data": {
      "text/plain": [
       "'/Users/Edouard_1/code/TheLab75/ParisDeepAirProject'"
      ]
     },
     "execution_count": 72,
     "metadata": {},
     "output_type": "execute_result"
    }
   ],
   "source": [
    "import os\n",
    "\n",
    "LOCAL_DATA_PATH = os.path.join(os.path.expanduser('~'), \"code\",\"TheLab75\",\"ParisDeepAirProject\")\n",
    "LOCAL_DATA_PATH\n",
    "\n",
    "\n",
    "\n",
    "\n",
    "\n",
    "                               "
   ]
  }
 ],
 "metadata": {
  "kernelspec": {
   "display_name": "Python 3 (ipykernel)",
   "language": "python",
   "name": "python3"
  },
  "language_info": {
   "codemirror_mode": {
    "name": "ipython",
    "version": 3
   },
   "file_extension": ".py",
   "mimetype": "text/x-python",
   "name": "python",
   "nbconvert_exporter": "python",
   "pygments_lexer": "ipython3",
   "version": "3.10.6"
  },
  "toc": {
   "base_numbering": 1,
   "nav_menu": {},
   "number_sections": true,
   "sideBar": true,
   "skip_h1_title": false,
   "title_cell": "Table of Contents",
   "title_sidebar": "Contents",
   "toc_cell": false,
   "toc_position": {},
   "toc_section_display": true,
   "toc_window_display": false
  }
 },
 "nbformat": 4,
 "nbformat_minor": 5
}
