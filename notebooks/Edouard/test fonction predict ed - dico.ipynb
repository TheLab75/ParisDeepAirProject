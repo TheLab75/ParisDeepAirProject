{
 "cells": [
  {
   "cell_type": "code",
   "execution_count": 11,
   "id": "1a8112f5",
   "metadata": {},
   "outputs": [
    {
     "name": "stdout",
     "output_type": "stream",
     "text": [
      "The autoreload extension is already loaded. To reload it, use:\n",
      "  %reload_ext autoreload\n"
     ]
    }
   ],
   "source": [
    "%load_ext autoreload\n",
    "%autoreload 2\n",
    "\n",
    "\n"
   ]
  },
  {
   "cell_type": "code",
   "execution_count": 63,
   "id": "098494a7",
   "metadata": {},
   "outputs": [
    {
     "data": {
      "text/plain": [
       "{'day1': 2, 'day2': 1, 'day3': 1, 'day4': 1, 'day5': 1, 'day6': 1, 'day7': 1}"
      ]
     },
     "execution_count": 63,
     "metadata": {},
     "output_type": "execute_result"
    }
   ],
   "source": [
    "from workflow.registry import load_model,predict\n",
    "\n",
    "list_prediction = predict(load_model())"
   ]
  },
  {
   "cell_type": "code",
   "execution_count": null,
   "id": "b679d071",
   "metadata": {},
   "outputs": [],
   "source": []
  },
  {
   "cell_type": "code",
   "execution_count": 65,
   "id": "db9220ae",
   "metadata": {},
   "outputs": [
    {
     "data": {
      "text/plain": [
       "{'Paris_east': {'day1': 2,\n",
       "  'day2': 1,\n",
       "  'day3': 1,\n",
       "  'day4': 1,\n",
       "  'day5': 1,\n",
       "  'day6': 1,\n",
       "  'day7': 1},\n",
       " 'Paris_south': {'day1': 1,\n",
       "  'day2': 1,\n",
       "  'day3': 1,\n",
       "  'day4': 1,\n",
       "  'day5': 1,\n",
       "  'day6': 1,\n",
       "  'day7': 1},\n",
       " 'Paris_north': {'day1': 2,\n",
       "  'day2': 1,\n",
       "  'day3': 1,\n",
       "  'day4': 1,\n",
       "  'day5': 1,\n",
       "  'day6': 1,\n",
       "  'day7': 1},\n",
       " 'Paris_west': {'day1': 1,\n",
       "  'day2': 1,\n",
       "  'day3': 1,\n",
       "  'day4': 1,\n",
       "  'day5': 1,\n",
       "  'day6': 1,\n",
       "  'day7': 1},\n",
       " 'Paris_center': {'day1': 1,\n",
       "  'day2': 1,\n",
       "  'day3': 1,\n",
       "  'day4': 1,\n",
       "  'day5': 1,\n",
       "  'day6': 1,\n",
       "  'day7': 1}}"
      ]
     },
     "execution_count": 65,
     "metadata": {},
     "output_type": "execute_result"
    }
   ],
   "source": [
    "cluster_list=['Paris_east','Paris_south','Paris_north','Paris_west','Paris_center']\n",
    "\n",
    "my_dict = {}\n",
    "for i, predict in enumerate(list_prediction):\n",
    "    my_dict[cluster_list[i]] = {f'day{i+1}': v for i, v in enumerate(predict['forecast'])}\n",
    "    \n",
    "my_dict"
   ]
  },
  {
   "cell_type": "code",
   "execution_count": 40,
   "id": "901475bd",
   "metadata": {},
   "outputs": [
    {
     "name": "stdout",
     "output_type": "stream",
     "text": [
      "{'Paris_east': {'day 1': 2, 'day 2': 1, 'day 3': 1, 'day 4': 1, 'day 5': 1, 'day 6': 1, 'day 7': 1}}\n",
      "{'Paris_east': {'day 1': 1, 'day 2': 1, 'day 3': 1, 'day 4': 1, 'day 5': 1, 'day 6': 1, 'day 7': 1}, 'Paris_south': {'day 1': 1, 'day 2': 1, 'day 3': 1, 'day 4': 1, 'day 5': 1, 'day 6': 1, 'day 7': 1}}\n",
      "{'Paris_east': {'day 1': 2, 'day 2': 1, 'day 3': 1, 'day 4': 1, 'day 5': 1, 'day 6': 1, 'day 7': 1}, 'Paris_south': {'day 1': 2, 'day 2': 1, 'day 3': 1, 'day 4': 1, 'day 5': 1, 'day 6': 1, 'day 7': 1}, 'Paris_north': {'day 1': 2, 'day 2': 1, 'day 3': 1, 'day 4': 1, 'day 5': 1, 'day 6': 1, 'day 7': 1}}\n",
      "{'Paris_east': {'day 1': 1, 'day 2': 1, 'day 3': 1, 'day 4': 1, 'day 5': 1, 'day 6': 1, 'day 7': 1}, 'Paris_south': {'day 1': 1, 'day 2': 1, 'day 3': 1, 'day 4': 1, 'day 5': 1, 'day 6': 1, 'day 7': 1}, 'Paris_north': {'day 1': 1, 'day 2': 1, 'day 3': 1, 'day 4': 1, 'day 5': 1, 'day 6': 1, 'day 7': 1}, 'Paris_west': {'day 1': 1, 'day 2': 1, 'day 3': 1, 'day 4': 1, 'day 5': 1, 'day 6': 1, 'day 7': 1}}\n",
      "{'Paris_east': {'day 1': 1, 'day 2': 1, 'day 3': 1, 'day 4': 1, 'day 5': 1, 'day 6': 1, 'day 7': 1}, 'Paris_south': {'day 1': 1, 'day 2': 1, 'day 3': 1, 'day 4': 1, 'day 5': 1, 'day 6': 1, 'day 7': 1}, 'Paris_north': {'day 1': 1, 'day 2': 1, 'day 3': 1, 'day 4': 1, 'day 5': 1, 'day 6': 1, 'day 7': 1}, 'Paris_west': {'day 1': 1, 'day 2': 1, 'day 3': 1, 'day 4': 1, 'day 5': 1, 'day 6': 1, 'day 7': 1}, 'Paris_center': {'day 1': 1, 'day 2': 1, 'day 3': 1, 'day 4': 1, 'day 5': 1, 'day 6': 1, 'day 7': 1}}\n"
     ]
    }
   ],
   "source": [
    "\n",
    "\n",
    "dico_general ={}\n",
    "dico_specific ={}\n",
    "for element,name in zip(list_prediction,cluster_list):\n",
    "    #print(element)\n",
    "    \n",
    "    for i in range(7):\n",
    "        dico_specific[f\"day {i+1}\"]= int(element.loc[i,\"forecast\"])\n",
    "        \n",
    "        #print(dico_specific)\n",
    "        \n",
    "    dico_general[name]=dico_specific\n",
    "    print(dico_general)  \n",
    "#le dico general écrase toutes les valeurs \n",
    "  "
   ]
  },
  {
   "cell_type": "code",
   "execution_count": 42,
   "id": "6c77550d",
   "metadata": {},
   "outputs": [
    {
     "name": "stdout",
     "output_type": "stream",
     "text": [
      "{'Paris_east': {'day 1': 1, 'day 2': 1, 'day 3': 1, 'day 4': 1, 'day 5': 1, 'day 6': 1, 'day 7': 1}, 'Paris_south': {'day 1': 1, 'day 2': 1, 'day 3': 1, 'day 4': 1, 'day 5': 1, 'day 6': 1, 'day 7': 1}, 'Paris_north': {'day 1': 1, 'day 2': 1, 'day 3': 1, 'day 4': 1, 'day 5': 1, 'day 6': 1, 'day 7': 1}, 'Paris_west': {'day 1': 1, 'day 2': 1, 'day 3': 1, 'day 4': 1, 'day 5': 1, 'day 6': 1, 'day 7': 1}, 'Paris_center': {'day 1': 1, 'day 2': 1, 'day 3': 1, 'day 4': 1, 'day 5': 1, 'day 6': 1, 'day 7': 1}}\n"
     ]
    }
   ],
   "source": [
    "dico_general ={}\n",
    "dico_specific ={}\n",
    "for element,name in zip(list_prediction,cluster_list):\n",
    "    #print(element)\n",
    "    \n",
    "    for i in range(7):\n",
    "        dico_specific[f\"day {i+1}\"]= int(element.loc[i,\"forecast\"])\n",
    "        #print(dico_specific)\n",
    "        \n",
    "    dico_general[name]=dico_specific\n",
    "print(dico_general)\n",
    "    \n",
    "    "
   ]
  },
  {
   "cell_type": "code",
   "execution_count": null,
   "id": "7f3ccbe6",
   "metadata": {},
   "outputs": [],
   "source": []
  }
 ],
 "metadata": {
  "kernelspec": {
   "display_name": "Python 3 (ipykernel)",
   "language": "python",
   "name": "python3"
  },
  "language_info": {
   "codemirror_mode": {
    "name": "ipython",
    "version": 3
   },
   "file_extension": ".py",
   "mimetype": "text/x-python",
   "name": "python",
   "nbconvert_exporter": "python",
   "pygments_lexer": "ipython3",
   "version": "3.10.6"
  },
  "toc": {
   "base_numbering": 1,
   "nav_menu": {},
   "number_sections": true,
   "sideBar": true,
   "skip_h1_title": false,
   "title_cell": "Table of Contents",
   "title_sidebar": "Contents",
   "toc_cell": false,
   "toc_position": {},
   "toc_section_display": true,
   "toc_window_display": false
  }
 },
 "nbformat": 4,
 "nbformat_minor": 5
}
