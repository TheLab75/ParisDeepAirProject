{
 "cells": [
  {
   "cell_type": "code",
   "execution_count": 1,
   "metadata": {
    "id": "BgzR6k4i7Q7f"
   },
   "outputs": [],
   "source": [
    "import pandas as pd\n",
    "import numpy as np\n",
    "import plotly.express as px"
   ]
  },
  {
   "cell_type": "markdown",
   "metadata": {
    "id": "4bahlwJF96Ib"
   },
   "source": [
    "#PART II : Facebook's Prophet (Greykite)"
   ]
  },
  {
   "cell_type": "markdown",
   "metadata": {
    "id": "i8uFjq_t-GJM"
   },
   "source": [
    "##Import"
   ]
  },
  {
   "cell_type": "markdown",
   "metadata": {
    "id": "1albZBJXsoxB"
   },
   "source": [
    "Start by installing greykite library in Colab"
   ]
  },
  {
   "cell_type": "code",
   "execution_count": 2,
   "metadata": {
    "colab": {
     "base_uri": "https://localhost:8080/"
    },
    "id": "uA2shSVeWBAd",
    "outputId": "51908743-d9b3-41f3-b2eb-8b8103630ba7"
   },
   "outputs": [],
   "source": [
    "# # $CHA_BEGIN\n",
    "# !pip install greykite\n",
    "# !pip install prophet\n",
    "# # $CHA_END"
   ]
  },
  {
   "cell_type": "code",
   "execution_count": 3,
   "metadata": {
    "id": "_KfMM5W4WCQE"
   },
   "outputs": [
    {
     "name": "stderr",
     "output_type": "stream",
     "text": [
      "/Users/llm/.pyenv/versions/3.10.6/envs/PDPA-virt_env/lib/python3.10/site-packages/tqdm/auto.py:22: TqdmWarning: IProgress not found. Please update jupyter and ipywidgets. See https://ipywidgets.readthedocs.io/en/stable/user_install.html\n",
      "  from .autonotebook import tqdm as notebook_tqdm\n"
     ]
    }
   ],
   "source": [
    "import datetime\n",
    "import pandas as pd\n",
    "import plotly.express as px\n",
    "from greykite.framework.templates.autogen.forecast_config import ForecastConfig, MetadataParam, ModelComponentsParam\n",
    "from greykite.framework.benchmark.data_loader_ts import DataLoaderTS\n",
    "from greykite.framework.templates.forecaster import Forecaster"
   ]
  },
  {
   "cell_type": "markdown",
   "metadata": {
    "id": "w2NrZNFdvidm"
   },
   "source": [
    "## Import the data"
   ]
  },
  {
   "cell_type": "code",
   "execution_count": 4,
   "metadata": {
    "id": "sePOX48Vvklk"
   },
   "outputs": [],
   "source": [
    "df_preproc = pd.read_csv(\"../../data/pollution/5_Clusters/cluster1_Ouest.csv\")\n",
    "df_raw = pd.read_csv(\"../../data/pollution/5_Clusters/cluster1_Ouest.csv\")"
   ]
  },
  {
   "cell_type": "code",
   "execution_count": 5,
   "metadata": {
    "colab": {
     "base_uri": "https://localhost:8080/",
     "height": 424
    },
    "id": "SE6bjW7VvzTP",
    "outputId": "c8b41143-782a-4011-f2b7-52b034488362"
   },
   "outputs": [
    {
     "data": {
      "text/html": [
       "<div>\n",
       "<style scoped>\n",
       "    .dataframe tbody tr th:only-of-type {\n",
       "        vertical-align: middle;\n",
       "    }\n",
       "\n",
       "    .dataframe tbody tr th {\n",
       "        vertical-align: top;\n",
       "    }\n",
       "\n",
       "    .dataframe thead th {\n",
       "        text-align: right;\n",
       "    }\n",
       "</style>\n",
       "<table border=\"1\" class=\"dataframe\">\n",
       "  <thead>\n",
       "    <tr style=\"text-align: right;\">\n",
       "      <th></th>\n",
       "      <th>Date_time</th>\n",
       "      <th>PM25</th>\n",
       "      <th>PM10</th>\n",
       "      <th>NO2</th>\n",
       "      <th>O3</th>\n",
       "      <th>Pollution_peak</th>\n",
       "      <th>ATMO</th>\n",
       "      <th>sin_Month</th>\n",
       "      <th>cos_Month</th>\n",
       "      <th>sin_day</th>\n",
       "      <th>cos_day</th>\n",
       "      <th>confinement</th>\n",
       "    </tr>\n",
       "  </thead>\n",
       "  <tbody>\n",
       "    <tr>\n",
       "      <th>0</th>\n",
       "      <td>2018-01-01</td>\n",
       "      <td>12.90</td>\n",
       "      <td>8.74</td>\n",
       "      <td>14.33</td>\n",
       "      <td>78.50</td>\n",
       "      <td>0</td>\n",
       "      <td>0</td>\n",
       "      <td>0.000000</td>\n",
       "      <td>1.000000</td>\n",
       "      <td>-0.781831</td>\n",
       "      <td>0.623490</td>\n",
       "      <td>0</td>\n",
       "    </tr>\n",
       "    <tr>\n",
       "      <th>1</th>\n",
       "      <td>2018-01-02</td>\n",
       "      <td>12.90</td>\n",
       "      <td>13.56</td>\n",
       "      <td>34.67</td>\n",
       "      <td>71.00</td>\n",
       "      <td>0</td>\n",
       "      <td>0</td>\n",
       "      <td>0.000000</td>\n",
       "      <td>1.000000</td>\n",
       "      <td>0.000000</td>\n",
       "      <td>1.000000</td>\n",
       "      <td>0</td>\n",
       "    </tr>\n",
       "    <tr>\n",
       "      <th>2</th>\n",
       "      <td>2018-01-03</td>\n",
       "      <td>12.90</td>\n",
       "      <td>12.80</td>\n",
       "      <td>24.25</td>\n",
       "      <td>80.50</td>\n",
       "      <td>0</td>\n",
       "      <td>0</td>\n",
       "      <td>0.000000</td>\n",
       "      <td>1.000000</td>\n",
       "      <td>0.781831</td>\n",
       "      <td>0.623490</td>\n",
       "      <td>0</td>\n",
       "    </tr>\n",
       "    <tr>\n",
       "      <th>3</th>\n",
       "      <td>2018-01-04</td>\n",
       "      <td>12.90</td>\n",
       "      <td>9.09</td>\n",
       "      <td>25.25</td>\n",
       "      <td>69.00</td>\n",
       "      <td>0</td>\n",
       "      <td>0</td>\n",
       "      <td>0.000000</td>\n",
       "      <td>1.000000</td>\n",
       "      <td>0.974928</td>\n",
       "      <td>-0.222521</td>\n",
       "      <td>0</td>\n",
       "    </tr>\n",
       "    <tr>\n",
       "      <th>4</th>\n",
       "      <td>2018-01-05</td>\n",
       "      <td>12.79</td>\n",
       "      <td>15.81</td>\n",
       "      <td>46.75</td>\n",
       "      <td>79.50</td>\n",
       "      <td>0</td>\n",
       "      <td>0</td>\n",
       "      <td>0.000000</td>\n",
       "      <td>1.000000</td>\n",
       "      <td>0.433884</td>\n",
       "      <td>-0.900969</td>\n",
       "      <td>0</td>\n",
       "    </tr>\n",
       "    <tr>\n",
       "      <th>...</th>\n",
       "      <td>...</td>\n",
       "      <td>...</td>\n",
       "      <td>...</td>\n",
       "      <td>...</td>\n",
       "      <td>...</td>\n",
       "      <td>...</td>\n",
       "      <td>...</td>\n",
       "      <td>...</td>\n",
       "      <td>...</td>\n",
       "      <td>...</td>\n",
       "      <td>...</td>\n",
       "      <td>...</td>\n",
       "    </tr>\n",
       "    <tr>\n",
       "      <th>1794</th>\n",
       "      <td>2022-11-30</td>\n",
       "      <td>17.67</td>\n",
       "      <td>31.65</td>\n",
       "      <td>46.58</td>\n",
       "      <td>42.15</td>\n",
       "      <td>0</td>\n",
       "      <td>0</td>\n",
       "      <td>-0.866025</td>\n",
       "      <td>0.500000</td>\n",
       "      <td>0.781831</td>\n",
       "      <td>0.623490</td>\n",
       "      <td>0</td>\n",
       "    </tr>\n",
       "    <tr>\n",
       "      <th>1795</th>\n",
       "      <td>2022-12-01</td>\n",
       "      <td>22.85</td>\n",
       "      <td>32.04</td>\n",
       "      <td>38.62</td>\n",
       "      <td>25.10</td>\n",
       "      <td>0</td>\n",
       "      <td>1</td>\n",
       "      <td>-0.500000</td>\n",
       "      <td>0.866025</td>\n",
       "      <td>0.974928</td>\n",
       "      <td>-0.222521</td>\n",
       "      <td>0</td>\n",
       "    </tr>\n",
       "    <tr>\n",
       "      <th>1796</th>\n",
       "      <td>2022-12-02</td>\n",
       "      <td>28.70</td>\n",
       "      <td>35.24</td>\n",
       "      <td>39.72</td>\n",
       "      <td>24.95</td>\n",
       "      <td>0</td>\n",
       "      <td>2</td>\n",
       "      <td>-0.500000</td>\n",
       "      <td>0.866025</td>\n",
       "      <td>0.433884</td>\n",
       "      <td>-0.900969</td>\n",
       "      <td>0</td>\n",
       "    </tr>\n",
       "    <tr>\n",
       "      <th>1797</th>\n",
       "      <td>2022-12-03</td>\n",
       "      <td>19.83</td>\n",
       "      <td>23.61</td>\n",
       "      <td>32.00</td>\n",
       "      <td>13.55</td>\n",
       "      <td>0</td>\n",
       "      <td>0</td>\n",
       "      <td>-0.500000</td>\n",
       "      <td>0.866025</td>\n",
       "      <td>-0.433884</td>\n",
       "      <td>-0.900969</td>\n",
       "      <td>0</td>\n",
       "    </tr>\n",
       "    <tr>\n",
       "      <th>1798</th>\n",
       "      <td>2022-12-04</td>\n",
       "      <td>24.10</td>\n",
       "      <td>31.37</td>\n",
       "      <td>34.75</td>\n",
       "      <td>14.90</td>\n",
       "      <td>0</td>\n",
       "      <td>1</td>\n",
       "      <td>-0.500000</td>\n",
       "      <td>0.866025</td>\n",
       "      <td>-0.974928</td>\n",
       "      <td>-0.222521</td>\n",
       "      <td>0</td>\n",
       "    </tr>\n",
       "  </tbody>\n",
       "</table>\n",
       "<p>1799 rows × 12 columns</p>\n",
       "</div>"
      ],
      "text/plain": [
       "       Date_time   PM25   PM10    NO2     O3  Pollution_peak  ATMO  sin_Month  \\\n",
       "0     2018-01-01  12.90   8.74  14.33  78.50               0     0   0.000000   \n",
       "1     2018-01-02  12.90  13.56  34.67  71.00               0     0   0.000000   \n",
       "2     2018-01-03  12.90  12.80  24.25  80.50               0     0   0.000000   \n",
       "3     2018-01-04  12.90   9.09  25.25  69.00               0     0   0.000000   \n",
       "4     2018-01-05  12.79  15.81  46.75  79.50               0     0   0.000000   \n",
       "...          ...    ...    ...    ...    ...             ...   ...        ...   \n",
       "1794  2022-11-30  17.67  31.65  46.58  42.15               0     0  -0.866025   \n",
       "1795  2022-12-01  22.85  32.04  38.62  25.10               0     1  -0.500000   \n",
       "1796  2022-12-02  28.70  35.24  39.72  24.95               0     2  -0.500000   \n",
       "1797  2022-12-03  19.83  23.61  32.00  13.55               0     0  -0.500000   \n",
       "1798  2022-12-04  24.10  31.37  34.75  14.90               0     1  -0.500000   \n",
       "\n",
       "      cos_Month   sin_day   cos_day  confinement  \n",
       "0      1.000000 -0.781831  0.623490            0  \n",
       "1      1.000000  0.000000  1.000000            0  \n",
       "2      1.000000  0.781831  0.623490            0  \n",
       "3      1.000000  0.974928 -0.222521            0  \n",
       "4      1.000000  0.433884 -0.900969            0  \n",
       "...         ...       ...       ...          ...  \n",
       "1794   0.500000  0.781831  0.623490            0  \n",
       "1795   0.866025  0.974928 -0.222521            0  \n",
       "1796   0.866025  0.433884 -0.900969            0  \n",
       "1797   0.866025 -0.433884 -0.900969            0  \n",
       "1798   0.866025 -0.974928 -0.222521            0  \n",
       "\n",
       "[1799 rows x 12 columns]"
      ]
     },
     "execution_count": 5,
     "metadata": {},
     "output_type": "execute_result"
    }
   ],
   "source": [
    "df_preproc"
   ]
  },
  {
   "cell_type": "code",
   "execution_count": 6,
   "metadata": {
    "colab": {
     "base_uri": "https://localhost:8080/",
     "height": 424
    },
    "id": "PsTHcrLqv0q_",
    "outputId": "b8a64db7-1327-419e-cef8-87e6379fb52b"
   },
   "outputs": [
    {
     "data": {
      "text/html": [
       "<div>\n",
       "<style scoped>\n",
       "    .dataframe tbody tr th:only-of-type {\n",
       "        vertical-align: middle;\n",
       "    }\n",
       "\n",
       "    .dataframe tbody tr th {\n",
       "        vertical-align: top;\n",
       "    }\n",
       "\n",
       "    .dataframe thead th {\n",
       "        text-align: right;\n",
       "    }\n",
       "</style>\n",
       "<table border=\"1\" class=\"dataframe\">\n",
       "  <thead>\n",
       "    <tr style=\"text-align: right;\">\n",
       "      <th></th>\n",
       "      <th>Date_time</th>\n",
       "      <th>PM25</th>\n",
       "      <th>PM10</th>\n",
       "      <th>NO2</th>\n",
       "      <th>O3</th>\n",
       "      <th>Pollution_peak</th>\n",
       "      <th>ATMO</th>\n",
       "      <th>sin_Month</th>\n",
       "      <th>cos_Month</th>\n",
       "      <th>sin_day</th>\n",
       "      <th>cos_day</th>\n",
       "      <th>confinement</th>\n",
       "    </tr>\n",
       "  </thead>\n",
       "  <tbody>\n",
       "    <tr>\n",
       "      <th>0</th>\n",
       "      <td>2018-01-01</td>\n",
       "      <td>12.90</td>\n",
       "      <td>8.74</td>\n",
       "      <td>14.33</td>\n",
       "      <td>78.50</td>\n",
       "      <td>0</td>\n",
       "      <td>0</td>\n",
       "      <td>0.000000</td>\n",
       "      <td>1.000000</td>\n",
       "      <td>-0.781831</td>\n",
       "      <td>0.623490</td>\n",
       "      <td>0</td>\n",
       "    </tr>\n",
       "    <tr>\n",
       "      <th>1</th>\n",
       "      <td>2018-01-02</td>\n",
       "      <td>12.90</td>\n",
       "      <td>13.56</td>\n",
       "      <td>34.67</td>\n",
       "      <td>71.00</td>\n",
       "      <td>0</td>\n",
       "      <td>0</td>\n",
       "      <td>0.000000</td>\n",
       "      <td>1.000000</td>\n",
       "      <td>0.000000</td>\n",
       "      <td>1.000000</td>\n",
       "      <td>0</td>\n",
       "    </tr>\n",
       "    <tr>\n",
       "      <th>2</th>\n",
       "      <td>2018-01-03</td>\n",
       "      <td>12.90</td>\n",
       "      <td>12.80</td>\n",
       "      <td>24.25</td>\n",
       "      <td>80.50</td>\n",
       "      <td>0</td>\n",
       "      <td>0</td>\n",
       "      <td>0.000000</td>\n",
       "      <td>1.000000</td>\n",
       "      <td>0.781831</td>\n",
       "      <td>0.623490</td>\n",
       "      <td>0</td>\n",
       "    </tr>\n",
       "    <tr>\n",
       "      <th>3</th>\n",
       "      <td>2018-01-04</td>\n",
       "      <td>12.90</td>\n",
       "      <td>9.09</td>\n",
       "      <td>25.25</td>\n",
       "      <td>69.00</td>\n",
       "      <td>0</td>\n",
       "      <td>0</td>\n",
       "      <td>0.000000</td>\n",
       "      <td>1.000000</td>\n",
       "      <td>0.974928</td>\n",
       "      <td>-0.222521</td>\n",
       "      <td>0</td>\n",
       "    </tr>\n",
       "    <tr>\n",
       "      <th>4</th>\n",
       "      <td>2018-01-05</td>\n",
       "      <td>12.79</td>\n",
       "      <td>15.81</td>\n",
       "      <td>46.75</td>\n",
       "      <td>79.50</td>\n",
       "      <td>0</td>\n",
       "      <td>0</td>\n",
       "      <td>0.000000</td>\n",
       "      <td>1.000000</td>\n",
       "      <td>0.433884</td>\n",
       "      <td>-0.900969</td>\n",
       "      <td>0</td>\n",
       "    </tr>\n",
       "    <tr>\n",
       "      <th>...</th>\n",
       "      <td>...</td>\n",
       "      <td>...</td>\n",
       "      <td>...</td>\n",
       "      <td>...</td>\n",
       "      <td>...</td>\n",
       "      <td>...</td>\n",
       "      <td>...</td>\n",
       "      <td>...</td>\n",
       "      <td>...</td>\n",
       "      <td>...</td>\n",
       "      <td>...</td>\n",
       "      <td>...</td>\n",
       "    </tr>\n",
       "    <tr>\n",
       "      <th>1794</th>\n",
       "      <td>2022-11-30</td>\n",
       "      <td>17.67</td>\n",
       "      <td>31.65</td>\n",
       "      <td>46.58</td>\n",
       "      <td>42.15</td>\n",
       "      <td>0</td>\n",
       "      <td>0</td>\n",
       "      <td>-0.866025</td>\n",
       "      <td>0.500000</td>\n",
       "      <td>0.781831</td>\n",
       "      <td>0.623490</td>\n",
       "      <td>0</td>\n",
       "    </tr>\n",
       "    <tr>\n",
       "      <th>1795</th>\n",
       "      <td>2022-12-01</td>\n",
       "      <td>22.85</td>\n",
       "      <td>32.04</td>\n",
       "      <td>38.62</td>\n",
       "      <td>25.10</td>\n",
       "      <td>0</td>\n",
       "      <td>1</td>\n",
       "      <td>-0.500000</td>\n",
       "      <td>0.866025</td>\n",
       "      <td>0.974928</td>\n",
       "      <td>-0.222521</td>\n",
       "      <td>0</td>\n",
       "    </tr>\n",
       "    <tr>\n",
       "      <th>1796</th>\n",
       "      <td>2022-12-02</td>\n",
       "      <td>28.70</td>\n",
       "      <td>35.24</td>\n",
       "      <td>39.72</td>\n",
       "      <td>24.95</td>\n",
       "      <td>0</td>\n",
       "      <td>2</td>\n",
       "      <td>-0.500000</td>\n",
       "      <td>0.866025</td>\n",
       "      <td>0.433884</td>\n",
       "      <td>-0.900969</td>\n",
       "      <td>0</td>\n",
       "    </tr>\n",
       "    <tr>\n",
       "      <th>1797</th>\n",
       "      <td>2022-12-03</td>\n",
       "      <td>19.83</td>\n",
       "      <td>23.61</td>\n",
       "      <td>32.00</td>\n",
       "      <td>13.55</td>\n",
       "      <td>0</td>\n",
       "      <td>0</td>\n",
       "      <td>-0.500000</td>\n",
       "      <td>0.866025</td>\n",
       "      <td>-0.433884</td>\n",
       "      <td>-0.900969</td>\n",
       "      <td>0</td>\n",
       "    </tr>\n",
       "    <tr>\n",
       "      <th>1798</th>\n",
       "      <td>2022-12-04</td>\n",
       "      <td>24.10</td>\n",
       "      <td>31.37</td>\n",
       "      <td>34.75</td>\n",
       "      <td>14.90</td>\n",
       "      <td>0</td>\n",
       "      <td>1</td>\n",
       "      <td>-0.500000</td>\n",
       "      <td>0.866025</td>\n",
       "      <td>-0.974928</td>\n",
       "      <td>-0.222521</td>\n",
       "      <td>0</td>\n",
       "    </tr>\n",
       "  </tbody>\n",
       "</table>\n",
       "<p>1799 rows × 12 columns</p>\n",
       "</div>"
      ],
      "text/plain": [
       "       Date_time   PM25   PM10    NO2     O3  Pollution_peak  ATMO  sin_Month  \\\n",
       "0     2018-01-01  12.90   8.74  14.33  78.50               0     0   0.000000   \n",
       "1     2018-01-02  12.90  13.56  34.67  71.00               0     0   0.000000   \n",
       "2     2018-01-03  12.90  12.80  24.25  80.50               0     0   0.000000   \n",
       "3     2018-01-04  12.90   9.09  25.25  69.00               0     0   0.000000   \n",
       "4     2018-01-05  12.79  15.81  46.75  79.50               0     0   0.000000   \n",
       "...          ...    ...    ...    ...    ...             ...   ...        ...   \n",
       "1794  2022-11-30  17.67  31.65  46.58  42.15               0     0  -0.866025   \n",
       "1795  2022-12-01  22.85  32.04  38.62  25.10               0     1  -0.500000   \n",
       "1796  2022-12-02  28.70  35.24  39.72  24.95               0     2  -0.500000   \n",
       "1797  2022-12-03  19.83  23.61  32.00  13.55               0     0  -0.500000   \n",
       "1798  2022-12-04  24.10  31.37  34.75  14.90               0     1  -0.500000   \n",
       "\n",
       "      cos_Month   sin_day   cos_day  confinement  \n",
       "0      1.000000 -0.781831  0.623490            0  \n",
       "1      1.000000  0.000000  1.000000            0  \n",
       "2      1.000000  0.781831  0.623490            0  \n",
       "3      1.000000  0.974928 -0.222521            0  \n",
       "4      1.000000  0.433884 -0.900969            0  \n",
       "...         ...       ...       ...          ...  \n",
       "1794   0.500000  0.781831  0.623490            0  \n",
       "1795   0.866025  0.974928 -0.222521            0  \n",
       "1796   0.866025  0.433884 -0.900969            0  \n",
       "1797   0.866025 -0.433884 -0.900969            0  \n",
       "1798   0.866025 -0.974928 -0.222521            0  \n",
       "\n",
       "[1799 rows x 12 columns]"
      ]
     },
     "execution_count": 6,
     "metadata": {},
     "output_type": "execute_result"
    }
   ],
   "source": [
    "df_raw"
   ]
  },
  {
   "cell_type": "markdown",
   "metadata": {
    "id": "yx05-wxpylZy"
   },
   "source": [
    "## Make Forecast\n"
   ]
  },
  {
   "cell_type": "markdown",
   "metadata": {
    "id": "gk575KSGO2kH"
   },
   "source": [
    "### Train the model"
   ]
  },
  {
   "cell_type": "markdown",
   "metadata": {
    "id": "dTcFvw2OPRib"
   },
   "source": [
    "[`Check the documentation of greykite`](https://github.com/linkedin/greykite)"
   ]
  },
  {
   "cell_type": "markdown",
   "metadata": {
    "id": "pvpgvseYPbWS"
   },
   "source": [
    "We want to use the PROPHET model from Facebook to train your model and make a prediction for future turnover"
   ]
  },
  {
   "cell_type": "markdown",
   "metadata": {
    "id": "4ggRzHrYPqyb"
   },
   "source": [
    "Prophet is a procedure for forecasting time series data based on an additive model where non-linear trends are fit with yearly, weekly, and daily seasonality, plus holiday effects. It works best with time series that have strong seasonal effects and several seasons of historical data."
   ]
  },
  {
   "cell_type": "markdown",
   "metadata": {
    "id": "2cqzdPuJyz_S"
   },
   "source": [
    "Set the model_template as 'PROPHET' to use the model from facebook.  \n",
    " Forecast your model for a horizon of 1 month (in order to predict your last month of december)\n",
    "\n"
   ]
  },
  {
   "cell_type": "markdown",
   "metadata": {
    "id": "pxjPKS7Dmo6k"
   },
   "source": [
    "Define the `ForecastConfig` with :\n",
    "- `metadata_param` : tell the model what is your time and value columns in your dataset\n",
    "\n",
    "  -> define `time_col`, `value_col`\n",
    "\n",
    "  -> define `train_end_date` as datetime.datetime to tell the model when to stop the training.\n",
    "- `model_template` : select 'PROPHET' since is the model we want to use\n",
    "- `forecast_horizon` : how many steps ahead we want to predict\n",
    "- `coverage` : 95% of actuals should fall within the prediction intervals (`coverage=0.95`)"
   ]
  },
  {
   "cell_type": "markdown",
   "metadata": {
    "id": "O3mvudwqxSXW"
   },
   "source": [
    "We want to use the same trainning values than our first ARIMA model (values until 1st Dec 2021) and test our prediction with the same values (month of December 2021). \n",
    "\n",
    "This model provides nice vizualisations if we give it all the `df` dataset and fix the training values with `train_end_date` variable. \n",
    "\n",
    "Also, this model will use cross-validation methods to fit and test inside the training dataset to find the best parameters."
   ]
  },
  {
   "cell_type": "code",
   "execution_count": 7,
   "metadata": {
    "id": "Gz2wSNacyzZr"
   },
   "outputs": [],
   "source": [
    "# $CHA_BEGIN\n",
    "config = ForecastConfig(\n",
    "     metadata_param= MetadataParam(\n",
    "      time_col = \"Date_time\",\n",
    "      value_col = \"ATMO\",\n",
    "      train_end_date = datetime.datetime(2022, 11, 1)),\n",
    "     model_template=\"PROPHET\",\n",
    "     forecast_horizon=7,\n",
    "     coverage=0.95 )\n",
    "# $CHA_END"
   ]
  },
  {
   "cell_type": "code",
   "execution_count": 8,
   "metadata": {
    "colab": {
     "base_uri": "https://localhost:8080/"
    },
    "id": "5_ePabNamVJr",
    "outputId": "237b832b-e913-455f-dfe7-ee290a7ffe9f"
   },
   "outputs": [
    {
     "name": "stdout",
     "output_type": "stream",
     "text": [
      "Fitting 3 folds for each of 1 candidates, totalling 3 fits\n"
     ]
    },
    {
     "name": "stderr",
     "output_type": "stream",
     "text": [
      "20:21:34 - cmdstanpy - INFO - Chain [1] start processing\n",
      "20:21:44 - cmdstanpy - INFO - Chain [1] done processing\n",
      "/Users/llm/.pyenv/versions/3.10.6/envs/PDPA-virt_env/lib/python3.10/site-packages/greykite/common/evaluation.py:418: UserWarning: y_true contains 0. MAPE is undefined.\n",
      "  warnings.warn(\"y_true contains 0. MAPE is undefined.\")\n",
      "/Users/llm/.pyenv/versions/3.10.6/envs/PDPA-virt_env/lib/python3.10/site-packages/greykite/sklearn/sklearn_scorer.py:174: UserWarning: Score is undefined for this split, setting to `np.nan`.\n",
      "  warnings.warn(\"Score is undefined for this split, setting to `np.nan`.\")\n",
      "/Users/llm/.pyenv/versions/3.10.6/envs/PDPA-virt_env/lib/python3.10/site-packages/greykite/common/evaluation.py:435: UserWarning: y_true contains 0. MedAPE is undefined.\n",
      "  warnings.warn(\"y_true contains 0. MedAPE is undefined.\")\n",
      "/Users/llm/.pyenv/versions/3.10.6/envs/PDPA-virt_env/lib/python3.10/site-packages/greykite/sklearn/sklearn_scorer.py:174: UserWarning: Score is undefined for this split, setting to `np.nan`.\n",
      "  warnings.warn(\"Score is undefined for this split, setting to `np.nan`.\")\n",
      "/Users/llm/.pyenv/versions/3.10.6/envs/PDPA-virt_env/lib/python3.10/site-packages/greykite/common/evaluation.py:418: UserWarning: y_true contains 0. MAPE is undefined.\n",
      "  warnings.warn(\"y_true contains 0. MAPE is undefined.\")\n",
      "/Users/llm/.pyenv/versions/3.10.6/envs/PDPA-virt_env/lib/python3.10/site-packages/greykite/sklearn/sklearn_scorer.py:174: UserWarning: Score is undefined for this split, setting to `np.nan`.\n",
      "  warnings.warn(\"Score is undefined for this split, setting to `np.nan`.\")\n",
      "/Users/llm/.pyenv/versions/3.10.6/envs/PDPA-virt_env/lib/python3.10/site-packages/greykite/common/evaluation.py:435: UserWarning: y_true contains 0. MedAPE is undefined.\n",
      "  warnings.warn(\"y_true contains 0. MedAPE is undefined.\")\n",
      "/Users/llm/.pyenv/versions/3.10.6/envs/PDPA-virt_env/lib/python3.10/site-packages/greykite/sklearn/sklearn_scorer.py:174: UserWarning: Score is undefined for this split, setting to `np.nan`.\n",
      "  warnings.warn(\"Score is undefined for this split, setting to `np.nan`.\")\n",
      "20:21:47 - cmdstanpy - INFO - Chain [1] start processing\n",
      "20:21:48 - cmdstanpy - INFO - Chain [1] done processing\n",
      "/Users/llm/.pyenv/versions/3.10.6/envs/PDPA-virt_env/lib/python3.10/site-packages/greykite/common/evaluation.py:483: UserWarning: y_true is constant. Correlation is not defined.\n",
      "  warnings.warn(\"y_true is constant. Correlation is not defined.\")\n",
      "/Users/llm/.pyenv/versions/3.10.6/envs/PDPA-virt_env/lib/python3.10/site-packages/greykite/sklearn/sklearn_scorer.py:174: UserWarning: Score is undefined for this split, setting to `np.nan`.\n",
      "  warnings.warn(\"Score is undefined for this split, setting to `np.nan`.\")\n",
      "/Users/llm/.pyenv/versions/3.10.6/envs/PDPA-virt_env/lib/python3.10/site-packages/greykite/common/evaluation.py:418: UserWarning: y_true contains 0. MAPE is undefined.\n",
      "  warnings.warn(\"y_true contains 0. MAPE is undefined.\")\n",
      "/Users/llm/.pyenv/versions/3.10.6/envs/PDPA-virt_env/lib/python3.10/site-packages/greykite/sklearn/sklearn_scorer.py:174: UserWarning: Score is undefined for this split, setting to `np.nan`.\n",
      "  warnings.warn(\"Score is undefined for this split, setting to `np.nan`.\")\n",
      "/Users/llm/.pyenv/versions/3.10.6/envs/PDPA-virt_env/lib/python3.10/site-packages/greykite/common/evaluation.py:435: UserWarning: y_true contains 0. MedAPE is undefined.\n",
      "  warnings.warn(\"y_true contains 0. MedAPE is undefined.\")\n",
      "/Users/llm/.pyenv/versions/3.10.6/envs/PDPA-virt_env/lib/python3.10/site-packages/greykite/sklearn/sklearn_scorer.py:174: UserWarning: Score is undefined for this split, setting to `np.nan`.\n",
      "  warnings.warn(\"Score is undefined for this split, setting to `np.nan`.\")\n",
      "/Users/llm/.pyenv/versions/3.10.6/envs/PDPA-virt_env/lib/python3.10/site-packages/greykite/common/evaluation.py:418: UserWarning: y_true contains 0. MAPE is undefined.\n",
      "  warnings.warn(\"y_true contains 0. MAPE is undefined.\")\n",
      "/Users/llm/.pyenv/versions/3.10.6/envs/PDPA-virt_env/lib/python3.10/site-packages/greykite/sklearn/sklearn_scorer.py:174: UserWarning: Score is undefined for this split, setting to `np.nan`.\n",
      "  warnings.warn(\"Score is undefined for this split, setting to `np.nan`.\")\n",
      "/Users/llm/.pyenv/versions/3.10.6/envs/PDPA-virt_env/lib/python3.10/site-packages/greykite/common/evaluation.py:435: UserWarning: y_true contains 0. MedAPE is undefined.\n",
      "  warnings.warn(\"y_true contains 0. MedAPE is undefined.\")\n",
      "/Users/llm/.pyenv/versions/3.10.6/envs/PDPA-virt_env/lib/python3.10/site-packages/greykite/sklearn/sklearn_scorer.py:174: UserWarning: Score is undefined for this split, setting to `np.nan`.\n",
      "  warnings.warn(\"Score is undefined for this split, setting to `np.nan`.\")\n",
      "20:21:52 - cmdstanpy - INFO - Chain [1] start processing\n",
      "20:21:54 - cmdstanpy - INFO - Chain [1] done processing\n",
      "/Users/llm/.pyenv/versions/3.10.6/envs/PDPA-virt_env/lib/python3.10/site-packages/greykite/common/evaluation.py:483: UserWarning: y_true is constant. Correlation is not defined.\n",
      "  warnings.warn(\"y_true is constant. Correlation is not defined.\")\n",
      "/Users/llm/.pyenv/versions/3.10.6/envs/PDPA-virt_env/lib/python3.10/site-packages/greykite/sklearn/sklearn_scorer.py:174: UserWarning: Score is undefined for this split, setting to `np.nan`.\n",
      "  warnings.warn(\"Score is undefined for this split, setting to `np.nan`.\")\n",
      "/Users/llm/.pyenv/versions/3.10.6/envs/PDPA-virt_env/lib/python3.10/site-packages/greykite/common/evaluation.py:418: UserWarning: y_true contains 0. MAPE is undefined.\n",
      "  warnings.warn(\"y_true contains 0. MAPE is undefined.\")\n",
      "/Users/llm/.pyenv/versions/3.10.6/envs/PDPA-virt_env/lib/python3.10/site-packages/greykite/sklearn/sklearn_scorer.py:174: UserWarning: Score is undefined for this split, setting to `np.nan`.\n",
      "  warnings.warn(\"Score is undefined for this split, setting to `np.nan`.\")\n",
      "/Users/llm/.pyenv/versions/3.10.6/envs/PDPA-virt_env/lib/python3.10/site-packages/greykite/common/evaluation.py:435: UserWarning: y_true contains 0. MedAPE is undefined.\n",
      "  warnings.warn(\"y_true contains 0. MedAPE is undefined.\")\n",
      "/Users/llm/.pyenv/versions/3.10.6/envs/PDPA-virt_env/lib/python3.10/site-packages/greykite/sklearn/sklearn_scorer.py:174: UserWarning: Score is undefined for this split, setting to `np.nan`.\n",
      "  warnings.warn(\"Score is undefined for this split, setting to `np.nan`.\")\n",
      "/Users/llm/.pyenv/versions/3.10.6/envs/PDPA-virt_env/lib/python3.10/site-packages/greykite/common/evaluation.py:418: UserWarning: y_true contains 0. MAPE is undefined.\n",
      "  warnings.warn(\"y_true contains 0. MAPE is undefined.\")\n",
      "/Users/llm/.pyenv/versions/3.10.6/envs/PDPA-virt_env/lib/python3.10/site-packages/greykite/sklearn/sklearn_scorer.py:174: UserWarning: Score is undefined for this split, setting to `np.nan`.\n",
      "  warnings.warn(\"Score is undefined for this split, setting to `np.nan`.\")\n",
      "/Users/llm/.pyenv/versions/3.10.6/envs/PDPA-virt_env/lib/python3.10/site-packages/greykite/common/evaluation.py:435: UserWarning: y_true contains 0. MedAPE is undefined.\n",
      "  warnings.warn(\"y_true contains 0. MedAPE is undefined.\")\n",
      "/Users/llm/.pyenv/versions/3.10.6/envs/PDPA-virt_env/lib/python3.10/site-packages/greykite/sklearn/sklearn_scorer.py:174: UserWarning: Score is undefined for this split, setting to `np.nan`.\n",
      "  warnings.warn(\"Score is undefined for this split, setting to `np.nan`.\")\n",
      "/Users/llm/.pyenv/versions/3.10.6/envs/PDPA-virt_env/lib/python3.10/site-packages/sklearn/model_selection/_search.py:953: UserWarning: One or more of the test scores are non-finite: [nan]\n",
      "  warnings.warn(\n",
      "/Users/llm/.pyenv/versions/3.10.6/envs/PDPA-virt_env/lib/python3.10/site-packages/sklearn/model_selection/_search.py:953: UserWarning: One or more of the train scores are non-finite: [nan]\n",
      "  warnings.warn(\n",
      "20:21:58 - cmdstanpy - INFO - Chain [1] start processing\n",
      "20:21:59 - cmdstanpy - INFO - Chain [1] done processing\n",
      "/Users/llm/.pyenv/versions/3.10.6/envs/PDPA-virt_env/lib/python3.10/site-packages/greykite/common/evaluation.py:418: UserWarning: y_true contains 0. MAPE is undefined.\n",
      "  warnings.warn(\"y_true contains 0. MAPE is undefined.\")\n",
      "/Users/llm/.pyenv/versions/3.10.6/envs/PDPA-virt_env/lib/python3.10/site-packages/greykite/common/evaluation.py:435: UserWarning: y_true contains 0. MedAPE is undefined.\n",
      "  warnings.warn(\"y_true contains 0. MedAPE is undefined.\")\n",
      "/Users/llm/.pyenv/versions/3.10.6/envs/PDPA-virt_env/lib/python3.10/site-packages/greykite/common/evaluation.py:483: UserWarning: y_true is constant. Correlation is not defined.\n",
      "  warnings.warn(\"y_true is constant. Correlation is not defined.\")\n",
      "/Users/llm/.pyenv/versions/3.10.6/envs/PDPA-virt_env/lib/python3.10/site-packages/greykite/common/evaluation.py:418: UserWarning: y_true contains 0. MAPE is undefined.\n",
      "  warnings.warn(\"y_true contains 0. MAPE is undefined.\")\n",
      "/Users/llm/.pyenv/versions/3.10.6/envs/PDPA-virt_env/lib/python3.10/site-packages/greykite/common/evaluation.py:435: UserWarning: y_true contains 0. MedAPE is undefined.\n",
      "  warnings.warn(\"y_true contains 0. MedAPE is undefined.\")\n"
     ]
    },
    {
     "name": "stderr",
     "output_type": "stream",
     "text": [
      "20:22:02 - cmdstanpy - INFO - Chain [1] start processing\n",
      "20:22:03 - cmdstanpy - INFO - Chain [1] done processing\n",
      "/Users/llm/.pyenv/versions/3.10.6/envs/PDPA-virt_env/lib/python3.10/site-packages/greykite/common/evaluation.py:418: UserWarning: y_true contains 0. MAPE is undefined.\n",
      "  warnings.warn(\"y_true contains 0. MAPE is undefined.\")\n",
      "/Users/llm/.pyenv/versions/3.10.6/envs/PDPA-virt_env/lib/python3.10/site-packages/greykite/common/evaluation.py:435: UserWarning: y_true contains 0. MedAPE is undefined.\n",
      "  warnings.warn(\"y_true contains 0. MedAPE is undefined.\")\n",
      "/Users/llm/.pyenv/versions/3.10.6/envs/PDPA-virt_env/lib/python3.10/site-packages/greykite/common/evaluation.py:483: UserWarning: y_true is constant. Correlation is not defined.\n",
      "  warnings.warn(\"y_true is constant. Correlation is not defined.\")\n",
      "/Users/llm/.pyenv/versions/3.10.6/envs/PDPA-virt_env/lib/python3.10/site-packages/greykite/common/evaluation.py:418: UserWarning: y_true contains 0. MAPE is undefined.\n",
      "  warnings.warn(\"y_true contains 0. MAPE is undefined.\")\n",
      "/Users/llm/.pyenv/versions/3.10.6/envs/PDPA-virt_env/lib/python3.10/site-packages/greykite/common/evaluation.py:435: UserWarning: y_true contains 0. MedAPE is undefined.\n",
      "  warnings.warn(\"y_true contains 0. MedAPE is undefined.\")\n"
     ]
    }
   ],
   "source": [
    "import logging\n",
    "forecaster = Forecaster()\n",
    "logging.getLogger('prophet').setLevel(logging.WARNING) #not printing log\n",
    "logging.getLogger('cmdstanpy').setLevel(logging.WARNING) #not printing log\n",
    "result = forecaster.run_forecast_config(df=df_raw, config=config) \n",
    "model_prophet = result.model"
   ]
  },
  {
   "cell_type": "markdown",
   "metadata": {
    "id": "WYkcnP9mnmer"
   },
   "source": [
    "Now that your model predicted a forecast, you will be able to access these results"
   ]
  },
  {
   "cell_type": "markdown",
   "metadata": {
    "id": "o-clJha4ccdJ"
   },
   "source": [
    "### Evaluate your forecast"
   ]
  },
  {
   "cell_type": "markdown",
   "metadata": {
    "id": "HTw47ij_KkqL"
   },
   "source": [
    "We can access the result of the prediction with `result.forecast` and we can evaluate the performance with `result.forecast.test_evalution`. \n",
    "Find the same metric as the Arima model and assign it to a `score_prophet` variable."
   ]
  },
  {
   "cell_type": "code",
   "execution_count": 9,
   "metadata": {
    "colab": {
     "base_uri": "https://localhost:8080/",
     "height": 424
    },
    "id": "c9hHx2-5wB4O",
    "outputId": "decf6315-f32b-4799-eefc-408d4480ec36"
   },
   "outputs": [
    {
     "data": {
      "text/html": [
       "<div>\n",
       "<style scoped>\n",
       "    .dataframe tbody tr th:only-of-type {\n",
       "        vertical-align: middle;\n",
       "    }\n",
       "\n",
       "    .dataframe tbody tr th {\n",
       "        vertical-align: top;\n",
       "    }\n",
       "\n",
       "    .dataframe thead th {\n",
       "        text-align: right;\n",
       "    }\n",
       "</style>\n",
       "<table border=\"1\" class=\"dataframe\">\n",
       "  <thead>\n",
       "    <tr style=\"text-align: right;\">\n",
       "      <th></th>\n",
       "      <th>Date_time</th>\n",
       "      <th>actual</th>\n",
       "      <th>forecast</th>\n",
       "      <th>forecast_lower</th>\n",
       "      <th>forecast_upper</th>\n",
       "    </tr>\n",
       "  </thead>\n",
       "  <tbody>\n",
       "    <tr>\n",
       "      <th>0</th>\n",
       "      <td>2018-01-01</td>\n",
       "      <td>0</td>\n",
       "      <td>1.027395</td>\n",
       "      <td>-0.258781</td>\n",
       "      <td>2.289621</td>\n",
       "    </tr>\n",
       "    <tr>\n",
       "      <th>1</th>\n",
       "      <td>2018-01-02</td>\n",
       "      <td>0</td>\n",
       "      <td>0.071773</td>\n",
       "      <td>-1.248937</td>\n",
       "      <td>1.344352</td>\n",
       "    </tr>\n",
       "    <tr>\n",
       "      <th>2</th>\n",
       "      <td>2018-01-03</td>\n",
       "      <td>0</td>\n",
       "      <td>0.127625</td>\n",
       "      <td>-1.140777</td>\n",
       "      <td>1.422852</td>\n",
       "    </tr>\n",
       "    <tr>\n",
       "      <th>3</th>\n",
       "      <td>2018-01-04</td>\n",
       "      <td>0</td>\n",
       "      <td>0.491662</td>\n",
       "      <td>-0.708386</td>\n",
       "      <td>1.874029</td>\n",
       "    </tr>\n",
       "    <tr>\n",
       "      <th>4</th>\n",
       "      <td>2018-01-05</td>\n",
       "      <td>0</td>\n",
       "      <td>0.880529</td>\n",
       "      <td>-0.412341</td>\n",
       "      <td>2.070385</td>\n",
       "    </tr>\n",
       "    <tr>\n",
       "      <th>...</th>\n",
       "      <td>...</td>\n",
       "      <td>...</td>\n",
       "      <td>...</td>\n",
       "      <td>...</td>\n",
       "      <td>...</td>\n",
       "    </tr>\n",
       "    <tr>\n",
       "      <th>1768</th>\n",
       "      <td>2022-11-04</td>\n",
       "      <td>0</td>\n",
       "      <td>0.512566</td>\n",
       "      <td>-0.720935</td>\n",
       "      <td>1.835576</td>\n",
       "    </tr>\n",
       "    <tr>\n",
       "      <th>1769</th>\n",
       "      <td>2022-11-05</td>\n",
       "      <td>0</td>\n",
       "      <td>0.081827</td>\n",
       "      <td>-1.122121</td>\n",
       "      <td>1.390848</td>\n",
       "    </tr>\n",
       "    <tr>\n",
       "      <th>1770</th>\n",
       "      <td>2022-11-06</td>\n",
       "      <td>0</td>\n",
       "      <td>0.034743</td>\n",
       "      <td>-1.316157</td>\n",
       "      <td>1.246169</td>\n",
       "    </tr>\n",
       "    <tr>\n",
       "      <th>1771</th>\n",
       "      <td>2022-11-07</td>\n",
       "      <td>0</td>\n",
       "      <td>0.071702</td>\n",
       "      <td>-1.281551</td>\n",
       "      <td>1.310532</td>\n",
       "    </tr>\n",
       "    <tr>\n",
       "      <th>1772</th>\n",
       "      <td>2022-11-08</td>\n",
       "      <td>0</td>\n",
       "      <td>0.234498</td>\n",
       "      <td>-1.082276</td>\n",
       "      <td>1.585426</td>\n",
       "    </tr>\n",
       "  </tbody>\n",
       "</table>\n",
       "<p>1773 rows × 5 columns</p>\n",
       "</div>"
      ],
      "text/plain": [
       "      Date_time  actual  forecast  forecast_lower  forecast_upper\n",
       "0    2018-01-01       0  1.027395       -0.258781        2.289621\n",
       "1    2018-01-02       0  0.071773       -1.248937        1.344352\n",
       "2    2018-01-03       0  0.127625       -1.140777        1.422852\n",
       "3    2018-01-04       0  0.491662       -0.708386        1.874029\n",
       "4    2018-01-05       0  0.880529       -0.412341        2.070385\n",
       "...         ...     ...       ...             ...             ...\n",
       "1768 2022-11-04       0  0.512566       -0.720935        1.835576\n",
       "1769 2022-11-05       0  0.081827       -1.122121        1.390848\n",
       "1770 2022-11-06       0  0.034743       -1.316157        1.246169\n",
       "1771 2022-11-07       0  0.071702       -1.281551        1.310532\n",
       "1772 2022-11-08       0  0.234498       -1.082276        1.585426\n",
       "\n",
       "[1773 rows x 5 columns]"
      ]
     },
     "execution_count": 9,
     "metadata": {},
     "output_type": "execute_result"
    }
   ],
   "source": [
    "df_result = result.forecast.df\n",
    "df_result"
   ]
  },
  {
   "cell_type": "code",
   "execution_count": 10,
   "metadata": {
    "id": "mHMOIflitx8A"
   },
   "outputs": [],
   "source": [
    "df_result['forecastclass']=round(df_result['forecast']).astype(int)"
   ]
  },
  {
   "cell_type": "code",
   "execution_count": 11,
   "metadata": {
    "id": "B3cCw-7wudBD"
   },
   "outputs": [],
   "source": [
    "df_result.dropna(inplace=True)"
   ]
  },
  {
   "cell_type": "code",
   "execution_count": 12,
   "metadata": {
    "colab": {
     "base_uri": "https://localhost:8080/"
    },
    "id": "XF9kanAvuDQL",
    "outputId": "a183491a-e6f5-4f05-ce2b-8e36a87027d3"
   },
   "outputs": [
    {
     "data": {
      "text/plain": [
       "0.5454032712915962"
      ]
     },
     "execution_count": 12,
     "metadata": {},
     "output_type": "execute_result"
    }
   ],
   "source": [
    "from sklearn.metrics import accuracy_score\n",
    "accuracy_score(df_result['actual'], df_result['forecastclass'])"
   ]
  },
  {
   "cell_type": "code",
   "execution_count": 13,
   "metadata": {
    "colab": {
     "base_uri": "https://localhost:8080/"
    },
    "id": "5NF68fhgarWG",
    "outputId": "dac24caf-a926-4ba6-8d99-87c86dc46c39"
   },
   "outputs": [
    {
     "ename": "TypeError",
     "evalue": "type NoneType doesn't define __round__ method",
     "output_type": "error",
     "traceback": [
      "\u001b[0;31m---------------------------------------------------------------------------\u001b[0m",
      "\u001b[0;31mTypeError\u001b[0m                                 Traceback (most recent call last)",
      "Cell \u001b[0;32mIn [13], line 1\u001b[0m\n\u001b[0;32m----> 1\u001b[0m \u001b[38;5;28mprint\u001b[39m(\u001b[38;5;124mf\u001b[39m\u001b[38;5;124m\"\u001b[39m\u001b[38;5;124mThe MAPE of Prophet model is \u001b[39m\u001b[38;5;132;01m{\u001b[39;00m\u001b[38;5;28;43mround\u001b[39;49m\u001b[43m(\u001b[49m\u001b[43mresult\u001b[49m\u001b[38;5;241;43m.\u001b[39;49m\u001b[43mforecast\u001b[49m\u001b[38;5;241;43m.\u001b[39;49m\u001b[43mtest_evaluation\u001b[49m\u001b[43m[\u001b[49m\u001b[38;5;124;43m'\u001b[39;49m\u001b[38;5;124;43mMAPE\u001b[39;49m\u001b[38;5;124;43m'\u001b[39;49m\u001b[43m]\u001b[49m\u001b[43m)\u001b[49m\u001b[38;5;132;01m}\u001b[39;00m\u001b[38;5;124m%\u001b[39m\u001b[38;5;124m\"\u001b[39m)\n",
      "\u001b[0;31mTypeError\u001b[0m: type NoneType doesn't define __round__ method"
     ]
    }
   ],
   "source": [
    "print(f\"The MAPE of Prophet model is {round(result.forecast.test_evaluation['MAPE'])}%\")"
   ]
  },
  {
   "cell_type": "markdown",
   "metadata": {
    "id": "24StFwxpzCDN"
   },
   "source": []
  },
  {
   "cell_type": "markdown",
   "metadata": {
    "id": "c5rUvZKCZhUr"
   },
   "source": [
    "Is this model better than ARIMA ?"
   ]
  },
  {
   "cell_type": "markdown",
   "metadata": {
    "id": "b6nMM-7SLmIi"
   },
   "source": [
    "We also have access to `result.backtest` information from the cross-validation method but we're not going to use this today. "
   ]
  },
  {
   "cell_type": "markdown",
   "metadata": {
    "id": "AcbAq3OaMdqb"
   },
   "source": [
    "### Plot the forecast"
   ]
  },
  {
   "cell_type": "markdown",
   "metadata": {
    "id": "EFsl9U1nMhel"
   },
   "source": [
    "Greykite library has its own fancy plot function that integrate the upper and lower bound of the prediction.\n",
    "\n",
    "Remember that you can zoom on plotly graph"
   ]
  },
  {
   "cell_type": "code",
   "execution_count": null,
   "metadata": {
    "colab": {
     "base_uri": "https://localhost:8080/",
     "height": 542
    },
    "id": "NYObZQEXz5Lp",
    "outputId": "768d477e-5be8-46f5-b78b-66a7fb21e17c"
   },
   "outputs": [],
   "source": [
    "result.forecast.plot()"
   ]
  },
  {
   "cell_type": "markdown",
   "metadata": {
    "id": "i_BXsJ_nXwtv"
   },
   "source": [
    "### Custom the model with specific holidays and seasonality"
   ]
  },
  {
   "cell_type": "markdown",
   "metadata": {
    "id": "Ef2DCYQrbdvI"
   },
   "source": [
    "Facebook Prophet model proposes us to integrate holidays and seasonality to the algorithm.\n",
    "\n",
    "We would like to custom them based on our understanding of the data.\n",
    "\n",
    "Try to query the table `sales` in BigQuery to find out where the higher number of sales is made. \n",
    "We will specify the model which country holidays should impact most the turnover.\n",
    "\n",
    "Do not erase your `df` dataset, choose an other name !"
   ]
  },
  {
   "cell_type": "markdown",
   "metadata": {
    "id": "AeyaoTArf4MA"
   },
   "source": [
    "<details>\n",
    "    <summary><i>Hint</i></summary>\n",
    "use `COUNT(*)`, `GROUP BY` and `ORDER BY` to query the top 3 countries which have the higher number of sales. \n",
    "</details>        "
   ]
  },
  {
   "cell_type": "code",
   "execution_count": null,
   "metadata": {
    "id": "StnAweZ0Y1GQ"
   },
   "outputs": [],
   "source": [
    "# $CHA_BEGIN\n",
    "config_holidays = ForecastConfig(\n",
    "    metadata_param = MetadataParam(\n",
    "      time_col = \"Date_time\",\n",
    "      value_col = \"ATMO\",\n",
    "      train_end_date = datetime.datetime(2022, 11, 1)),\n",
    "    model_template = \"PROPHET\",\n",
    "    forecast_horizon = 7,\n",
    "    coverage = 0.95,\n",
    "    model_components_param = ModelComponentsParam(\n",
    "     seasonality={\"yearly_seasonality\": True, 'daily_seasonality':True},\n",
    "     events = {\n",
    "         \"holiday_lookup_countries\": [\"France\"],\n",
    "         \"holiday_pre_num_days\": [0],\n",
    "         \"holiday_post_num_days\": [0],\n",
    "     }))\n",
    "\n",
    "\n",
    "# $CHA_END"
   ]
  },
  {
   "cell_type": "code",
   "execution_count": null,
   "metadata": {
    "colab": {
     "base_uri": "https://localhost:8080/"
    },
    "id": "w6tJimKnY60L",
    "outputId": "5cb93e6b-f573-45ff-f801-cc99f085e38e"
   },
   "outputs": [],
   "source": [
    "result_custom = Forecaster().run_forecast_config(\n",
    "    df = df_preproc,\n",
    "    config = config_holidays)\n",
    "model_prophet_custom = result_custom.model"
   ]
  },
  {
   "cell_type": "markdown",
   "metadata": {
    "id": "3KeRXdZGqEv_"
   },
   "source": [
    "Assign the MAPE to the variable `score_prophet_custom`"
   ]
  },
  {
   "cell_type": "code",
   "execution_count": null,
   "metadata": {
    "colab": {
     "base_uri": "https://localhost:8080/",
     "height": 424
    },
    "id": "muyzQiaxzZ7s",
    "outputId": "dd6880f2-2439-4d2a-c9bb-f93ab4af81f1"
   },
   "outputs": [],
   "source": [
    "df_result_custom = result_custom.forecast.df\n",
    "df_result_custom"
   ]
  },
  {
   "cell_type": "code",
   "execution_count": null,
   "metadata": {
    "id": "RNIIFDefzZ4R"
   },
   "outputs": [],
   "source": [
    "df_result_custom['forecastclass']=round(df_result_custom['forecast']).astype(int)"
   ]
  },
  {
   "cell_type": "code",
   "execution_count": null,
   "metadata": {
    "id": "0kIFhXRCzZ1a"
   },
   "outputs": [],
   "source": [
    "df_result_custom.dropna(inplace=True)"
   ]
  },
  {
   "cell_type": "code",
   "execution_count": null,
   "metadata": {
    "colab": {
     "base_uri": "https://localhost:8080/"
    },
    "id": "JiAgPyLZzZyB",
    "outputId": "f7abfdd8-bcbf-4bda-9024-7e9a9c2c9097"
   },
   "outputs": [],
   "source": [
    "from sklearn.metrics import accuracy_score\n",
    "accuracy_score(df_result_custom['actual'], df_result_custom['forecastclass'])"
   ]
  },
  {
   "cell_type": "code",
   "execution_count": null,
   "metadata": {
    "id": "IZ9JTJY-zZvt"
   },
   "outputs": [],
   "source": [
    "print(f\"The MAPE of Prophet model is {round(result_custom.forecast.test_evaluation['MAPE'])}%\")"
   ]
  },
  {
   "cell_type": "code",
   "execution_count": null,
   "metadata": {
    "colab": {
     "base_uri": "https://localhost:8080/",
     "height": 416
    },
    "id": "A9M_Ahrswuen",
    "outputId": "e3cc057b-391f-4fb2-b8fd-c98fd0931441"
   },
   "outputs": [],
   "source": [
    "result_custom.forecast.plot_components()"
   ]
  },
  {
   "cell_type": "markdown",
   "metadata": {
    "id": "o1UdL399a69D"
   },
   "source": [
    "The time serie will be the addition of all these series."
   ]
  },
  {
   "cell_type": "code",
   "execution_count": null,
   "metadata": {},
   "outputs": [],
   "source": []
  }
 ],
 "metadata": {
  "colab": {
   "collapsed_sections": [
    "42HaDz-xtzYj",
    "og59A3NDvVbr",
    "V854WTYLNDjE",
    "8JZEt3eRNLkF"
   ],
   "provenance": []
  },
  "kernelspec": {
   "display_name": "Python 3 (ipykernel)",
   "language": "python",
   "name": "python3"
  },
  "language_info": {
   "codemirror_mode": {
    "name": "ipython",
    "version": 3
   },
   "file_extension": ".py",
   "mimetype": "text/x-python",
   "name": "python",
   "nbconvert_exporter": "python",
   "pygments_lexer": "ipython3",
   "version": "3.10.6"
  },
  "toc": {
   "base_numbering": 1,
   "nav_menu": {},
   "number_sections": true,
   "sideBar": true,
   "skip_h1_title": false,
   "title_cell": "Table of Contents",
   "title_sidebar": "Contents",
   "toc_cell": false,
   "toc_position": {},
   "toc_section_display": true,
   "toc_window_display": false
  },
  "varInspector": {
   "cols": {
    "lenName": 16,
    "lenType": 16,
    "lenVar": 40
   },
   "kernels_config": {
    "python": {
     "delete_cmd_postfix": "",
     "delete_cmd_prefix": "del ",
     "library": "var_list.py",
     "varRefreshCmd": "print(var_dic_list())"
    },
    "r": {
     "delete_cmd_postfix": ") ",
     "delete_cmd_prefix": "rm(",
     "library": "var_list.r",
     "varRefreshCmd": "cat(var_dic_list()) "
    }
   },
   "types_to_exclude": [
    "module",
    "function",
    "builtin_function_or_method",
    "instance",
    "_Feature"
   ],
   "window_display": false
  }
 },
 "nbformat": 4,
 "nbformat_minor": 1
}
