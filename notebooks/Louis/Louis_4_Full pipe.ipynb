{
 "cells": [
  {
   "cell_type": "markdown",
   "id": "616921ce",
   "metadata": {},
   "source": [
    "# Imports"
   ]
  },
  {
   "cell_type": "code",
   "execution_count": 1,
   "id": "60350c9a",
   "metadata": {},
   "outputs": [],
   "source": [
    "%load_ext autoreload\n",
    "%autoreload 2"
   ]
  },
  {
   "cell_type": "code",
   "execution_count": 2,
   "id": "ec11d9ab",
   "metadata": {},
   "outputs": [
    {
     "name": "stderr",
     "output_type": "stream",
     "text": [
      "2022-12-04 21:20:01.851292: I tensorflow/core/platform/cpu_feature_guard.cc:193] This TensorFlow binary is optimized with oneAPI Deep Neural Network Library (oneDNN) to use the following CPU instructions in performance-critical operations:  AVX2 FMA\n",
      "To enable them in other operations, rebuild TensorFlow with the appropriate compiler flags.\n"
     ]
    }
   ],
   "source": [
    "import pandas as pd\n",
    "from workflow.preprocessing import preprocess\n",
    "from workflow.model import init_model, compile_model, fit_model, evaluate_model, predict\n",
    "from workflow.model_evaluation import train_test_split, get_X_y, cross_validate"
   ]
  },
  {
   "cell_type": "markdown",
   "id": "30cf349d",
   "metadata": {},
   "source": [
    "# Data"
   ]
  },
  {
   "cell_type": "code",
   "execution_count": 3,
   "id": "f1c1051c",
   "metadata": {},
   "outputs": [
    {
     "data": {
      "text/html": [
       "<div>\n",
       "<style scoped>\n",
       "    .dataframe tbody tr th:only-of-type {\n",
       "        vertical-align: middle;\n",
       "    }\n",
       "\n",
       "    .dataframe tbody tr th {\n",
       "        vertical-align: top;\n",
       "    }\n",
       "\n",
       "    .dataframe thead th {\n",
       "        text-align: right;\n",
       "    }\n",
       "</style>\n",
       "<table border=\"1\" class=\"dataframe\">\n",
       "  <thead>\n",
       "    <tr style=\"text-align: right;\">\n",
       "      <th></th>\n",
       "      <th>Date_time</th>\n",
       "      <th>PM25</th>\n",
       "      <th>PM10</th>\n",
       "      <th>NO2</th>\n",
       "      <th>O3</th>\n",
       "      <th>SO2</th>\n",
       "      <th>Station_name</th>\n",
       "      <th>Station_type</th>\n",
       "    </tr>\n",
       "  </thead>\n",
       "  <tbody>\n",
       "    <tr>\n",
       "      <th>0</th>\n",
       "      <td>2018/01/01 01:00:00+00</td>\n",
       "      <td>NaN</td>\n",
       "      <td>NaN</td>\n",
       "      <td>NaN</td>\n",
       "      <td>NaN</td>\n",
       "      <td>NaN</td>\n",
       "      <td>75016 - Porte Auteuil</td>\n",
       "      <td>Traffic</td>\n",
       "    </tr>\n",
       "    <tr>\n",
       "      <th>1</th>\n",
       "      <td>2018/01/01 02:00:00+00</td>\n",
       "      <td>NaN</td>\n",
       "      <td>NaN</td>\n",
       "      <td>NaN</td>\n",
       "      <td>NaN</td>\n",
       "      <td>NaN</td>\n",
       "      <td>75016 - Porte Auteuil</td>\n",
       "      <td>Traffic</td>\n",
       "    </tr>\n",
       "    <tr>\n",
       "      <th>2</th>\n",
       "      <td>2018/01/01 03:00:00+00</td>\n",
       "      <td>NaN</td>\n",
       "      <td>NaN</td>\n",
       "      <td>NaN</td>\n",
       "      <td>NaN</td>\n",
       "      <td>NaN</td>\n",
       "      <td>75016 - Porte Auteuil</td>\n",
       "      <td>Traffic</td>\n",
       "    </tr>\n",
       "    <tr>\n",
       "      <th>3</th>\n",
       "      <td>2018/01/01 04:00:00+00</td>\n",
       "      <td>NaN</td>\n",
       "      <td>NaN</td>\n",
       "      <td>NaN</td>\n",
       "      <td>NaN</td>\n",
       "      <td>NaN</td>\n",
       "      <td>75016 - Porte Auteuil</td>\n",
       "      <td>Traffic</td>\n",
       "    </tr>\n",
       "    <tr>\n",
       "      <th>4</th>\n",
       "      <td>2018/01/01 05:00:00+00</td>\n",
       "      <td>NaN</td>\n",
       "      <td>NaN</td>\n",
       "      <td>NaN</td>\n",
       "      <td>NaN</td>\n",
       "      <td>NaN</td>\n",
       "      <td>75016 - Porte Auteuil</td>\n",
       "      <td>Traffic</td>\n",
       "    </tr>\n",
       "    <tr>\n",
       "      <th>...</th>\n",
       "      <td>...</td>\n",
       "      <td>...</td>\n",
       "      <td>...</td>\n",
       "      <td>...</td>\n",
       "      <td>...</td>\n",
       "      <td>...</td>\n",
       "      <td>...</td>\n",
       "      <td>...</td>\n",
       "    </tr>\n",
       "    <tr>\n",
       "      <th>42571</th>\n",
       "      <td>2022/11/14 20:00:00+00</td>\n",
       "      <td>14.5</td>\n",
       "      <td>18.8</td>\n",
       "      <td>41.5</td>\n",
       "      <td>NaN</td>\n",
       "      <td>NaN</td>\n",
       "      <td>75016 - Porte Auteuil</td>\n",
       "      <td>Traffic</td>\n",
       "    </tr>\n",
       "    <tr>\n",
       "      <th>42572</th>\n",
       "      <td>2022/11/14 21:00:00+00</td>\n",
       "      <td>NaN</td>\n",
       "      <td>NaN</td>\n",
       "      <td>34.5</td>\n",
       "      <td>NaN</td>\n",
       "      <td>NaN</td>\n",
       "      <td>75016 - Porte Auteuil</td>\n",
       "      <td>Traffic</td>\n",
       "    </tr>\n",
       "    <tr>\n",
       "      <th>42573</th>\n",
       "      <td>2022/11/14 22:00:00+00</td>\n",
       "      <td>NaN</td>\n",
       "      <td>NaN</td>\n",
       "      <td>NaN</td>\n",
       "      <td>NaN</td>\n",
       "      <td>NaN</td>\n",
       "      <td>75016 - Porte Auteuil</td>\n",
       "      <td>Traffic</td>\n",
       "    </tr>\n",
       "    <tr>\n",
       "      <th>42574</th>\n",
       "      <td>2022/11/14 23:00:00+00</td>\n",
       "      <td>NaN</td>\n",
       "      <td>NaN</td>\n",
       "      <td>NaN</td>\n",
       "      <td>NaN</td>\n",
       "      <td>NaN</td>\n",
       "      <td>75016 - Porte Auteuil</td>\n",
       "      <td>Traffic</td>\n",
       "    </tr>\n",
       "    <tr>\n",
       "      <th>42575</th>\n",
       "      <td>2022/11/15 00:00:00+00</td>\n",
       "      <td>NaN</td>\n",
       "      <td>NaN</td>\n",
       "      <td>NaN</td>\n",
       "      <td>NaN</td>\n",
       "      <td>NaN</td>\n",
       "      <td>75016 - Porte Auteuil</td>\n",
       "      <td>Traffic</td>\n",
       "    </tr>\n",
       "  </tbody>\n",
       "</table>\n",
       "<p>42576 rows × 8 columns</p>\n",
       "</div>"
      ],
      "text/plain": [
       "                    Date_time  PM25  PM10   NO2  O3  SO2  \\\n",
       "0      2018/01/01 01:00:00+00   NaN   NaN   NaN NaN  NaN   \n",
       "1      2018/01/01 02:00:00+00   NaN   NaN   NaN NaN  NaN   \n",
       "2      2018/01/01 03:00:00+00   NaN   NaN   NaN NaN  NaN   \n",
       "3      2018/01/01 04:00:00+00   NaN   NaN   NaN NaN  NaN   \n",
       "4      2018/01/01 05:00:00+00   NaN   NaN   NaN NaN  NaN   \n",
       "...                       ...   ...   ...   ...  ..  ...   \n",
       "42571  2022/11/14 20:00:00+00  14.5  18.8  41.5 NaN  NaN   \n",
       "42572  2022/11/14 21:00:00+00   NaN   NaN  34.5 NaN  NaN   \n",
       "42573  2022/11/14 22:00:00+00   NaN   NaN   NaN NaN  NaN   \n",
       "42574  2022/11/14 23:00:00+00   NaN   NaN   NaN NaN  NaN   \n",
       "42575  2022/11/15 00:00:00+00   NaN   NaN   NaN NaN  NaN   \n",
       "\n",
       "                Station_name Station_type  \n",
       "0      75016 - Porte Auteuil      Traffic  \n",
       "1      75016 - Porte Auteuil      Traffic  \n",
       "2      75016 - Porte Auteuil      Traffic  \n",
       "3      75016 - Porte Auteuil      Traffic  \n",
       "4      75016 - Porte Auteuil      Traffic  \n",
       "...                      ...          ...  \n",
       "42571  75016 - Porte Auteuil      Traffic  \n",
       "42572  75016 - Porte Auteuil      Traffic  \n",
       "42573  75016 - Porte Auteuil      Traffic  \n",
       "42574  75016 - Porte Auteuil      Traffic  \n",
       "42575  75016 - Porte Auteuil      Traffic  \n",
       "\n",
       "[42576 rows x 8 columns]"
      ]
     },
     "execution_count": 3,
     "metadata": {},
     "output_type": "execute_result"
    }
   ],
   "source": [
    "PA75016_df = pd.read_csv(\"../../data/pollution/2_Processed/PA75016.csv\").copy()\n",
    "PA75016_df"
   ]
  },
  {
   "cell_type": "code",
   "execution_count": 4,
   "id": "799269e9",
   "metadata": {},
   "outputs": [
    {
     "name": "stdout",
     "output_type": "stream",
     "text": [
      "You have dropped O3 with 100.0% of NA\n",
      "You have dropped SO2 with 40.2% of NA\n",
      "DataFrame is processed, you can play with it !\n"
     ]
    },
    {
     "data": {
      "text/html": [
       "<div>\n",
       "<style scoped>\n",
       "    .dataframe tbody tr th:only-of-type {\n",
       "        vertical-align: middle;\n",
       "    }\n",
       "\n",
       "    .dataframe tbody tr th {\n",
       "        vertical-align: top;\n",
       "    }\n",
       "\n",
       "    .dataframe thead th {\n",
       "        text-align: right;\n",
       "    }\n",
       "</style>\n",
       "<table border=\"1\" class=\"dataframe\">\n",
       "  <thead>\n",
       "    <tr style=\"text-align: right;\">\n",
       "      <th></th>\n",
       "      <th>PM25</th>\n",
       "      <th>PM10</th>\n",
       "      <th>NO2</th>\n",
       "      <th>ATMO</th>\n",
       "      <th>sin_Month</th>\n",
       "      <th>cos_Month</th>\n",
       "      <th>sin_day</th>\n",
       "      <th>cos_day</th>\n",
       "      <th>confinement</th>\n",
       "      <th>Pollution_peak</th>\n",
       "    </tr>\n",
       "    <tr>\n",
       "      <th>Date_time</th>\n",
       "      <th></th>\n",
       "      <th></th>\n",
       "      <th></th>\n",
       "      <th></th>\n",
       "      <th></th>\n",
       "      <th></th>\n",
       "      <th></th>\n",
       "      <th></th>\n",
       "      <th></th>\n",
       "      <th></th>\n",
       "    </tr>\n",
       "  </thead>\n",
       "  <tbody>\n",
       "    <tr>\n",
       "      <th>2018-01-01</th>\n",
       "      <td>-0.001422</td>\n",
       "      <td>-0.048074</td>\n",
       "      <td>-0.840686</td>\n",
       "      <td>0</td>\n",
       "      <td>0.000000</td>\n",
       "      <td>1.0</td>\n",
       "      <td>-0.781831</td>\n",
       "      <td>0.623490</td>\n",
       "      <td>0</td>\n",
       "      <td>0</td>\n",
       "    </tr>\n",
       "    <tr>\n",
       "      <th>2018-01-02</th>\n",
       "      <td>-0.001422</td>\n",
       "      <td>-0.048074</td>\n",
       "      <td>-0.840686</td>\n",
       "      <td>0</td>\n",
       "      <td>0.000000</td>\n",
       "      <td>1.0</td>\n",
       "      <td>0.000000</td>\n",
       "      <td>1.000000</td>\n",
       "      <td>0</td>\n",
       "      <td>0</td>\n",
       "    </tr>\n",
       "    <tr>\n",
       "      <th>2018-01-03</th>\n",
       "      <td>-0.001422</td>\n",
       "      <td>-0.048074</td>\n",
       "      <td>-0.840686</td>\n",
       "      <td>0</td>\n",
       "      <td>0.000000</td>\n",
       "      <td>1.0</td>\n",
       "      <td>0.781831</td>\n",
       "      <td>0.623490</td>\n",
       "      <td>0</td>\n",
       "      <td>0</td>\n",
       "    </tr>\n",
       "    <tr>\n",
       "      <th>2018-01-04</th>\n",
       "      <td>-0.001422</td>\n",
       "      <td>-0.048074</td>\n",
       "      <td>-0.840686</td>\n",
       "      <td>0</td>\n",
       "      <td>0.000000</td>\n",
       "      <td>1.0</td>\n",
       "      <td>0.974928</td>\n",
       "      <td>-0.222521</td>\n",
       "      <td>0</td>\n",
       "      <td>0</td>\n",
       "    </tr>\n",
       "    <tr>\n",
       "      <th>2018-01-05</th>\n",
       "      <td>-0.025605</td>\n",
       "      <td>-0.131895</td>\n",
       "      <td>-0.840686</td>\n",
       "      <td>0</td>\n",
       "      <td>0.000000</td>\n",
       "      <td>1.0</td>\n",
       "      <td>0.433884</td>\n",
       "      <td>-0.900969</td>\n",
       "      <td>0</td>\n",
       "      <td>0</td>\n",
       "    </tr>\n",
       "    <tr>\n",
       "      <th>...</th>\n",
       "      <td>...</td>\n",
       "      <td>...</td>\n",
       "      <td>...</td>\n",
       "      <td>...</td>\n",
       "      <td>...</td>\n",
       "      <td>...</td>\n",
       "      <td>...</td>\n",
       "      <td>...</td>\n",
       "      <td>...</td>\n",
       "      <td>...</td>\n",
       "    </tr>\n",
       "    <tr>\n",
       "      <th>2022-11-09</th>\n",
       "      <td>-0.504979</td>\n",
       "      <td>-0.603390</td>\n",
       "      <td>-0.507353</td>\n",
       "      <td>0</td>\n",
       "      <td>-0.866025</td>\n",
       "      <td>0.5</td>\n",
       "      <td>0.781831</td>\n",
       "      <td>0.623490</td>\n",
       "      <td>0</td>\n",
       "      <td>0</td>\n",
       "    </tr>\n",
       "    <tr>\n",
       "      <th>2022-11-10</th>\n",
       "      <td>0.012802</td>\n",
       "      <td>-0.389522</td>\n",
       "      <td>-0.465686</td>\n",
       "      <td>0</td>\n",
       "      <td>-0.866025</td>\n",
       "      <td>0.5</td>\n",
       "      <td>0.974928</td>\n",
       "      <td>-0.222521</td>\n",
       "      <td>0</td>\n",
       "      <td>0</td>\n",
       "    </tr>\n",
       "    <tr>\n",
       "      <th>2022-11-11</th>\n",
       "      <td>-0.315789</td>\n",
       "      <td>-0.951002</td>\n",
       "      <td>-1.296569</td>\n",
       "      <td>0</td>\n",
       "      <td>-0.866025</td>\n",
       "      <td>0.5</td>\n",
       "      <td>0.433884</td>\n",
       "      <td>-0.900969</td>\n",
       "      <td>0</td>\n",
       "      <td>0</td>\n",
       "    </tr>\n",
       "    <tr>\n",
       "      <th>2022-11-12</th>\n",
       "      <td>1.544808</td>\n",
       "      <td>0.395069</td>\n",
       "      <td>-0.205882</td>\n",
       "      <td>1</td>\n",
       "      <td>-0.866025</td>\n",
       "      <td>0.5</td>\n",
       "      <td>-0.433884</td>\n",
       "      <td>-0.900969</td>\n",
       "      <td>0</td>\n",
       "      <td>0</td>\n",
       "    </tr>\n",
       "    <tr>\n",
       "      <th>2022-11-13</th>\n",
       "      <td>1.684211</td>\n",
       "      <td>0.234206</td>\n",
       "      <td>-0.786765</td>\n",
       "      <td>1</td>\n",
       "      <td>-0.866025</td>\n",
       "      <td>0.5</td>\n",
       "      <td>-0.974928</td>\n",
       "      <td>-0.222521</td>\n",
       "      <td>0</td>\n",
       "      <td>0</td>\n",
       "    </tr>\n",
       "  </tbody>\n",
       "</table>\n",
       "<p>1775 rows × 10 columns</p>\n",
       "</div>"
      ],
      "text/plain": [
       "                PM25      PM10       NO2  ATMO  sin_Month  cos_Month  \\\n",
       "Date_time                                                              \n",
       "2018-01-01 -0.001422 -0.048074 -0.840686     0   0.000000        1.0   \n",
       "2018-01-02 -0.001422 -0.048074 -0.840686     0   0.000000        1.0   \n",
       "2018-01-03 -0.001422 -0.048074 -0.840686     0   0.000000        1.0   \n",
       "2018-01-04 -0.001422 -0.048074 -0.840686     0   0.000000        1.0   \n",
       "2018-01-05 -0.025605 -0.131895 -0.840686     0   0.000000        1.0   \n",
       "...              ...       ...       ...   ...        ...        ...   \n",
       "2022-11-09 -0.504979 -0.603390 -0.507353     0  -0.866025        0.5   \n",
       "2022-11-10  0.012802 -0.389522 -0.465686     0  -0.866025        0.5   \n",
       "2022-11-11 -0.315789 -0.951002 -1.296569     0  -0.866025        0.5   \n",
       "2022-11-12  1.544808  0.395069 -0.205882     1  -0.866025        0.5   \n",
       "2022-11-13  1.684211  0.234206 -0.786765     1  -0.866025        0.5   \n",
       "\n",
       "             sin_day   cos_day  confinement  Pollution_peak  \n",
       "Date_time                                                    \n",
       "2018-01-01 -0.781831  0.623490            0               0  \n",
       "2018-01-02  0.000000  1.000000            0               0  \n",
       "2018-01-03  0.781831  0.623490            0               0  \n",
       "2018-01-04  0.974928 -0.222521            0               0  \n",
       "2018-01-05  0.433884 -0.900969            0               0  \n",
       "...              ...       ...          ...             ...  \n",
       "2022-11-09  0.781831  0.623490            0               0  \n",
       "2022-11-10  0.974928 -0.222521            0               0  \n",
       "2022-11-11  0.433884 -0.900969            0               0  \n",
       "2022-11-12 -0.433884 -0.900969            0               0  \n",
       "2022-11-13 -0.974928 -0.222521            0               0  \n",
       "\n",
       "[1775 rows x 10 columns]"
      ]
     },
     "execution_count": 4,
     "metadata": {},
     "output_type": "execute_result"
    }
   ],
   "source": [
    "df = preprocess(PA75016_df)\n",
    "df"
   ]
  },
  {
   "cell_type": "code",
   "execution_count": 5,
   "id": "72c7d39d",
   "metadata": {},
   "outputs": [
    {
     "data": {
      "text/plain": [
       "1    675\n",
       "2    626\n",
       "0    461\n",
       "3     13\n",
       "Name: ATMO, dtype: int64"
      ]
     },
     "execution_count": 5,
     "metadata": {},
     "output_type": "execute_result"
    }
   ],
   "source": [
    "df['ATMO'].value_counts()"
   ]
  },
  {
   "cell_type": "markdown",
   "id": "0c321f32",
   "metadata": {},
   "source": [
    "# Cross-validate"
   ]
  },
  {
   "cell_type": "code",
   "execution_count": 6,
   "id": "022dabd3",
   "metadata": {
    "scrolled": false
   },
   "outputs": [
    {
     "name": "stdout",
     "output_type": "stream",
     "text": [
      "Folds shape: (7, 521, 10)\n",
      "The function generated 7 folds.\n",
      "Each fold has a shape equal to (521, 10).\n",
      "\n",
      "\n",
      "==================================================\n",
      "Fold n°1\n",
      "==================================================\n",
      "Split-set shape:\n",
      "X: (352, 7, 10), y: (352, 7)\n",
      "Split-set shape:\n",
      "X: (150, 7, 10), y: (150, 7)\n",
      "--------------------------------------------------\n"
     ]
    },
    {
     "name": "stderr",
     "output_type": "stream",
     "text": [
      "2022-12-04 21:20:24.139649: I tensorflow/core/platform/cpu_feature_guard.cc:193] This TensorFlow binary is optimized with oneAPI Deep Neural Network Library (oneDNN) to use the following CPU instructions in performance-critical operations:  AVX2 FMA\n",
      "To enable them in other operations, rebuild TensorFlow with the appropriate compiler flags.\n"
     ]
    },
    {
     "name": "stdout",
     "output_type": "stream",
     "text": [
      "fit_model executed in 30.93 seconds, using up to 21.42MB of RAM\n"
     ]
    },
    {
     "data": {
      "image/png": "[encoded data removed]",
      "text/plain": [
       "<Figure size 2000x700 with 2 Axes>"
      ]
     },
     "metadata": {},
     "output_type": "display_data"
    },
    {
     "name": "stdout",
     "output_type": "stream",
     "text": [
      "5/5 [==============================] - 0s 7ms/step - loss: 1.1143 - accuracy: 0.6200\n",
      "✅ Model evaluated: loss 1.11 accuracy 0.62\n",
      "\n",
      "\n",
      "Accuracy baseline fold n°1 = 0.38\n",
      "Accuracy LSTM fold n°1 = 0.62\n",
      "🏋🏽‍♂️ Improvement/Decrease vs. Baseline: 61.11 % \n",
      "\n",
      "==================================================\n",
      "Fold n°2\n",
      "==================================================\n",
      "Split-set shape:\n",
      "X: (352, 7, 10), y: (352, 7)\n",
      "Split-set shape:\n",
      "X: (150, 7, 10), y: (150, 7)\n",
      "--------------------------------------------------\n"
     ]
    },
    {
     "name": "stderr",
     "output_type": "stream",
     "text": [
      "Exception ignored in: <function WeakKeyDictionary.__init__.<locals>.remove at 0x12dfb88b0>\n",
      "Traceback (most recent call last):\n",
      "  File \"/Users/llm/.pyenv/versions/3.10.6/lib/python3.10/weakref.py\", line 370, in remove\n",
      "    def remove(k, selfref=ref(self)):\n",
      "KeyboardInterrupt: \n",
      "\n",
      "KeyboardInterrupt\n",
      "\n"
     ]
    }
   ],
   "source": [
    "cross_validate(df)"
   ]
  },
  {
   "cell_type": "markdown",
   "id": "043783fd",
   "metadata": {},
   "source": [
    "# Model training"
   ]
  },
  {
   "cell_type": "code",
   "execution_count": null,
   "id": "42a92550",
   "metadata": {},
   "outputs": [],
   "source": [
    "from workflow.params import FOLD_LENGTH, FOLD_STRIDE, STRIDE, TRAIN_TEST_RATIO, N_FEATURES, INPUT_LENGTH, TARGET, TARGET_COLUMN_IDX, N_TARGETS, OUTPUT_LENGTH, HORIZON"
   ]
  },
  {
   "cell_type": "code",
   "execution_count": null,
   "id": "c9dfc191",
   "metadata": {},
   "outputs": [],
   "source": [
    "(df_train, df_test) = train_test_split(fold = df,\n",
    "                                        train_test_ratio = TRAIN_TEST_RATIO,\n",
    "                                        input_length = INPUT_LENGTH,\n",
    "                                        horizon = HORIZON)"
   ]
  },
  {
   "cell_type": "code",
   "execution_count": null,
   "id": "9a4c5514",
   "metadata": {},
   "outputs": [],
   "source": [
    "X_train, y_train = get_X_y(fold = df_train,\n",
    "                        horizon = HORIZON,\n",
    "                        input_length = INPUT_LENGTH,\n",
    "                        output_length = OUTPUT_LENGTH,\n",
    "                        stride = STRIDE)\n",
    "\n",
    "X_test, y_test = get_X_y(fold = df_test,\n",
    "                        horizon = HORIZON,\n",
    "                        input_length = INPUT_LENGTH,\n",
    "                        output_length = OUTPUT_LENGTH,\n",
    "                        stride = STRIDE)"
   ]
  },
  {
   "cell_type": "code",
   "execution_count": null,
   "id": "b8de1e3e",
   "metadata": {},
   "outputs": [],
   "source": [
    "model = init_model(X_train, y_train)\n",
    "compile_model(model)\n",
    "model, history = fit_model(model, X_train, y_train)"
   ]
  },
  {
   "cell_type": "code",
   "execution_count": null,
   "id": "47f8ca03",
   "metadata": {},
   "outputs": [],
   "source": [
    "res = evaluate_model(model, X_test, y_test)\n",
    "res"
   ]
  },
  {
   "cell_type": "markdown",
   "id": "47fa5fa6",
   "metadata": {},
   "source": [
    "# Prediction"
   ]
  },
  {
   "cell_type": "code",
   "execution_count": null,
   "id": "bceab768",
   "metadata": {},
   "outputs": [],
   "source": [
    "y_true = df['ATMO']\n",
    "y_pred = predict(model, X_test)"
   ]
  },
  {
   "cell_type": "code",
   "execution_count": null,
   "id": "a39d91dd",
   "metadata": {},
   "outputs": [],
   "source": [
    "y_true[-7:-1]"
   ]
  },
  {
   "cell_type": "code",
   "execution_count": null,
   "id": "5623d474",
   "metadata": {},
   "outputs": [],
   "source": [
    "y_pred"
   ]
  },
  {
   "cell_type": "code",
   "execution_count": null,
   "id": "27d773c7",
   "metadata": {},
   "outputs": [],
   "source": [
    "y_pred[-1]"
   ]
  },
  {
   "cell_type": "markdown",
   "id": "c1d7a420",
   "metadata": {},
   "source": [
    "# Confusion matrix (to finish)"
   ]
  },
  {
   "cell_type": "code",
   "execution_count": null,
   "id": "017c8260",
   "metadata": {},
   "outputs": [],
   "source": [
    "# results_df = pd.DataFrame({\"actual\": y_true,\n",
    "#                            \"predicted\": y_pred})\n",
    "\n",
    "# confusion_matrix = pd.crosstab(index= results_df['actual'],\n",
    "#                                columns = results_df['predicted'])"
   ]
  },
  {
   "cell_type": "code",
   "execution_count": null,
   "id": "3794bc68",
   "metadata": {},
   "outputs": [],
   "source": [
    "# #Create a Confusion Matrix heatmap from the above data\n",
    "# import seaborn as sns\n",
    "# sns.heatmap(cm, annot=True, linewidths = 0.01)"
   ]
  }
 ],
 "metadata": {
  "kernelspec": {
   "display_name": "Python 3 (ipykernel)",
   "language": "python",
   "name": "python3"
  },
  "language_info": {
   "codemirror_mode": {
    "name": "ipython",
    "version": 3
   },
   "file_extension": ".py",
   "mimetype": "text/x-python",
   "name": "python",
   "nbconvert_exporter": "python",
   "pygments_lexer": "ipython3",
   "version": "3.10.6"
  },
  "toc": {
   "base_numbering": 1,
   "nav_menu": {},
   "number_sections": true,
   "sideBar": true,
   "skip_h1_title": false,
   "title_cell": "Table of Contents",
   "title_sidebar": "Contents",
   "toc_cell": false,
   "toc_position": {},
   "toc_section_display": true,
   "toc_window_display": false
  },
  "varInspector": {
   "cols": {
    "lenName": 16,
    "lenType": 16,
    "lenVar": 40
   },
   "kernels_config": {
    "python": {
     "delete_cmd_postfix": "",
     "delete_cmd_prefix": "del ",
     "library": "var_list.py",
     "varRefreshCmd": "print(var_dic_list())"
    },
    "r": {
     "delete_cmd_postfix": ") ",
     "delete_cmd_prefix": "rm(",
     "library": "var_list.r",
     "varRefreshCmd": "cat(var_dic_list()) "
    }
   },
   "types_to_exclude": [
    "module",
    "function",
    "builtin_function_or_method",
    "instance",
    "_Feature"
   ],
   "window_display": false
  }
 },
 "nbformat": 4,
 "nbformat_minor": 5
}
