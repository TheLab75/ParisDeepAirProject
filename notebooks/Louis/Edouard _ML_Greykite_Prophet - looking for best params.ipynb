{
 "cells": [
  {
   "cell_type": "code",
   "execution_count": 1,
   "metadata": {
    "id": "BgzR6k4i7Q7f"
   },
   "outputs": [],
   "source": [
    "import pandas as pd\n",
    "import numpy as np\n",
    "import plotly.express as px\n"
   ]
  },
  {
   "cell_type": "markdown",
   "metadata": {
    "id": "4bahlwJF96Ib"
   },
   "source": [
    "# PART II : Facebook's Prophet (Greykite)"
   ]
  },
  {
   "cell_type": "markdown",
   "metadata": {
    "id": "i8uFjq_t-GJM"
   },
   "source": [
    "## Import"
   ]
  },
  {
   "cell_type": "markdown",
   "metadata": {
    "id": "1albZBJXsoxB"
   },
   "source": [
    "Start by installing greykite library in Colab"
   ]
  },
  {
   "cell_type": "code",
   "execution_count": 2,
   "metadata": {
    "colab": {
     "base_uri": "https://localhost:8080/"
    },
    "id": "uA2shSVeWBAd",
    "outputId": "51908743-d9b3-41f3-b2eb-8b8103630ba7"
   },
   "outputs": [],
   "source": [
    "# # $CHA_BEGIN\n",
    "# !pip install greykite\n",
    "# !pip install prophet\n",
    "# # $CHA_END"
   ]
  },
  {
   "cell_type": "code",
   "execution_count": 2,
   "metadata": {
    "id": "_KfMM5W4WCQE"
   },
   "outputs": [
    {
     "name": "stderr",
     "output_type": "stream",
     "text": [
      "/Users/Edouard_1/.pyenv/versions/3.10.6/envs/PDPA-virt_env/lib/python3.10/site-packages/tqdm/auto.py:22: TqdmWarning: IProgress not found. Please update jupyter and ipywidgets. See https://ipywidgets.readthedocs.io/en/stable/user_install.html\n",
      "  from .autonotebook import tqdm as notebook_tqdm\n"
     ]
    }
   ],
   "source": [
    "import datetime\n",
    "import pandas as pd\n",
    "import plotly.express as px\n",
    "from greykite.framework.templates.autogen.forecast_config import ForecastConfig, MetadataParam, ModelComponentsParam\n",
    "from greykite.framework.benchmark.data_loader_ts import DataLoaderTS\n",
    "from greykite.framework.templates.forecaster import Forecaster\n"
   ]
  },
  {
   "cell_type": "markdown",
   "metadata": {
    "id": "w2NrZNFdvidm"
   },
   "source": [
    "## Import the data"
   ]
  },
  {
   "cell_type": "code",
   "execution_count": 3,
   "metadata": {
    "id": "sePOX48Vvklk"
   },
   "outputs": [],
   "source": [
    "df_preproc = pd.read_csv(\"../../data/pollution/5_Clusters/cluster1_Ouest.csv\")\n",
    "df_raw = pd.read_csv(\"../../data/pollution/5_Clusters/cluster1_Ouest.csv\")\n"
   ]
  },
  {
   "cell_type": "code",
   "execution_count": 4,
   "metadata": {
    "colab": {
     "base_uri": "https://localhost:8080/",
     "height": 424
    },
    "id": "SE6bjW7VvzTP",
    "outputId": "c8b41143-782a-4011-f2b7-52b034488362"
   },
   "outputs": [
    {
     "data": {
      "text/html": [
       "<div>\n",
       "<style scoped>\n",
       "    .dataframe tbody tr th:only-of-type {\n",
       "        vertical-align: middle;\n",
       "    }\n",
       "\n",
       "    .dataframe tbody tr th {\n",
       "        vertical-align: top;\n",
       "    }\n",
       "\n",
       "    .dataframe thead th {\n",
       "        text-align: right;\n",
       "    }\n",
       "</style>\n",
       "<table border=\"1\" class=\"dataframe\">\n",
       "  <thead>\n",
       "    <tr style=\"text-align: right;\">\n",
       "      <th></th>\n",
       "      <th>Date_time</th>\n",
       "      <th>PM25</th>\n",
       "      <th>PM10</th>\n",
       "      <th>NO2</th>\n",
       "      <th>O3</th>\n",
       "      <th>Pollution_peak</th>\n",
       "      <th>ATMO</th>\n",
       "      <th>sin_Month</th>\n",
       "      <th>cos_Month</th>\n",
       "      <th>sin_day</th>\n",
       "      <th>cos_day</th>\n",
       "      <th>confinement</th>\n",
       "    </tr>\n",
       "  </thead>\n",
       "  <tbody>\n",
       "    <tr>\n",
       "      <th>0</th>\n",
       "      <td>2018-01-01</td>\n",
       "      <td>12.90</td>\n",
       "      <td>8.74</td>\n",
       "      <td>14.33</td>\n",
       "      <td>78.50</td>\n",
       "      <td>0</td>\n",
       "      <td>0</td>\n",
       "      <td>0.000000</td>\n",
       "      <td>1.000000</td>\n",
       "      <td>-0.781831</td>\n",
       "      <td>0.623490</td>\n",
       "      <td>0</td>\n",
       "    </tr>\n",
       "    <tr>\n",
       "      <th>1</th>\n",
       "      <td>2018-01-02</td>\n",
       "      <td>12.90</td>\n",
       "      <td>13.56</td>\n",
       "      <td>34.67</td>\n",
       "      <td>71.00</td>\n",
       "      <td>0</td>\n",
       "      <td>0</td>\n",
       "      <td>0.000000</td>\n",
       "      <td>1.000000</td>\n",
       "      <td>0.000000</td>\n",
       "      <td>1.000000</td>\n",
       "      <td>0</td>\n",
       "    </tr>\n",
       "    <tr>\n",
       "      <th>2</th>\n",
       "      <td>2018-01-03</td>\n",
       "      <td>12.90</td>\n",
       "      <td>12.80</td>\n",
       "      <td>24.25</td>\n",
       "      <td>80.50</td>\n",
       "      <td>0</td>\n",
       "      <td>0</td>\n",
       "      <td>0.000000</td>\n",
       "      <td>1.000000</td>\n",
       "      <td>0.781831</td>\n",
       "      <td>0.623490</td>\n",
       "      <td>0</td>\n",
       "    </tr>\n",
       "    <tr>\n",
       "      <th>3</th>\n",
       "      <td>2018-01-04</td>\n",
       "      <td>12.90</td>\n",
       "      <td>9.09</td>\n",
       "      <td>25.25</td>\n",
       "      <td>69.00</td>\n",
       "      <td>0</td>\n",
       "      <td>0</td>\n",
       "      <td>0.000000</td>\n",
       "      <td>1.000000</td>\n",
       "      <td>0.974928</td>\n",
       "      <td>-0.222521</td>\n",
       "      <td>0</td>\n",
       "    </tr>\n",
       "    <tr>\n",
       "      <th>4</th>\n",
       "      <td>2018-01-05</td>\n",
       "      <td>12.79</td>\n",
       "      <td>15.81</td>\n",
       "      <td>46.75</td>\n",
       "      <td>79.50</td>\n",
       "      <td>0</td>\n",
       "      <td>0</td>\n",
       "      <td>0.000000</td>\n",
       "      <td>1.000000</td>\n",
       "      <td>0.433884</td>\n",
       "      <td>-0.900969</td>\n",
       "      <td>0</td>\n",
       "    </tr>\n",
       "    <tr>\n",
       "      <th>...</th>\n",
       "      <td>...</td>\n",
       "      <td>...</td>\n",
       "      <td>...</td>\n",
       "      <td>...</td>\n",
       "      <td>...</td>\n",
       "      <td>...</td>\n",
       "      <td>...</td>\n",
       "      <td>...</td>\n",
       "      <td>...</td>\n",
       "      <td>...</td>\n",
       "      <td>...</td>\n",
       "      <td>...</td>\n",
       "    </tr>\n",
       "    <tr>\n",
       "      <th>1794</th>\n",
       "      <td>2022-11-30</td>\n",
       "      <td>17.67</td>\n",
       "      <td>31.65</td>\n",
       "      <td>46.58</td>\n",
       "      <td>42.15</td>\n",
       "      <td>0</td>\n",
       "      <td>0</td>\n",
       "      <td>-0.866025</td>\n",
       "      <td>0.500000</td>\n",
       "      <td>0.781831</td>\n",
       "      <td>0.623490</td>\n",
       "      <td>0</td>\n",
       "    </tr>\n",
       "    <tr>\n",
       "      <th>1795</th>\n",
       "      <td>2022-12-01</td>\n",
       "      <td>22.85</td>\n",
       "      <td>32.04</td>\n",
       "      <td>38.62</td>\n",
       "      <td>25.10</td>\n",
       "      <td>0</td>\n",
       "      <td>1</td>\n",
       "      <td>-0.500000</td>\n",
       "      <td>0.866025</td>\n",
       "      <td>0.974928</td>\n",
       "      <td>-0.222521</td>\n",
       "      <td>0</td>\n",
       "    </tr>\n",
       "    <tr>\n",
       "      <th>1796</th>\n",
       "      <td>2022-12-02</td>\n",
       "      <td>28.70</td>\n",
       "      <td>35.24</td>\n",
       "      <td>39.72</td>\n",
       "      <td>24.95</td>\n",
       "      <td>0</td>\n",
       "      <td>2</td>\n",
       "      <td>-0.500000</td>\n",
       "      <td>0.866025</td>\n",
       "      <td>0.433884</td>\n",
       "      <td>-0.900969</td>\n",
       "      <td>0</td>\n",
       "    </tr>\n",
       "    <tr>\n",
       "      <th>1797</th>\n",
       "      <td>2022-12-03</td>\n",
       "      <td>19.83</td>\n",
       "      <td>23.61</td>\n",
       "      <td>32.00</td>\n",
       "      <td>13.55</td>\n",
       "      <td>0</td>\n",
       "      <td>0</td>\n",
       "      <td>-0.500000</td>\n",
       "      <td>0.866025</td>\n",
       "      <td>-0.433884</td>\n",
       "      <td>-0.900969</td>\n",
       "      <td>0</td>\n",
       "    </tr>\n",
       "    <tr>\n",
       "      <th>1798</th>\n",
       "      <td>2022-12-04</td>\n",
       "      <td>24.10</td>\n",
       "      <td>31.37</td>\n",
       "      <td>34.75</td>\n",
       "      <td>14.90</td>\n",
       "      <td>0</td>\n",
       "      <td>1</td>\n",
       "      <td>-0.500000</td>\n",
       "      <td>0.866025</td>\n",
       "      <td>-0.974928</td>\n",
       "      <td>-0.222521</td>\n",
       "      <td>0</td>\n",
       "    </tr>\n",
       "  </tbody>\n",
       "</table>\n",
       "<p>1799 rows × 12 columns</p>\n",
       "</div>"
      ],
      "text/plain": [
       "       Date_time   PM25   PM10    NO2     O3  Pollution_peak  ATMO  sin_Month  \\\n",
       "0     2018-01-01  12.90   8.74  14.33  78.50               0     0   0.000000   \n",
       "1     2018-01-02  12.90  13.56  34.67  71.00               0     0   0.000000   \n",
       "2     2018-01-03  12.90  12.80  24.25  80.50               0     0   0.000000   \n",
       "3     2018-01-04  12.90   9.09  25.25  69.00               0     0   0.000000   \n",
       "4     2018-01-05  12.79  15.81  46.75  79.50               0     0   0.000000   \n",
       "...          ...    ...    ...    ...    ...             ...   ...        ...   \n",
       "1794  2022-11-30  17.67  31.65  46.58  42.15               0     0  -0.866025   \n",
       "1795  2022-12-01  22.85  32.04  38.62  25.10               0     1  -0.500000   \n",
       "1796  2022-12-02  28.70  35.24  39.72  24.95               0     2  -0.500000   \n",
       "1797  2022-12-03  19.83  23.61  32.00  13.55               0     0  -0.500000   \n",
       "1798  2022-12-04  24.10  31.37  34.75  14.90               0     1  -0.500000   \n",
       "\n",
       "      cos_Month   sin_day   cos_day  confinement  \n",
       "0      1.000000 -0.781831  0.623490            0  \n",
       "1      1.000000  0.000000  1.000000            0  \n",
       "2      1.000000  0.781831  0.623490            0  \n",
       "3      1.000000  0.974928 -0.222521            0  \n",
       "4      1.000000  0.433884 -0.900969            0  \n",
       "...         ...       ...       ...          ...  \n",
       "1794   0.500000  0.781831  0.623490            0  \n",
       "1795   0.866025  0.974928 -0.222521            0  \n",
       "1796   0.866025  0.433884 -0.900969            0  \n",
       "1797   0.866025 -0.433884 -0.900969            0  \n",
       "1798   0.866025 -0.974928 -0.222521            0  \n",
       "\n",
       "[1799 rows x 12 columns]"
      ]
     },
     "execution_count": 4,
     "metadata": {},
     "output_type": "execute_result"
    }
   ],
   "source": [
    "df_preproc\n"
   ]
  },
  {
   "cell_type": "code",
   "execution_count": 5,
   "metadata": {
    "colab": {
     "base_uri": "https://localhost:8080/",
     "height": 424
    },
    "id": "PsTHcrLqv0q_",
    "outputId": "b8a64db7-1327-419e-cef8-87e6379fb52b"
   },
   "outputs": [
    {
     "data": {
      "text/html": [
       "<div>\n",
       "<style scoped>\n",
       "    .dataframe tbody tr th:only-of-type {\n",
       "        vertical-align: middle;\n",
       "    }\n",
       "\n",
       "    .dataframe tbody tr th {\n",
       "        vertical-align: top;\n",
       "    }\n",
       "\n",
       "    .dataframe thead th {\n",
       "        text-align: right;\n",
       "    }\n",
       "</style>\n",
       "<table border=\"1\" class=\"dataframe\">\n",
       "  <thead>\n",
       "    <tr style=\"text-align: right;\">\n",
       "      <th></th>\n",
       "      <th>Date_time</th>\n",
       "      <th>PM25</th>\n",
       "      <th>PM10</th>\n",
       "      <th>NO2</th>\n",
       "      <th>O3</th>\n",
       "      <th>Pollution_peak</th>\n",
       "      <th>ATMO</th>\n",
       "      <th>sin_Month</th>\n",
       "      <th>cos_Month</th>\n",
       "      <th>sin_day</th>\n",
       "      <th>cos_day</th>\n",
       "      <th>confinement</th>\n",
       "    </tr>\n",
       "  </thead>\n",
       "  <tbody>\n",
       "    <tr>\n",
       "      <th>0</th>\n",
       "      <td>2018-01-01</td>\n",
       "      <td>12.90</td>\n",
       "      <td>8.74</td>\n",
       "      <td>14.33</td>\n",
       "      <td>78.50</td>\n",
       "      <td>0</td>\n",
       "      <td>0</td>\n",
       "      <td>0.000000</td>\n",
       "      <td>1.000000</td>\n",
       "      <td>-0.781831</td>\n",
       "      <td>0.623490</td>\n",
       "      <td>0</td>\n",
       "    </tr>\n",
       "    <tr>\n",
       "      <th>1</th>\n",
       "      <td>2018-01-02</td>\n",
       "      <td>12.90</td>\n",
       "      <td>13.56</td>\n",
       "      <td>34.67</td>\n",
       "      <td>71.00</td>\n",
       "      <td>0</td>\n",
       "      <td>0</td>\n",
       "      <td>0.000000</td>\n",
       "      <td>1.000000</td>\n",
       "      <td>0.000000</td>\n",
       "      <td>1.000000</td>\n",
       "      <td>0</td>\n",
       "    </tr>\n",
       "    <tr>\n",
       "      <th>2</th>\n",
       "      <td>2018-01-03</td>\n",
       "      <td>12.90</td>\n",
       "      <td>12.80</td>\n",
       "      <td>24.25</td>\n",
       "      <td>80.50</td>\n",
       "      <td>0</td>\n",
       "      <td>0</td>\n",
       "      <td>0.000000</td>\n",
       "      <td>1.000000</td>\n",
       "      <td>0.781831</td>\n",
       "      <td>0.623490</td>\n",
       "      <td>0</td>\n",
       "    </tr>\n",
       "    <tr>\n",
       "      <th>3</th>\n",
       "      <td>2018-01-04</td>\n",
       "      <td>12.90</td>\n",
       "      <td>9.09</td>\n",
       "      <td>25.25</td>\n",
       "      <td>69.00</td>\n",
       "      <td>0</td>\n",
       "      <td>0</td>\n",
       "      <td>0.000000</td>\n",
       "      <td>1.000000</td>\n",
       "      <td>0.974928</td>\n",
       "      <td>-0.222521</td>\n",
       "      <td>0</td>\n",
       "    </tr>\n",
       "    <tr>\n",
       "      <th>4</th>\n",
       "      <td>2018-01-05</td>\n",
       "      <td>12.79</td>\n",
       "      <td>15.81</td>\n",
       "      <td>46.75</td>\n",
       "      <td>79.50</td>\n",
       "      <td>0</td>\n",
       "      <td>0</td>\n",
       "      <td>0.000000</td>\n",
       "      <td>1.000000</td>\n",
       "      <td>0.433884</td>\n",
       "      <td>-0.900969</td>\n",
       "      <td>0</td>\n",
       "    </tr>\n",
       "    <tr>\n",
       "      <th>...</th>\n",
       "      <td>...</td>\n",
       "      <td>...</td>\n",
       "      <td>...</td>\n",
       "      <td>...</td>\n",
       "      <td>...</td>\n",
       "      <td>...</td>\n",
       "      <td>...</td>\n",
       "      <td>...</td>\n",
       "      <td>...</td>\n",
       "      <td>...</td>\n",
       "      <td>...</td>\n",
       "      <td>...</td>\n",
       "    </tr>\n",
       "    <tr>\n",
       "      <th>1794</th>\n",
       "      <td>2022-11-30</td>\n",
       "      <td>17.67</td>\n",
       "      <td>31.65</td>\n",
       "      <td>46.58</td>\n",
       "      <td>42.15</td>\n",
       "      <td>0</td>\n",
       "      <td>0</td>\n",
       "      <td>-0.866025</td>\n",
       "      <td>0.500000</td>\n",
       "      <td>0.781831</td>\n",
       "      <td>0.623490</td>\n",
       "      <td>0</td>\n",
       "    </tr>\n",
       "    <tr>\n",
       "      <th>1795</th>\n",
       "      <td>2022-12-01</td>\n",
       "      <td>22.85</td>\n",
       "      <td>32.04</td>\n",
       "      <td>38.62</td>\n",
       "      <td>25.10</td>\n",
       "      <td>0</td>\n",
       "      <td>1</td>\n",
       "      <td>-0.500000</td>\n",
       "      <td>0.866025</td>\n",
       "      <td>0.974928</td>\n",
       "      <td>-0.222521</td>\n",
       "      <td>0</td>\n",
       "    </tr>\n",
       "    <tr>\n",
       "      <th>1796</th>\n",
       "      <td>2022-12-02</td>\n",
       "      <td>28.70</td>\n",
       "      <td>35.24</td>\n",
       "      <td>39.72</td>\n",
       "      <td>24.95</td>\n",
       "      <td>0</td>\n",
       "      <td>2</td>\n",
       "      <td>-0.500000</td>\n",
       "      <td>0.866025</td>\n",
       "      <td>0.433884</td>\n",
       "      <td>-0.900969</td>\n",
       "      <td>0</td>\n",
       "    </tr>\n",
       "    <tr>\n",
       "      <th>1797</th>\n",
       "      <td>2022-12-03</td>\n",
       "      <td>19.83</td>\n",
       "      <td>23.61</td>\n",
       "      <td>32.00</td>\n",
       "      <td>13.55</td>\n",
       "      <td>0</td>\n",
       "      <td>0</td>\n",
       "      <td>-0.500000</td>\n",
       "      <td>0.866025</td>\n",
       "      <td>-0.433884</td>\n",
       "      <td>-0.900969</td>\n",
       "      <td>0</td>\n",
       "    </tr>\n",
       "    <tr>\n",
       "      <th>1798</th>\n",
       "      <td>2022-12-04</td>\n",
       "      <td>24.10</td>\n",
       "      <td>31.37</td>\n",
       "      <td>34.75</td>\n",
       "      <td>14.90</td>\n",
       "      <td>0</td>\n",
       "      <td>1</td>\n",
       "      <td>-0.500000</td>\n",
       "      <td>0.866025</td>\n",
       "      <td>-0.974928</td>\n",
       "      <td>-0.222521</td>\n",
       "      <td>0</td>\n",
       "    </tr>\n",
       "  </tbody>\n",
       "</table>\n",
       "<p>1799 rows × 12 columns</p>\n",
       "</div>"
      ],
      "text/plain": [
       "       Date_time   PM25   PM10    NO2     O3  Pollution_peak  ATMO  sin_Month  \\\n",
       "0     2018-01-01  12.90   8.74  14.33  78.50               0     0   0.000000   \n",
       "1     2018-01-02  12.90  13.56  34.67  71.00               0     0   0.000000   \n",
       "2     2018-01-03  12.90  12.80  24.25  80.50               0     0   0.000000   \n",
       "3     2018-01-04  12.90   9.09  25.25  69.00               0     0   0.000000   \n",
       "4     2018-01-05  12.79  15.81  46.75  79.50               0     0   0.000000   \n",
       "...          ...    ...    ...    ...    ...             ...   ...        ...   \n",
       "1794  2022-11-30  17.67  31.65  46.58  42.15               0     0  -0.866025   \n",
       "1795  2022-12-01  22.85  32.04  38.62  25.10               0     1  -0.500000   \n",
       "1796  2022-12-02  28.70  35.24  39.72  24.95               0     2  -0.500000   \n",
       "1797  2022-12-03  19.83  23.61  32.00  13.55               0     0  -0.500000   \n",
       "1798  2022-12-04  24.10  31.37  34.75  14.90               0     1  -0.500000   \n",
       "\n",
       "      cos_Month   sin_day   cos_day  confinement  \n",
       "0      1.000000 -0.781831  0.623490            0  \n",
       "1      1.000000  0.000000  1.000000            0  \n",
       "2      1.000000  0.781831  0.623490            0  \n",
       "3      1.000000  0.974928 -0.222521            0  \n",
       "4      1.000000  0.433884 -0.900969            0  \n",
       "...         ...       ...       ...          ...  \n",
       "1794   0.500000  0.781831  0.623490            0  \n",
       "1795   0.866025  0.974928 -0.222521            0  \n",
       "1796   0.866025  0.433884 -0.900969            0  \n",
       "1797   0.866025 -0.433884 -0.900969            0  \n",
       "1798   0.866025 -0.974928 -0.222521            0  \n",
       "\n",
       "[1799 rows x 12 columns]"
      ]
     },
     "execution_count": 5,
     "metadata": {},
     "output_type": "execute_result"
    }
   ],
   "source": [
    "df_raw\n"
   ]
  },
  {
   "cell_type": "markdown",
   "metadata": {
    "id": "yx05-wxpylZy"
   },
   "source": [
    "## Make Forecast\n"
   ]
  },
  {
   "cell_type": "markdown",
   "metadata": {
    "id": "gk575KSGO2kH"
   },
   "source": [
    "### Train the model"
   ]
  },
  {
   "cell_type": "markdown",
   "metadata": {
    "id": "dTcFvw2OPRib"
   },
   "source": [
    "[`Check the documentation of greykite`](https://github.com/linkedin/greykite)"
   ]
  },
  {
   "cell_type": "markdown",
   "metadata": {
    "id": "pvpgvseYPbWS"
   },
   "source": [
    "We want to use the PROPHET model from Facebook to train your model and make a prediction for future turnover"
   ]
  },
  {
   "cell_type": "markdown",
   "metadata": {
    "id": "4ggRzHrYPqyb"
   },
   "source": [
    "Prophet is a procedure for forecasting time series data based on an additive model where non-linear trends are fit with yearly, weekly, and daily seasonality, plus holiday effects. It works best with time series that have strong seasonal effects and several seasons of historical data."
   ]
  },
  {
   "cell_type": "markdown",
   "metadata": {
    "id": "2cqzdPuJyz_S"
   },
   "source": [
    "Set the model_template as 'PROPHET' to use the model from facebook.  \n",
    " Forecast your model for a horizon of 1 month (in order to predict your last month of december)\n",
    "\n"
   ]
  },
  {
   "cell_type": "markdown",
   "metadata": {
    "id": "pxjPKS7Dmo6k"
   },
   "source": [
    "Define the `ForecastConfig` with :\n",
    "- `metadata_param` : tell the model what is your time and value columns in your dataset\n",
    "\n",
    "  -> define `time_col`, `value_col`\n",
    "\n",
    "  -> define `train_end_date` as datetime.datetime to tell the model when to stop the training.\n",
    "- `model_template` : select 'PROPHET' since is the model we want to use\n",
    "- `forecast_horizon` : how many steps ahead we want to predict\n",
    "- `coverage` : 95% of actuals should fall within the prediction intervals (`coverage=0.95`)"
   ]
  },
  {
   "cell_type": "markdown",
   "metadata": {
    "id": "O3mvudwqxSXW"
   },
   "source": [
    "We want to use the same trainning values than our first ARIMA model (values until 1st Dec 2021) and test our prediction with the same values (month of December 2021). \n",
    "\n",
    "This model provides nice vizualisations if we give it all the `df` dataset and fix the training values with `train_end_date` variable. \n",
    "\n",
    "Also, this model will use cross-validation methods to fit and test inside the training dataset to find the best parameters."
   ]
  },
  {
   "cell_type": "code",
   "execution_count": 11,
   "metadata": {
    "id": "Gz2wSNacyzZr"
   },
   "outputs": [],
   "source": [
    "# $CHA_BEGIN\n",
    "config = ForecastConfig(\n",
    "     metadata_param= MetadataParam(\n",
    "      time_col = \"Date_time\",\n",
    "      value_col = \"ATMO\",\n",
    "      train_end_date = datetime.datetime(2022, 11, 1)),\n",
    "     model_template=\"PROPHET\",\n",
    "     forecast_horizon=7, #7 days\n",
    "     coverage=0.95 )\n",
    "\n",
    "#config .add_country_holidays(country_name='FR')\n",
    "#config\n",
    "\n",
    "\n"
   ]
  },
  {
   "cell_type": "code",
   "execution_count": 16,
   "metadata": {
    "colab": {
     "base_uri": "https://localhost:8080/"
    },
    "id": "5_ePabNamVJr",
    "outputId": "237b832b-e913-455f-dfe7-ee290a7ffe9f"
   },
   "outputs": [
    {
     "name": "stderr",
     "output_type": "stream",
     "text": [
      "00:15:18 - cmdstanpy - ERROR - Chain [1] error: terminated by signal 6 Unknown error: -6\n"
     ]
    },
    {
     "name": "stdout",
     "output_type": "stream",
     "text": [
      "Fitting 3 folds for each of 1 candidates, totalling 3 fits\n"
     ]
    },
    {
     "name": "stderr",
     "output_type": "stream",
     "text": [
      "00:15:18 - cmdstanpy - ERROR - Chain [1] error: terminated by signal 6 Unknown error: -6\n",
      "Optimization terminated abnormally. Falling back to Newton.\n",
      "00:15:19 - cmdstanpy - ERROR - Chain [1] error: terminated by signal 6 Unknown error: -6\n",
      "00:15:19 - cmdstanpy - ERROR - Chain [1] error: terminated by signal 6 Unknown error: -6\n",
      "Optimization terminated abnormally. Falling back to Newton.\n",
      "00:15:20 - cmdstanpy - ERROR - Chain [1] error: terminated by signal 6 Unknown error: -6\n"
     ]
    },
    {
     "ename": "ValueError",
     "evalue": "\nAll the 3 fits failed.\nIt is very likely that your model is misconfigured.\nYou can try to debug the error by setting error_score='raise'.\n\nBelow are more details about the failures:\n--------------------------------------------------------------------------------\n1 fits failed with the following error:\nTraceback (most recent call last):\n  File \"/Users/Edouard_1/.pyenv/versions/3.10.6/envs/PDPA-virt_env/lib/python3.10/site-packages/sklearn/model_selection/_validation.py\", line 686, in _fit_and_score\n    estimator.fit(X_train, y_train, **fit_params)\n  File \"/Users/Edouard_1/.pyenv/versions/3.10.6/envs/PDPA-virt_env/lib/python3.10/site-packages/sklearn/pipeline.py\", line 382, in fit\n    self._final_estimator.fit(Xt, y, **fit_params_last_step)\n  File \"/Users/Edouard_1/.pyenv/versions/3.10.6/envs/PDPA-virt_env/lib/python3.10/site-packages/greykite/sklearn/estimator/prophet_estimator.py\", line 252, in fit\n    self.model.fit(fit_df)\n  File \"/Users/Edouard_1/.pyenv/versions/3.10.6/envs/PDPA-virt_env/lib/python3.10/site-packages/prophet/forecaster.py\", line 1174, in fit\n    self.params = self.stan_backend.fit(stan_init, dat, **kwargs)\n  File \"/Users/Edouard_1/.pyenv/versions/3.10.6/envs/PDPA-virt_env/lib/python3.10/site-packages/prophet/models.py\", line 100, in fit\n    raise e\n  File \"/Users/Edouard_1/.pyenv/versions/3.10.6/envs/PDPA-virt_env/lib/python3.10/site-packages/prophet/models.py\", line 96, in fit\n    self.stan_fit = self.model.optimize(**args)\n  File \"/Users/Edouard_1/.pyenv/versions/3.10.6/envs/PDPA-virt_env/lib/python3.10/site-packages/cmdstanpy/model.py\", line 725, in optimize\n    raise RuntimeError(msg)\nRuntimeError: Error during optimization! Command '/Users/Edouard_1/.pyenv/versions/3.10.6/envs/PDPA-virt_env/lib/python3.10/site-packages/prophet/stan_model/prophet_model.bin random seed=6814 data file=/var/folders/5r/4vh837mj0yz7906w_9ntwqfm0000gn/T/tmpy45iu8cf/c8jtw0wb.json init=/var/folders/5r/4vh837mj0yz7906w_9ntwqfm0000gn/T/tmpy45iu8cf/otk6c2g1.json output file=/var/folders/5r/4vh837mj0yz7906w_9ntwqfm0000gn/T/tmpy45iu8cf/prophet_modelg1uodp_6/prophet_model-20221207001518.csv method=optimize algorithm=newton iter=10000' failed: console log output:\n\ndyld[30371]: Library not loaded: '@rpath/libtbb.dylib'\n  Referenced from: '/Users/Edouard_1/.pyenv/versions/3.10.6/envs/PDPA-virt_env/lib/python3.10/site-packages/prophet/stan_model/prophet_model.bin'\n  Reason: tried: '/private/var/folders/5r/4vh837mj0yz7906w_9ntwqfm0000gn/T/pip-install-idf3qw68/prophet_b658c2e8e9f843428a35deb8bc9ea62d/build/lib.macosx-12.5-arm64-cpython-310/prophet/stan_model/cmdstan-2.26.1/stan/lib/stan_math/lib/tbb/libtbb.dylib' (no such file), '/private/var/folders/5r/4vh837mj0yz7906w_9ntwqfm0000gn/T/pip-install-idf3qw68/prophet_b658c2e8e9f843428a35deb8bc9ea62d/build/lib.macosx-12.5-arm64-cpython-310/prophet/stan_model/cmdstan-2.26.1/stan/lib/stan_math/lib/tbb/libtbb.dylib' (no such file), '/usr/local/lib/libtbb.dylib' (no such file), '/usr/lib/libtbb.dylib' (no such file)\n\n\n--------------------------------------------------------------------------------\n1 fits failed with the following error:\nTraceback (most recent call last):\n  File \"/Users/Edouard_1/.pyenv/versions/3.10.6/envs/PDPA-virt_env/lib/python3.10/site-packages/prophet/models.py\", line 96, in fit\n    self.stan_fit = self.model.optimize(**args)\n  File \"/Users/Edouard_1/.pyenv/versions/3.10.6/envs/PDPA-virt_env/lib/python3.10/site-packages/cmdstanpy/model.py\", line 725, in optimize\n    raise RuntimeError(msg)\nRuntimeError: Error during optimization! Command '/Users/Edouard_1/.pyenv/versions/3.10.6/envs/PDPA-virt_env/lib/python3.10/site-packages/prophet/stan_model/prophet_model.bin random seed=54449 data file=/var/folders/5r/4vh837mj0yz7906w_9ntwqfm0000gn/T/tmpy45iu8cf/67i4yk5k.json init=/var/folders/5r/4vh837mj0yz7906w_9ntwqfm0000gn/T/tmpy45iu8cf/avhq5edm.json output file=/var/folders/5r/4vh837mj0yz7906w_9ntwqfm0000gn/T/tmpy45iu8cf/prophet_modelv3ujh_3q/prophet_model-20221207001518.csv method=optimize algorithm=lbfgs iter=10000' failed: console log output:\n\ndyld[30372]: Library not loaded: '@rpath/libtbb.dylib'\n  Referenced from: '/Users/Edouard_1/.pyenv/versions/3.10.6/envs/PDPA-virt_env/lib/python3.10/site-packages/prophet/stan_model/prophet_model.bin'\n  Reason: tried: '/private/var/folders/5r/4vh837mj0yz7906w_9ntwqfm0000gn/T/pip-install-idf3qw68/prophet_b658c2e8e9f843428a35deb8bc9ea62d/build/lib.macosx-12.5-arm64-cpython-310/prophet/stan_model/cmdstan-2.26.1/stan/lib/stan_math/lib/tbb/libtbb.dylib' (no such file), '/private/var/folders/5r/4vh837mj0yz7906w_9ntwqfm0000gn/T/pip-install-idf3qw68/prophet_b658c2e8e9f843428a35deb8bc9ea62d/build/lib.macosx-12.5-arm64-cpython-310/prophet/stan_model/cmdstan-2.26.1/stan/lib/stan_math/lib/tbb/libtbb.dylib' (no such file), '/usr/local/lib/libtbb.dylib' (no such file), '/usr/lib/libtbb.dylib' (no such file)\n\n\nDuring handling of the above exception, another exception occurred:\n\nTraceback (most recent call last):\n  File \"/Users/Edouard_1/.pyenv/versions/3.10.6/envs/PDPA-virt_env/lib/python3.10/site-packages/sklearn/model_selection/_validation.py\", line 686, in _fit_and_score\n    estimator.fit(X_train, y_train, **fit_params)\n  File \"/Users/Edouard_1/.pyenv/versions/3.10.6/envs/PDPA-virt_env/lib/python3.10/site-packages/sklearn/pipeline.py\", line 382, in fit\n    self._final_estimator.fit(Xt, y, **fit_params_last_step)\n  File \"/Users/Edouard_1/.pyenv/versions/3.10.6/envs/PDPA-virt_env/lib/python3.10/site-packages/greykite/sklearn/estimator/prophet_estimator.py\", line 252, in fit\n    self.model.fit(fit_df)\n  File \"/Users/Edouard_1/.pyenv/versions/3.10.6/envs/PDPA-virt_env/lib/python3.10/site-packages/prophet/forecaster.py\", line 1174, in fit\n    self.params = self.stan_backend.fit(stan_init, dat, **kwargs)\n  File \"/Users/Edouard_1/.pyenv/versions/3.10.6/envs/PDPA-virt_env/lib/python3.10/site-packages/prophet/models.py\", line 103, in fit\n    self.stan_fit = self.model.optimize(**args)\n  File \"/Users/Edouard_1/.pyenv/versions/3.10.6/envs/PDPA-virt_env/lib/python3.10/site-packages/cmdstanpy/model.py\", line 725, in optimize\n    raise RuntimeError(msg)\nRuntimeError: Error during optimization! Command '/Users/Edouard_1/.pyenv/versions/3.10.6/envs/PDPA-virt_env/lib/python3.10/site-packages/prophet/stan_model/prophet_model.bin random seed=3011 data file=/var/folders/5r/4vh837mj0yz7906w_9ntwqfm0000gn/T/tmpy45iu8cf/96rkm6ik.json init=/var/folders/5r/4vh837mj0yz7906w_9ntwqfm0000gn/T/tmpy45iu8cf/qe409310.json output file=/var/folders/5r/4vh837mj0yz7906w_9ntwqfm0000gn/T/tmpy45iu8cf/prophet_model2edgh3ll/prophet_model-20221207001519.csv method=optimize algorithm=newton iter=10000' failed: console log output:\n\ndyld[30373]: Library not loaded: '@rpath/libtbb.dylib'\n  Referenced from: '/Users/Edouard_1/.pyenv/versions/3.10.6/envs/PDPA-virt_env/lib/python3.10/site-packages/prophet/stan_model/prophet_model.bin'\n  Reason: tried: '/private/var/folders/5r/4vh837mj0yz7906w_9ntwqfm0000gn/T/pip-install-idf3qw68/prophet_b658c2e8e9f843428a35deb8bc9ea62d/build/lib.macosx-12.5-arm64-cpython-310/prophet/stan_model/cmdstan-2.26.1/stan/lib/stan_math/lib/tbb/libtbb.dylib' (no such file), '/private/var/folders/5r/4vh837mj0yz7906w_9ntwqfm0000gn/T/pip-install-idf3qw68/prophet_b658c2e8e9f843428a35deb8bc9ea62d/build/lib.macosx-12.5-arm64-cpython-310/prophet/stan_model/cmdstan-2.26.1/stan/lib/stan_math/lib/tbb/libtbb.dylib' (no such file), '/usr/local/lib/libtbb.dylib' (no such file), '/usr/lib/libtbb.dylib' (no such file)\n\n\n--------------------------------------------------------------------------------\n1 fits failed with the following error:\nTraceback (most recent call last):\n  File \"/Users/Edouard_1/.pyenv/versions/3.10.6/envs/PDPA-virt_env/lib/python3.10/site-packages/prophet/models.py\", line 96, in fit\n    self.stan_fit = self.model.optimize(**args)\n  File \"/Users/Edouard_1/.pyenv/versions/3.10.6/envs/PDPA-virt_env/lib/python3.10/site-packages/cmdstanpy/model.py\", line 725, in optimize\n    raise RuntimeError(msg)\nRuntimeError: Error during optimization! Command '/Users/Edouard_1/.pyenv/versions/3.10.6/envs/PDPA-virt_env/lib/python3.10/site-packages/prophet/stan_model/prophet_model.bin random seed=96470 data file=/var/folders/5r/4vh837mj0yz7906w_9ntwqfm0000gn/T/tmpy45iu8cf/vi581aab.json init=/var/folders/5r/4vh837mj0yz7906w_9ntwqfm0000gn/T/tmpy45iu8cf/zxv9im1s.json output file=/var/folders/5r/4vh837mj0yz7906w_9ntwqfm0000gn/T/tmpy45iu8cf/prophet_model8fq1okb0/prophet_model-20221207001519.csv method=optimize algorithm=lbfgs iter=10000' failed: console log output:\n\ndyld[30374]: Library not loaded: '@rpath/libtbb.dylib'\n  Referenced from: '/Users/Edouard_1/.pyenv/versions/3.10.6/envs/PDPA-virt_env/lib/python3.10/site-packages/prophet/stan_model/prophet_model.bin'\n  Reason: tried: '/private/var/folders/5r/4vh837mj0yz7906w_9ntwqfm0000gn/T/pip-install-idf3qw68/prophet_b658c2e8e9f843428a35deb8bc9ea62d/build/lib.macosx-12.5-arm64-cpython-310/prophet/stan_model/cmdstan-2.26.1/stan/lib/stan_math/lib/tbb/libtbb.dylib' (no such file), '/private/var/folders/5r/4vh837mj0yz7906w_9ntwqfm0000gn/T/pip-install-idf3qw68/prophet_b658c2e8e9f843428a35deb8bc9ea62d/build/lib.macosx-12.5-arm64-cpython-310/prophet/stan_model/cmdstan-2.26.1/stan/lib/stan_math/lib/tbb/libtbb.dylib' (no such file), '/usr/local/lib/libtbb.dylib' (no such file), '/usr/lib/libtbb.dylib' (no such file)\n\n\nDuring handling of the above exception, another exception occurred:\n\nTraceback (most recent call last):\n  File \"/Users/Edouard_1/.pyenv/versions/3.10.6/envs/PDPA-virt_env/lib/python3.10/site-packages/sklearn/model_selection/_validation.py\", line 686, in _fit_and_score\n    estimator.fit(X_train, y_train, **fit_params)\n  File \"/Users/Edouard_1/.pyenv/versions/3.10.6/envs/PDPA-virt_env/lib/python3.10/site-packages/sklearn/pipeline.py\", line 382, in fit\n    self._final_estimator.fit(Xt, y, **fit_params_last_step)\n  File \"/Users/Edouard_1/.pyenv/versions/3.10.6/envs/PDPA-virt_env/lib/python3.10/site-packages/greykite/sklearn/estimator/prophet_estimator.py\", line 252, in fit\n    self.model.fit(fit_df)\n  File \"/Users/Edouard_1/.pyenv/versions/3.10.6/envs/PDPA-virt_env/lib/python3.10/site-packages/prophet/forecaster.py\", line 1174, in fit\n    self.params = self.stan_backend.fit(stan_init, dat, **kwargs)\n  File \"/Users/Edouard_1/.pyenv/versions/3.10.6/envs/PDPA-virt_env/lib/python3.10/site-packages/prophet/models.py\", line 103, in fit\n    self.stan_fit = self.model.optimize(**args)\n  File \"/Users/Edouard_1/.pyenv/versions/3.10.6/envs/PDPA-virt_env/lib/python3.10/site-packages/cmdstanpy/model.py\", line 725, in optimize\n    raise RuntimeError(msg)\nRuntimeError: Error during optimization! Command '/Users/Edouard_1/.pyenv/versions/3.10.6/envs/PDPA-virt_env/lib/python3.10/site-packages/prophet/stan_model/prophet_model.bin random seed=69289 data file=/var/folders/5r/4vh837mj0yz7906w_9ntwqfm0000gn/T/tmpy45iu8cf/8_x843tn.json init=/var/folders/5r/4vh837mj0yz7906w_9ntwqfm0000gn/T/tmpy45iu8cf/u4vri687.json output file=/var/folders/5r/4vh837mj0yz7906w_9ntwqfm0000gn/T/tmpy45iu8cf/prophet_model25y72b9o/prophet_model-20221207001520.csv method=optimize algorithm=newton iter=10000' failed: console log output:\n\ndyld[30375]: Library not loaded: '@rpath/libtbb.dylib'\n  Referenced from: '/Users/Edouard_1/.pyenv/versions/3.10.6/envs/PDPA-virt_env/lib/python3.10/site-packages/prophet/stan_model/prophet_model.bin'\n  Reason: tried: '/private/var/folders/5r/4vh837mj0yz7906w_9ntwqfm0000gn/T/pip-install-idf3qw68/prophet_b658c2e8e9f843428a35deb8bc9ea62d/build/lib.macosx-12.5-arm64-cpython-310/prophet/stan_model/cmdstan-2.26.1/stan/lib/stan_math/lib/tbb/libtbb.dylib' (no such file), '/private/var/folders/5r/4vh837mj0yz7906w_9ntwqfm0000gn/T/pip-install-idf3qw68/prophet_b658c2e8e9f843428a35deb8bc9ea62d/build/lib.macosx-12.5-arm64-cpython-310/prophet/stan_model/cmdstan-2.26.1/stan/lib/stan_math/lib/tbb/libtbb.dylib' (no such file), '/usr/local/lib/libtbb.dylib' (no such file), '/usr/lib/libtbb.dylib' (no such file)\n\n",
     "output_type": "error",
     "traceback": [
      "\u001b[0;31m---------------------------------------------------------------------------\u001b[0m",
      "\u001b[0;31mValueError\u001b[0m                                Traceback (most recent call last)",
      "Cell \u001b[0;32mIn[16], line 5\u001b[0m\n\u001b[1;32m      3\u001b[0m logging\u001b[38;5;241m.\u001b[39mgetLogger(\u001b[38;5;124m'\u001b[39m\u001b[38;5;124mprophet\u001b[39m\u001b[38;5;124m'\u001b[39m)\u001b[38;5;241m.\u001b[39msetLevel(logging\u001b[38;5;241m.\u001b[39mWARNING) \u001b[38;5;66;03m#not printing log\u001b[39;00m\n\u001b[1;32m      4\u001b[0m logging\u001b[38;5;241m.\u001b[39mgetLogger(\u001b[38;5;124m'\u001b[39m\u001b[38;5;124mcmdstanpy\u001b[39m\u001b[38;5;124m'\u001b[39m)\u001b[38;5;241m.\u001b[39msetLevel(logging\u001b[38;5;241m.\u001b[39mWARNING) \u001b[38;5;66;03m#not printing log\u001b[39;00m\n\u001b[0;32m----> 5\u001b[0m result \u001b[38;5;241m=\u001b[39m \u001b[43mforecaster\u001b[49m\u001b[38;5;241;43m.\u001b[39;49m\u001b[43mrun_forecast_config\u001b[49m\u001b[43m(\u001b[49m\u001b[43mdf\u001b[49m\u001b[38;5;241;43m=\u001b[39;49m\u001b[43mdf_raw\u001b[49m\u001b[43m,\u001b[49m\u001b[43m \u001b[49m\u001b[43mconfig\u001b[49m\u001b[38;5;241;43m=\u001b[39;49m\u001b[43mconfig\u001b[49m\u001b[43m)\u001b[49m \n\u001b[1;32m      6\u001b[0m model_prophet \u001b[38;5;241m=\u001b[39m result\u001b[38;5;241m.\u001b[39mmodel\n",
      "File \u001b[0;32m~/.pyenv/versions/3.10.6/envs/PDPA-virt_env/lib/python3.10/site-packages/greykite/framework/templates/forecaster.py:378\u001b[0m, in \u001b[0;36mForecaster.run_forecast_config\u001b[0;34m(self, df, config)\u001b[0m\n\u001b[1;32m    353\u001b[0m \u001b[38;5;124;03m\"\"\"Creates a forecast from input data and config.\u001b[39;00m\n\u001b[1;32m    354\u001b[0m \u001b[38;5;124;03mThe result is also stored as ``self.forecast_result``.\u001b[39;00m\n\u001b[1;32m    355\u001b[0m \n\u001b[0;32m   (...)\u001b[0m\n\u001b[1;32m    373\u001b[0m \u001b[38;5;124;03m    according to the ``df`` and ``config`` configuration parameters.\u001b[39;00m\n\u001b[1;32m    374\u001b[0m \u001b[38;5;124;03m\"\"\"\u001b[39;00m\n\u001b[1;32m    375\u001b[0m pipeline_parameters \u001b[38;5;241m=\u001b[39m \u001b[38;5;28mself\u001b[39m\u001b[38;5;241m.\u001b[39mapply_forecast_config(\n\u001b[1;32m    376\u001b[0m     df\u001b[38;5;241m=\u001b[39mdf,\n\u001b[1;32m    377\u001b[0m     config\u001b[38;5;241m=\u001b[39mconfig)\n\u001b[0;32m--> 378\u001b[0m \u001b[38;5;28mself\u001b[39m\u001b[38;5;241m.\u001b[39mforecast_result \u001b[38;5;241m=\u001b[39m \u001b[43mforecast_pipeline\u001b[49m\u001b[43m(\u001b[49m\u001b[38;5;241;43m*\u001b[39;49m\u001b[38;5;241;43m*\u001b[39;49m\u001b[43mpipeline_parameters\u001b[49m\u001b[43m)\u001b[49m\n\u001b[1;32m    379\u001b[0m \u001b[38;5;28;01mreturn\u001b[39;00m \u001b[38;5;28mself\u001b[39m\u001b[38;5;241m.\u001b[39mforecast_result\n",
      "File \u001b[0;32m~/.pyenv/versions/3.10.6/envs/PDPA-virt_env/lib/python3.10/site-packages/greykite/framework/pipeline/pipeline.py:209\u001b[0m, in \u001b[0;36mvalidate_pipeline_input.<locals>.pipeline_wrapper\u001b[0;34m(df, time_col, value_col, date_format, tz, freq, train_end_date, anomaly_info, pipeline, regressor_cols, lagged_regressor_cols, estimator, hyperparameter_grid, hyperparameter_budget, n_jobs, verbose, forecast_horizon, coverage, test_horizon, periods_between_train_test, agg_periods, agg_func, score_func, score_func_greater_is_better, cv_report_metrics, null_model_params, relative_error_tolerance, cv_horizon, cv_min_train_periods, cv_expanding_window, cv_use_most_recent_splits, cv_periods_between_splits, cv_periods_between_train_test, cv_max_splits)\u001b[0m\n\u001b[1;32m    206\u001b[0m log_message(\u001b[38;5;124mf\u001b[39m\u001b[38;5;124m\"\u001b[39m\u001b[38;5;124mtest_horizon: \u001b[39m\u001b[38;5;132;01m{\u001b[39;00mtest_horizon\u001b[38;5;132;01m}\u001b[39;00m\u001b[38;5;124m\"\u001b[39m, LoggingLevelEnum\u001b[38;5;241m.\u001b[39mINFO)\n\u001b[1;32m    207\u001b[0m log_message(\u001b[38;5;124mf\u001b[39m\u001b[38;5;124m\"\u001b[39m\u001b[38;5;124mcv_horizon: \u001b[39m\u001b[38;5;132;01m{\u001b[39;00mcv_horizon\u001b[38;5;132;01m}\u001b[39;00m\u001b[38;5;124m\"\u001b[39m, LoggingLevelEnum\u001b[38;5;241m.\u001b[39mINFO)\n\u001b[0;32m--> 209\u001b[0m \u001b[38;5;28;01mreturn\u001b[39;00m \u001b[43mpipeline_function\u001b[49m\u001b[43m(\u001b[49m\n\u001b[1;32m    210\u001b[0m \u001b[43m    \u001b[49m\u001b[43mdf\u001b[49m\u001b[43m,\u001b[49m\n\u001b[1;32m    211\u001b[0m \u001b[43m    \u001b[49m\u001b[43mtime_col\u001b[49m\u001b[38;5;241;43m=\u001b[39;49m\u001b[43mtime_col\u001b[49m\u001b[43m,\u001b[49m\n\u001b[1;32m    212\u001b[0m \u001b[43m    \u001b[49m\u001b[43mvalue_col\u001b[49m\u001b[38;5;241;43m=\u001b[39;49m\u001b[43mvalue_col\u001b[49m\u001b[43m,\u001b[49m\n\u001b[1;32m    213\u001b[0m \u001b[43m    \u001b[49m\u001b[43mdate_format\u001b[49m\u001b[38;5;241;43m=\u001b[39;49m\u001b[43mdate_format\u001b[49m\u001b[43m,\u001b[49m\n\u001b[1;32m    214\u001b[0m \u001b[43m    \u001b[49m\u001b[43mtz\u001b[49m\u001b[38;5;241;43m=\u001b[39;49m\u001b[43mtz\u001b[49m\u001b[43m,\u001b[49m\n\u001b[1;32m    215\u001b[0m \u001b[43m    \u001b[49m\u001b[43mfreq\u001b[49m\u001b[38;5;241;43m=\u001b[39;49m\u001b[43mfreq\u001b[49m\u001b[43m,\u001b[49m\n\u001b[1;32m    216\u001b[0m \u001b[43m    \u001b[49m\u001b[43mtrain_end_date\u001b[49m\u001b[38;5;241;43m=\u001b[39;49m\u001b[43mtrain_end_date\u001b[49m\u001b[43m,\u001b[49m\n\u001b[1;32m    217\u001b[0m \u001b[43m    \u001b[49m\u001b[43manomaly_info\u001b[49m\u001b[38;5;241;43m=\u001b[39;49m\u001b[43manomaly_info\u001b[49m\u001b[43m,\u001b[49m\n\u001b[1;32m    218\u001b[0m \u001b[43m    \u001b[49m\u001b[43mpipeline\u001b[49m\u001b[38;5;241;43m=\u001b[39;49m\u001b[43mpipeline\u001b[49m\u001b[43m,\u001b[49m\n\u001b[1;32m    219\u001b[0m \u001b[43m    \u001b[49m\u001b[43mregressor_cols\u001b[49m\u001b[38;5;241;43m=\u001b[39;49m\u001b[43mregressor_cols\u001b[49m\u001b[43m,\u001b[49m\n\u001b[1;32m    220\u001b[0m \u001b[43m    \u001b[49m\u001b[43mlagged_regressor_cols\u001b[49m\u001b[38;5;241;43m=\u001b[39;49m\u001b[43mlagged_regressor_cols\u001b[49m\u001b[43m,\u001b[49m\n\u001b[1;32m    221\u001b[0m \u001b[43m    \u001b[49m\u001b[43mestimator\u001b[49m\u001b[38;5;241;43m=\u001b[39;49m\u001b[43mestimator\u001b[49m\u001b[43m,\u001b[49m\n\u001b[1;32m    222\u001b[0m \u001b[43m    \u001b[49m\u001b[43mhyperparameter_grid\u001b[49m\u001b[38;5;241;43m=\u001b[39;49m\u001b[43mhyperparameter_grid\u001b[49m\u001b[43m,\u001b[49m\n\u001b[1;32m    223\u001b[0m \u001b[43m    \u001b[49m\u001b[43mhyperparameter_budget\u001b[49m\u001b[38;5;241;43m=\u001b[39;49m\u001b[43mhyperparameter_budget\u001b[49m\u001b[43m,\u001b[49m\n\u001b[1;32m    224\u001b[0m \u001b[43m    \u001b[49m\u001b[43mn_jobs\u001b[49m\u001b[38;5;241;43m=\u001b[39;49m\u001b[43mn_jobs\u001b[49m\u001b[43m,\u001b[49m\n\u001b[1;32m    225\u001b[0m \u001b[43m    \u001b[49m\u001b[43mverbose\u001b[49m\u001b[38;5;241;43m=\u001b[39;49m\u001b[43mverbose\u001b[49m\u001b[43m,\u001b[49m\n\u001b[1;32m    226\u001b[0m \u001b[43m    \u001b[49m\u001b[43mforecast_horizon\u001b[49m\u001b[38;5;241;43m=\u001b[39;49m\u001b[43mforecast_horizon\u001b[49m\u001b[43m,\u001b[49m\n\u001b[1;32m    227\u001b[0m \u001b[43m    \u001b[49m\u001b[43mcoverage\u001b[49m\u001b[38;5;241;43m=\u001b[39;49m\u001b[43mcoverage\u001b[49m\u001b[43m,\u001b[49m\n\u001b[1;32m    228\u001b[0m \u001b[43m    \u001b[49m\u001b[43mtest_horizon\u001b[49m\u001b[38;5;241;43m=\u001b[39;49m\u001b[43mtest_horizon\u001b[49m\u001b[43m,\u001b[49m\n\u001b[1;32m    229\u001b[0m \u001b[43m    \u001b[49m\u001b[43mperiods_between_train_test\u001b[49m\u001b[38;5;241;43m=\u001b[39;49m\u001b[43mperiods_between_train_test\u001b[49m\u001b[43m,\u001b[49m\n\u001b[1;32m    230\u001b[0m \u001b[43m    \u001b[49m\u001b[43magg_periods\u001b[49m\u001b[38;5;241;43m=\u001b[39;49m\u001b[43magg_periods\u001b[49m\u001b[43m,\u001b[49m\n\u001b[1;32m    231\u001b[0m \u001b[43m    \u001b[49m\u001b[43magg_func\u001b[49m\u001b[38;5;241;43m=\u001b[39;49m\u001b[43magg_func\u001b[49m\u001b[43m,\u001b[49m\n\u001b[1;32m    232\u001b[0m \u001b[43m    \u001b[49m\u001b[43mscore_func\u001b[49m\u001b[38;5;241;43m=\u001b[39;49m\u001b[43mscore_func\u001b[49m\u001b[43m,\u001b[49m\n\u001b[1;32m    233\u001b[0m \u001b[43m    \u001b[49m\u001b[43mscore_func_greater_is_better\u001b[49m\u001b[38;5;241;43m=\u001b[39;49m\u001b[43mscore_func_greater_is_better\u001b[49m\u001b[43m,\u001b[49m\n\u001b[1;32m    234\u001b[0m \u001b[43m    \u001b[49m\u001b[43mcv_report_metrics\u001b[49m\u001b[38;5;241;43m=\u001b[39;49m\u001b[43mcv_report_metrics\u001b[49m\u001b[43m,\u001b[49m\n\u001b[1;32m    235\u001b[0m \u001b[43m    \u001b[49m\u001b[43mnull_model_params\u001b[49m\u001b[38;5;241;43m=\u001b[39;49m\u001b[43mnull_model_params\u001b[49m\u001b[43m,\u001b[49m\n\u001b[1;32m    236\u001b[0m \u001b[43m    \u001b[49m\u001b[43mrelative_error_tolerance\u001b[49m\u001b[38;5;241;43m=\u001b[39;49m\u001b[43mrelative_error_tolerance\u001b[49m\u001b[43m,\u001b[49m\n\u001b[1;32m    237\u001b[0m \u001b[43m    \u001b[49m\u001b[43mcv_horizon\u001b[49m\u001b[38;5;241;43m=\u001b[39;49m\u001b[43mcv_horizon\u001b[49m\u001b[43m,\u001b[49m\n\u001b[1;32m    238\u001b[0m \u001b[43m    \u001b[49m\u001b[43mcv_min_train_periods\u001b[49m\u001b[38;5;241;43m=\u001b[39;49m\u001b[43mcv_min_train_periods\u001b[49m\u001b[43m,\u001b[49m\n\u001b[1;32m    239\u001b[0m \u001b[43m    \u001b[49m\u001b[43mcv_expanding_window\u001b[49m\u001b[38;5;241;43m=\u001b[39;49m\u001b[43mcv_expanding_window\u001b[49m\u001b[43m,\u001b[49m\n\u001b[1;32m    240\u001b[0m \u001b[43m    \u001b[49m\u001b[43mcv_use_most_recent_splits\u001b[49m\u001b[38;5;241;43m=\u001b[39;49m\u001b[43mcv_use_most_recent_splits\u001b[49m\u001b[43m,\u001b[49m\n\u001b[1;32m    241\u001b[0m \u001b[43m    \u001b[49m\u001b[43mcv_periods_between_splits\u001b[49m\u001b[38;5;241;43m=\u001b[39;49m\u001b[43mcv_periods_between_splits\u001b[49m\u001b[43m,\u001b[49m\n\u001b[1;32m    242\u001b[0m \u001b[43m    \u001b[49m\u001b[43mcv_periods_between_train_test\u001b[49m\u001b[38;5;241;43m=\u001b[39;49m\u001b[43mcv_periods_between_train_test\u001b[49m\u001b[43m,\u001b[49m\n\u001b[1;32m    243\u001b[0m \u001b[43m    \u001b[49m\u001b[43mcv_max_splits\u001b[49m\u001b[38;5;241;43m=\u001b[39;49m\u001b[43mcv_max_splits\u001b[49m\n\u001b[1;32m    244\u001b[0m \u001b[43m\u001b[49m\u001b[43m)\u001b[49m\n",
      "File \u001b[0;32m~/.pyenv/versions/3.10.6/envs/PDPA-virt_env/lib/python3.10/site-packages/greykite/framework/pipeline/pipeline.py:710\u001b[0m, in \u001b[0;36mforecast_pipeline\u001b[0;34m(df, time_col, value_col, date_format, tz, freq, train_end_date, anomaly_info, pipeline, regressor_cols, lagged_regressor_cols, estimator, hyperparameter_grid, hyperparameter_budget, n_jobs, verbose, forecast_horizon, coverage, test_horizon, periods_between_train_test, agg_periods, agg_func, score_func, score_func_greater_is_better, cv_report_metrics, null_model_params, relative_error_tolerance, cv_horizon, cv_min_train_periods, cv_expanding_window, cv_use_most_recent_splits, cv_periods_between_splits, cv_periods_between_train_test, cv_max_splits)\u001b[0m\n\u001b[1;32m    696\u001b[0m     \u001b[38;5;66;03m# Defines grid search approach for CV\u001b[39;00m\n\u001b[1;32m    697\u001b[0m     grid_search \u001b[38;5;241m=\u001b[39m get_hyperparameter_searcher(\n\u001b[1;32m    698\u001b[0m         hyperparameter_grid\u001b[38;5;241m=\u001b[39mhyperparameter_grid,\n\u001b[1;32m    699\u001b[0m         model\u001b[38;5;241m=\u001b[39mpipeline,\n\u001b[0;32m   (...)\u001b[0m\n\u001b[1;32m    708\u001b[0m         agg_func\u001b[38;5;241m=\u001b[39magg_func,\n\u001b[1;32m    709\u001b[0m         relative_error_tolerance\u001b[38;5;241m=\u001b[39mrelative_error_tolerance)\n\u001b[0;32m--> 710\u001b[0m     \u001b[43mgrid_search\u001b[49m\u001b[38;5;241;43m.\u001b[39;49m\u001b[43mfit\u001b[49m\u001b[43m(\u001b[49m\u001b[43mtrain_df\u001b[49m\u001b[43m,\u001b[49m\u001b[43m \u001b[49m\u001b[43mtrain_y\u001b[49m\u001b[43m)\u001b[49m\n\u001b[1;32m    711\u001b[0m     best_estimator \u001b[38;5;241m=\u001b[39m grid_search\u001b[38;5;241m.\u001b[39mbest_estimator_\n\u001b[1;32m    713\u001b[0m \u001b[38;5;66;03m# Evaluates historical performance, fits model to all data (train+test)\u001b[39;00m\n",
      "File \u001b[0;32m~/.pyenv/versions/3.10.6/envs/PDPA-virt_env/lib/python3.10/site-packages/sklearn/model_selection/_search.py:875\u001b[0m, in \u001b[0;36mBaseSearchCV.fit\u001b[0;34m(self, X, y, groups, **fit_params)\u001b[0m\n\u001b[1;32m    869\u001b[0m     results \u001b[38;5;241m=\u001b[39m \u001b[38;5;28mself\u001b[39m\u001b[38;5;241m.\u001b[39m_format_results(\n\u001b[1;32m    870\u001b[0m         all_candidate_params, n_splits, all_out, all_more_results\n\u001b[1;32m    871\u001b[0m     )\n\u001b[1;32m    873\u001b[0m     \u001b[38;5;28;01mreturn\u001b[39;00m results\n\u001b[0;32m--> 875\u001b[0m \u001b[38;5;28;43mself\u001b[39;49m\u001b[38;5;241;43m.\u001b[39;49m\u001b[43m_run_search\u001b[49m\u001b[43m(\u001b[49m\u001b[43mevaluate_candidates\u001b[49m\u001b[43m)\u001b[49m\n\u001b[1;32m    877\u001b[0m \u001b[38;5;66;03m# multimetric is determined here because in the case of a callable\u001b[39;00m\n\u001b[1;32m    878\u001b[0m \u001b[38;5;66;03m# self.scoring the return type is only known after calling\u001b[39;00m\n\u001b[1;32m    879\u001b[0m first_test_score \u001b[38;5;241m=\u001b[39m all_out[\u001b[38;5;241m0\u001b[39m][\u001b[38;5;124m\"\u001b[39m\u001b[38;5;124mtest_scores\u001b[39m\u001b[38;5;124m\"\u001b[39m]\n",
      "File \u001b[0;32m~/.pyenv/versions/3.10.6/envs/PDPA-virt_env/lib/python3.10/site-packages/sklearn/model_selection/_search.py:1753\u001b[0m, in \u001b[0;36mRandomizedSearchCV._run_search\u001b[0;34m(self, evaluate_candidates)\u001b[0m\n\u001b[1;32m   1751\u001b[0m \u001b[38;5;28;01mdef\u001b[39;00m \u001b[38;5;21m_run_search\u001b[39m(\u001b[38;5;28mself\u001b[39m, evaluate_candidates):\n\u001b[1;32m   1752\u001b[0m     \u001b[38;5;124;03m\"\"\"Search n_iter candidates from param_distributions\"\"\"\u001b[39;00m\n\u001b[0;32m-> 1753\u001b[0m     \u001b[43mevaluate_candidates\u001b[49m\u001b[43m(\u001b[49m\n\u001b[1;32m   1754\u001b[0m \u001b[43m        \u001b[49m\u001b[43mParameterSampler\u001b[49m\u001b[43m(\u001b[49m\n\u001b[1;32m   1755\u001b[0m \u001b[43m            \u001b[49m\u001b[38;5;28;43mself\u001b[39;49m\u001b[38;5;241;43m.\u001b[39;49m\u001b[43mparam_distributions\u001b[49m\u001b[43m,\u001b[49m\u001b[43m \u001b[49m\u001b[38;5;28;43mself\u001b[39;49m\u001b[38;5;241;43m.\u001b[39;49m\u001b[43mn_iter\u001b[49m\u001b[43m,\u001b[49m\u001b[43m \u001b[49m\u001b[43mrandom_state\u001b[49m\u001b[38;5;241;43m=\u001b[39;49m\u001b[38;5;28;43mself\u001b[39;49m\u001b[38;5;241;43m.\u001b[39;49m\u001b[43mrandom_state\u001b[49m\n\u001b[1;32m   1756\u001b[0m \u001b[43m        \u001b[49m\u001b[43m)\u001b[49m\n\u001b[1;32m   1757\u001b[0m \u001b[43m    \u001b[49m\u001b[43m)\u001b[49m\n",
      "File \u001b[0;32m~/.pyenv/versions/3.10.6/envs/PDPA-virt_env/lib/python3.10/site-packages/sklearn/model_selection/_search.py:852\u001b[0m, in \u001b[0;36mBaseSearchCV.fit.<locals>.evaluate_candidates\u001b[0;34m(candidate_params, cv, more_results)\u001b[0m\n\u001b[1;32m    845\u001b[0m \u001b[38;5;28;01melif\u001b[39;00m \u001b[38;5;28mlen\u001b[39m(out) \u001b[38;5;241m!=\u001b[39m n_candidates \u001b[38;5;241m*\u001b[39m n_splits:\n\u001b[1;32m    846\u001b[0m     \u001b[38;5;28;01mraise\u001b[39;00m \u001b[38;5;167;01mValueError\u001b[39;00m(\n\u001b[1;32m    847\u001b[0m         \u001b[38;5;124m\"\u001b[39m\u001b[38;5;124mcv.split and cv.get_n_splits returned \u001b[39m\u001b[38;5;124m\"\u001b[39m\n\u001b[1;32m    848\u001b[0m         \u001b[38;5;124m\"\u001b[39m\u001b[38;5;124minconsistent results. Expected \u001b[39m\u001b[38;5;132;01m{}\u001b[39;00m\u001b[38;5;124m \u001b[39m\u001b[38;5;124m\"\u001b[39m\n\u001b[1;32m    849\u001b[0m         \u001b[38;5;124m\"\u001b[39m\u001b[38;5;124msplits, got \u001b[39m\u001b[38;5;132;01m{}\u001b[39;00m\u001b[38;5;124m\"\u001b[39m\u001b[38;5;241m.\u001b[39mformat(n_splits, \u001b[38;5;28mlen\u001b[39m(out) \u001b[38;5;241m/\u001b[39m\u001b[38;5;241m/\u001b[39m n_candidates)\n\u001b[1;32m    850\u001b[0m     )\n\u001b[0;32m--> 852\u001b[0m \u001b[43m_warn_or_raise_about_fit_failures\u001b[49m\u001b[43m(\u001b[49m\u001b[43mout\u001b[49m\u001b[43m,\u001b[49m\u001b[43m \u001b[49m\u001b[38;5;28;43mself\u001b[39;49m\u001b[38;5;241;43m.\u001b[39;49m\u001b[43merror_score\u001b[49m\u001b[43m)\u001b[49m\n\u001b[1;32m    854\u001b[0m \u001b[38;5;66;03m# For callable self.scoring, the return type is only know after\u001b[39;00m\n\u001b[1;32m    855\u001b[0m \u001b[38;5;66;03m# calling. If the return type is a dictionary, the error scores\u001b[39;00m\n\u001b[1;32m    856\u001b[0m \u001b[38;5;66;03m# can now be inserted with the correct key. The type checking\u001b[39;00m\n\u001b[1;32m    857\u001b[0m \u001b[38;5;66;03m# of out will be done in `_insert_error_scores`.\u001b[39;00m\n\u001b[1;32m    858\u001b[0m \u001b[38;5;28;01mif\u001b[39;00m callable(\u001b[38;5;28mself\u001b[39m\u001b[38;5;241m.\u001b[39mscoring):\n",
      "File \u001b[0;32m~/.pyenv/versions/3.10.6/envs/PDPA-virt_env/lib/python3.10/site-packages/sklearn/model_selection/_validation.py:367\u001b[0m, in \u001b[0;36m_warn_or_raise_about_fit_failures\u001b[0;34m(results, error_score)\u001b[0m\n\u001b[1;32m    360\u001b[0m \u001b[38;5;28;01mif\u001b[39;00m num_failed_fits \u001b[38;5;241m==\u001b[39m num_fits:\n\u001b[1;32m    361\u001b[0m     all_fits_failed_message \u001b[38;5;241m=\u001b[39m (\n\u001b[1;32m    362\u001b[0m         \u001b[38;5;124mf\u001b[39m\u001b[38;5;124m\"\u001b[39m\u001b[38;5;130;01m\\n\u001b[39;00m\u001b[38;5;124mAll the \u001b[39m\u001b[38;5;132;01m{\u001b[39;00mnum_fits\u001b[38;5;132;01m}\u001b[39;00m\u001b[38;5;124m fits failed.\u001b[39m\u001b[38;5;130;01m\\n\u001b[39;00m\u001b[38;5;124m\"\u001b[39m\n\u001b[1;32m    363\u001b[0m         \u001b[38;5;124m\"\u001b[39m\u001b[38;5;124mIt is very likely that your model is misconfigured.\u001b[39m\u001b[38;5;130;01m\\n\u001b[39;00m\u001b[38;5;124m\"\u001b[39m\n\u001b[1;32m    364\u001b[0m         \u001b[38;5;124m\"\u001b[39m\u001b[38;5;124mYou can try to debug the error by setting error_score=\u001b[39m\u001b[38;5;124m'\u001b[39m\u001b[38;5;124mraise\u001b[39m\u001b[38;5;124m'\u001b[39m\u001b[38;5;124m.\u001b[39m\u001b[38;5;130;01m\\n\u001b[39;00m\u001b[38;5;130;01m\\n\u001b[39;00m\u001b[38;5;124m\"\u001b[39m\n\u001b[1;32m    365\u001b[0m         \u001b[38;5;124mf\u001b[39m\u001b[38;5;124m\"\u001b[39m\u001b[38;5;124mBelow are more details about the failures:\u001b[39m\u001b[38;5;130;01m\\n\u001b[39;00m\u001b[38;5;132;01m{\u001b[39;00mfit_errors_summary\u001b[38;5;132;01m}\u001b[39;00m\u001b[38;5;124m\"\u001b[39m\n\u001b[1;32m    366\u001b[0m     )\n\u001b[0;32m--> 367\u001b[0m     \u001b[38;5;28;01mraise\u001b[39;00m \u001b[38;5;167;01mValueError\u001b[39;00m(all_fits_failed_message)\n\u001b[1;32m    369\u001b[0m \u001b[38;5;28;01melse\u001b[39;00m:\n\u001b[1;32m    370\u001b[0m     some_fits_failed_message \u001b[38;5;241m=\u001b[39m (\n\u001b[1;32m    371\u001b[0m         \u001b[38;5;124mf\u001b[39m\u001b[38;5;124m\"\u001b[39m\u001b[38;5;130;01m\\n\u001b[39;00m\u001b[38;5;132;01m{\u001b[39;00mnum_failed_fits\u001b[38;5;132;01m}\u001b[39;00m\u001b[38;5;124m fits failed out of a total of \u001b[39m\u001b[38;5;132;01m{\u001b[39;00mnum_fits\u001b[38;5;132;01m}\u001b[39;00m\u001b[38;5;124m.\u001b[39m\u001b[38;5;130;01m\\n\u001b[39;00m\u001b[38;5;124m\"\u001b[39m\n\u001b[1;32m    372\u001b[0m         \u001b[38;5;124m\"\u001b[39m\u001b[38;5;124mThe score on these train-test partitions for these parameters\u001b[39m\u001b[38;5;124m\"\u001b[39m\n\u001b[0;32m   (...)\u001b[0m\n\u001b[1;32m    376\u001b[0m         \u001b[38;5;124mf\u001b[39m\u001b[38;5;124m\"\u001b[39m\u001b[38;5;124mBelow are more details about the failures:\u001b[39m\u001b[38;5;130;01m\\n\u001b[39;00m\u001b[38;5;132;01m{\u001b[39;00mfit_errors_summary\u001b[38;5;132;01m}\u001b[39;00m\u001b[38;5;124m\"\u001b[39m\n\u001b[1;32m    377\u001b[0m     )\n",
      "\u001b[0;31mValueError\u001b[0m: \nAll the 3 fits failed.\nIt is very likely that your model is misconfigured.\nYou can try to debug the error by setting error_score='raise'.\n\nBelow are more details about the failures:\n--------------------------------------------------------------------------------\n1 fits failed with the following error:\nTraceback (most recent call last):\n  File \"/Users/Edouard_1/.pyenv/versions/3.10.6/envs/PDPA-virt_env/lib/python3.10/site-packages/sklearn/model_selection/_validation.py\", line 686, in _fit_and_score\n    estimator.fit(X_train, y_train, **fit_params)\n  File \"/Users/Edouard_1/.pyenv/versions/3.10.6/envs/PDPA-virt_env/lib/python3.10/site-packages/sklearn/pipeline.py\", line 382, in fit\n    self._final_estimator.fit(Xt, y, **fit_params_last_step)\n  File \"/Users/Edouard_1/.pyenv/versions/3.10.6/envs/PDPA-virt_env/lib/python3.10/site-packages/greykite/sklearn/estimator/prophet_estimator.py\", line 252, in fit\n    self.model.fit(fit_df)\n  File \"/Users/Edouard_1/.pyenv/versions/3.10.6/envs/PDPA-virt_env/lib/python3.10/site-packages/prophet/forecaster.py\", line 1174, in fit\n    self.params = self.stan_backend.fit(stan_init, dat, **kwargs)\n  File \"/Users/Edouard_1/.pyenv/versions/3.10.6/envs/PDPA-virt_env/lib/python3.10/site-packages/prophet/models.py\", line 100, in fit\n    raise e\n  File \"/Users/Edouard_1/.pyenv/versions/3.10.6/envs/PDPA-virt_env/lib/python3.10/site-packages/prophet/models.py\", line 96, in fit\n    self.stan_fit = self.model.optimize(**args)\n  File \"/Users/Edouard_1/.pyenv/versions/3.10.6/envs/PDPA-virt_env/lib/python3.10/site-packages/cmdstanpy/model.py\", line 725, in optimize\n    raise RuntimeError(msg)\nRuntimeError: Error during optimization! Command '/Users/Edouard_1/.pyenv/versions/3.10.6/envs/PDPA-virt_env/lib/python3.10/site-packages/prophet/stan_model/prophet_model.bin random seed=6814 data file=/var/folders/5r/4vh837mj0yz7906w_9ntwqfm0000gn/T/tmpy45iu8cf/c8jtw0wb.json init=/var/folders/5r/4vh837mj0yz7906w_9ntwqfm0000gn/T/tmpy45iu8cf/otk6c2g1.json output file=/var/folders/5r/4vh837mj0yz7906w_9ntwqfm0000gn/T/tmpy45iu8cf/prophet_modelg1uodp_6/prophet_model-20221207001518.csv method=optimize algorithm=newton iter=10000' failed: console log output:\n\ndyld[30371]: Library not loaded: '@rpath/libtbb.dylib'\n  Referenced from: '/Users/Edouard_1/.pyenv/versions/3.10.6/envs/PDPA-virt_env/lib/python3.10/site-packages/prophet/stan_model/prophet_model.bin'\n  Reason: tried: '/private/var/folders/5r/4vh837mj0yz7906w_9ntwqfm0000gn/T/pip-install-idf3qw68/prophet_b658c2e8e9f843428a35deb8bc9ea62d/build/lib.macosx-12.5-arm64-cpython-310/prophet/stan_model/cmdstan-2.26.1/stan/lib/stan_math/lib/tbb/libtbb.dylib' (no such file), '/private/var/folders/5r/4vh837mj0yz7906w_9ntwqfm0000gn/T/pip-install-idf3qw68/prophet_b658c2e8e9f843428a35deb8bc9ea62d/build/lib.macosx-12.5-arm64-cpython-310/prophet/stan_model/cmdstan-2.26.1/stan/lib/stan_math/lib/tbb/libtbb.dylib' (no such file), '/usr/local/lib/libtbb.dylib' (no such file), '/usr/lib/libtbb.dylib' (no such file)\n\n\n--------------------------------------------------------------------------------\n1 fits failed with the following error:\nTraceback (most recent call last):\n  File \"/Users/Edouard_1/.pyenv/versions/3.10.6/envs/PDPA-virt_env/lib/python3.10/site-packages/prophet/models.py\", line 96, in fit\n    self.stan_fit = self.model.optimize(**args)\n  File \"/Users/Edouard_1/.pyenv/versions/3.10.6/envs/PDPA-virt_env/lib/python3.10/site-packages/cmdstanpy/model.py\", line 725, in optimize\n    raise RuntimeError(msg)\nRuntimeError: Error during optimization! Command '/Users/Edouard_1/.pyenv/versions/3.10.6/envs/PDPA-virt_env/lib/python3.10/site-packages/prophet/stan_model/prophet_model.bin random seed=54449 data file=/var/folders/5r/4vh837mj0yz7906w_9ntwqfm0000gn/T/tmpy45iu8cf/67i4yk5k.json init=/var/folders/5r/4vh837mj0yz7906w_9ntwqfm0000gn/T/tmpy45iu8cf/avhq5edm.json output file=/var/folders/5r/4vh837mj0yz7906w_9ntwqfm0000gn/T/tmpy45iu8cf/prophet_modelv3ujh_3q/prophet_model-20221207001518.csv method=optimize algorithm=lbfgs iter=10000' failed: console log output:\n\ndyld[30372]: Library not loaded: '@rpath/libtbb.dylib'\n  Referenced from: '/Users/Edouard_1/.pyenv/versions/3.10.6/envs/PDPA-virt_env/lib/python3.10/site-packages/prophet/stan_model/prophet_model.bin'\n  Reason: tried: '/private/var/folders/5r/4vh837mj0yz7906w_9ntwqfm0000gn/T/pip-install-idf3qw68/prophet_b658c2e8e9f843428a35deb8bc9ea62d/build/lib.macosx-12.5-arm64-cpython-310/prophet/stan_model/cmdstan-2.26.1/stan/lib/stan_math/lib/tbb/libtbb.dylib' (no such file), '/private/var/folders/5r/4vh837mj0yz7906w_9ntwqfm0000gn/T/pip-install-idf3qw68/prophet_b658c2e8e9f843428a35deb8bc9ea62d/build/lib.macosx-12.5-arm64-cpython-310/prophet/stan_model/cmdstan-2.26.1/stan/lib/stan_math/lib/tbb/libtbb.dylib' (no such file), '/usr/local/lib/libtbb.dylib' (no such file), '/usr/lib/libtbb.dylib' (no such file)\n\n\nDuring handling of the above exception, another exception occurred:\n\nTraceback (most recent call last):\n  File \"/Users/Edouard_1/.pyenv/versions/3.10.6/envs/PDPA-virt_env/lib/python3.10/site-packages/sklearn/model_selection/_validation.py\", line 686, in _fit_and_score\n    estimator.fit(X_train, y_train, **fit_params)\n  File \"/Users/Edouard_1/.pyenv/versions/3.10.6/envs/PDPA-virt_env/lib/python3.10/site-packages/sklearn/pipeline.py\", line 382, in fit\n    self._final_estimator.fit(Xt, y, **fit_params_last_step)\n  File \"/Users/Edouard_1/.pyenv/versions/3.10.6/envs/PDPA-virt_env/lib/python3.10/site-packages/greykite/sklearn/estimator/prophet_estimator.py\", line 252, in fit\n    self.model.fit(fit_df)\n  File \"/Users/Edouard_1/.pyenv/versions/3.10.6/envs/PDPA-virt_env/lib/python3.10/site-packages/prophet/forecaster.py\", line 1174, in fit\n    self.params = self.stan_backend.fit(stan_init, dat, **kwargs)\n  File \"/Users/Edouard_1/.pyenv/versions/3.10.6/envs/PDPA-virt_env/lib/python3.10/site-packages/prophet/models.py\", line 103, in fit\n    self.stan_fit = self.model.optimize(**args)\n  File \"/Users/Edouard_1/.pyenv/versions/3.10.6/envs/PDPA-virt_env/lib/python3.10/site-packages/cmdstanpy/model.py\", line 725, in optimize\n    raise RuntimeError(msg)\nRuntimeError: Error during optimization! Command '/Users/Edouard_1/.pyenv/versions/3.10.6/envs/PDPA-virt_env/lib/python3.10/site-packages/prophet/stan_model/prophet_model.bin random seed=3011 data file=/var/folders/5r/4vh837mj0yz7906w_9ntwqfm0000gn/T/tmpy45iu8cf/96rkm6ik.json init=/var/folders/5r/4vh837mj0yz7906w_9ntwqfm0000gn/T/tmpy45iu8cf/qe409310.json output file=/var/folders/5r/4vh837mj0yz7906w_9ntwqfm0000gn/T/tmpy45iu8cf/prophet_model2edgh3ll/prophet_model-20221207001519.csv method=optimize algorithm=newton iter=10000' failed: console log output:\n\ndyld[30373]: Library not loaded: '@rpath/libtbb.dylib'\n  Referenced from: '/Users/Edouard_1/.pyenv/versions/3.10.6/envs/PDPA-virt_env/lib/python3.10/site-packages/prophet/stan_model/prophet_model.bin'\n  Reason: tried: '/private/var/folders/5r/4vh837mj0yz7906w_9ntwqfm0000gn/T/pip-install-idf3qw68/prophet_b658c2e8e9f843428a35deb8bc9ea62d/build/lib.macosx-12.5-arm64-cpython-310/prophet/stan_model/cmdstan-2.26.1/stan/lib/stan_math/lib/tbb/libtbb.dylib' (no such file), '/private/var/folders/5r/4vh837mj0yz7906w_9ntwqfm0000gn/T/pip-install-idf3qw68/prophet_b658c2e8e9f843428a35deb8bc9ea62d/build/lib.macosx-12.5-arm64-cpython-310/prophet/stan_model/cmdstan-2.26.1/stan/lib/stan_math/lib/tbb/libtbb.dylib' (no such file), '/usr/local/lib/libtbb.dylib' (no such file), '/usr/lib/libtbb.dylib' (no such file)\n\n\n--------------------------------------------------------------------------------\n1 fits failed with the following error:\nTraceback (most recent call last):\n  File \"/Users/Edouard_1/.pyenv/versions/3.10.6/envs/PDPA-virt_env/lib/python3.10/site-packages/prophet/models.py\", line 96, in fit\n    self.stan_fit = self.model.optimize(**args)\n  File \"/Users/Edouard_1/.pyenv/versions/3.10.6/envs/PDPA-virt_env/lib/python3.10/site-packages/cmdstanpy/model.py\", line 725, in optimize\n    raise RuntimeError(msg)\nRuntimeError: Error during optimization! Command '/Users/Edouard_1/.pyenv/versions/3.10.6/envs/PDPA-virt_env/lib/python3.10/site-packages/prophet/stan_model/prophet_model.bin random seed=96470 data file=/var/folders/5r/4vh837mj0yz7906w_9ntwqfm0000gn/T/tmpy45iu8cf/vi581aab.json init=/var/folders/5r/4vh837mj0yz7906w_9ntwqfm0000gn/T/tmpy45iu8cf/zxv9im1s.json output file=/var/folders/5r/4vh837mj0yz7906w_9ntwqfm0000gn/T/tmpy45iu8cf/prophet_model8fq1okb0/prophet_model-20221207001519.csv method=optimize algorithm=lbfgs iter=10000' failed: console log output:\n\ndyld[30374]: Library not loaded: '@rpath/libtbb.dylib'\n  Referenced from: '/Users/Edouard_1/.pyenv/versions/3.10.6/envs/PDPA-virt_env/lib/python3.10/site-packages/prophet/stan_model/prophet_model.bin'\n  Reason: tried: '/private/var/folders/5r/4vh837mj0yz7906w_9ntwqfm0000gn/T/pip-install-idf3qw68/prophet_b658c2e8e9f843428a35deb8bc9ea62d/build/lib.macosx-12.5-arm64-cpython-310/prophet/stan_model/cmdstan-2.26.1/stan/lib/stan_math/lib/tbb/libtbb.dylib' (no such file), '/private/var/folders/5r/4vh837mj0yz7906w_9ntwqfm0000gn/T/pip-install-idf3qw68/prophet_b658c2e8e9f843428a35deb8bc9ea62d/build/lib.macosx-12.5-arm64-cpython-310/prophet/stan_model/cmdstan-2.26.1/stan/lib/stan_math/lib/tbb/libtbb.dylib' (no such file), '/usr/local/lib/libtbb.dylib' (no such file), '/usr/lib/libtbb.dylib' (no such file)\n\n\nDuring handling of the above exception, another exception occurred:\n\nTraceback (most recent call last):\n  File \"/Users/Edouard_1/.pyenv/versions/3.10.6/envs/PDPA-virt_env/lib/python3.10/site-packages/sklearn/model_selection/_validation.py\", line 686, in _fit_and_score\n    estimator.fit(X_train, y_train, **fit_params)\n  File \"/Users/Edouard_1/.pyenv/versions/3.10.6/envs/PDPA-virt_env/lib/python3.10/site-packages/sklearn/pipeline.py\", line 382, in fit\n    self._final_estimator.fit(Xt, y, **fit_params_last_step)\n  File \"/Users/Edouard_1/.pyenv/versions/3.10.6/envs/PDPA-virt_env/lib/python3.10/site-packages/greykite/sklearn/estimator/prophet_estimator.py\", line 252, in fit\n    self.model.fit(fit_df)\n  File \"/Users/Edouard_1/.pyenv/versions/3.10.6/envs/PDPA-virt_env/lib/python3.10/site-packages/prophet/forecaster.py\", line 1174, in fit\n    self.params = self.stan_backend.fit(stan_init, dat, **kwargs)\n  File \"/Users/Edouard_1/.pyenv/versions/3.10.6/envs/PDPA-virt_env/lib/python3.10/site-packages/prophet/models.py\", line 103, in fit\n    self.stan_fit = self.model.optimize(**args)\n  File \"/Users/Edouard_1/.pyenv/versions/3.10.6/envs/PDPA-virt_env/lib/python3.10/site-packages/cmdstanpy/model.py\", line 725, in optimize\n    raise RuntimeError(msg)\nRuntimeError: Error during optimization! Command '/Users/Edouard_1/.pyenv/versions/3.10.6/envs/PDPA-virt_env/lib/python3.10/site-packages/prophet/stan_model/prophet_model.bin random seed=69289 data file=/var/folders/5r/4vh837mj0yz7906w_9ntwqfm0000gn/T/tmpy45iu8cf/8_x843tn.json init=/var/folders/5r/4vh837mj0yz7906w_9ntwqfm0000gn/T/tmpy45iu8cf/u4vri687.json output file=/var/folders/5r/4vh837mj0yz7906w_9ntwqfm0000gn/T/tmpy45iu8cf/prophet_model25y72b9o/prophet_model-20221207001520.csv method=optimize algorithm=newton iter=10000' failed: console log output:\n\ndyld[30375]: Library not loaded: '@rpath/libtbb.dylib'\n  Referenced from: '/Users/Edouard_1/.pyenv/versions/3.10.6/envs/PDPA-virt_env/lib/python3.10/site-packages/prophet/stan_model/prophet_model.bin'\n  Reason: tried: '/private/var/folders/5r/4vh837mj0yz7906w_9ntwqfm0000gn/T/pip-install-idf3qw68/prophet_b658c2e8e9f843428a35deb8bc9ea62d/build/lib.macosx-12.5-arm64-cpython-310/prophet/stan_model/cmdstan-2.26.1/stan/lib/stan_math/lib/tbb/libtbb.dylib' (no such file), '/private/var/folders/5r/4vh837mj0yz7906w_9ntwqfm0000gn/T/pip-install-idf3qw68/prophet_b658c2e8e9f843428a35deb8bc9ea62d/build/lib.macosx-12.5-arm64-cpython-310/prophet/stan_model/cmdstan-2.26.1/stan/lib/stan_math/lib/tbb/libtbb.dylib' (no such file), '/usr/local/lib/libtbb.dylib' (no such file), '/usr/lib/libtbb.dylib' (no such file)\n\n"
     ]
    }
   ],
   "source": [
    "import logging\n",
    "forecaster = Forecaster()\n",
    "logging.getLogger('prophet').setLevel(logging.WARNING) #not printing log\n",
    "logging.getLogger('cmdstanpy').setLevel(logging.WARNING) #not printing log\n",
    "result = forecaster.run_forecast_config(df=df_raw, config=config) \n",
    "model_prophet = result.model\n",
    "\n",
    "\n"
   ]
  },
  {
   "cell_type": "markdown",
   "metadata": {
    "id": "WYkcnP9mnmer"
   },
   "source": [
    "Now that your model predicted a forecast, you will be able to access these results"
   ]
  },
  {
   "cell_type": "markdown",
   "metadata": {
    "id": "o-clJha4ccdJ"
   },
   "source": [
    "### Evaluate your forecast"
   ]
  },
  {
   "cell_type": "markdown",
   "metadata": {
    "id": "HTw47ij_KkqL"
   },
   "source": [
    "We can access the result of the prediction with `result.forecast` and we can evaluate the performance with `result.forecast.test_evalution`. \n",
    "Find the same metric as the Arima model and assign it to a `score_prophet` variable."
   ]
  },
  {
   "cell_type": "code",
   "execution_count": 13,
   "metadata": {
    "colab": {
     "base_uri": "https://localhost:8080/",
     "height": 424
    },
    "id": "c9hHx2-5wB4O",
    "outputId": "decf6315-f32b-4799-eefc-408d4480ec36"
   },
   "outputs": [
    {
     "ename": "NameError",
     "evalue": "name 'result' is not defined",
     "output_type": "error",
     "traceback": [
      "\u001b[0;31m---------------------------------------------------------------------------\u001b[0m",
      "\u001b[0;31mNameError\u001b[0m                                 Traceback (most recent call last)",
      "Cell \u001b[0;32mIn[13], line 1\u001b[0m\n\u001b[0;32m----> 1\u001b[0m df_result \u001b[38;5;241m=\u001b[39m \u001b[43mresult\u001b[49m\u001b[38;5;241m.\u001b[39mforecast\u001b[38;5;241m.\u001b[39mdf\n\u001b[1;32m      2\u001b[0m df_result\n",
      "\u001b[0;31mNameError\u001b[0m: name 'result' is not defined"
     ]
    }
   ],
   "source": [
    "df_result = result.forecast.df\n",
    "df_result\n",
    "\n"
   ]
  },
  {
   "cell_type": "code",
   "execution_count": 14,
   "metadata": {
    "id": "mHMOIflitx8A"
   },
   "outputs": [
    {
     "ename": "NameError",
     "evalue": "name 'df_result' is not defined",
     "output_type": "error",
     "traceback": [
      "\u001b[0;31m---------------------------------------------------------------------------\u001b[0m",
      "\u001b[0;31mNameError\u001b[0m                                 Traceback (most recent call last)",
      "Cell \u001b[0;32mIn[14], line 1\u001b[0m\n\u001b[0;32m----> 1\u001b[0m df_result[\u001b[38;5;124m'\u001b[39m\u001b[38;5;124mforecastclass\u001b[39m\u001b[38;5;124m'\u001b[39m]\u001b[38;5;241m=\u001b[39m\u001b[38;5;28mround\u001b[39m(\u001b[43mdf_result\u001b[49m[\u001b[38;5;124m'\u001b[39m\u001b[38;5;124mforecast\u001b[39m\u001b[38;5;124m'\u001b[39m])\u001b[38;5;241m.\u001b[39mastype(\u001b[38;5;28mint\u001b[39m)\n",
      "\u001b[0;31mNameError\u001b[0m: name 'df_result' is not defined"
     ]
    }
   ],
   "source": [
    "df_result['forecastclass']=round(df_result['forecast']).astype(int)\n",
    "\n"
   ]
  },
  {
   "cell_type": "code",
   "execution_count": 11,
   "metadata": {
    "id": "B3cCw-7wudBD"
   },
   "outputs": [],
   "source": [
    "df_result.dropna(inplace=True)"
   ]
  },
  {
   "cell_type": "code",
   "execution_count": 12,
   "metadata": {
    "colab": {
     "base_uri": "https://localhost:8080/"
    },
    "id": "XF9kanAvuDQL",
    "outputId": "a183491a-e6f5-4f05-ce2b-8e36a87027d3"
   },
   "outputs": [
    {
     "data": {
      "text/plain": [
       "0.5454032712915962"
      ]
     },
     "execution_count": 12,
     "metadata": {},
     "output_type": "execute_result"
    }
   ],
   "source": [
    "from sklearn.metrics import accuracy_score\n",
    "accuracy_score(df_result['actual'], df_result['forecastclass'])"
   ]
  },
  {
   "cell_type": "code",
   "execution_count": 13,
   "metadata": {
    "colab": {
     "base_uri": "https://localhost:8080/"
    },
    "id": "5NF68fhgarWG",
    "outputId": "dac24caf-a926-4ba6-8d99-87c86dc46c39"
   },
   "outputs": [
    {
     "ename": "TypeError",
     "evalue": "type NoneType doesn't define __round__ method",
     "output_type": "error",
     "traceback": [
      "\u001b[0;31m---------------------------------------------------------------------------\u001b[0m",
      "\u001b[0;31mTypeError\u001b[0m                                 Traceback (most recent call last)",
      "Cell \u001b[0;32mIn [13], line 1\u001b[0m\n\u001b[0;32m----> 1\u001b[0m \u001b[38;5;28mprint\u001b[39m(\u001b[38;5;124mf\u001b[39m\u001b[38;5;124m\"\u001b[39m\u001b[38;5;124mThe MAPE of Prophet model is \u001b[39m\u001b[38;5;132;01m{\u001b[39;00m\u001b[38;5;28;43mround\u001b[39;49m\u001b[43m(\u001b[49m\u001b[43mresult\u001b[49m\u001b[38;5;241;43m.\u001b[39;49m\u001b[43mforecast\u001b[49m\u001b[38;5;241;43m.\u001b[39;49m\u001b[43mtest_evaluation\u001b[49m\u001b[43m[\u001b[49m\u001b[38;5;124;43m'\u001b[39;49m\u001b[38;5;124;43mMAPE\u001b[39;49m\u001b[38;5;124;43m'\u001b[39;49m\u001b[43m]\u001b[49m\u001b[43m)\u001b[49m\u001b[38;5;132;01m}\u001b[39;00m\u001b[38;5;124m%\u001b[39m\u001b[38;5;124m\"\u001b[39m)\n",
      "\u001b[0;31mTypeError\u001b[0m: type NoneType doesn't define __round__ method"
     ]
    }
   ],
   "source": [
    "print(f\"The MAPE of Prophet model is {round(result.forecast.test_evaluation['MAPE'])}%\")"
   ]
  },
  {
   "cell_type": "markdown",
   "metadata": {
    "id": "24StFwxpzCDN"
   },
   "source": []
  },
  {
   "cell_type": "markdown",
   "metadata": {
    "id": "c5rUvZKCZhUr"
   },
   "source": [
    "Is this model better than ARIMA ?"
   ]
  },
  {
   "cell_type": "markdown",
   "metadata": {
    "id": "b6nMM-7SLmIi"
   },
   "source": [
    "We also have access to `result.backtest` information from the cross-validation method but we're not going to use this today. "
   ]
  },
  {
   "cell_type": "markdown",
   "metadata": {
    "id": "AcbAq3OaMdqb"
   },
   "source": [
    "### Plot the forecast"
   ]
  },
  {
   "cell_type": "markdown",
   "metadata": {
    "id": "EFsl9U1nMhel"
   },
   "source": [
    "Greykite library has its own fancy plot function that integrate the upper and lower bound of the prediction.\n",
    "\n",
    "Remember that you can zoom on plotly graph"
   ]
  },
  {
   "cell_type": "code",
   "execution_count": null,
   "metadata": {
    "colab": {
     "base_uri": "https://localhost:8080/",
     "height": 542
    },
    "id": "NYObZQEXz5Lp",
    "outputId": "768d477e-5be8-46f5-b78b-66a7fb21e17c"
   },
   "outputs": [],
   "source": [
    "result.forecast.plot()"
   ]
  },
  {
   "cell_type": "markdown",
   "metadata": {
    "id": "i_BXsJ_nXwtv"
   },
   "source": [
    "### Custom the model with specific holidays and seasonality"
   ]
  },
  {
   "cell_type": "markdown",
   "metadata": {
    "id": "Ef2DCYQrbdvI"
   },
   "source": [
    "Facebook Prophet model proposes us to integrate holidays and seasonality to the algorithm.\n",
    "\n",
    "We would like to custom them based on our understanding of the data.\n",
    "\n",
    "Try to query the table `sales` in BigQuery to find out where the higher number of sales is made. \n",
    "We will specify the model which country holidays should impact most the turnover.\n",
    "\n",
    "Do not erase your `df` dataset, choose an other name !"
   ]
  },
  {
   "cell_type": "markdown",
   "metadata": {
    "id": "AeyaoTArf4MA"
   },
   "source": [
    "<details>\n",
    "    <summary><i>Hint</i></summary>\n",
    "use `COUNT(*)`, `GROUP BY` and `ORDER BY` to query the top 3 countries which have the higher number of sales. \n",
    "</details>        "
   ]
  },
  {
   "cell_type": "code",
   "execution_count": null,
   "metadata": {
    "id": "StnAweZ0Y1GQ"
   },
   "outputs": [],
   "source": [
    "# $CHA_BEGIN\n",
    "config_holidays = ForecastConfig(\n",
    "    metadata_param = MetadataParam(\n",
    "      time_col = \"Date_time\",\n",
    "      value_col = \"ATMO\",\n",
    "      train_end_date = datetime.datetime(2022, 11, 1)),\n",
    "    model_template = \"PROPHET\",\n",
    "    forecast_horizon = 7,\n",
    "    coverage = 0.95,\n",
    "    model_components_param = ModelComponentsParam(\n",
    "     seasonality={\"yearly_seasonality\": True, 'daily_seasonality':True},\n",
    "     events = {\n",
    "         \"holiday_lookup_countries\": [\"France\"],\n",
    "         \"holiday_pre_num_days\": [0],\n",
    "         \"holiday_post_num_days\": [0],\n",
    "     }))\n",
    "\n",
    "\n",
    "# $CHA_END"
   ]
  },
  {
   "cell_type": "code",
   "execution_count": null,
   "metadata": {
    "colab": {
     "base_uri": "https://localhost:8080/"
    },
    "id": "w6tJimKnY60L",
    "outputId": "5cb93e6b-f573-45ff-f801-cc99f085e38e"
   },
   "outputs": [],
   "source": [
    "result_custom = Forecaster().run_forecast_config(\n",
    "    df = df_preproc,\n",
    "    config = config_holidays)\n",
    "model_prophet_custom = result_custom.model"
   ]
  },
  {
   "cell_type": "markdown",
   "metadata": {
    "id": "3KeRXdZGqEv_"
   },
   "source": [
    "Assign the MAPE to the variable `score_prophet_custom`"
   ]
  },
  {
   "cell_type": "code",
   "execution_count": null,
   "metadata": {
    "colab": {
     "base_uri": "https://localhost:8080/",
     "height": 424
    },
    "id": "muyzQiaxzZ7s",
    "outputId": "dd6880f2-2439-4d2a-c9bb-f93ab4af81f1"
   },
   "outputs": [],
   "source": [
    "df_result_custom = result_custom.forecast.df\n",
    "df_result_custom"
   ]
  },
  {
   "cell_type": "code",
   "execution_count": null,
   "metadata": {
    "id": "RNIIFDefzZ4R"
   },
   "outputs": [],
   "source": [
    "df_result_custom['forecastclass']=round(df_result_custom['forecast']).astype(int)"
   ]
  },
  {
   "cell_type": "code",
   "execution_count": null,
   "metadata": {
    "id": "0kIFhXRCzZ1a"
   },
   "outputs": [],
   "source": [
    "df_result_custom.dropna(inplace=True)"
   ]
  },
  {
   "cell_type": "code",
   "execution_count": null,
   "metadata": {
    "colab": {
     "base_uri": "https://localhost:8080/"
    },
    "id": "JiAgPyLZzZyB",
    "outputId": "f7abfdd8-bcbf-4bda-9024-7e9a9c2c9097"
   },
   "outputs": [],
   "source": [
    "from sklearn.metrics import accuracy_score\n",
    "accuracy_score(df_result_custom['actual'], df_result_custom['forecastclass'])"
   ]
  },
  {
   "cell_type": "code",
   "execution_count": null,
   "metadata": {
    "id": "IZ9JTJY-zZvt"
   },
   "outputs": [],
   "source": [
    "print(f\"The MAPE of Prophet model is {round(result_custom.forecast.test_evaluation['MAPE'])}%\")"
   ]
  },
  {
   "cell_type": "code",
   "execution_count": null,
   "metadata": {
    "colab": {
     "base_uri": "https://localhost:8080/",
     "height": 416
    },
    "id": "A9M_Ahrswuen",
    "outputId": "e3cc057b-391f-4fb2-b8fd-c98fd0931441"
   },
   "outputs": [],
   "source": [
    "result_custom.forecast.plot_components()"
   ]
  },
  {
   "cell_type": "markdown",
   "metadata": {
    "id": "o1UdL399a69D"
   },
   "source": [
    "The time serie will be the addition of all these series."
   ]
  },
  {
   "cell_type": "code",
   "execution_count": null,
   "metadata": {},
   "outputs": [],
   "source": []
  }
 ],
 "metadata": {
  "colab": {
   "collapsed_sections": [
    "42HaDz-xtzYj",
    "og59A3NDvVbr",
    "V854WTYLNDjE",
    "8JZEt3eRNLkF"
   ],
   "provenance": []
  },
  "kernelspec": {
   "display_name": "Python 3 (ipykernel)",
   "language": "python",
   "name": "python3"
  },
  "language_info": {
   "codemirror_mode": {
    "name": "ipython",
    "version": 3
   },
   "file_extension": ".py",
   "mimetype": "text/x-python",
   "name": "python",
   "nbconvert_exporter": "python",
   "pygments_lexer": "ipython3",
   "version": "3.10.6"
  },
  "toc": {
   "base_numbering": 1,
   "nav_menu": {},
   "number_sections": true,
   "sideBar": true,
   "skip_h1_title": false,
   "title_cell": "Table of Contents",
   "title_sidebar": "Contents",
   "toc_cell": false,
   "toc_position": {},
   "toc_section_display": true,
   "toc_window_display": false
  },
  "varInspector": {
   "cols": {
    "lenName": 16,
    "lenType": 16,
    "lenVar": 40
   },
   "kernels_config": {
    "python": {
     "delete_cmd_postfix": "",
     "delete_cmd_prefix": "del ",
     "library": "var_list.py",
     "varRefreshCmd": "print(var_dic_list())"
    },
    "r": {
     "delete_cmd_postfix": ") ",
     "delete_cmd_prefix": "rm(",
     "library": "var_list.r",
     "varRefreshCmd": "cat(var_dic_list()) "
    }
   },
   "types_to_exclude": [
    "module",
    "function",
    "builtin_function_or_method",
    "instance",
    "_Feature"
   ],
   "window_display": false
  }
 },
 "nbformat": 4,
 "nbformat_minor": 1
}
