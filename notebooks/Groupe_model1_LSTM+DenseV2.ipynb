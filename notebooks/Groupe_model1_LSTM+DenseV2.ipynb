{
 "cells": [
  {
   "cell_type": "markdown",
   "id": "1032f8f3",
   "metadata": {},
   "source": [
    "# Recurrent Neural Network"
   ]
  },
  {
   "cell_type": "markdown",
   "id": "c017b6bf",
   "metadata": {},
   "source": [
    "## (0) Libraries"
   ]
  },
  {
   "cell_type": "code",
   "execution_count": 1,
   "id": "4b2b8350",
   "metadata": {
    "ExecuteTime": {
     "end_time": "2022-12-01T09:52:42.431318Z",
     "start_time": "2022-12-01T09:52:38.970273Z"
    }
   },
   "outputs": [
    {
     "name": "stderr",
     "output_type": "stream",
     "text": [
      "2022-12-03 17:16:12.153343: I tensorflow/core/platform/cpu_feature_guard.cc:193] This TensorFlow binary is optimized with oneAPI Deep Neural Network Library (oneDNN) to use the following CPU instructions in performance-critical operations:  AVX2 FMA\n",
      "To enable them in other operations, rebuild TensorFlow with the appropriate compiler flags.\n"
     ]
    }
   ],
   "source": [
    "# Data manipulation\n",
    "import numpy as np\n",
    "import pandas as pd\n",
    "pd.set_option(\"display.max_columns\", None)\n",
    "\n",
    "# Data Visualiation\n",
    "import matplotlib.pyplot as plt\n",
    "import seaborn as sns\n",
    "\n",
    "# System\n",
    "import os\n",
    "\n",
    "# Deep Learning\n",
    "import tensorflow as tf\n",
    "\n",
    "# Checking data types\n",
    "from typing import Dict, List, Tuple, Sequence\n",
    "import string"
   ]
  },
  {
   "cell_type": "markdown",
   "id": "731c3240",
   "metadata": {},
   "source": [
    "## (1) 📚 The dataset"
   ]
  },
  {
   "cell_type": "markdown",
   "id": "402fd55a",
   "metadata": {},
   "source": [
    "### (1.1) Loading the dataset"
   ]
  },
  {
   "cell_type": "markdown",
   "id": "8ce92c13",
   "metadata": {},
   "source": [
    "💾 Load it."
   ]
  },
  {
   "cell_type": "code",
   "execution_count": 2,
   "id": "4db094e1",
   "metadata": {
    "ExecuteTime": {
     "end_time": "2022-12-01T09:52:42.458779Z",
     "start_time": "2022-12-01T09:52:42.447651Z"
    }
   },
   "outputs": [],
   "source": [
    "df = pd.read_csv('../data/pollution/inputs/Xy_PA75016.csv',index_col='Date_time')\n",
    "df = df.reset_index(drop=True)"
   ]
  },
  {
   "cell_type": "code",
   "execution_count": 3,
   "id": "5a43f0a3",
   "metadata": {
    "ExecuteTime": {
     "end_time": "2022-12-01T09:52:42.472350Z",
     "start_time": "2022-12-01T09:52:42.459953Z"
    }
   },
   "outputs": [
    {
     "data": {
      "text/html": [
       "<div>\n",
       "<style scoped>\n",
       "    .dataframe tbody tr th:only-of-type {\n",
       "        vertical-align: middle;\n",
       "    }\n",
       "\n",
       "    .dataframe tbody tr th {\n",
       "        vertical-align: top;\n",
       "    }\n",
       "\n",
       "    .dataframe thead th {\n",
       "        text-align: right;\n",
       "    }\n",
       "</style>\n",
       "<table border=\"1\" class=\"dataframe\">\n",
       "  <thead>\n",
       "    <tr style=\"text-align: right;\">\n",
       "      <th></th>\n",
       "      <th>PM25</th>\n",
       "      <th>PM10</th>\n",
       "      <th>NO2</th>\n",
       "      <th>ATMO</th>\n",
       "      <th>sin_Month</th>\n",
       "      <th>cos_Month</th>\n",
       "      <th>sin_day</th>\n",
       "      <th>cos_day</th>\n",
       "      <th>confinement</th>\n",
       "      <th>Pollution_peak</th>\n",
       "    </tr>\n",
       "  </thead>\n",
       "  <tbody>\n",
       "    <tr>\n",
       "      <th>0</th>\n",
       "      <td>0.000000</td>\n",
       "      <td>-0.001422</td>\n",
       "      <td>-0.732394</td>\n",
       "      <td>4</td>\n",
       "      <td>0.000000</td>\n",
       "      <td>1.0</td>\n",
       "      <td>-0.781831</td>\n",
       "      <td>0.623490</td>\n",
       "      <td>0</td>\n",
       "      <td>0</td>\n",
       "    </tr>\n",
       "    <tr>\n",
       "      <th>1</th>\n",
       "      <td>0.000000</td>\n",
       "      <td>-0.001422</td>\n",
       "      <td>-0.732394</td>\n",
       "      <td>4</td>\n",
       "      <td>0.000000</td>\n",
       "      <td>1.0</td>\n",
       "      <td>0.000000</td>\n",
       "      <td>1.000000</td>\n",
       "      <td>0</td>\n",
       "      <td>0</td>\n",
       "    </tr>\n",
       "    <tr>\n",
       "      <th>2</th>\n",
       "      <td>0.000000</td>\n",
       "      <td>-0.001422</td>\n",
       "      <td>-0.732394</td>\n",
       "      <td>4</td>\n",
       "      <td>0.000000</td>\n",
       "      <td>1.0</td>\n",
       "      <td>0.781831</td>\n",
       "      <td>0.623490</td>\n",
       "      <td>0</td>\n",
       "      <td>0</td>\n",
       "    </tr>\n",
       "    <tr>\n",
       "      <th>3</th>\n",
       "      <td>0.000000</td>\n",
       "      <td>-0.001422</td>\n",
       "      <td>-0.732394</td>\n",
       "      <td>4</td>\n",
       "      <td>0.000000</td>\n",
       "      <td>1.0</td>\n",
       "      <td>0.974928</td>\n",
       "      <td>-0.222521</td>\n",
       "      <td>0</td>\n",
       "      <td>0</td>\n",
       "    </tr>\n",
       "    <tr>\n",
       "      <th>4</th>\n",
       "      <td>0.000000</td>\n",
       "      <td>-0.025605</td>\n",
       "      <td>-0.510563</td>\n",
       "      <td>4</td>\n",
       "      <td>0.000000</td>\n",
       "      <td>1.0</td>\n",
       "      <td>0.433884</td>\n",
       "      <td>-0.900969</td>\n",
       "      <td>0</td>\n",
       "      <td>0</td>\n",
       "    </tr>\n",
       "    <tr>\n",
       "      <th>...</th>\n",
       "      <td>...</td>\n",
       "      <td>...</td>\n",
       "      <td>...</td>\n",
       "      <td>...</td>\n",
       "      <td>...</td>\n",
       "      <td>...</td>\n",
       "      <td>...</td>\n",
       "      <td>...</td>\n",
       "      <td>...</td>\n",
       "      <td>...</td>\n",
       "    </tr>\n",
       "    <tr>\n",
       "      <th>1770</th>\n",
       "      <td>-0.562911</td>\n",
       "      <td>-0.504979</td>\n",
       "      <td>-0.517606</td>\n",
       "      <td>4</td>\n",
       "      <td>-0.866025</td>\n",
       "      <td>0.5</td>\n",
       "      <td>0.781831</td>\n",
       "      <td>0.623490</td>\n",
       "      <td>0</td>\n",
       "      <td>0</td>\n",
       "    </tr>\n",
       "    <tr>\n",
       "      <th>1771</th>\n",
       "      <td>-0.633635</td>\n",
       "      <td>0.012802</td>\n",
       "      <td>-0.278169</td>\n",
       "      <td>4</td>\n",
       "      <td>-0.866025</td>\n",
       "      <td>0.5</td>\n",
       "      <td>0.974928</td>\n",
       "      <td>-0.222521</td>\n",
       "      <td>0</td>\n",
       "      <td>0</td>\n",
       "    </tr>\n",
       "    <tr>\n",
       "      <th>1772</th>\n",
       "      <td>-1.473684</td>\n",
       "      <td>-0.315789</td>\n",
       "      <td>-0.880282</td>\n",
       "      <td>3</td>\n",
       "      <td>-0.866025</td>\n",
       "      <td>0.5</td>\n",
       "      <td>0.433884</td>\n",
       "      <td>-0.900969</td>\n",
       "      <td>0</td>\n",
       "      <td>0</td>\n",
       "    </tr>\n",
       "    <tr>\n",
       "      <th>1773</th>\n",
       "      <td>-0.908306</td>\n",
       "      <td>1.544808</td>\n",
       "      <td>1.109155</td>\n",
       "      <td>3</td>\n",
       "      <td>-0.866025</td>\n",
       "      <td>0.5</td>\n",
       "      <td>-0.433884</td>\n",
       "      <td>-0.900969</td>\n",
       "      <td>0</td>\n",
       "      <td>0</td>\n",
       "    </tr>\n",
       "    <tr>\n",
       "      <th>1774</th>\n",
       "      <td>-1.122122</td>\n",
       "      <td>1.684211</td>\n",
       "      <td>1.014085</td>\n",
       "      <td>3</td>\n",
       "      <td>-0.866025</td>\n",
       "      <td>0.5</td>\n",
       "      <td>-0.974928</td>\n",
       "      <td>-0.222521</td>\n",
       "      <td>0</td>\n",
       "      <td>0</td>\n",
       "    </tr>\n",
       "  </tbody>\n",
       "</table>\n",
       "<p>1775 rows × 10 columns</p>\n",
       "</div>"
      ],
      "text/plain": [
       "          PM25      PM10       NO2  ATMO  sin_Month  cos_Month   sin_day  \\\n",
       "0     0.000000 -0.001422 -0.732394     4   0.000000        1.0 -0.781831   \n",
       "1     0.000000 -0.001422 -0.732394     4   0.000000        1.0  0.000000   \n",
       "2     0.000000 -0.001422 -0.732394     4   0.000000        1.0  0.781831   \n",
       "3     0.000000 -0.001422 -0.732394     4   0.000000        1.0  0.974928   \n",
       "4     0.000000 -0.025605 -0.510563     4   0.000000        1.0  0.433884   \n",
       "...        ...       ...       ...   ...        ...        ...       ...   \n",
       "1770 -0.562911 -0.504979 -0.517606     4  -0.866025        0.5  0.781831   \n",
       "1771 -0.633635  0.012802 -0.278169     4  -0.866025        0.5  0.974928   \n",
       "1772 -1.473684 -0.315789 -0.880282     3  -0.866025        0.5  0.433884   \n",
       "1773 -0.908306  1.544808  1.109155     3  -0.866025        0.5 -0.433884   \n",
       "1774 -1.122122  1.684211  1.014085     3  -0.866025        0.5 -0.974928   \n",
       "\n",
       "       cos_day  confinement  Pollution_peak  \n",
       "0     0.623490            0               0  \n",
       "1     1.000000            0               0  \n",
       "2     0.623490            0               0  \n",
       "3    -0.222521            0               0  \n",
       "4    -0.900969            0               0  \n",
       "...        ...          ...             ...  \n",
       "1770  0.623490            0               0  \n",
       "1771 -0.222521            0               0  \n",
       "1772 -0.900969            0               0  \n",
       "1773 -0.900969            0               0  \n",
       "1774 -0.222521            0               0  \n",
       "\n",
       "[1775 rows x 10 columns]"
      ]
     },
     "execution_count": 3,
     "metadata": {},
     "output_type": "execute_result"
    }
   ],
   "source": [
    "df"
   ]
  },
  {
   "cell_type": "code",
   "execution_count": 4,
   "id": "b7db67af",
   "metadata": {
    "ExecuteTime": {
     "end_time": "2022-12-01T10:41:26.261342Z",
     "start_time": "2022-12-01T10:41:26.250185Z"
    }
   },
   "outputs": [
    {
     "data": {
      "text/plain": [
       "4    899\n",
       "5    721\n",
       "3    155\n",
       "Name: ATMO, dtype: int64"
      ]
     },
     "execution_count": 4,
     "metadata": {},
     "output_type": "execute_result"
    }
   ],
   "source": [
    "df['ATMO'].value_counts()"
   ]
  },
  {
   "cell_type": "markdown",
   "id": "9ce135be",
   "metadata": {},
   "source": [
    "👆 *(Reminders*) This weather dataset is a ***single Time Series*** represented as a DataFrame, i.e. a **2D-array**.\n",
    "- `df.shape = (n_timesteps, n_features)`\n",
    "    - `n_timesteps` $= 1775$k rows  (_~5 years of weather data, from 2018 to 2022 with 1 record every day (mean from hourly records_)\n",
    "    - `n_features` $= 4$ features composed of:\n",
    "        - $1$ <font color=green>**target**</font> (we will use the past values of the temperature as a feature)\n",
    "        - $4$ <font color=orange>**past covariates**</font> (= features which past values are known)\n",
    "        - $0$ <font color=blue>**future covariates**</font> (= features which future values are known, e.g. public holidays)\n",
    "    \n",
    "<img src='https://github.com/lewagon/data-images/blob/master/DL/time-series-covariates.png?raw=true'>    "
   ]
  },
  {
   "cell_type": "markdown",
   "id": "1a13741d",
   "metadata": {},
   "source": [
    "### (1.2) 🌅 The big picture about dealing with Time Series *(reminder)*"
   ]
  },
  {
   "cell_type": "markdown",
   "id": "48f7d99d",
   "metadata": {},
   "source": [
    "1️⃣ <b>[FOLDS] <u>Cross-Validation in Time Series  </u></b>\n",
    "\n",
    "Starting from this single Time Series:\n",
    "- We will create <font color=\"#c91ac9\">**FOLDS**</font>\n",
    "- <font color=blue>**Train**</font>/<font color=\"#ff8005\">**Evaluate**</font> our LSTM  <font color=\"#c91ac9\">**on each of these different FOLDS**</font> to conclude about <b><u>the robustness of the model</u><b>.\n",
    "    \n",
    "_It is very common to create hundreds of folds in Time Series forecasting, in order to cover all types of external conditions: crash market periods, bull markets, atone markets, etc..._"
   ]
  },
  {
   "cell_type": "markdown",
   "id": "cefea409",
   "metadata": {},
   "source": [
    "2️⃣ <b>[TRAIN-TEST SPLIT] <u>Holdout method</u></b>\n",
    "\n",
    "For each <font color=\"#c91ac9\">**FOLD**</font>, we will do a <font color=blue>**TRAIN**</font>-<font color=\"#ff8005\">**TEST**</font> SPLIT to:\n",
    "* <font color=blue>**fit**</font> the model on the <font color=blue>**train**</font> set \n",
    "* <font color=\"#ff8005\">**evaluate**</font> it on the <font color=\"#ff8005\">**test**</font> set\n",
    "\n",
    "_Always split the train set **chronologically** before the test set!_"
   ]
  },
  {
   "cell_type": "markdown",
   "id": "a5dab76c",
   "metadata": {},
   "source": [
    "<hr> \n",
    "\n",
    "👇 The first two steps can be summarized in the following image (here, we illustrated a 4-fold temporal cross-validation):\n",
    "\n",
    "<img src=\"https://wagon-public-datasets.s3.amazonaws.com/data-science-images/06-DL/time_series_cross_validation.png\" alt=\"Time Series Cross Validation\" width=\"800\" height=\"400\">\n",
    "\n",
    "<hr>"
   ]
  },
  {
   "cell_type": "markdown",
   "id": "4ff8c0e8",
   "metadata": {},
   "source": [
    "3️⃣ <b>[SEQUENCES] <u>Sampling/Extracting sequences</u></b>\n",
    "\n",
    "\n",
    "After splitting each fold into a <font color=\"blue\">train</font> set and a <font color=\"#ff8005\">test</font> set, it is time to:\n",
    "- 🏋 sample lots of <font color=\"#884dff\"><i>sequences</i></font> $\\color{blue}{(X_i, y_i)}$ on which the model will be <font color=\"blue\">trained</font>\n",
    "- 👩🏻‍🏫 sample lots of <font color=\"#884dff\"><i>sequences</i></font> $\\color{#ff8005}{(X_i, y_i)}$ on which the model will be <font color=\"#ff8005\">evaluated</font>\n",
    "\n",
    "\n",
    "<img src=\"https://bit.ly/3Ri8Vfd\" alt=\"Sequences in each fold\" width=\"500\" height=\"500\"> \n",
    "\n",
    "👉 All these <font color=\"#884dff\"><i>sequences</i></font> in the <font color=\"blue\">train</font> set and the <font color=\"#ff8005\">test</font> set will have a common shape `(input_length, n_features)` $ = (14\\times8,19) = (112,19)$.\n",
    "\n",
    "👉 Each <font color=\"#884dff\"><i>sequence</i></font> has a target, the shape of which will be `(output_length, n_targets)` $ = (7\\times8, 1) = (56, 1)$.\n",
    "\n",
    "<img src=\"https://wagon-public-datasets.s3.amazonaws.com/data-science-images/06-DL/shapes_for_input_sequence_and_ouput_sequence.png\" alt=\"3d arrays time series\" width=\"1200\" height=\"800\"> \n",
    "\n",
    "<hr>"
   ]
  },
  {
   "cell_type": "markdown",
   "id": "cf741737",
   "metadata": {},
   "source": [
    "> 🔥 Open this [**infograph**](https://wagon-public-datasets.s3.amazonaws.com/data-science-images/06-DL/big_picture_temporal_data_handling.png)  side-by-side with the notebook for a visual summary! 🔥"
   ]
  },
  {
   "cell_type": "markdown",
   "id": "cb6db251",
   "metadata": {},
   "source": [
    "## (2) Adapting the functions from the _\"Predict Temperature\"_ challenge"
   ]
  },
  {
   "cell_type": "markdown",
   "id": "2fcabcfe",
   "metadata": {},
   "source": [
    "### (2.0) Global Variables"
   ]
  },
  {
   "cell_type": "markdown",
   "id": "57b9c787",
   "metadata": {},
   "source": [
    "🌐 Let's define some ***global variables*** that we will use for our tests everywhere in this notebook:"
   ]
  },
  {
   "cell_type": "code",
   "execution_count": 5,
   "id": "cdb7dd75",
   "metadata": {
    "ExecuteTime": {
     "end_time": "2022-12-01T09:52:42.476727Z",
     "start_time": "2022-12-01T09:52:42.473608Z"
    }
   },
   "outputs": [],
   "source": [
    "# Folds\n",
    "FOLD_LENGTH = 521      # dont 365J Train +  156J Test\n",
    "FOLD_STRIDE = int(209) # sliding each semester - décalage de 209J pour obtenir 7 folds\n",
    "\n",
    "# Temporal Train-Test split\n",
    "TRAIN_TEST_RATIO = 0.7 #70% de train et 30% de test par fold\n",
    "#N_TRAIN = 365 # number_of_sequences_train for each fold_train\n",
    "#N_TEST = 156 # number_of_sequences_test for each fold_test\n",
    "\n",
    "# Inputs\n",
    "N_FEATURES = 4  # 3 polluants + l'ATMO index\n",
    "INPUT_LENGTH = 7 # - Records 1 week ~ 7 days. One week is quite common for air quality  \n",
    "\n",
    "# Outputs\n",
    "TARGET = ['ATMO']\n",
    "TARGET_COLUMN_IDX = 3 # Corresponds to the third column of the df\n",
    "N_TARGETS = 1\n",
    "OUTPUT_LENGTH = N_TARGETS*7 # Predicting one target, the ATMO index for 7 days\n",
    "                              \n",
    "\n",
    "# Additional parameters\n",
    "HORIZON = 1 # - You want to predict this point HORIZON = 1 day after the last known value"
   ]
  },
  {
   "cell_type": "markdown",
   "id": "1b9fe462",
   "metadata": {},
   "source": [
    "### (2.1)  🗂 <font color=\"#c91ac9\">FOLDS</font>"
   ]
  },
  {
   "cell_type": "markdown",
   "id": "565068ec",
   "metadata": {},
   "source": [
    "🎁 **`get_folds`**"
   ]
  },
  {
   "cell_type": "code",
   "execution_count": 6,
   "id": "b8fdfe92",
   "metadata": {
    "ExecuteTime": {
     "end_time": "2022-12-01T09:52:42.483227Z",
     "start_time": "2022-12-01T09:52:42.479932Z"
    }
   },
   "outputs": [],
   "source": [
    "def get_folds(df: pd.DataFrame, \n",
    "              fold_length: int,\n",
    "              fold_stride: int) -> List[pd.DataFrame]:\n",
    "    '''\n",
    "    This function slides through the Time Series dataframe of shape (n_timesteps, n_features) to create folds\n",
    "    - of equal `fold_length`\n",
    "    - using `fold_stride` between each fold\n",
    "    \n",
    "    Returns a list of folds, each as a DataFrame\n",
    "    '''\n",
    "\n",
    "    folds = []\n",
    "    for idx in range(0, len(df), fold_stride):\n",
    "        # Exits the loop as soon as the last fold index would exceed the last index\n",
    "        if (idx + fold_length) > len(df):\n",
    "            break\n",
    "        fold = df.iloc[idx:idx + fold_length, :]\n",
    "        folds.append(fold)\n",
    "    return folds"
   ]
  },
  {
   "cell_type": "markdown",
   "id": "cf665ae0",
   "metadata": {},
   "source": [
    "👉 Let's generate these <font color=\"#c91ac9\">**FOLDS**</font>."
   ]
  },
  {
   "cell_type": "code",
   "execution_count": 7,
   "id": "325d5dc3",
   "metadata": {
    "ExecuteTime": {
     "end_time": "2022-12-01T09:52:42.489237Z",
     "start_time": "2022-12-01T09:52:42.484283Z"
    }
   },
   "outputs": [
    {
     "name": "stdout",
     "output_type": "stream",
     "text": [
      "The function generated 7 folds.\n",
      "Each fold has a shape equal to (521, 10).\n",
      "The last fold has a shape equal to (521, 10).\n"
     ]
    },
    {
     "data": {
      "text/plain": [
       "(7, 521, 10)"
      ]
     },
     "execution_count": 7,
     "metadata": {},
     "output_type": "execute_result"
    }
   ],
   "source": [
    "folds = get_folds(df, FOLD_LENGTH, FOLD_STRIDE)\n",
    "\n",
    "print(f'The function generated {len(folds)} folds.')\n",
    "print(f'Each fold has a shape equal to {folds[0].shape}.')\n",
    "print(f'The last fold has a shape equal to {folds[-1].shape}.')\n",
    "np.array(folds).shape"
   ]
  },
  {
   "cell_type": "markdown",
   "id": "e05046f2",
   "metadata": {},
   "source": [
    "7 Folds\n",
    "\n",
    "521 Observations (fold_length)\n",
    "\n",
    "4 features (3 pollutants + 1 target )"
   ]
  },
  {
   "cell_type": "markdown",
   "id": "06616fd2",
   "metadata": {},
   "source": [
    "🧪 Make sure that the following <font color=green>***assert***</font> doesn't return anything (which means the assertion is correct)."
   ]
  },
  {
   "cell_type": "code",
   "execution_count": 8,
   "id": "fedc6e1d",
   "metadata": {
    "ExecuteTime": {
     "end_time": "2022-12-01T09:52:42.492375Z",
     "start_time": "2022-12-01T09:52:42.490399Z"
    }
   },
   "outputs": [],
   "source": [
    "#assert(folds[0].shape == (180, 4))"
   ]
  },
  {
   "cell_type": "markdown",
   "id": "db8405b1",
   "metadata": {},
   "source": [
    "☝️ This amount of <font color=\"#c91ac9\">**FOLDS**</font> should be enough to cross-validate our model correctly!"
   ]
  },
  {
   "cell_type": "markdown",
   "id": "f2cf963d",
   "metadata": {},
   "source": [
    "### (2.2) ✂️  Temporal <font color=blue>Train</font>/<font color=\"#ff8005\">Test</font> Split"
   ]
  },
  {
   "cell_type": "markdown",
   "id": "16704f88",
   "metadata": {},
   "source": [
    "👩🏻‍🏫 Let's <font color=\"#c91ac9\">focus on one fold</font> for the moment, the first one for example."
   ]
  },
  {
   "cell_type": "code",
   "execution_count": 9,
   "id": "4b9cc332",
   "metadata": {
    "ExecuteTime": {
     "end_time": "2022-12-01T09:52:42.500914Z",
     "start_time": "2022-12-01T09:52:42.493491Z"
    }
   },
   "outputs": [
    {
     "data": {
      "text/html": [
       "<div>\n",
       "<style scoped>\n",
       "    .dataframe tbody tr th:only-of-type {\n",
       "        vertical-align: middle;\n",
       "    }\n",
       "\n",
       "    .dataframe tbody tr th {\n",
       "        vertical-align: top;\n",
       "    }\n",
       "\n",
       "    .dataframe thead th {\n",
       "        text-align: right;\n",
       "    }\n",
       "</style>\n",
       "<table border=\"1\" class=\"dataframe\">\n",
       "  <thead>\n",
       "    <tr style=\"text-align: right;\">\n",
       "      <th></th>\n",
       "      <th>PM25</th>\n",
       "      <th>PM10</th>\n",
       "      <th>NO2</th>\n",
       "      <th>ATMO</th>\n",
       "      <th>sin_Month</th>\n",
       "      <th>cos_Month</th>\n",
       "      <th>sin_day</th>\n",
       "      <th>cos_day</th>\n",
       "      <th>confinement</th>\n",
       "      <th>Pollution_peak</th>\n",
       "    </tr>\n",
       "  </thead>\n",
       "  <tbody>\n",
       "    <tr>\n",
       "      <th>1254</th>\n",
       "      <td>-0.576891</td>\n",
       "      <td>-0.338549</td>\n",
       "      <td>-0.133803</td>\n",
       "      <td>4</td>\n",
       "      <td>0.500000</td>\n",
       "      <td>-0.866025</td>\n",
       "      <td>0.433884</td>\n",
       "      <td>-0.900969</td>\n",
       "      <td>0</td>\n",
       "      <td>0</td>\n",
       "    </tr>\n",
       "    <tr>\n",
       "      <th>1255</th>\n",
       "      <td>-0.955592</td>\n",
       "      <td>-0.213371</td>\n",
       "      <td>-0.654930</td>\n",
       "      <td>3</td>\n",
       "      <td>0.500000</td>\n",
       "      <td>-0.866025</td>\n",
       "      <td>-0.433884</td>\n",
       "      <td>-0.900969</td>\n",
       "      <td>0</td>\n",
       "      <td>0</td>\n",
       "    </tr>\n",
       "    <tr>\n",
       "      <th>1256</th>\n",
       "      <td>-0.059622</td>\n",
       "      <td>-0.246088</td>\n",
       "      <td>0.503521</td>\n",
       "      <td>4</td>\n",
       "      <td>0.500000</td>\n",
       "      <td>-0.866025</td>\n",
       "      <td>-0.974928</td>\n",
       "      <td>-0.222521</td>\n",
       "      <td>0</td>\n",
       "      <td>0</td>\n",
       "    </tr>\n",
       "    <tr>\n",
       "      <th>1257</th>\n",
       "      <td>0.935444</td>\n",
       "      <td>0.160740</td>\n",
       "      <td>0.760563</td>\n",
       "      <td>5</td>\n",
       "      <td>0.500000</td>\n",
       "      <td>-0.866025</td>\n",
       "      <td>-0.781831</td>\n",
       "      <td>0.623490</td>\n",
       "      <td>0</td>\n",
       "      <td>0</td>\n",
       "    </tr>\n",
       "    <tr>\n",
       "      <th>1258</th>\n",
       "      <td>0.557155</td>\n",
       "      <td>0.382646</td>\n",
       "      <td>0.105634</td>\n",
       "      <td>5</td>\n",
       "      <td>0.500000</td>\n",
       "      <td>-0.866025</td>\n",
       "      <td>0.000000</td>\n",
       "      <td>1.000000</td>\n",
       "      <td>0</td>\n",
       "      <td>0</td>\n",
       "    </tr>\n",
       "    <tr>\n",
       "      <th>...</th>\n",
       "      <td>...</td>\n",
       "      <td>...</td>\n",
       "      <td>...</td>\n",
       "      <td>...</td>\n",
       "      <td>...</td>\n",
       "      <td>...</td>\n",
       "      <td>...</td>\n",
       "      <td>...</td>\n",
       "      <td>...</td>\n",
       "      <td>...</td>\n",
       "    </tr>\n",
       "    <tr>\n",
       "      <th>1770</th>\n",
       "      <td>-0.562911</td>\n",
       "      <td>-0.504979</td>\n",
       "      <td>-0.517606</td>\n",
       "      <td>4</td>\n",
       "      <td>-0.866025</td>\n",
       "      <td>0.500000</td>\n",
       "      <td>0.781831</td>\n",
       "      <td>0.623490</td>\n",
       "      <td>0</td>\n",
       "      <td>0</td>\n",
       "    </tr>\n",
       "    <tr>\n",
       "      <th>1771</th>\n",
       "      <td>-0.633635</td>\n",
       "      <td>0.012802</td>\n",
       "      <td>-0.278169</td>\n",
       "      <td>4</td>\n",
       "      <td>-0.866025</td>\n",
       "      <td>0.500000</td>\n",
       "      <td>0.974928</td>\n",
       "      <td>-0.222521</td>\n",
       "      <td>0</td>\n",
       "      <td>0</td>\n",
       "    </tr>\n",
       "    <tr>\n",
       "      <th>1772</th>\n",
       "      <td>-1.473684</td>\n",
       "      <td>-0.315789</td>\n",
       "      <td>-0.880282</td>\n",
       "      <td>3</td>\n",
       "      <td>-0.866025</td>\n",
       "      <td>0.500000</td>\n",
       "      <td>0.433884</td>\n",
       "      <td>-0.900969</td>\n",
       "      <td>0</td>\n",
       "      <td>0</td>\n",
       "    </tr>\n",
       "    <tr>\n",
       "      <th>1773</th>\n",
       "      <td>-0.908306</td>\n",
       "      <td>1.544808</td>\n",
       "      <td>1.109155</td>\n",
       "      <td>3</td>\n",
       "      <td>-0.866025</td>\n",
       "      <td>0.500000</td>\n",
       "      <td>-0.433884</td>\n",
       "      <td>-0.900969</td>\n",
       "      <td>0</td>\n",
       "      <td>0</td>\n",
       "    </tr>\n",
       "    <tr>\n",
       "      <th>1774</th>\n",
       "      <td>-1.122122</td>\n",
       "      <td>1.684211</td>\n",
       "      <td>1.014085</td>\n",
       "      <td>3</td>\n",
       "      <td>-0.866025</td>\n",
       "      <td>0.500000</td>\n",
       "      <td>-0.974928</td>\n",
       "      <td>-0.222521</td>\n",
       "      <td>0</td>\n",
       "      <td>0</td>\n",
       "    </tr>\n",
       "  </tbody>\n",
       "</table>\n",
       "<p>521 rows × 10 columns</p>\n",
       "</div>"
      ],
      "text/plain": [
       "          PM25      PM10       NO2  ATMO  sin_Month  cos_Month   sin_day  \\\n",
       "1254 -0.576891 -0.338549 -0.133803     4   0.500000  -0.866025  0.433884   \n",
       "1255 -0.955592 -0.213371 -0.654930     3   0.500000  -0.866025 -0.433884   \n",
       "1256 -0.059622 -0.246088  0.503521     4   0.500000  -0.866025 -0.974928   \n",
       "1257  0.935444  0.160740  0.760563     5   0.500000  -0.866025 -0.781831   \n",
       "1258  0.557155  0.382646  0.105634     5   0.500000  -0.866025  0.000000   \n",
       "...        ...       ...       ...   ...        ...        ...       ...   \n",
       "1770 -0.562911 -0.504979 -0.517606     4  -0.866025   0.500000  0.781831   \n",
       "1771 -0.633635  0.012802 -0.278169     4  -0.866025   0.500000  0.974928   \n",
       "1772 -1.473684 -0.315789 -0.880282     3  -0.866025   0.500000  0.433884   \n",
       "1773 -0.908306  1.544808  1.109155     3  -0.866025   0.500000 -0.433884   \n",
       "1774 -1.122122  1.684211  1.014085     3  -0.866025   0.500000 -0.974928   \n",
       "\n",
       "       cos_day  confinement  Pollution_peak  \n",
       "1254 -0.900969            0               0  \n",
       "1255 -0.900969            0               0  \n",
       "1256 -0.222521            0               0  \n",
       "1257  0.623490            0               0  \n",
       "1258  1.000000            0               0  \n",
       "...        ...          ...             ...  \n",
       "1770  0.623490            0               0  \n",
       "1771 -0.222521            0               0  \n",
       "1772 -0.900969            0               0  \n",
       "1773 -0.900969            0               0  \n",
       "1774 -0.222521            0               0  \n",
       "\n",
       "[521 rows x 10 columns]"
      ]
     },
     "execution_count": 9,
     "metadata": {},
     "output_type": "execute_result"
    }
   ],
   "source": [
    "fold = folds[-1]\n",
    "fold"
   ]
  },
  {
   "cell_type": "markdown",
   "id": "654a502e",
   "metadata": {},
   "source": [
    "⌚️ We want to ***split this <font color=\"#c91ac9\">fold</font> chronologically*** into a <font color=blue>***fold_train***</font> and a <font color=\"#ff8005\">***fold_test***</font>.\n",
    "\n",
    "*Each of these fold_train and fold_test will contain all the data we need to be able to sample many pairs `(Xi, yi)` in a next step!*"
   ]
  },
  {
   "cell_type": "markdown",
   "id": "ed4da9b8",
   "metadata": {},
   "source": [
    "#### (2.2.1) 🧑🏻‍🏫 The complexity introduced by the <font color=green>gap</font>"
   ]
  },
  {
   "cell_type": "markdown",
   "id": "12c554e6",
   "metadata": {},
   "source": [
    "<details>\n",
    "    <summary>⏸ Let's take a <i>quick break</i> from this weather dataset to understand what is a temporal gap.</summary>\n",
    "\n",
    "<hr>\n",
    "\n",
    "🤑 Put yourself in the shoes of a quantitative trader at timesteps $\\color{blue}{1}, \\color{blue}{2}, \\color{blue}{3}, ..., \\color{blue}{10}$.\n",
    "\n",
    "Let's say you are in the <font color=blue>training</font> phase, and you want to stop your training after day `10`:\n",
    "- You have to wait until day `10` to know the real value $y_{10}$, and compare it with the predicted value $\\hat{y}_{10}$ to train the model.\n",
    " \n",
    "Here are the <font color=blue>assumptions about your model</font>:\n",
    "- It is trained on <font color=\"#884dff\"><i>sequences</i></font> with `INPUT_LENGTH = 3`\n",
    "- The goal is to predict `OUTPUT_LENGTH = 1` point in the future\n",
    "- You want to predict this point `HORIZON = 4` days after the last known value.\n",
    "\n",
    "✅ Imagine that your model was trained and put into production\n",
    "\n",
    "❓ <u>On which day can you evaluate the live performance of the model for the first time</u> ❓\n",
    "\n",
    "* You are at day `10`. Hence, the first prediction you can make is for day `10` + `HORIZON` = `14`\n",
    "* You will have to wait until day `14` to see how good was your prediction!\n",
    "    * `y_test_first` = day `14`\n",
    "* You sit IDLE for <font color=green>3</font> days $(11, 12, 13)$\n",
    "    \n",
    "</details>    "
   ]
  },
  {
   "cell_type": "markdown",
   "id": "19b88425",
   "metadata": {},
   "source": [
    "<img src=\"https://wagon-public-datasets.s3.amazonaws.com/data-science-images/06-DL/train_test_split_with_horizon.jpg?raw=true\" height=500 width=800>"
   ]
  },
  {
   "cell_type": "markdown",
   "id": "03e6a500",
   "metadata": {},
   "source": [
    "👉 The <font color=green>gap</font> between the <font color=blue>train</font> and the <font color=orange>test</font> set should be equal to `GAP = HORIZON - 1`."
   ]
  },
  {
   "cell_type": "markdown",
   "id": "edc8532a",
   "metadata": {},
   "source": [
    "#### (2.2.2) 💻 Adapting the  `train_test_split` function accordingly"
   ]
  },
  {
   "cell_type": "markdown",
   "id": "bea2584d",
   "metadata": {},
   "source": [
    "💻 ❓ **Question ❓ (Temporal <font color=blue>Train</font>/<font color=orange>Test</font> split)** \n",
    "\n",
    "Code the function `train_test_split` down below which:\n",
    "- <i>(inputs)</i> given \n",
    "    - a `fold` (like above), \n",
    "    - a `train_test_ratio` (e.g 0.8) \n",
    "    - an `input_length` (fixed)\n",
    "    - 🆕 a `horizon` (fixed)\n",
    "- <i>(output)</i> returns a tuple (`fold_train`, `fold_test`) of DataFrames"
   ]
  },
  {
   "cell_type": "code",
   "execution_count": 10,
   "id": "12901400",
   "metadata": {
    "ExecuteTime": {
     "end_time": "2022-12-01T09:52:42.506199Z",
     "start_time": "2022-12-01T09:52:42.502534Z"
    }
   },
   "outputs": [],
   "source": [
    "def train_test_split(fold: pd.DataFrame, \n",
    "                     train_test_ratio: float,\n",
    "                     input_length: int, \n",
    "                     horizon: int) -> Tuple[pd.DataFrame]:\n",
    "    '''\n",
    "    Returns a train dataframe and a test dataframe (fold_train, fold_test)\n",
    "    from which one can sample (X,y) sequences.\n",
    "    df_train should contain all the timesteps until round(train_test_ratio * len(fold))   \n",
    "    '''\n",
    "    # $CHALLENGIFY_BEGIN\n",
    "\n",
    "    # TRAIN SET\n",
    "    # ======================\n",
    "    last_train_idx = round(train_test_ratio * len(fold))\n",
    "    fold_train = fold.iloc[0:last_train_idx, :]\n",
    "\n",
    "    # TEST SET\n",
    "    # ======================\n",
    "    first_test_idx = last_train_idx - input_length\n",
    "    fold_test = fold.iloc[first_test_idx:, :]\n",
    "\n",
    "    return (fold_train, fold_test)\n",
    "\n",
    "    # $CHALLENGIFY_END"
   ]
  },
  {
   "cell_type": "markdown",
   "id": "9104e3ef",
   "metadata": {},
   "source": [
    "💻 ❓ **Question ❓ (Temporal <font color=blue>Train</font>/<font color=orange>Test</font> split for <font color=\"#c91ac9\">one fold </font>)** \n",
    "\n",
    "Split the <font color=\"#c91ac9\">fold #0</font>.\n",
    "\n",
    "\n",
    "<details>\n",
    "    <summary><i>Reminders</i></summary>\n",
    "\n",
    "*As a reminder, in  section `(2.0) Global Variables`, we defined*:\n",
    "- *`TRAIN_TEST_RATIO` = 66%* \n",
    "- *`INPUT_LENGTH` = 2 weeks = 112 time steps for each `Xi`, which is quite common in weather forecasting*\n",
    "- *`HORIZON` = 1 day = 8 time steps*\n",
    "\n",
    "</details>\n"
   ]
  },
  {
   "cell_type": "code",
   "execution_count": 11,
   "id": "7d6acfd9",
   "metadata": {
    "ExecuteTime": {
     "end_time": "2022-12-01T09:52:42.510156Z",
     "start_time": "2022-12-01T09:52:42.507546Z"
    },
    "tags": [
     "challengify"
    ]
   },
   "outputs": [],
   "source": [
    "(fold_train, fold_test) = train_test_split(fold, \n",
    "                                           TRAIN_TEST_RATIO,\n",
    "                                           INPUT_LENGTH, \n",
    "                                           HORIZON)"
   ]
  },
  {
   "cell_type": "code",
   "execution_count": 12,
   "id": "2d3f61d2",
   "metadata": {
    "ExecuteTime": {
     "end_time": "2022-12-01T09:52:42.513833Z",
     "start_time": "2022-12-01T09:52:42.511215Z"
    }
   },
   "outputs": [
    {
     "data": {
      "text/plain": [
       "((365, 10), (163, 10))"
      ]
     },
     "execution_count": 12,
     "metadata": {},
     "output_type": "execute_result"
    }
   ],
   "source": [
    "fold_train.shape, fold_test.shape"
   ]
  },
  {
   "cell_type": "markdown",
   "id": "cee6ccca",
   "metadata": {},
   "source": [
    "🧪 Check that your shapes and your starting/ending points are correct:"
   ]
  },
  {
   "cell_type": "code",
   "execution_count": 13,
   "id": "f7716af4",
   "metadata": {},
   "outputs": [
    {
     "data": {
      "text/plain": [
       "1254"
      ]
     },
     "execution_count": 13,
     "metadata": {},
     "output_type": "execute_result"
    }
   ],
   "source": [
    "fold_train.index.start"
   ]
  },
  {
   "cell_type": "code",
   "execution_count": 14,
   "id": "00958153",
   "metadata": {
    "ExecuteTime": {
     "end_time": "2022-12-01T09:52:42.517539Z",
     "start_time": "2022-12-01T09:52:42.514903Z"
    }
   },
   "outputs": [
    {
     "data": {
      "text/plain": [
       "False"
      ]
     },
     "execution_count": 14,
     "metadata": {},
     "output_type": "execute_result"
    }
   ],
   "source": [
    "## Double-checking the shapes for the fold_train and fold_test\n",
    "fold_train.shape == (120, 4)\n",
    "fold_test.shape == (61, 4)\n",
    "\n",
    "## Double-checking the starting point and the ending point for both folds\n",
    "# assert (fold_train.index.start) == 0\n",
    "# assert (fold_train.index.stop) == 126\n",
    "# assert (fold_test.index.start) == 119 # 365 - 7 Jours prédiction sur 7 jours soit les 7 derniers jours non utilisés dans le training \n",
    "# assert (fold_test.index.stop) == 180"
   ]
  },
  {
   "cell_type": "markdown",
   "id": "d0c93079",
   "metadata": {},
   "source": [
    "### (2.3) 💻 🔢 Create (X, y) sequences"
   ]
  },
  {
   "cell_type": "code",
   "execution_count": 15,
   "id": "364fd863",
   "metadata": {
    "ExecuteTime": {
     "end_time": "2022-12-01T09:52:42.522097Z",
     "start_time": "2022-12-01T09:52:42.518622Z"
    }
   },
   "outputs": [
    {
     "name": "stdout",
     "output_type": "stream",
     "text": [
      "##### INPUTS #####\n",
      "- INPUT_LENGTH = 7 timesteps = 7 days = 1 week\n",
      "- N_FEATURES = 4\n",
      "##### OUTPUTS #####\n",
      "- OUTPUT_LENGTH = 7 timesteps = 7 day(s)\n",
      "- N_TARGETS = 1\n",
      "##### PARAMETERS #####\n",
      "- HORIZON = 1 timesteps = 1 day(s)\n",
      "##### TRAIN SET #####\n",
      "- The training fold starts at index 1254 and stops at index 1619.\n",
      "##### TEST SET #####\n",
      "- The test fold starts at index 1612 and stops at index 1775.\n"
     ]
    }
   ],
   "source": [
    "# Inputs\n",
    "print(\"##### INPUTS #####\")\n",
    "print(f'- INPUT_LENGTH = {INPUT_LENGTH} timesteps = {int(INPUT_LENGTH)} days = {int(INPUT_LENGTH/7)} week')\n",
    "print(f'- N_FEATURES = {N_FEATURES}')\n",
    "# Outputs\n",
    "print(\"##### OUTPUTS #####\")\n",
    "print(f'- OUTPUT_LENGTH = {OUTPUT_LENGTH} timesteps = {int(OUTPUT_LENGTH)} day(s)')\n",
    "print(f'- N_TARGETS = {N_TARGETS}')\n",
    "# Parameters\n",
    "print(\"##### PARAMETERS #####\")\n",
    "print(f'- HORIZON = {HORIZON} timesteps = {int(HORIZON)} day(s)')\n",
    "# Train\n",
    "print(\"##### TRAIN SET #####\")\n",
    "print(f\"- The training fold starts at index {fold_train.index.start} and stops at index {fold_train.index.stop}.\")\n",
    "# Test\n",
    "print(\"##### TEST SET #####\")\n",
    "print(f\"- The test fold starts at index {fold_test.index.start} and stops at index {fold_test.index.stop}.\")"
   ]
  },
  {
   "cell_type": "code",
   "execution_count": 16,
   "id": "402d002d",
   "metadata": {
    "ExecuteTime": {
     "end_time": "2022-12-01T09:52:42.526397Z",
     "start_time": "2022-12-01T09:52:42.523572Z"
    }
   },
   "outputs": [
    {
     "name": "stdout",
     "output_type": "stream",
     "text": [
      "STRIDE = 1 timesteps = 1 day()\n"
     ]
    }
   ],
   "source": [
    "# New: Scanning  through a fold  \n",
    "STRIDE = 1 # sliding every  days, for subfolds\n",
    "print(f'STRIDE = {STRIDE} timesteps = {int(STRIDE)} day()')"
   ]
  },
  {
   "cell_type": "markdown",
   "id": "bb0b8c6e",
   "metadata": {},
   "source": [
    "💻 ❓ **Question ❓ (Extracting a <font color=\"#884dff\"><i>sequence</i></font>)** \n",
    "\n",
    "Code the function `get_Xi_yi` which extracts a <font color=\"#884dff\"><i>sequence</i></font> from a Time Series: it should take the following arguments:\n",
    "- `first_index`\n",
    "- `data` (your 2D-dataframe representing the Time Series)\n",
    "- `input_length`\n",
    "- `output_length`\n",
    "- `horizon`"
   ]
  },
  {
   "cell_type": "code",
   "execution_count": 17,
   "id": "2e51d57d",
   "metadata": {
    "ExecuteTime": {
     "end_time": "2022-12-01T09:52:42.531004Z",
     "start_time": "2022-12-01T09:52:42.527803Z"
    }
   },
   "outputs": [],
   "source": [
    "def get_Xi_yi(first_index: int, \n",
    "              fold: pd.DataFrame, \n",
    "              horizon: int,\n",
    "              input_length: int,\n",
    "              output_length: int) -> Tuple[np.ndarray, np.ndarray]:\n",
    "    '''\n",
    "    - extracts one sub-fold from a fold\n",
    "    - returns a pair (Xi, yi) with:\n",
    "        * len(Xi) = `input_length` and Xi starting at first_index\n",
    "        * len(yi) = `output_length`\n",
    "        * last_Xi and first_yi separated by the gap = horizon -1\n",
    "    '''\n",
    "\n",
    "    # $CHALLENGIFY_BEGIN\n",
    "\n",
    "    Xi_start = first_index\n",
    "    Xi_last = Xi_start + input_length\n",
    "    yi_start = Xi_last + horizon - 1\n",
    "    yi_last = yi_start + output_length\n",
    "\n",
    "    Xi = fold[Xi_start:Xi_last]\n",
    "    yi = fold[yi_start:yi_last][TARGET]\n",
    "\n",
    "    return (Xi, yi)\n",
    "\n",
    "    # $CHALLENGIFY_END"
   ]
  },
  {
   "cell_type": "markdown",
   "id": "e9628927",
   "metadata": {},
   "source": [
    "🧪 Run the following cell to test your function:"
   ]
  },
  {
   "cell_type": "code",
   "execution_count": 18,
   "id": "88413489",
   "metadata": {
    "ExecuteTime": {
     "end_time": "2022-12-01T09:52:42.537059Z",
     "start_time": "2022-12-01T09:52:42.532150Z"
    }
   },
   "outputs": [],
   "source": [
    "## Testing your function get_Xi_yi\n",
    "\n",
    "first_index = fold.index.start\n",
    "Xi, yi = get_Xi_yi(first_index=first_index,\n",
    "                   fold=fold,\n",
    "                   horizon=HORIZON,\n",
    "                   input_length=INPUT_LENGTH,\n",
    "                   output_length=OUTPUT_LENGTH)\n",
    "\n",
    "# assert (Xi.index.start == first_index)\n",
    "# assert (Xi.shape == (INPUT_LENGTH, 4))\n",
    "# assert (yi.index.stop == Xi.index.stop + HORIZON - 1 + OUTPUT_LENGTH)\n",
    "# assert (yi.shape == (OUTPUT_LENGTH, 1))"
   ]
  },
  {
   "cell_type": "markdown",
   "id": "a346371a",
   "metadata": {},
   "source": [
    "💻 ❓ **Question ❓ (Creating <font color=\"#884dff\"><i>sequences</i></font>, scanning chronologically through a fold)** \n",
    "\n",
    "Code the function `get_X_y` to scan an entire fold and extract sequences."
   ]
  },
  {
   "cell_type": "code",
   "execution_count": 19,
   "id": "840c36b4",
   "metadata": {
    "ExecuteTime": {
     "end_time": "2022-12-01T09:52:42.543843Z",
     "start_time": "2022-12-01T09:52:42.538479Z"
    }
   },
   "outputs": [],
   "source": [
    "def get_X_y(fold: pd.DataFrame,\n",
    "            horizon: int,\n",
    "            input_length: int,\n",
    "            output_length: int,\n",
    "            stride: int,\n",
    "            shuffle=True) -> Tuple[np.ndarray, np.ndarray]:\n",
    "    \"\"\"\n",
    "    - Uses `data`, a 2D-array with axis=0 for timesteps, and axis=1 for (targets+covariates columns)\n",
    "    - Returns a Tuple (X,y) of two ndarrays :\n",
    "        * X.shape = (n_samples, input_length, n_covariates)\n",
    "        * y.shape =\n",
    "            (n_samples, output_length, n_targets) if all 3-dimensions are of size > 1\n",
    "            (n_samples, output_length) if n_targets == 1\n",
    "            (n_samples, n_targets) if output_length == 1\n",
    "            (n_samples, ) if both n_targets and lenghts == 1\n",
    "    - You can shuffle the pairs (Xi,yi) of your fold\n",
    "    \"\"\"\n",
    "\n",
    "    # $CHALLENGIFY_BEGIN\n",
    "    X = []\n",
    "    y = []\n",
    "\n",
    "    # Scanning the fold/data entirely with a certain stride\n",
    "    for i in range(0, len(fold), stride):\n",
    "        ## Extracting a sequence starting at index_i\n",
    "        Xi, yi = get_Xi_yi(first_index=i,\n",
    "                           fold=fold,\n",
    "                           horizon=horizon,\n",
    "                           input_length=input_length,\n",
    "                           output_length=output_length)\n",
    "        ## Exits loop as soon as we reach the end of the dataset\n",
    "        if len(yi) < output_length:\n",
    "            break\n",
    "        X.append(Xi)\n",
    "        y.append(yi)\n",
    "\n",
    "    X = np.array(X)\n",
    "    y = np.array(y)\n",
    "    y = np.squeeze(y)\n",
    "\n",
    "    if shuffle:\n",
    "        idx = np.arange(len(X))\n",
    "        np.random.shuffle(idx)\n",
    "        X = X[idx]\n",
    "        y = y[idx]\n",
    "\n",
    "    return X, y\n",
    "\n",
    "    # $CHALLENGIFY_END"
   ]
  },
  {
   "cell_type": "markdown",
   "id": "f64f849f",
   "metadata": {},
   "source": [
    "💻 ❓ **Question ❓ Generate <font color=\"#884dff\"><i>sequences</i></font>** both in the <font color=blue>**train**</font> set and the <font color=\"#ff8005\">**test**</font> set."
   ]
  },
  {
   "cell_type": "code",
   "execution_count": 20,
   "id": "de24b188",
   "metadata": {
    "ExecuteTime": {
     "end_time": "2022-12-01T09:52:42.721752Z",
     "start_time": "2022-12-01T09:52:42.545049Z"
    },
    "tags": [
     "challengify"
    ]
   },
   "outputs": [
    {
     "name": "stdout",
     "output_type": "stream",
     "text": [
      "Shapes for the training set:\n",
      "X_train.shape = (352, 7, 10), y_train.shape = (352, 7)\n",
      "Shapes for the test set:\n",
      "X_test.shape = (150, 7, 10), y_test.shape = (150, 7)\n"
     ]
    }
   ],
   "source": [
    "X_train, y_train = get_X_y(fold=fold_train,\n",
    "                           horizon=HORIZON,\n",
    "                           input_length=INPUT_LENGTH,\n",
    "                           output_length=OUTPUT_LENGTH,\n",
    "                           stride=STRIDE)\n",
    "X_test, y_test = get_X_y(fold=fold_test,\n",
    "                         horizon=HORIZON,\n",
    "                         input_length=INPUT_LENGTH,\n",
    "                         output_length=OUTPUT_LENGTH,\n",
    "                         stride=STRIDE)\n",
    "\n",
    "print(\"Shapes for the training set:\")\n",
    "print(f\"X_train.shape = {X_train.shape}, y_train.shape = {y_train.shape}\")\n",
    "\n",
    "print(\"Shapes for the test set:\")\n",
    "print(f\"X_test.shape = {X_test.shape}, y_test.shape = {y_test.shape}\")"
   ]
  },
  {
   "cell_type": "markdown",
   "id": "520e408f",
   "metadata": {},
   "source": [
    "> For X_train, the base is 365 days. Subfolds have a length of 7 days. The 1st subfold xi is the 1st 7 days, and the 1st yi is the 8th to 14th days = 7 days.\n",
    "There are 358 days left for other subfolds (because the 1st subfold xi takes 7 days), but as y has a length of 7 days, there are 351 days left to subfold for xi.\n",
    "--> 1 subfold + 351 next subfolds.\n",
    "\n",
    "> For X_test, the base is 163 days (156 days + 7 last days of X_train). Subfolds have a length of 7 days. The 1st subfold xi is the 1st 7 days, and the 1st yi is the 8th to 14th days = 7 days.\n",
    "There are 156 days left for other subfolds (because the 1st subfold xi takes 7 days), but as y has a length of 7 days, there are 149 days left to subfold for xi.\n",
    "--> 1 subfold + 150 next subfolds."
   ]
  },
  {
   "cell_type": "markdown",
   "id": "ea1ace41",
   "metadata": {},
   "source": [
    "🧪 Test that your shapes are correct. If not, go back to the function to debug it."
   ]
  },
  {
   "cell_type": "code",
   "execution_count": 21,
   "id": "5df1532a",
   "metadata": {
    "ExecuteTime": {
     "end_time": "2022-12-01T09:52:42.726845Z",
     "start_time": "2022-12-01T09:52:42.723019Z"
    }
   },
   "outputs": [
    {
     "data": {
      "text/plain": [
       "((352, 7, 10), 7, 4)"
      ]
     },
     "execution_count": 21,
     "metadata": {},
     "output_type": "execute_result"
    }
   ],
   "source": [
    "X_train.shape, INPUT_LENGTH, N_FEATURES"
   ]
  },
  {
   "cell_type": "code",
   "execution_count": 22,
   "id": "ef379843",
   "metadata": {
    "ExecuteTime": {
     "end_time": "2022-12-01T09:52:42.731058Z",
     "start_time": "2022-12-01T09:52:42.728035Z"
    }
   },
   "outputs": [
    {
     "data": {
      "text/plain": [
       "(352, 7)"
      ]
     },
     "execution_count": 22,
     "metadata": {},
     "output_type": "execute_result"
    }
   ],
   "source": [
    "y_train.shape"
   ]
  },
  {
   "cell_type": "code",
   "execution_count": 23,
   "id": "0fabff4c",
   "metadata": {},
   "outputs": [
    {
     "data": {
      "text/plain": [
       "(150, 7, 10)"
      ]
     },
     "execution_count": 23,
     "metadata": {},
     "output_type": "execute_result"
    }
   ],
   "source": [
    "X_test.shape"
   ]
  },
  {
   "cell_type": "code",
   "execution_count": 24,
   "id": "d63b78d6",
   "metadata": {},
   "outputs": [
    {
     "data": {
      "text/plain": [
       "(150, 7)"
      ]
     },
     "execution_count": 24,
     "metadata": {},
     "output_type": "execute_result"
    }
   ],
   "source": [
    "y_test.shape"
   ]
  },
  {
   "cell_type": "code",
   "execution_count": 25,
   "id": "8cfa2eb8",
   "metadata": {
    "ExecuteTime": {
     "end_time": "2022-11-30T16:43:11.481793Z",
     "start_time": "2022-11-30T16:43:11.438361Z"
    }
   },
   "outputs": [],
   "source": [
    "## ASSERTS\n",
    "# assert(X_train.shape == (113, INPUT_LENGTH, N_FEATURES))\n",
    "# assert(y_train.shape == (113, OUTPUT_LENGTH))\n",
    "# assert(X_test.shape == (48, INPUT_LENGTH, N_FEATURES))\n",
    "# assert(y_test.shape == (48, OUTPUT_LENGTH))"
   ]
  },
  {
   "cell_type": "markdown",
   "id": "091406c6",
   "metadata": {},
   "source": [
    "## (3) 💻 Modelling"
   ]
  },
  {
   "cell_type": "markdown",
   "id": "6eb4d2cf",
   "metadata": {},
   "source": [
    "### (3.1) 💻 LSTM"
   ]
  },
  {
   "cell_type": "code",
   "execution_count": 26,
   "id": "aefd363d",
   "metadata": {
    "ExecuteTime": {
     "end_time": "2022-12-01T10:46:38.798994Z",
     "start_time": "2022-12-01T10:46:38.792106Z"
    }
   },
   "outputs": [],
   "source": [
    "from tensorflow.keras import models\n",
    "from tensorflow.keras import layers\n",
    "from tensorflow.keras import optimizers\n",
    "from tensorflow.keras.optimizers.schedules import ExponentialDecay"
   ]
  },
  {
   "cell_type": "code",
   "execution_count": 27,
   "id": "4f063310",
   "metadata": {
    "ExecuteTime": {
     "end_time": "2022-12-01T10:46:39.103439Z",
     "start_time": "2022-12-01T10:46:39.094666Z"
    }
   },
   "outputs": [
    {
     "data": {
      "text/plain": [
       "(352, 7, 10)"
      ]
     },
     "execution_count": 27,
     "metadata": {},
     "output_type": "execute_result"
    }
   ],
   "source": [
    "X_train.shape"
   ]
  },
  {
   "cell_type": "code",
   "execution_count": 28,
   "id": "df6ead37",
   "metadata": {},
   "outputs": [
    {
     "data": {
      "text/plain": [
       "(150, 7, 10)"
      ]
     },
     "execution_count": 28,
     "metadata": {},
     "output_type": "execute_result"
    }
   ],
   "source": [
    "X_test.shape"
   ]
  },
  {
   "cell_type": "code",
   "execution_count": 29,
   "id": "0bb7b2a1",
   "metadata": {
    "ExecuteTime": {
     "end_time": "2022-12-01T10:46:38.956000Z",
     "start_time": "2022-12-01T10:46:38.949175Z"
    }
   },
   "outputs": [
    {
     "data": {
      "text/plain": [
       "(352, 7)"
      ]
     },
     "execution_count": 29,
     "metadata": {},
     "output_type": "execute_result"
    }
   ],
   "source": [
    "y_train.shape"
   ]
  },
  {
   "cell_type": "code",
   "execution_count": 30,
   "id": "fc46696f",
   "metadata": {
    "ExecuteTime": {
     "end_time": "2022-12-01T11:06:01.474590Z",
     "start_time": "2022-12-01T11:06:01.467530Z"
    }
   },
   "outputs": [
    {
     "data": {
      "text/plain": [
       "(150, 7)"
      ]
     },
     "execution_count": 30,
     "metadata": {},
     "output_type": "execute_result"
    }
   ],
   "source": [
    "y_test.shape"
   ]
  },
  {
   "cell_type": "code",
   "execution_count": 31,
   "id": "75f88aae",
   "metadata": {
    "ExecuteTime": {
     "end_time": "2022-12-01T11:24:23.986989Z",
     "start_time": "2022-12-01T11:24:23.975714Z"
    }
   },
   "outputs": [],
   "source": [
    "def init_model(X_train, y_train):\n",
    "\n",
    "     # 1 - RNN architecture\n",
    "    # ======================    \n",
    "    model = models.Sequential()  \n",
    "    \n",
    "    # Recurrent Layer\n",
    "    model.add(layers.LSTM(units=80, activation='relu', input_shape=X_train[0].shape ,return_sequences=True))\n",
    "    \n",
    "    # Recurrent Layer\n",
    "    model.add(layers.LSTM(units=60, activation='relu',return_sequences=True))\n",
    "    \n",
    "    # Recurrent Layer\n",
    "    model.add(layers.LSTM(units=40, activation='relu',return_sequences=True))\n",
    "    \n",
    "    # Recurrent Layer\n",
    "    model.add(layers.LSTM(units=20, activation='relu',return_sequences=True))\n",
    "\n",
    "    # Predictive Dense Layer \n",
    "    model.add(layers.Dense(6, activation='softmax'))\n",
    "    \n",
    "    # 2 - Compiler\n",
    "    # ======================\n",
    "    initial_learning_rate = 0.001\n",
    "    lr_schedule = ExponentialDecay(initial_learning_rate, decay_steps=1000, decay_rate=0.0001)\n",
    "\n",
    "    #Le sparse_categorical_crossentrop permet de ne pas avoir à faire un OneHotEncoding de la target en 6 catégories\n",
    "    adam = optimizers.Adam(learning_rate=lr_schedule)\n",
    "    model.compile(loss='sparse_categorical_crossentropy', optimizer=adam, metrics=[\"accuracy\"])\n",
    "\n",
    "    return model\n",
    "    "
   ]
  },
  {
   "cell_type": "code",
   "execution_count": 32,
   "id": "338bca89",
   "metadata": {},
   "outputs": [],
   "source": [
    "# Test grid search\n",
    "# KO - A retester\n",
    "\n",
    "# import tensorflow as tf\n",
    "# from tensorboard.plugins.hparams import api as hp\n",
    "\n",
    "# HP_NUM_UNITS = hp.HParam('units', hp.Discrete([20, 40, 60, 80, 100]))\n",
    "# HP_DROPOUT = hp.HParam('dropout', hp.RealInterval(0.0, 0.2))\n",
    "# HP_OPTIMIZER = hp.HParam('optimizer', hp.Discrete(['adam', 'rmsprop']))\n",
    "\n",
    "# METRIC_ACCURACY = 'accuracy'\n",
    "\n",
    "# with tf.summary.create_file_writer('logs/hparam_tuning').as_default():\n",
    "#     hp.hparams_config(\n",
    "#         hparams=[HP_NUM_UNITS, HP_DROPOUT, HP_OPTIMIZER, HP_EPOCHS],\n",
    "#         metrics=[hp.Metric(METRIC_ACCURACY, display_name='Accuracy')],\n",
    "#     )\n",
    "\n",
    "# def init_model2(X_train, y_train, hparams):\n",
    "\n",
    "#      # 1 - RNN architecture\n",
    "#     # ======================    \n",
    "#     model = models.Sequential()  \n",
    "    \n",
    "# #    normalizer = Normalization()\n",
    "# #    normalizer.adapt(X_train)\n",
    "    \n",
    "#     # Recurrent Layer\n",
    "#     model.add(layers.LSTM(hparams[HP_NUM_UNITS], activation='relu',input_shape=X_train[0].shape ,return_sequences=True))\n",
    "    \n",
    "#     # Recurrent Layer\n",
    "#     model.add(layers.LSTM(hparams[HP_NUM_UNITS], activation='relu',return_sequences=True))\n",
    "    \n",
    "#     # Recurrent Layer\n",
    "#     model.add(layers.LSTM(hparams[HP_NUM_UNITS], activation='relu',return_sequences=True))\n",
    "#     model.add(layers.Dropout(hparams[HP_DROPOUT]))\n",
    "    \n",
    "#     # Recurrent Layer\n",
    "#     model.add(layers.LSTM(hparams[HP_NUM_UNITS], activation='relu',return_sequences=True))\n",
    "#     model.add(layers.Dropout(hparams[HP_DROPOUT]))\n",
    "\n",
    "#     # Predictive Dense Layer \n",
    "#     model.add(layers.Dense(6, activation='softmax'))\n",
    "    \n",
    "    \n",
    "#     # 2 - Compiler\n",
    "#     # ======================\n",
    "#     #initial_learning_rate = 0.001\n",
    "#     #lr_schedule = ExponentialDecay(initial_learning_rate, decay_steps=1000, decay_rate=0.0001)\n",
    "\n",
    "#     #Le sparse_categorical_crossentrop permet de ne pas avoir à faire un OneHotEncoding de la target en 6 catégories\n",
    "#     #adam = optimizers.Adam(learning_rate=lr_schedule)\n",
    "#     model.compile(loss='sparse_categorical_crossentropy', optimizer=hparams[HP_OPTIMIZER], metrics=[\"accuracy\"])\n",
    "\n",
    "#     return model"
   ]
  },
  {
   "cell_type": "code",
   "execution_count": 33,
   "id": "98a3dec5",
   "metadata": {
    "ExecuteTime": {
     "end_time": "2022-12-01T11:24:24.359190Z",
     "start_time": "2022-12-01T11:24:24.134293Z"
    }
   },
   "outputs": [
    {
     "name": "stderr",
     "output_type": "stream",
     "text": [
      "2022-12-03 17:16:19.829726: I tensorflow/core/platform/cpu_feature_guard.cc:193] This TensorFlow binary is optimized with oneAPI Deep Neural Network Library (oneDNN) to use the following CPU instructions in performance-critical operations:  AVX2 FMA\n",
      "To enable them in other operations, rebuild TensorFlow with the appropriate compiler flags.\n"
     ]
    }
   ],
   "source": [
    "model = init_model(X_train, y_train)"
   ]
  },
  {
   "cell_type": "code",
   "execution_count": 34,
   "id": "58c79aae",
   "metadata": {
    "ExecuteTime": {
     "end_time": "2022-12-01T11:24:24.368305Z",
     "start_time": "2022-12-01T11:24:24.360618Z"
    }
   },
   "outputs": [
    {
     "name": "stdout",
     "output_type": "stream",
     "text": [
      "Model: \"sequential\"\n",
      "_________________________________________________________________\n",
      " Layer (type)                Output Shape              Param #   \n",
      "=================================================================\n",
      " lstm (LSTM)                 (None, 7, 80)             29120     \n",
      "                                                                 \n",
      " lstm_1 (LSTM)               (None, 7, 60)             33840     \n",
      "                                                                 \n",
      " lstm_2 (LSTM)               (None, 7, 40)             16160     \n",
      "                                                                 \n",
      " lstm_3 (LSTM)               (None, 7, 20)             4880      \n",
      "                                                                 \n",
      " dense (Dense)               (None, 7, 6)              126       \n",
      "                                                                 \n",
      "=================================================================\n",
      "Total params: 84,126\n",
      "Trainable params: 84,126\n",
      "Non-trainable params: 0\n",
      "_________________________________________________________________\n"
     ]
    }
   ],
   "source": [
    "model.summary()"
   ]
  },
  {
   "cell_type": "markdown",
   "id": "8d58a701",
   "metadata": {},
   "source": [
    "🎁 **Training**: We can re-use the function `fit_model` from the last challenge to <font color=blue>train</font> the model."
   ]
  },
  {
   "cell_type": "code",
   "execution_count": 35,
   "id": "e1e7cc76",
   "metadata": {
    "ExecuteTime": {
     "end_time": "2022-12-01T11:24:24.555350Z",
     "start_time": "2022-12-01T11:24:24.550437Z"
    }
   },
   "outputs": [],
   "source": [
    "from tensorflow.keras.callbacks import EarlyStopping\n",
    "\n",
    "\n",
    "def fit_model(model: tf.keras.Model, verbose=1) -> Tuple[tf.keras.Model, dict]:\n",
    "\n",
    "    es = EarlyStopping(monitor=\"val_loss\",\n",
    "                       patience=5,\n",
    "                       mode=\"min\",\n",
    "                       restore_best_weights=True)\n",
    "\n",
    "    history = model.fit(X_train,\n",
    "                        y_train,\n",
    "                        validation_split=0.3,\n",
    "                        shuffle=False,\n",
    "                        batch_size=32,\n",
    "                        epochs=80,\n",
    "                        callbacks=[es],\n",
    "                        verbose=verbose)\n",
    "\n",
    "    return model, history"
   ]
  },
  {
   "cell_type": "markdown",
   "id": "82aaef12",
   "metadata": {},
   "source": [
    "🎁 **Visualizing performance:** Feel free to use the `plot_history` function to visualize how your model learned."
   ]
  },
  {
   "cell_type": "code",
   "execution_count": 36,
   "id": "57e6b2d3",
   "metadata": {
    "ExecuteTime": {
     "end_time": "2022-12-01T11:24:24.857534Z",
     "start_time": "2022-12-01T11:24:24.845280Z"
    }
   },
   "outputs": [],
   "source": [
    "def plot_history(history):\n",
    "    \n",
    "    fig, ax = plt.subplots(1,2, figsize=(20,7))\n",
    "    # --- LOSS: Sparse_categorical_crossentropy --- \n",
    "    ax[0].plot(history.history['loss'])\n",
    "    ax[0].plot(history.history['val_loss'])\n",
    "    ax[0].set_title('Loss')\n",
    "    ax[0].set_ylabel('Loss')\n",
    "    ax[0].set_xlabel('Epoch')\n",
    "    ax[0].legend(['Train', 'Validation'], loc='best')\n",
    "    ax[0].grid(axis=\"x\",linewidth=0.5)\n",
    "    ax[0].grid(axis=\"y\",linewidth=0.5)\n",
    "    \n",
    "    # --- METRICS: accuracy ---\n",
    "    \n",
    "    ax[1].plot(history.history['accuracy'])\n",
    "    ax[1].plot(history.history['val_accuracy'])\n",
    "    ax[1].set_title('accuracy')\n",
    "    ax[1].set_ylabel('accuracy')\n",
    "    ax[1].set_xlabel('Epoch')\n",
    "    ax[1].legend(['Train', 'Validation'], loc='best')\n",
    "    ax[1].grid(axis=\"x\",linewidth=0.5)\n",
    "    ax[1].grid(axis=\"y\",linewidth=0.5)\n",
    "                        \n",
    "    return ax"
   ]
  },
  {
   "cell_type": "markdown",
   "id": "b9a96891",
   "metadata": {},
   "source": [
    "💻 ❓ **Questions ❓ (Training and Evaluating the LSTM model)**\n",
    "\n",
    "Using your functions `init_model` and `fit_model`:\n",
    "1. **Initialize** your model\n",
    "2. <font color=blue>**Train**</font> it and observe the performances on the train set and the validation set\n",
    "3. <font color=orange>**Evaluate**</font> it on the test set\n",
    "\n",
    "_Feel free to apply regularization techniques in the architecture if the model overfits._"
   ]
  },
  {
   "cell_type": "code",
   "execution_count": 37,
   "id": "85ed34b4",
   "metadata": {
    "ExecuteTime": {
     "end_time": "2022-12-01T11:24:32.149324Z",
     "start_time": "2022-12-01T11:24:25.171175Z"
    },
    "scrolled": false,
    "tags": [
     "challengify"
    ]
   },
   "outputs": [
    {
     "name": "stdout",
     "output_type": "stream",
     "text": [
      "Epoch 1/80\n",
      "8/8 [==============================] - 7s 128ms/step - loss: 1.7803 - accuracy: 0.5772 - val_loss: 1.7628 - val_accuracy: 0.6415\n",
      "Epoch 2/80\n",
      "8/8 [==============================] - 0s 16ms/step - loss: 1.7453 - accuracy: 0.6463 - val_loss: 1.7091 - val_accuracy: 0.6415\n",
      "Epoch 3/80\n",
      "8/8 [==============================] - 0s 17ms/step - loss: 1.6593 - accuracy: 0.6463 - val_loss: 1.5555 - val_accuracy: 0.6415\n",
      "Epoch 4/80\n",
      "8/8 [==============================] - 0s 18ms/step - loss: 1.4797 - accuracy: 0.6376 - val_loss: 1.3912 - val_accuracy: 0.6429\n",
      "Epoch 5/80\n",
      "8/8 [==============================] - 0s 17ms/step - loss: 1.3820 - accuracy: 0.6214 - val_loss: 1.2959 - val_accuracy: 0.6456\n",
      "Epoch 6/80\n",
      "8/8 [==============================] - 0s 16ms/step - loss: 1.3065 - accuracy: 0.6376 - val_loss: 1.2525 - val_accuracy: 0.6402\n",
      "Epoch 7/80\n",
      "8/8 [==============================] - 0s 15ms/step - loss: 1.2729 - accuracy: 0.6365 - val_loss: 1.2631 - val_accuracy: 0.5687\n",
      "Epoch 8/80\n",
      "8/8 [==============================] - 0s 17ms/step - loss: 1.2495 - accuracy: 0.6365 - val_loss: 1.2029 - val_accuracy: 0.6321\n",
      "Epoch 9/80\n",
      "8/8 [==============================] - 0s 16ms/step - loss: 1.2052 - accuracy: 0.6370 - val_loss: 1.1644 - val_accuracy: 0.6415\n",
      "Epoch 10/80\n",
      "8/8 [==============================] - 0s 17ms/step - loss: 1.1711 - accuracy: 0.6452 - val_loss: 1.1576 - val_accuracy: 0.6132\n",
      "Epoch 11/80\n",
      "8/8 [==============================] - 0s 16ms/step - loss: 1.1545 - accuracy: 0.6400 - val_loss: 1.1623 - val_accuracy: 0.5728\n",
      "Epoch 12/80\n",
      "8/8 [==============================] - 0s 16ms/step - loss: 1.1472 - accuracy: 0.6289 - val_loss: 1.1062 - val_accuracy: 0.6402\n",
      "Epoch 13/80\n",
      "8/8 [==============================] - 0s 15ms/step - loss: 1.1163 - accuracy: 0.6463 - val_loss: 1.0950 - val_accuracy: 0.6361\n",
      "Epoch 14/80\n",
      "8/8 [==============================] - 0s 18ms/step - loss: 1.1005 - accuracy: 0.6469 - val_loss: 1.0900 - val_accuracy: 0.6199\n",
      "Epoch 15/80\n",
      "8/8 [==============================] - 0s 16ms/step - loss: 1.0913 - accuracy: 0.6417 - val_loss: 1.0772 - val_accuracy: 0.6321\n",
      "Epoch 16/80\n",
      "8/8 [==============================] - 0s 18ms/step - loss: 1.0750 - accuracy: 0.6452 - val_loss: 1.0683 - val_accuracy: 0.6253\n",
      "Epoch 17/80\n",
      "8/8 [==============================] - 0s 15ms/step - loss: 1.0658 - accuracy: 0.6440 - val_loss: 1.0549 - val_accuracy: 0.6321\n",
      "Epoch 18/80\n",
      "8/8 [==============================] - 0s 25ms/step - loss: 1.0542 - accuracy: 0.6481 - val_loss: 1.0492 - val_accuracy: 0.6280\n",
      "Epoch 19/80\n",
      "8/8 [==============================] - 0s 15ms/step - loss: 1.0436 - accuracy: 0.6487 - val_loss: 1.0486 - val_accuracy: 0.6240\n",
      "Epoch 20/80\n",
      "8/8 [==============================] - 0s 18ms/step - loss: 1.0383 - accuracy: 0.6452 - val_loss: 1.0361 - val_accuracy: 0.6280\n",
      "Epoch 21/80\n",
      "8/8 [==============================] - 0s 17ms/step - loss: 1.0284 - accuracy: 0.6498 - val_loss: 1.0269 - val_accuracy: 0.6267\n",
      "Epoch 22/80\n",
      "8/8 [==============================] - 0s 21ms/step - loss: 1.0158 - accuracy: 0.6551 - val_loss: 1.0237 - val_accuracy: 0.6213\n",
      "Epoch 23/80\n",
      "8/8 [==============================] - 0s 18ms/step - loss: 1.0106 - accuracy: 0.6568 - val_loss: 1.0206 - val_accuracy: 0.6173\n",
      "Epoch 24/80\n",
      "8/8 [==============================] - 0s 19ms/step - loss: 1.0047 - accuracy: 0.6556 - val_loss: 1.0196 - val_accuracy: 0.6199\n",
      "Epoch 25/80\n",
      "8/8 [==============================] - 0s 21ms/step - loss: 0.9981 - accuracy: 0.6539 - val_loss: 1.0189 - val_accuracy: 0.6213\n",
      "Epoch 26/80\n",
      "8/8 [==============================] - 0s 16ms/step - loss: 0.9939 - accuracy: 0.6562 - val_loss: 1.0143 - val_accuracy: 0.6213\n",
      "Epoch 27/80\n",
      "8/8 [==============================] - 0s 18ms/step - loss: 0.9878 - accuracy: 0.6562 - val_loss: 1.0077 - val_accuracy: 0.6186\n",
      "Epoch 28/80\n",
      "8/8 [==============================] - 0s 28ms/step - loss: 0.9797 - accuracy: 0.6614 - val_loss: 1.0052 - val_accuracy: 0.6213\n",
      "Epoch 29/80\n",
      "8/8 [==============================] - 0s 25ms/step - loss: 0.9751 - accuracy: 0.6614 - val_loss: 1.0053 - val_accuracy: 0.6253\n",
      "Epoch 30/80\n",
      "8/8 [==============================] - 0s 21ms/step - loss: 0.9704 - accuracy: 0.6626 - val_loss: 1.0055 - val_accuracy: 0.6294\n",
      "Epoch 31/80\n",
      "8/8 [==============================] - 0s 17ms/step - loss: 0.9669 - accuracy: 0.6626 - val_loss: 1.0044 - val_accuracy: 0.6307\n",
      "Epoch 32/80\n",
      "8/8 [==============================] - 0s 18ms/step - loss: 0.9635 - accuracy: 0.6609 - val_loss: 1.0020 - val_accuracy: 0.6294\n",
      "Epoch 33/80\n",
      "8/8 [==============================] - 0s 18ms/step - loss: 0.9592 - accuracy: 0.6614 - val_loss: 1.0003 - val_accuracy: 0.6294\n",
      "Epoch 34/80\n",
      "8/8 [==============================] - 0s 21ms/step - loss: 0.9548 - accuracy: 0.6632 - val_loss: 1.0007 - val_accuracy: 0.6280\n",
      "Epoch 35/80\n",
      "8/8 [==============================] - 0s 22ms/step - loss: 0.9525 - accuracy: 0.6649 - val_loss: 0.9999 - val_accuracy: 0.6321\n",
      "Epoch 36/80\n",
      "8/8 [==============================] - 0s 35ms/step - loss: 0.9489 - accuracy: 0.6661 - val_loss: 1.0003 - val_accuracy: 0.6280\n",
      "Epoch 37/80\n",
      "8/8 [==============================] - 0s 37ms/step - loss: 0.9477 - accuracy: 0.6661 - val_loss: 0.9981 - val_accuracy: 0.6267\n",
      "Epoch 38/80\n",
      "8/8 [==============================] - 0s 28ms/step - loss: 0.9437 - accuracy: 0.6684 - val_loss: 0.9994 - val_accuracy: 0.6294\n",
      "Epoch 39/80\n",
      "8/8 [==============================] - 0s 15ms/step - loss: 0.9431 - accuracy: 0.6684 - val_loss: 0.9976 - val_accuracy: 0.6294\n",
      "Epoch 40/80\n",
      "8/8 [==============================] - 0s 23ms/step - loss: 0.9398 - accuracy: 0.6707 - val_loss: 0.9988 - val_accuracy: 0.6307\n",
      "Epoch 41/80\n",
      "8/8 [==============================] - 0s 26ms/step - loss: 0.9391 - accuracy: 0.6707 - val_loss: 0.9967 - val_accuracy: 0.6280\n",
      "Epoch 42/80\n",
      "8/8 [==============================] - 0s 36ms/step - loss: 0.9365 - accuracy: 0.6725 - val_loss: 0.9982 - val_accuracy: 0.6307\n",
      "Epoch 43/80\n",
      "8/8 [==============================] - 0s 28ms/step - loss: 0.9356 - accuracy: 0.6748 - val_loss: 0.9966 - val_accuracy: 0.6267\n",
      "Epoch 44/80\n",
      "8/8 [==============================] - 0s 27ms/step - loss: 0.9338 - accuracy: 0.6748 - val_loss: 0.9971 - val_accuracy: 0.6294\n",
      "Epoch 45/80\n",
      "8/8 [==============================] - 0s 15ms/step - loss: 0.9326 - accuracy: 0.6765 - val_loss: 0.9966 - val_accuracy: 0.6267\n",
      "Epoch 46/80\n",
      "8/8 [==============================] - 0s 18ms/step - loss: 0.9315 - accuracy: 0.6760 - val_loss: 0.9964 - val_accuracy: 0.6280\n",
      "Epoch 47/80\n",
      "8/8 [==============================] - 0s 29ms/step - loss: 0.9301 - accuracy: 0.6765 - val_loss: 0.9964 - val_accuracy: 0.6280\n",
      "Epoch 48/80\n",
      "8/8 [==============================] - 0s 27ms/step - loss: 0.9293 - accuracy: 0.6765 - val_loss: 0.9961 - val_accuracy: 0.6280\n",
      "Epoch 49/80\n",
      "8/8 [==============================] - 0s 38ms/step - loss: 0.9282 - accuracy: 0.6777 - val_loss: 0.9960 - val_accuracy: 0.6280\n",
      "Epoch 50/80\n",
      "8/8 [==============================] - 0s 34ms/step - loss: 0.9273 - accuracy: 0.6777 - val_loss: 0.9959 - val_accuracy: 0.6307\n",
      "Epoch 51/80\n",
      "8/8 [==============================] - 0s 22ms/step - loss: 0.9265 - accuracy: 0.6777 - val_loss: 0.9957 - val_accuracy: 0.6307\n",
      "Epoch 52/80\n",
      "8/8 [==============================] - 0s 35ms/step - loss: 0.9257 - accuracy: 0.6777 - val_loss: 0.9956 - val_accuracy: 0.6294\n",
      "Epoch 53/80\n",
      "8/8 [==============================] - 0s 24ms/step - loss: 0.9250 - accuracy: 0.6789 - val_loss: 0.9956 - val_accuracy: 0.6294\n",
      "Epoch 54/80\n",
      "8/8 [==============================] - 0s 24ms/step - loss: 0.9244 - accuracy: 0.6794 - val_loss: 0.9954 - val_accuracy: 0.6294\n",
      "Epoch 55/80\n",
      "8/8 [==============================] - 0s 18ms/step - loss: 0.9238 - accuracy: 0.6794 - val_loss: 0.9954 - val_accuracy: 0.6294\n",
      "Epoch 56/80\n",
      "8/8 [==============================] - 0s 17ms/step - loss: 0.9232 - accuracy: 0.6800 - val_loss: 0.9953 - val_accuracy: 0.6294\n",
      "Epoch 57/80\n",
      "8/8 [==============================] - 0s 17ms/step - loss: 0.9227 - accuracy: 0.6800 - val_loss: 0.9952 - val_accuracy: 0.6294\n",
      "Epoch 58/80\n",
      "8/8 [==============================] - 0s 16ms/step - loss: 0.9222 - accuracy: 0.6800 - val_loss: 0.9951 - val_accuracy: 0.6294\n",
      "Epoch 59/80\n"
     ]
    },
    {
     "name": "stdout",
     "output_type": "stream",
     "text": [
      "8/8 [==============================] - 0s 25ms/step - loss: 0.9218 - accuracy: 0.6800 - val_loss: 0.9950 - val_accuracy: 0.6294\n",
      "Epoch 60/80\n",
      "8/8 [==============================] - 0s 16ms/step - loss: 0.9214 - accuracy: 0.6806 - val_loss: 0.9949 - val_accuracy: 0.6294\n",
      "Epoch 61/80\n",
      "8/8 [==============================] - 0s 16ms/step - loss: 0.9210 - accuracy: 0.6800 - val_loss: 0.9948 - val_accuracy: 0.6294\n",
      "Epoch 62/80\n",
      "8/8 [==============================] - 0s 17ms/step - loss: 0.9206 - accuracy: 0.6800 - val_loss: 0.9947 - val_accuracy: 0.6294\n",
      "Epoch 63/80\n",
      "8/8 [==============================] - 0s 15ms/step - loss: 0.9203 - accuracy: 0.6800 - val_loss: 0.9946 - val_accuracy: 0.6294\n",
      "Epoch 64/80\n",
      "8/8 [==============================] - 0s 15ms/step - loss: 0.9200 - accuracy: 0.6800 - val_loss: 0.9946 - val_accuracy: 0.6307\n",
      "Epoch 65/80\n",
      "8/8 [==============================] - 0s 14ms/step - loss: 0.9197 - accuracy: 0.6800 - val_loss: 0.9945 - val_accuracy: 0.6307\n",
      "Epoch 66/80\n",
      "8/8 [==============================] - 0s 16ms/step - loss: 0.9194 - accuracy: 0.6800 - val_loss: 0.9945 - val_accuracy: 0.6307\n",
      "Epoch 67/80\n",
      "8/8 [==============================] - 0s 15ms/step - loss: 0.9192 - accuracy: 0.6800 - val_loss: 0.9944 - val_accuracy: 0.6321\n",
      "Epoch 68/80\n",
      "8/8 [==============================] - 0s 19ms/step - loss: 0.9190 - accuracy: 0.6800 - val_loss: 0.9944 - val_accuracy: 0.6321\n",
      "Epoch 69/80\n",
      "8/8 [==============================] - 0s 15ms/step - loss: 0.9188 - accuracy: 0.6794 - val_loss: 0.9943 - val_accuracy: 0.6321\n",
      "Epoch 70/80\n",
      "8/8 [==============================] - 0s 19ms/step - loss: 0.9186 - accuracy: 0.6800 - val_loss: 0.9943 - val_accuracy: 0.6321\n",
      "Epoch 71/80\n",
      "8/8 [==============================] - 0s 16ms/step - loss: 0.9184 - accuracy: 0.6800 - val_loss: 0.9942 - val_accuracy: 0.6321\n",
      "Epoch 72/80\n",
      "8/8 [==============================] - 0s 16ms/step - loss: 0.9182 - accuracy: 0.6800 - val_loss: 0.9942 - val_accuracy: 0.6321\n",
      "Epoch 73/80\n",
      "8/8 [==============================] - 0s 15ms/step - loss: 0.9181 - accuracy: 0.6800 - val_loss: 0.9942 - val_accuracy: 0.6321\n",
      "Epoch 74/80\n",
      "8/8 [==============================] - 0s 18ms/step - loss: 0.9179 - accuracy: 0.6800 - val_loss: 0.9941 - val_accuracy: 0.6321\n",
      "Epoch 75/80\n",
      "8/8 [==============================] - 0s 15ms/step - loss: 0.9178 - accuracy: 0.6800 - val_loss: 0.9941 - val_accuracy: 0.6321\n",
      "Epoch 76/80\n",
      "8/8 [==============================] - 0s 16ms/step - loss: 0.9177 - accuracy: 0.6800 - val_loss: 0.9941 - val_accuracy: 0.6321\n",
      "Epoch 77/80\n",
      "8/8 [==============================] - 0s 16ms/step - loss: 0.9176 - accuracy: 0.6800 - val_loss: 0.9941 - val_accuracy: 0.6321\n",
      "Epoch 78/80\n",
      "8/8 [==============================] - 0s 17ms/step - loss: 0.9175 - accuracy: 0.6800 - val_loss: 0.9940 - val_accuracy: 0.6321\n",
      "Epoch 79/80\n",
      "8/8 [==============================] - 0s 21ms/step - loss: 0.9174 - accuracy: 0.6800 - val_loss: 0.9940 - val_accuracy: 0.6321\n",
      "Epoch 80/80\n",
      "8/8 [==============================] - 0s 15ms/step - loss: 0.9173 - accuracy: 0.6800 - val_loss: 0.9940 - val_accuracy: 0.6321\n",
      "5/5 [==============================] - 0s 5ms/step - loss: 1.2222 - accuracy: 0.5800\n",
      "--------------------------------------------------\n",
      "The LSTM accuracy on the test set is equal to 0.58, (meaning the model is guessing the correct predictions 58.0% of the time).\n",
      "CPU times: user 25.8 s, sys: 2.93 s, total: 28.7 s\n",
      "Wall time: 20.7 s\n"
     ]
    },
    {
     "data": {
      "image/png": "[encoded data removed]",
      "text/plain": [
       "<Figure size 2000x700 with 2 Axes>"
      ]
     },
     "metadata": {},
     "output_type": "display_data"
    }
   ],
   "source": [
    "%%time\n",
    "# 1 - Initialising the RNN model\n",
    "# ==================================== #\n",
    "model = init_model(X_train, y_train)\n",
    "#model.summary()\n",
    "\n",
    "# 2 - Training\n",
    "# ====================================\n",
    "model, history = fit_model(model, verbose=1)\n",
    "plot_history(history);\n",
    "\n",
    "# 3 - Evaluation\n",
    "# ====================================\n",
    "res = model.evaluate(X_test, y_test)\n",
    "\n",
    "print(\"-\"*50)\n",
    "print(f\"The LSTM accuracy on the test set is equal to {round(res[1],2)}, (meaning the model is guessing the correct predictions {round(res[1]*100,2)}% of the time).\")"
   ]
  },
  {
   "cell_type": "code",
   "execution_count": 38,
   "id": "b0e75dc2",
   "metadata": {
    "ExecuteTime": {
     "end_time": "2022-12-01T11:24:32.553165Z",
     "start_time": "2022-12-01T11:24:32.150946Z"
    }
   },
   "outputs": [
    {
     "name": "stdout",
     "output_type": "stream",
     "text": [
      "5/5 [==============================] - 1s 4ms/step\n"
     ]
    },
    {
     "data": {
      "text/plain": [
       "(150, 7, 6)"
      ]
     },
     "execution_count": 38,
     "metadata": {},
     "output_type": "execute_result"
    }
   ],
   "source": [
    "model.predict(X_test).shape"
   ]
  },
  {
   "cell_type": "code",
   "execution_count": 46,
   "id": "46a1dbbb",
   "metadata": {
    "ExecuteTime": {
     "end_time": "2022-12-01T11:36:12.380070Z",
     "start_time": "2022-12-01T11:36:12.309587Z"
    }
   },
   "outputs": [
    {
     "name": "stdout",
     "output_type": "stream",
     "text": [
      "5/5 [==============================] - 1s 10ms/step\n"
     ]
    },
    {
     "data": {
      "text/plain": [
       "array([[[0.17, 0.17, 0.17, 0.17, 0.17, 0.17],\n",
       "        [0.17, 0.17, 0.17, 0.17, 0.17, 0.17],\n",
       "        [0.17, 0.17, 0.17, 0.17, 0.17, 0.17],\n",
       "        ...,\n",
       "        [0.17, 0.17, 0.17, 0.17, 0.17, 0.17],\n",
       "        [0.17, 0.17, 0.17, 0.17, 0.17, 0.17],\n",
       "        [0.17, 0.17, 0.17, 0.17, 0.17, 0.17]],\n",
       "\n",
       "       [[0.17, 0.17, 0.17, 0.17, 0.17, 0.17],\n",
       "        [0.17, 0.17, 0.17, 0.17, 0.17, 0.17],\n",
       "        [0.17, 0.17, 0.17, 0.17, 0.17, 0.17],\n",
       "        ...,\n",
       "        [0.17, 0.17, 0.17, 0.17, 0.17, 0.17],\n",
       "        [0.17, 0.17, 0.17, 0.17, 0.17, 0.17],\n",
       "        [0.17, 0.17, 0.17, 0.17, 0.17, 0.17]],\n",
       "\n",
       "       [[0.17, 0.17, 0.17, 0.17, 0.17, 0.17],\n",
       "        [0.17, 0.17, 0.17, 0.17, 0.17, 0.17],\n",
       "        [0.17, 0.17, 0.17, 0.17, 0.17, 0.17],\n",
       "        ...,\n",
       "        [0.17, 0.17, 0.17, 0.17, 0.17, 0.17],\n",
       "        [0.17, 0.17, 0.17, 0.17, 0.17, 0.17],\n",
       "        [0.17, 0.17, 0.17, 0.17, 0.17, 0.17]],\n",
       "\n",
       "       ...,\n",
       "\n",
       "       [[0.17, 0.17, 0.17, 0.17, 0.17, 0.17],\n",
       "        [0.17, 0.17, 0.17, 0.17, 0.17, 0.17],\n",
       "        [0.17, 0.17, 0.17, 0.17, 0.17, 0.17],\n",
       "        ...,\n",
       "        [0.17, 0.17, 0.17, 0.17, 0.17, 0.17],\n",
       "        [0.17, 0.17, 0.17, 0.17, 0.17, 0.17],\n",
       "        [0.17, 0.17, 0.17, 0.17, 0.17, 0.17]],\n",
       "\n",
       "       [[0.17, 0.17, 0.17, 0.17, 0.17, 0.17],\n",
       "        [0.17, 0.17, 0.17, 0.17, 0.17, 0.17],\n",
       "        [0.17, 0.17, 0.17, 0.17, 0.17, 0.17],\n",
       "        ...,\n",
       "        [0.17, 0.17, 0.17, 0.17, 0.17, 0.17],\n",
       "        [0.17, 0.17, 0.17, 0.17, 0.17, 0.17],\n",
       "        [0.17, 0.17, 0.17, 0.17, 0.17, 0.17]],\n",
       "\n",
       "       [[0.17, 0.17, 0.17, 0.17, 0.17, 0.17],\n",
       "        [0.17, 0.17, 0.17, 0.17, 0.17, 0.17],\n",
       "        [0.17, 0.17, 0.17, 0.17, 0.17, 0.17],\n",
       "        ...,\n",
       "        [0.17, 0.17, 0.17, 0.17, 0.17, 0.17],\n",
       "        [0.17, 0.17, 0.17, 0.17, 0.17, 0.17],\n",
       "        [0.17, 0.17, 0.17, 0.17, 0.17, 0.17]]], dtype=float32)"
      ]
     },
     "execution_count": 46,
     "metadata": {},
     "output_type": "execute_result"
    }
   ],
   "source": [
    "np.round(model.predict(X_test)[0],2)"
   ]
  },
  {
   "cell_type": "markdown",
   "id": "ead08e85",
   "metadata": {},
   "source": [
    "### (3.2) 🎁 Baseline with a horizon"
   ]
  },
  {
   "cell_type": "markdown",
   "id": "9d9ce810",
   "metadata": {},
   "source": [
    "👉 (*Reminder*) ***In Time Series, an \"intuitive\" baseline model is to repeat the last seen value as (a) prediction(s) for the future value(s)*** you want to forecast, as illustrated down below!"
   ]
  },
  {
   "cell_type": "markdown",
   "id": "38715e66",
   "metadata": {},
   "source": [
    "<img src = \"https://github.com/davydw/public-pictures/blob/main/last_seen_value_with_horizon.png?raw=true\" width = 600 height = 300>"
   ]
  },
  {
   "cell_type": "markdown",
   "id": "f354117b",
   "metadata": {},
   "source": [
    "🎁 **The Last Seen Value Baseline Model** \n",
    "\n",
    "Let's go together through the function `baseline` which:\n",
    "- (_input_) takes a pair $(X, y)$ \n",
    "- (_output_) computes the accuracy of the baseline model"
   ]
  },
  {
   "cell_type": "code",
   "execution_count": 40,
   "id": "12040fdc",
   "metadata": {
    "ExecuteTime": {
     "end_time": "2022-11-30T14:39:34.775583Z",
     "start_time": "2022-11-30T14:39:34.772023Z"
    }
   },
   "outputs": [],
   "source": [
    "from sklearn.metrics import accuracy_score # import library\n",
    "\n",
    "def baseline(df):\n",
    "    df['ATMO_baseline'] = df['ATMO'].shift(periods=8,axis=0) #creation of y_pred by shifting target of 7 days\n",
    "    y_baseline = df['ATMO_baseline'][8:] #take off the 7 first values to drop nan\n",
    "    y_true = df['ATMO'][8:] #take off the 7 first values to drop nan\n",
    "    accuracy = accuracy_score(y_true, y_baseline) # use accuracy modul from sklearn\n",
    "    df = df.drop(columns = ['ATMO_baseline'])\n",
    "\n",
    "    return df, accuracy"
   ]
  },
  {
   "cell_type": "markdown",
   "id": "542127c5",
   "metadata": {},
   "source": [
    "🕵🏻‍♀️ What is the performance of the \"last seen value baseline model\" on the <font color=orange>**test**</font> set?"
   ]
  },
  {
   "cell_type": "code",
   "execution_count": 41,
   "id": "ff4c5763",
   "metadata": {
    "ExecuteTime": {
     "end_time": "2022-11-30T14:39:34.780798Z",
     "start_time": "2022-11-30T14:39:34.777313Z"
    }
   },
   "outputs": [
    {
     "name": "stdout",
     "output_type": "stream",
     "text": [
      "- The baseline accuracy_baseline on the test set is equal to 0.54\n",
      "- The LSTM accuracy_baseline on the test set is equal to 0.58, (meaning the model is guessing the correct predictions 58.0% of the time).\n",
      "👉 Improvement/decrease of the LSTM model over the baseline (on this fold for the test set) = : 7.99 % 👈\n"
     ]
    }
   ],
   "source": [
    "# 1 - Evaluation of the baseline model\n",
    "# ====================================\n",
    "df, accuracy_baseline = baseline(df)\n",
    "\n",
    "print(f\"- The baseline accuracy_baseline on the test set is equal to {round(accuracy_baseline,2)}\")\n",
    "\n",
    "# 4 - Comparison with the LSTM model\n",
    "# ====================================\n",
    "print(f\"- The LSTM accuracy_baseline on the test set is equal to {round(res[1],2)}, (meaning the model is guessing the correct predictions {round(res[1]*100,2)}% of the time).\")\n",
    "print(f\"👉 Improvement/decrease of the LSTM model over the baseline (on this fold for the test set) = : {round(((res[1]-accuracy_baseline)/accuracy_baseline)*100,2)} % 👈\")"
   ]
  },
  {
   "cell_type": "markdown",
   "id": "41ccf45c",
   "metadata": {},
   "source": [
    "<u><b><i>Warnings:</i></b></u>\n",
    "\n",
    "* <font color=red>***The more data points in the future we try to predict, the lower your accuracy will be!***</font>"
   ]
  },
  {
   "cell_type": "markdown",
   "id": "a1254d01",
   "metadata": {},
   "source": [
    "### (3.3) 💻 Cross-Validation"
   ]
  },
  {
   "cell_type": "markdown",
   "id": "f9d14926",
   "metadata": {},
   "source": [
    "ℹ️ Reminders of the global variables in this notebook:"
   ]
  },
  {
   "cell_type": "code",
   "execution_count": 42,
   "id": "35955631",
   "metadata": {
    "ExecuteTime": {
     "end_time": "2022-11-30T14:39:34.788288Z",
     "start_time": "2022-11-30T14:39:34.782170Z"
    }
   },
   "outputs": [
    {
     "name": "stdout",
     "output_type": "stream",
     "text": [
      "##### FOLDS ##### \n",
      "- FOLD_LENGTH = 521 timesteps = 1 year x 365 days x 1 record per day + 156 days of test\n",
      "- FOLD_STRIDE = 209 timesteps = 91.25 days x 1 record per day(s) = sliding each trimester\n",
      "##### TRAIN TEST SPLIT #####\n",
      "- TRAIN_TEST_RATIO = 0.7\n",
      "##### INPUTS #####\n",
      "- INPUT_LENGTH = 7 timesteps = 7 days x 1 record(s) per day = 1 week(s)\n",
      "- N_FEATURES = 4\n",
      "##### OUTPUTS #####\n",
      "- OUTPUT_LENGTH = 7 timesteps = 7 day(s) x 1 record(s) per day\n",
      "- Trying to predict:['ATMO']\n",
      "- N_TARGETS = 1\n",
      "##### PARAMETERS #####\n",
      "- HORIZON = 1 timesteps = 1 day(s) x 8 record(s) per day\n"
     ]
    }
   ],
   "source": [
    "# Folds\n",
    "print('##### FOLDS ##### ')\n",
    "print(f'- FOLD_LENGTH = {FOLD_LENGTH} timesteps = {1} year x {365} days x {1} record per day + 156 days of test')\n",
    "print(f'- FOLD_STRIDE = {FOLD_STRIDE} timesteps = {(365/4)} days x {1} record per day(s) = sliding each trimester')\n",
    "\n",
    "# Chronological Train Test Split\n",
    "print('##### TRAIN TEST SPLIT #####')\n",
    "print(f'- TRAIN_TEST_RATIO = {TRAIN_TEST_RATIO}')\n",
    "#print(f'- N_TRAIN = {N_TRAIN}')\n",
    "#print(f'- N_TEST = {N_TEST}')\n",
    "\n",
    "# Inputs\n",
    "print('##### INPUTS #####')\n",
    "print(f'- INPUT_LENGTH = {INPUT_LENGTH} timesteps = {int(INPUT_LENGTH)} days x {1} record(s) per day = {int(INPUT_LENGTH/7)} week(s)')\n",
    "print(f'- N_FEATURES = {N_FEATURES}') \n",
    "\n",
    "# Outputs\n",
    "print('##### OUTPUTS #####')\n",
    "print(f'- OUTPUT_LENGTH = {OUTPUT_LENGTH} timesteps = {int(OUTPUT_LENGTH)} day(s) x {1} record(s) per day')\n",
    "print(f\"- Trying to predict:{TARGET}\")\n",
    "print(f'- N_TARGETS = {N_TARGETS}') \n",
    "\n",
    "# Parameters\n",
    "print('##### PARAMETERS #####')\n",
    "print(f'- HORIZON = {HORIZON} timesteps = {int(HORIZON)} day(s) x {8} record(s) per day')\n"
   ]
  },
  {
   "cell_type": "code",
   "execution_count": 43,
   "id": "15d2e691",
   "metadata": {
    "ExecuteTime": {
     "end_time": "2022-11-30T14:39:34.797101Z",
     "start_time": "2022-11-30T14:39:34.791318Z"
    }
   },
   "outputs": [
    {
     "name": "stdout",
     "output_type": "stream",
     "text": [
      "WARNING, we have 7 FOLDS, it may take a long time to run...!\n"
     ]
    }
   ],
   "source": [
    "# Remember how many folds do we have ?\n",
    "folds = get_folds(df, FOLD_LENGTH, FOLD_STRIDE)\n",
    "print(f\"WARNING, we have {len(folds)} FOLDS, it may take a long time to run...!\")"
   ]
  },
  {
   "cell_type": "markdown",
   "id": "bdafe484",
   "metadata": {},
   "source": [
    "🎁 **Cross-validating the LSTM and the baseline** \n",
    "\n",
    "_Let's go together through the following code_ 👇"
   ]
  },
  {
   "cell_type": "code",
   "execution_count": 44,
   "id": "198f4374",
   "metadata": {},
   "outputs": [
    {
     "data": {
      "text/plain": [
       "1"
      ]
     },
     "execution_count": 44,
     "metadata": {},
     "output_type": "execute_result"
    }
   ],
   "source": [
    "STRIDE"
   ]
  },
  {
   "cell_type": "code",
   "execution_count": 45,
   "id": "442bac8b",
   "metadata": {
    "ExecuteTime": {
     "end_time": "2022-11-30T14:39:59.711962Z",
     "start_time": "2022-11-30T14:39:45.772891Z"
    }
   },
   "outputs": [
    {
     "name": "stdout",
     "output_type": "stream",
     "text": [
      "--------------------------------------------------\n",
      "Accuracy baseline fold n°0 = 0.54\n",
      "Accuracy LSTM fold n°0 = 0.74\n",
      "🏋🏽‍♂️ Improvement/Decrease vs. Baseline: 37.79 % \n",
      "\n",
      "--------------------------------------------------\n",
      "Accuracy baseline fold n°1 = 0.54\n"
     ]
    },
    {
     "ename": "KeyboardInterrupt",
     "evalue": "",
     "output_type": "error",
     "traceback": [
      "\u001b[0;31m---------------------------------------------------------------------------\u001b[0m",
      "\u001b[0;31mKeyboardInterrupt\u001b[0m                         Traceback (most recent call last)",
      "Cell \u001b[0;32mIn [45], line 51\u001b[0m\n\u001b[1;32m     48\u001b[0m model \u001b[38;5;241m=\u001b[39m init_model(X_train, y_train)\n\u001b[1;32m     50\u001b[0m \u001b[38;5;66;03m# Training\u001b[39;00m\n\u001b[0;32m---> 51\u001b[0m model, history \u001b[38;5;241m=\u001b[39m \u001b[43mfit_model\u001b[49m\u001b[43m(\u001b[49m\u001b[43mmodel\u001b[49m\u001b[43m,\u001b[49m\u001b[43m \u001b[49m\u001b[43mverbose\u001b[49m\u001b[38;5;241;43m=\u001b[39;49m\u001b[38;5;241;43m0\u001b[39;49m\u001b[43m)\u001b[49m\n\u001b[1;32m     53\u001b[0m \u001b[38;5;66;03m# Evaluation\u001b[39;00m\n\u001b[1;32m     54\u001b[0m res \u001b[38;5;241m=\u001b[39m model\u001b[38;5;241m.\u001b[39mevaluate(X_test, y_test, verbose \u001b[38;5;241m=\u001b[39m \u001b[38;5;241m0\u001b[39m)\n",
      "Cell \u001b[0;32mIn [35], line 11\u001b[0m, in \u001b[0;36mfit_model\u001b[0;34m(model, verbose)\u001b[0m\n\u001b[1;32m      4\u001b[0m \u001b[38;5;28;01mdef\u001b[39;00m \u001b[38;5;21mfit_model\u001b[39m(model: tf\u001b[38;5;241m.\u001b[39mkeras\u001b[38;5;241m.\u001b[39mModel, verbose\u001b[38;5;241m=\u001b[39m\u001b[38;5;241m1\u001b[39m) \u001b[38;5;241m-\u001b[39m\u001b[38;5;241m>\u001b[39m Tuple[tf\u001b[38;5;241m.\u001b[39mkeras\u001b[38;5;241m.\u001b[39mModel, \u001b[38;5;28mdict\u001b[39m]:\n\u001b[1;32m      6\u001b[0m     es \u001b[38;5;241m=\u001b[39m EarlyStopping(monitor\u001b[38;5;241m=\u001b[39m\u001b[38;5;124m\"\u001b[39m\u001b[38;5;124mval_loss\u001b[39m\u001b[38;5;124m\"\u001b[39m,\n\u001b[1;32m      7\u001b[0m                        patience\u001b[38;5;241m=\u001b[39m\u001b[38;5;241m5\u001b[39m,\n\u001b[1;32m      8\u001b[0m                        mode\u001b[38;5;241m=\u001b[39m\u001b[38;5;124m\"\u001b[39m\u001b[38;5;124mmin\u001b[39m\u001b[38;5;124m\"\u001b[39m,\n\u001b[1;32m      9\u001b[0m                        restore_best_weights\u001b[38;5;241m=\u001b[39m\u001b[38;5;28;01mTrue\u001b[39;00m)\n\u001b[0;32m---> 11\u001b[0m     history \u001b[38;5;241m=\u001b[39m \u001b[43mmodel\u001b[49m\u001b[38;5;241;43m.\u001b[39;49m\u001b[43mfit\u001b[49m\u001b[43m(\u001b[49m\u001b[43mX_train\u001b[49m\u001b[43m,\u001b[49m\n\u001b[1;32m     12\u001b[0m \u001b[43m                        \u001b[49m\u001b[43my_train\u001b[49m\u001b[43m,\u001b[49m\n\u001b[1;32m     13\u001b[0m \u001b[43m                        \u001b[49m\u001b[43mvalidation_split\u001b[49m\u001b[38;5;241;43m=\u001b[39;49m\u001b[38;5;241;43m0.3\u001b[39;49m\u001b[43m,\u001b[49m\n\u001b[1;32m     14\u001b[0m \u001b[43m                        \u001b[49m\u001b[43mshuffle\u001b[49m\u001b[38;5;241;43m=\u001b[39;49m\u001b[38;5;28;43;01mFalse\u001b[39;49;00m\u001b[43m,\u001b[49m\n\u001b[1;32m     15\u001b[0m \u001b[43m                        \u001b[49m\u001b[43mbatch_size\u001b[49m\u001b[38;5;241;43m=\u001b[39;49m\u001b[38;5;241;43m32\u001b[39;49m\u001b[43m,\u001b[49m\n\u001b[1;32m     16\u001b[0m \u001b[43m                        \u001b[49m\u001b[43mepochs\u001b[49m\u001b[38;5;241;43m=\u001b[39;49m\u001b[38;5;241;43m80\u001b[39;49m\u001b[43m,\u001b[49m\n\u001b[1;32m     17\u001b[0m \u001b[43m                        \u001b[49m\u001b[43mcallbacks\u001b[49m\u001b[38;5;241;43m=\u001b[39;49m\u001b[43m[\u001b[49m\u001b[43mes\u001b[49m\u001b[43m]\u001b[49m\u001b[43m,\u001b[49m\n\u001b[1;32m     18\u001b[0m \u001b[43m                        \u001b[49m\u001b[43mverbose\u001b[49m\u001b[38;5;241;43m=\u001b[39;49m\u001b[43mverbose\u001b[49m\u001b[43m)\u001b[49m\n\u001b[1;32m     20\u001b[0m     \u001b[38;5;28;01mreturn\u001b[39;00m model, history\n",
      "File \u001b[0;32m~/.pyenv/versions/3.10.6/envs/PDPA-virt_env/lib/python3.10/site-packages/keras/utils/traceback_utils.py:65\u001b[0m, in \u001b[0;36mfilter_traceback.<locals>.error_handler\u001b[0;34m(*args, **kwargs)\u001b[0m\n\u001b[1;32m     63\u001b[0m filtered_tb \u001b[38;5;241m=\u001b[39m \u001b[38;5;28;01mNone\u001b[39;00m\n\u001b[1;32m     64\u001b[0m \u001b[38;5;28;01mtry\u001b[39;00m:\n\u001b[0;32m---> 65\u001b[0m     \u001b[38;5;28;01mreturn\u001b[39;00m \u001b[43mfn\u001b[49m\u001b[43m(\u001b[49m\u001b[38;5;241;43m*\u001b[39;49m\u001b[43margs\u001b[49m\u001b[43m,\u001b[49m\u001b[43m \u001b[49m\u001b[38;5;241;43m*\u001b[39;49m\u001b[38;5;241;43m*\u001b[39;49m\u001b[43mkwargs\u001b[49m\u001b[43m)\u001b[49m\n\u001b[1;32m     66\u001b[0m \u001b[38;5;28;01mexcept\u001b[39;00m \u001b[38;5;167;01mException\u001b[39;00m \u001b[38;5;28;01mas\u001b[39;00m e:\n\u001b[1;32m     67\u001b[0m     filtered_tb \u001b[38;5;241m=\u001b[39m _process_traceback_frames(e\u001b[38;5;241m.\u001b[39m__traceback__)\n",
      "File \u001b[0;32m~/.pyenv/versions/3.10.6/envs/PDPA-virt_env/lib/python3.10/site-packages/keras/engine/training.py:1564\u001b[0m, in \u001b[0;36mModel.fit\u001b[0;34m(self, x, y, batch_size, epochs, verbose, callbacks, validation_split, validation_data, shuffle, class_weight, sample_weight, initial_epoch, steps_per_epoch, validation_steps, validation_batch_size, validation_freq, max_queue_size, workers, use_multiprocessing)\u001b[0m\n\u001b[1;32m   1556\u001b[0m \u001b[38;5;28;01mwith\u001b[39;00m tf\u001b[38;5;241m.\u001b[39mprofiler\u001b[38;5;241m.\u001b[39mexperimental\u001b[38;5;241m.\u001b[39mTrace(\n\u001b[1;32m   1557\u001b[0m     \u001b[38;5;124m\"\u001b[39m\u001b[38;5;124mtrain\u001b[39m\u001b[38;5;124m\"\u001b[39m,\n\u001b[1;32m   1558\u001b[0m     epoch_num\u001b[38;5;241m=\u001b[39mepoch,\n\u001b[0;32m   (...)\u001b[0m\n\u001b[1;32m   1561\u001b[0m     _r\u001b[38;5;241m=\u001b[39m\u001b[38;5;241m1\u001b[39m,\n\u001b[1;32m   1562\u001b[0m ):\n\u001b[1;32m   1563\u001b[0m     callbacks\u001b[38;5;241m.\u001b[39mon_train_batch_begin(step)\n\u001b[0;32m-> 1564\u001b[0m     tmp_logs \u001b[38;5;241m=\u001b[39m \u001b[38;5;28;43mself\u001b[39;49m\u001b[38;5;241;43m.\u001b[39;49m\u001b[43mtrain_function\u001b[49m\u001b[43m(\u001b[49m\u001b[43miterator\u001b[49m\u001b[43m)\u001b[49m\n\u001b[1;32m   1565\u001b[0m     \u001b[38;5;28;01mif\u001b[39;00m data_handler\u001b[38;5;241m.\u001b[39mshould_sync:\n\u001b[1;32m   1566\u001b[0m         context\u001b[38;5;241m.\u001b[39masync_wait()\n",
      "File \u001b[0;32m~/.pyenv/versions/3.10.6/envs/PDPA-virt_env/lib/python3.10/site-packages/tensorflow/python/util/traceback_utils.py:150\u001b[0m, in \u001b[0;36mfilter_traceback.<locals>.error_handler\u001b[0;34m(*args, **kwargs)\u001b[0m\n\u001b[1;32m    148\u001b[0m filtered_tb \u001b[38;5;241m=\u001b[39m \u001b[38;5;28;01mNone\u001b[39;00m\n\u001b[1;32m    149\u001b[0m \u001b[38;5;28;01mtry\u001b[39;00m:\n\u001b[0;32m--> 150\u001b[0m   \u001b[38;5;28;01mreturn\u001b[39;00m \u001b[43mfn\u001b[49m\u001b[43m(\u001b[49m\u001b[38;5;241;43m*\u001b[39;49m\u001b[43margs\u001b[49m\u001b[43m,\u001b[49m\u001b[43m \u001b[49m\u001b[38;5;241;43m*\u001b[39;49m\u001b[38;5;241;43m*\u001b[39;49m\u001b[43mkwargs\u001b[49m\u001b[43m)\u001b[49m\n\u001b[1;32m    151\u001b[0m \u001b[38;5;28;01mexcept\u001b[39;00m \u001b[38;5;167;01mException\u001b[39;00m \u001b[38;5;28;01mas\u001b[39;00m e:\n\u001b[1;32m    152\u001b[0m   filtered_tb \u001b[38;5;241m=\u001b[39m _process_traceback_frames(e\u001b[38;5;241m.\u001b[39m__traceback__)\n",
      "File \u001b[0;32m~/.pyenv/versions/3.10.6/envs/PDPA-virt_env/lib/python3.10/site-packages/tensorflow/python/eager/def_function.py:915\u001b[0m, in \u001b[0;36mFunction.__call__\u001b[0;34m(self, *args, **kwds)\u001b[0m\n\u001b[1;32m    912\u001b[0m compiler \u001b[38;5;241m=\u001b[39m \u001b[38;5;124m\"\u001b[39m\u001b[38;5;124mxla\u001b[39m\u001b[38;5;124m\"\u001b[39m \u001b[38;5;28;01mif\u001b[39;00m \u001b[38;5;28mself\u001b[39m\u001b[38;5;241m.\u001b[39m_jit_compile \u001b[38;5;28;01melse\u001b[39;00m \u001b[38;5;124m\"\u001b[39m\u001b[38;5;124mnonXla\u001b[39m\u001b[38;5;124m\"\u001b[39m\n\u001b[1;32m    914\u001b[0m \u001b[38;5;28;01mwith\u001b[39;00m OptionalXlaContext(\u001b[38;5;28mself\u001b[39m\u001b[38;5;241m.\u001b[39m_jit_compile):\n\u001b[0;32m--> 915\u001b[0m   result \u001b[38;5;241m=\u001b[39m \u001b[38;5;28;43mself\u001b[39;49m\u001b[38;5;241;43m.\u001b[39;49m\u001b[43m_call\u001b[49m\u001b[43m(\u001b[49m\u001b[38;5;241;43m*\u001b[39;49m\u001b[43margs\u001b[49m\u001b[43m,\u001b[49m\u001b[43m \u001b[49m\u001b[38;5;241;43m*\u001b[39;49m\u001b[38;5;241;43m*\u001b[39;49m\u001b[43mkwds\u001b[49m\u001b[43m)\u001b[49m\n\u001b[1;32m    917\u001b[0m new_tracing_count \u001b[38;5;241m=\u001b[39m \u001b[38;5;28mself\u001b[39m\u001b[38;5;241m.\u001b[39mexperimental_get_tracing_count()\n\u001b[1;32m    918\u001b[0m without_tracing \u001b[38;5;241m=\u001b[39m (tracing_count \u001b[38;5;241m==\u001b[39m new_tracing_count)\n",
      "File \u001b[0;32m~/.pyenv/versions/3.10.6/envs/PDPA-virt_env/lib/python3.10/site-packages/tensorflow/python/eager/def_function.py:980\u001b[0m, in \u001b[0;36mFunction._call\u001b[0;34m(self, *args, **kwds)\u001b[0m\n\u001b[1;32m    976\u001b[0m     \u001b[38;5;28;01mpass\u001b[39;00m  \u001b[38;5;66;03m# Fall through to cond-based initialization.\u001b[39;00m\n\u001b[1;32m    977\u001b[0m   \u001b[38;5;28;01melse\u001b[39;00m:\n\u001b[1;32m    978\u001b[0m     \u001b[38;5;66;03m# Lifting succeeded, so variables are initialized and we can run the\u001b[39;00m\n\u001b[1;32m    979\u001b[0m     \u001b[38;5;66;03m# stateless function.\u001b[39;00m\n\u001b[0;32m--> 980\u001b[0m     \u001b[38;5;28;01mreturn\u001b[39;00m \u001b[38;5;28;43mself\u001b[39;49m\u001b[38;5;241;43m.\u001b[39;49m\u001b[43m_stateless_fn\u001b[49m\u001b[43m(\u001b[49m\u001b[38;5;241;43m*\u001b[39;49m\u001b[43margs\u001b[49m\u001b[43m,\u001b[49m\u001b[43m \u001b[49m\u001b[38;5;241;43m*\u001b[39;49m\u001b[38;5;241;43m*\u001b[39;49m\u001b[43mkwds\u001b[49m\u001b[43m)\u001b[49m\n\u001b[1;32m    981\u001b[0m \u001b[38;5;28;01melse\u001b[39;00m:\n\u001b[1;32m    982\u001b[0m   _, _, filtered_flat_args \u001b[38;5;241m=\u001b[39m (\n\u001b[1;32m    983\u001b[0m       \u001b[38;5;28mself\u001b[39m\u001b[38;5;241m.\u001b[39m_stateful_fn\u001b[38;5;241m.\u001b[39m_function_spec\u001b[38;5;241m.\u001b[39mcanonicalize_function_inputs(  \u001b[38;5;66;03m# pylint: disable=protected-access\u001b[39;00m\n\u001b[1;32m    984\u001b[0m           \u001b[38;5;241m*\u001b[39margs, \u001b[38;5;241m*\u001b[39m\u001b[38;5;241m*\u001b[39mkwds))\n",
      "File \u001b[0;32m~/.pyenv/versions/3.10.6/envs/PDPA-virt_env/lib/python3.10/site-packages/tensorflow/python/eager/function.py:2495\u001b[0m, in \u001b[0;36mFunction.__call__\u001b[0;34m(self, *args, **kwargs)\u001b[0m\n\u001b[1;32m   2492\u001b[0m \u001b[38;5;124;03m\"\"\"Calls a graph function specialized to the inputs.\"\"\"\u001b[39;00m\n\u001b[1;32m   2493\u001b[0m \u001b[38;5;28;01mwith\u001b[39;00m \u001b[38;5;28mself\u001b[39m\u001b[38;5;241m.\u001b[39m_lock:\n\u001b[1;32m   2494\u001b[0m   (graph_function,\n\u001b[0;32m-> 2495\u001b[0m    filtered_flat_args) \u001b[38;5;241m=\u001b[39m \u001b[38;5;28;43mself\u001b[39;49m\u001b[38;5;241;43m.\u001b[39;49m\u001b[43m_maybe_define_function\u001b[49m\u001b[43m(\u001b[49m\u001b[43margs\u001b[49m\u001b[43m,\u001b[49m\u001b[43m \u001b[49m\u001b[43mkwargs\u001b[49m\u001b[43m)\u001b[49m\n\u001b[1;32m   2496\u001b[0m \u001b[38;5;28;01mreturn\u001b[39;00m graph_function\u001b[38;5;241m.\u001b[39m_call_flat(\n\u001b[1;32m   2497\u001b[0m     filtered_flat_args, captured_inputs\u001b[38;5;241m=\u001b[39mgraph_function\u001b[38;5;241m.\u001b[39mcaptured_inputs)\n",
      "File \u001b[0;32m~/.pyenv/versions/3.10.6/envs/PDPA-virt_env/lib/python3.10/site-packages/tensorflow/python/eager/function.py:2760\u001b[0m, in \u001b[0;36mFunction._maybe_define_function\u001b[0;34m(self, args, kwargs)\u001b[0m\n\u001b[1;32m   2758\u001b[0m   \u001b[38;5;66;03m# Only get placeholders for arguments, not captures\u001b[39;00m\n\u001b[1;32m   2759\u001b[0m   args, kwargs \u001b[38;5;241m=\u001b[39m placeholder_dict[\u001b[38;5;124m\"\u001b[39m\u001b[38;5;124margs\u001b[39m\u001b[38;5;124m\"\u001b[39m]\n\u001b[0;32m-> 2760\u001b[0m graph_function \u001b[38;5;241m=\u001b[39m \u001b[38;5;28;43mself\u001b[39;49m\u001b[38;5;241;43m.\u001b[39;49m\u001b[43m_create_graph_function\u001b[49m\u001b[43m(\u001b[49m\u001b[43margs\u001b[49m\u001b[43m,\u001b[49m\u001b[43m \u001b[49m\u001b[43mkwargs\u001b[49m\u001b[43m)\u001b[49m\n\u001b[1;32m   2762\u001b[0m graph_capture_container \u001b[38;5;241m=\u001b[39m graph_function\u001b[38;5;241m.\u001b[39mgraph\u001b[38;5;241m.\u001b[39m_capture_func_lib  \u001b[38;5;66;03m# pylint: disable=protected-access\u001b[39;00m\n\u001b[1;32m   2763\u001b[0m \u001b[38;5;66;03m# Maintain the list of all captures\u001b[39;00m\n",
      "File \u001b[0;32m~/.pyenv/versions/3.10.6/envs/PDPA-virt_env/lib/python3.10/site-packages/tensorflow/python/eager/function.py:2670\u001b[0m, in \u001b[0;36mFunction._create_graph_function\u001b[0;34m(self, args, kwargs)\u001b[0m\n\u001b[1;32m   2665\u001b[0m missing_arg_names \u001b[38;5;241m=\u001b[39m [\n\u001b[1;32m   2666\u001b[0m     \u001b[38;5;124m\"\u001b[39m\u001b[38;5;132;01m%s\u001b[39;00m\u001b[38;5;124m_\u001b[39m\u001b[38;5;132;01m%d\u001b[39;00m\u001b[38;5;124m\"\u001b[39m \u001b[38;5;241m%\u001b[39m (arg, i) \u001b[38;5;28;01mfor\u001b[39;00m i, arg \u001b[38;5;129;01min\u001b[39;00m \u001b[38;5;28menumerate\u001b[39m(missing_arg_names)\n\u001b[1;32m   2667\u001b[0m ]\n\u001b[1;32m   2668\u001b[0m arg_names \u001b[38;5;241m=\u001b[39m base_arg_names \u001b[38;5;241m+\u001b[39m missing_arg_names\n\u001b[1;32m   2669\u001b[0m graph_function \u001b[38;5;241m=\u001b[39m ConcreteFunction(\n\u001b[0;32m-> 2670\u001b[0m     \u001b[43mfunc_graph_module\u001b[49m\u001b[38;5;241;43m.\u001b[39;49m\u001b[43mfunc_graph_from_py_func\u001b[49m\u001b[43m(\u001b[49m\n\u001b[1;32m   2671\u001b[0m \u001b[43m        \u001b[49m\u001b[38;5;28;43mself\u001b[39;49m\u001b[38;5;241;43m.\u001b[39;49m\u001b[43m_name\u001b[49m\u001b[43m,\u001b[49m\n\u001b[1;32m   2672\u001b[0m \u001b[43m        \u001b[49m\u001b[38;5;28;43mself\u001b[39;49m\u001b[38;5;241;43m.\u001b[39;49m\u001b[43m_python_function\u001b[49m\u001b[43m,\u001b[49m\n\u001b[1;32m   2673\u001b[0m \u001b[43m        \u001b[49m\u001b[43margs\u001b[49m\u001b[43m,\u001b[49m\n\u001b[1;32m   2674\u001b[0m \u001b[43m        \u001b[49m\u001b[43mkwargs\u001b[49m\u001b[43m,\u001b[49m\n\u001b[1;32m   2675\u001b[0m \u001b[43m        \u001b[49m\u001b[38;5;28;43mself\u001b[39;49m\u001b[38;5;241;43m.\u001b[39;49m\u001b[43minput_signature\u001b[49m\u001b[43m,\u001b[49m\n\u001b[1;32m   2676\u001b[0m \u001b[43m        \u001b[49m\u001b[43mautograph\u001b[49m\u001b[38;5;241;43m=\u001b[39;49m\u001b[38;5;28;43mself\u001b[39;49m\u001b[38;5;241;43m.\u001b[39;49m\u001b[43m_autograph\u001b[49m\u001b[43m,\u001b[49m\n\u001b[1;32m   2677\u001b[0m \u001b[43m        \u001b[49m\u001b[43mautograph_options\u001b[49m\u001b[38;5;241;43m=\u001b[39;49m\u001b[38;5;28;43mself\u001b[39;49m\u001b[38;5;241;43m.\u001b[39;49m\u001b[43m_autograph_options\u001b[49m\u001b[43m,\u001b[49m\n\u001b[1;32m   2678\u001b[0m \u001b[43m        \u001b[49m\u001b[43marg_names\u001b[49m\u001b[38;5;241;43m=\u001b[39;49m\u001b[43marg_names\u001b[49m\u001b[43m,\u001b[49m\n\u001b[1;32m   2679\u001b[0m \u001b[43m        \u001b[49m\u001b[43mcapture_by_value\u001b[49m\u001b[38;5;241;43m=\u001b[39;49m\u001b[38;5;28;43mself\u001b[39;49m\u001b[38;5;241;43m.\u001b[39;49m\u001b[43m_capture_by_value\u001b[49m\u001b[43m)\u001b[49m,\n\u001b[1;32m   2680\u001b[0m     \u001b[38;5;28mself\u001b[39m\u001b[38;5;241m.\u001b[39m_function_attributes,\n\u001b[1;32m   2681\u001b[0m     spec\u001b[38;5;241m=\u001b[39m\u001b[38;5;28mself\u001b[39m\u001b[38;5;241m.\u001b[39mfunction_spec,\n\u001b[1;32m   2682\u001b[0m     \u001b[38;5;66;03m# Tell the ConcreteFunction to clean up its graph once it goes out of\u001b[39;00m\n\u001b[1;32m   2683\u001b[0m     \u001b[38;5;66;03m# scope. This is not the default behavior since it gets used in some\u001b[39;00m\n\u001b[1;32m   2684\u001b[0m     \u001b[38;5;66;03m# places (like Keras) where the FuncGraph lives longer than the\u001b[39;00m\n\u001b[1;32m   2685\u001b[0m     \u001b[38;5;66;03m# ConcreteFunction.\u001b[39;00m\n\u001b[1;32m   2686\u001b[0m     shared_func_graph\u001b[38;5;241m=\u001b[39m\u001b[38;5;28;01mFalse\u001b[39;00m)\n\u001b[1;32m   2687\u001b[0m \u001b[38;5;28;01mreturn\u001b[39;00m graph_function\n",
      "File \u001b[0;32m~/.pyenv/versions/3.10.6/envs/PDPA-virt_env/lib/python3.10/site-packages/tensorflow/python/framework/func_graph.py:1247\u001b[0m, in \u001b[0;36mfunc_graph_from_py_func\u001b[0;34m(name, python_func, args, kwargs, signature, func_graph, autograph, autograph_options, add_control_dependencies, arg_names, op_return_value, collections, capture_by_value, acd_record_initial_resource_uses)\u001b[0m\n\u001b[1;32m   1244\u001b[0m \u001b[38;5;28;01melse\u001b[39;00m:\n\u001b[1;32m   1245\u001b[0m   _, original_func \u001b[38;5;241m=\u001b[39m tf_decorator\u001b[38;5;241m.\u001b[39munwrap(python_func)\n\u001b[0;32m-> 1247\u001b[0m func_outputs \u001b[38;5;241m=\u001b[39m \u001b[43mpython_func\u001b[49m\u001b[43m(\u001b[49m\u001b[38;5;241;43m*\u001b[39;49m\u001b[43mfunc_args\u001b[49m\u001b[43m,\u001b[49m\u001b[43m \u001b[49m\u001b[38;5;241;43m*\u001b[39;49m\u001b[38;5;241;43m*\u001b[39;49m\u001b[43mfunc_kwargs\u001b[49m\u001b[43m)\u001b[49m\n\u001b[1;32m   1249\u001b[0m \u001b[38;5;66;03m# invariant: `func_outputs` contains only Tensors, CompositeTensors,\u001b[39;00m\n\u001b[1;32m   1250\u001b[0m \u001b[38;5;66;03m# TensorArrays and `None`s.\u001b[39;00m\n\u001b[1;32m   1251\u001b[0m func_outputs \u001b[38;5;241m=\u001b[39m nest\u001b[38;5;241m.\u001b[39mmap_structure(\n\u001b[1;32m   1252\u001b[0m     convert, func_outputs, expand_composites\u001b[38;5;241m=\u001b[39m\u001b[38;5;28;01mTrue\u001b[39;00m)\n",
      "File \u001b[0;32m~/.pyenv/versions/3.10.6/envs/PDPA-virt_env/lib/python3.10/site-packages/tensorflow/python/eager/def_function.py:677\u001b[0m, in \u001b[0;36mFunction._defun_with_scope.<locals>.wrapped_fn\u001b[0;34m(*args, **kwds)\u001b[0m\n\u001b[1;32m    673\u001b[0m \u001b[38;5;28;01mwith\u001b[39;00m default_graph\u001b[38;5;241m.\u001b[39m_variable_creator_scope(scope, priority\u001b[38;5;241m=\u001b[39m\u001b[38;5;241m50\u001b[39m):  \u001b[38;5;66;03m# pylint: disable=protected-access\u001b[39;00m\n\u001b[1;32m    674\u001b[0m   \u001b[38;5;66;03m# __wrapped__ allows AutoGraph to swap in a converted function. We give\u001b[39;00m\n\u001b[1;32m    675\u001b[0m   \u001b[38;5;66;03m# the function a weak reference to itself to avoid a reference cycle.\u001b[39;00m\n\u001b[1;32m    676\u001b[0m   \u001b[38;5;28;01mwith\u001b[39;00m OptionalXlaContext(compile_with_xla):\n\u001b[0;32m--> 677\u001b[0m     out \u001b[38;5;241m=\u001b[39m \u001b[43mweak_wrapped_fn\u001b[49m\u001b[43m(\u001b[49m\u001b[43m)\u001b[49m\u001b[38;5;241;43m.\u001b[39;49m\u001b[43m__wrapped__\u001b[49m\u001b[43m(\u001b[49m\u001b[38;5;241;43m*\u001b[39;49m\u001b[43margs\u001b[49m\u001b[43m,\u001b[49m\u001b[43m \u001b[49m\u001b[38;5;241;43m*\u001b[39;49m\u001b[38;5;241;43m*\u001b[39;49m\u001b[43mkwds\u001b[49m\u001b[43m)\u001b[49m\n\u001b[1;32m    678\u001b[0m   \u001b[38;5;28;01mreturn\u001b[39;00m out\n",
      "File \u001b[0;32m~/.pyenv/versions/3.10.6/envs/PDPA-virt_env/lib/python3.10/site-packages/tensorflow/python/framework/func_graph.py:1222\u001b[0m, in \u001b[0;36mfunc_graph_from_py_func.<locals>.autograph_handler\u001b[0;34m(*args, **kwargs)\u001b[0m\n\u001b[1;32m   1220\u001b[0m \u001b[38;5;66;03m# TODO(mdan): Push this block higher in tf.function's call stack.\u001b[39;00m\n\u001b[1;32m   1221\u001b[0m \u001b[38;5;28;01mtry\u001b[39;00m:\n\u001b[0;32m-> 1222\u001b[0m   \u001b[38;5;28;01mreturn\u001b[39;00m \u001b[43mautograph\u001b[49m\u001b[38;5;241;43m.\u001b[39;49m\u001b[43mconverted_call\u001b[49m\u001b[43m(\u001b[49m\n\u001b[1;32m   1223\u001b[0m \u001b[43m      \u001b[49m\u001b[43moriginal_func\u001b[49m\u001b[43m,\u001b[49m\n\u001b[1;32m   1224\u001b[0m \u001b[43m      \u001b[49m\u001b[43margs\u001b[49m\u001b[43m,\u001b[49m\n\u001b[1;32m   1225\u001b[0m \u001b[43m      \u001b[49m\u001b[43mkwargs\u001b[49m\u001b[43m,\u001b[49m\n\u001b[1;32m   1226\u001b[0m \u001b[43m      \u001b[49m\u001b[43moptions\u001b[49m\u001b[38;5;241;43m=\u001b[39;49m\u001b[43mautograph\u001b[49m\u001b[38;5;241;43m.\u001b[39;49m\u001b[43mConversionOptions\u001b[49m\u001b[43m(\u001b[49m\n\u001b[1;32m   1227\u001b[0m \u001b[43m          \u001b[49m\u001b[43mrecursive\u001b[49m\u001b[38;5;241;43m=\u001b[39;49m\u001b[38;5;28;43;01mTrue\u001b[39;49;00m\u001b[43m,\u001b[49m\n\u001b[1;32m   1228\u001b[0m \u001b[43m          \u001b[49m\u001b[43moptional_features\u001b[49m\u001b[38;5;241;43m=\u001b[39;49m\u001b[43mautograph_options\u001b[49m\u001b[43m,\u001b[49m\n\u001b[1;32m   1229\u001b[0m \u001b[43m          \u001b[49m\u001b[43muser_requested\u001b[49m\u001b[38;5;241;43m=\u001b[39;49m\u001b[38;5;28;43;01mTrue\u001b[39;49;00m\u001b[43m,\u001b[49m\n\u001b[1;32m   1230\u001b[0m \u001b[43m      \u001b[49m\u001b[43m)\u001b[49m\u001b[43m)\u001b[49m\n\u001b[1;32m   1231\u001b[0m \u001b[38;5;28;01mexcept\u001b[39;00m \u001b[38;5;167;01mException\u001b[39;00m \u001b[38;5;28;01mas\u001b[39;00m e:  \u001b[38;5;66;03m# pylint:disable=broad-except\u001b[39;00m\n\u001b[1;32m   1232\u001b[0m   \u001b[38;5;28;01mif\u001b[39;00m \u001b[38;5;28mhasattr\u001b[39m(e, \u001b[38;5;124m\"\u001b[39m\u001b[38;5;124mag_error_metadata\u001b[39m\u001b[38;5;124m\"\u001b[39m):\n",
      "File \u001b[0;32m~/.pyenv/versions/3.10.6/envs/PDPA-virt_env/lib/python3.10/site-packages/tensorflow/python/autograph/impl/api.py:439\u001b[0m, in \u001b[0;36mconverted_call\u001b[0;34m(f, args, kwargs, caller_fn_scope, options)\u001b[0m\n\u001b[1;32m    437\u001b[0m \u001b[38;5;28;01mtry\u001b[39;00m:\n\u001b[1;32m    438\u001b[0m   \u001b[38;5;28;01mif\u001b[39;00m kwargs \u001b[38;5;129;01mis\u001b[39;00m \u001b[38;5;129;01mnot\u001b[39;00m \u001b[38;5;28;01mNone\u001b[39;00m:\n\u001b[0;32m--> 439\u001b[0m     result \u001b[38;5;241m=\u001b[39m \u001b[43mconverted_f\u001b[49m\u001b[43m(\u001b[49m\u001b[38;5;241;43m*\u001b[39;49m\u001b[43meffective_args\u001b[49m\u001b[43m,\u001b[49m\u001b[43m \u001b[49m\u001b[38;5;241;43m*\u001b[39;49m\u001b[38;5;241;43m*\u001b[39;49m\u001b[43mkwargs\u001b[49m\u001b[43m)\u001b[49m\n\u001b[1;32m    440\u001b[0m   \u001b[38;5;28;01melse\u001b[39;00m:\n\u001b[1;32m    441\u001b[0m     result \u001b[38;5;241m=\u001b[39m converted_f(\u001b[38;5;241m*\u001b[39meffective_args)\n",
      "File \u001b[0;32m/var/folders/1j/7bkgcqrn02n90wb3kn4sf4ww0000gn/T/__autograph_generated_fileatd62ymu.py:15\u001b[0m, in \u001b[0;36mouter_factory.<locals>.inner_factory.<locals>.tf__train_function\u001b[0;34m(iterator)\u001b[0m\n\u001b[1;32m     13\u001b[0m \u001b[38;5;28;01mtry\u001b[39;00m:\n\u001b[1;32m     14\u001b[0m     do_return \u001b[38;5;241m=\u001b[39m \u001b[38;5;28;01mTrue\u001b[39;00m\n\u001b[0;32m---> 15\u001b[0m     retval_ \u001b[38;5;241m=\u001b[39m \u001b[43mag__\u001b[49m\u001b[38;5;241;43m.\u001b[39;49m\u001b[43mconverted_call\u001b[49m\u001b[43m(\u001b[49m\u001b[43mag__\u001b[49m\u001b[38;5;241;43m.\u001b[39;49m\u001b[43mld\u001b[49m\u001b[43m(\u001b[49m\u001b[43mstep_function\u001b[49m\u001b[43m)\u001b[49m\u001b[43m,\u001b[49m\u001b[43m \u001b[49m\u001b[43m(\u001b[49m\u001b[43mag__\u001b[49m\u001b[38;5;241;43m.\u001b[39;49m\u001b[43mld\u001b[49m\u001b[43m(\u001b[49m\u001b[38;5;28;43mself\u001b[39;49m\u001b[43m)\u001b[49m\u001b[43m,\u001b[49m\u001b[43m \u001b[49m\u001b[43mag__\u001b[49m\u001b[38;5;241;43m.\u001b[39;49m\u001b[43mld\u001b[49m\u001b[43m(\u001b[49m\u001b[43miterator\u001b[49m\u001b[43m)\u001b[49m\u001b[43m)\u001b[49m\u001b[43m,\u001b[49m\u001b[43m \u001b[49m\u001b[38;5;28;43;01mNone\u001b[39;49;00m\u001b[43m,\u001b[49m\u001b[43m \u001b[49m\u001b[43mfscope\u001b[49m\u001b[43m)\u001b[49m\n\u001b[1;32m     16\u001b[0m \u001b[38;5;28;01mexcept\u001b[39;00m:\n\u001b[1;32m     17\u001b[0m     do_return \u001b[38;5;241m=\u001b[39m \u001b[38;5;28;01mFalse\u001b[39;00m\n",
      "File \u001b[0;32m~/.pyenv/versions/3.10.6/envs/PDPA-virt_env/lib/python3.10/site-packages/tensorflow/python/autograph/impl/api.py:331\u001b[0m, in \u001b[0;36mconverted_call\u001b[0;34m(f, args, kwargs, caller_fn_scope, options)\u001b[0m\n\u001b[1;32m    329\u001b[0m \u001b[38;5;28;01mif\u001b[39;00m conversion\u001b[38;5;241m.\u001b[39mis_in_allowlist_cache(f, options):\n\u001b[1;32m    330\u001b[0m   logging\u001b[38;5;241m.\u001b[39mlog(\u001b[38;5;241m2\u001b[39m, \u001b[38;5;124m'\u001b[39m\u001b[38;5;124mAllowlisted \u001b[39m\u001b[38;5;132;01m%s\u001b[39;00m\u001b[38;5;124m: from cache\u001b[39m\u001b[38;5;124m'\u001b[39m, f)\n\u001b[0;32m--> 331\u001b[0m   \u001b[38;5;28;01mreturn\u001b[39;00m \u001b[43m_call_unconverted\u001b[49m\u001b[43m(\u001b[49m\u001b[43mf\u001b[49m\u001b[43m,\u001b[49m\u001b[43m \u001b[49m\u001b[43margs\u001b[49m\u001b[43m,\u001b[49m\u001b[43m \u001b[49m\u001b[43mkwargs\u001b[49m\u001b[43m,\u001b[49m\u001b[43m \u001b[49m\u001b[43moptions\u001b[49m\u001b[43m,\u001b[49m\u001b[43m \u001b[49m\u001b[38;5;28;43;01mFalse\u001b[39;49;00m\u001b[43m)\u001b[49m\n\u001b[1;32m    333\u001b[0m \u001b[38;5;28;01mif\u001b[39;00m ag_ctx\u001b[38;5;241m.\u001b[39mcontrol_status_ctx()\u001b[38;5;241m.\u001b[39mstatus \u001b[38;5;241m==\u001b[39m ag_ctx\u001b[38;5;241m.\u001b[39mStatus\u001b[38;5;241m.\u001b[39mDISABLED:\n\u001b[1;32m    334\u001b[0m   logging\u001b[38;5;241m.\u001b[39mlog(\u001b[38;5;241m2\u001b[39m, \u001b[38;5;124m'\u001b[39m\u001b[38;5;124mAllowlisted: \u001b[39m\u001b[38;5;132;01m%s\u001b[39;00m\u001b[38;5;124m: AutoGraph is disabled in context\u001b[39m\u001b[38;5;124m'\u001b[39m, f)\n",
      "File \u001b[0;32m~/.pyenv/versions/3.10.6/envs/PDPA-virt_env/lib/python3.10/site-packages/tensorflow/python/autograph/impl/api.py:459\u001b[0m, in \u001b[0;36m_call_unconverted\u001b[0;34m(f, args, kwargs, options, update_cache)\u001b[0m\n\u001b[1;32m    457\u001b[0m \u001b[38;5;28;01mif\u001b[39;00m kwargs \u001b[38;5;129;01mis\u001b[39;00m \u001b[38;5;129;01mnot\u001b[39;00m \u001b[38;5;28;01mNone\u001b[39;00m:\n\u001b[1;32m    458\u001b[0m   \u001b[38;5;28;01mreturn\u001b[39;00m f(\u001b[38;5;241m*\u001b[39margs, \u001b[38;5;241m*\u001b[39m\u001b[38;5;241m*\u001b[39mkwargs)\n\u001b[0;32m--> 459\u001b[0m \u001b[38;5;28;01mreturn\u001b[39;00m \u001b[43mf\u001b[49m\u001b[43m(\u001b[49m\u001b[38;5;241;43m*\u001b[39;49m\u001b[43margs\u001b[49m\u001b[43m)\u001b[49m\n",
      "File \u001b[0;32m~/.pyenv/versions/3.10.6/envs/PDPA-virt_env/lib/python3.10/site-packages/keras/engine/training.py:1146\u001b[0m, in \u001b[0;36mModel.make_train_function.<locals>.step_function\u001b[0;34m(model, iterator)\u001b[0m\n\u001b[1;32m   1142\u001b[0m     run_step \u001b[38;5;241m=\u001b[39m tf\u001b[38;5;241m.\u001b[39mfunction(\n\u001b[1;32m   1143\u001b[0m         run_step, jit_compile\u001b[38;5;241m=\u001b[39m\u001b[38;5;28;01mTrue\u001b[39;00m, reduce_retracing\u001b[38;5;241m=\u001b[39m\u001b[38;5;28;01mTrue\u001b[39;00m\n\u001b[1;32m   1144\u001b[0m     )\n\u001b[1;32m   1145\u001b[0m data \u001b[38;5;241m=\u001b[39m \u001b[38;5;28mnext\u001b[39m(iterator)\n\u001b[0;32m-> 1146\u001b[0m outputs \u001b[38;5;241m=\u001b[39m \u001b[43mmodel\u001b[49m\u001b[38;5;241;43m.\u001b[39;49m\u001b[43mdistribute_strategy\u001b[49m\u001b[38;5;241;43m.\u001b[39;49m\u001b[43mrun\u001b[49m\u001b[43m(\u001b[49m\u001b[43mrun_step\u001b[49m\u001b[43m,\u001b[49m\u001b[43m \u001b[49m\u001b[43margs\u001b[49m\u001b[38;5;241;43m=\u001b[39;49m\u001b[43m(\u001b[49m\u001b[43mdata\u001b[49m\u001b[43m,\u001b[49m\u001b[43m)\u001b[49m\u001b[43m)\u001b[49m\n\u001b[1;32m   1147\u001b[0m outputs \u001b[38;5;241m=\u001b[39m reduce_per_replica(\n\u001b[1;32m   1148\u001b[0m     outputs, \u001b[38;5;28mself\u001b[39m\u001b[38;5;241m.\u001b[39mdistribute_strategy, reduction\u001b[38;5;241m=\u001b[39m\u001b[38;5;124m\"\u001b[39m\u001b[38;5;124mfirst\u001b[39m\u001b[38;5;124m\"\u001b[39m\n\u001b[1;32m   1149\u001b[0m )\n\u001b[1;32m   1150\u001b[0m \u001b[38;5;28;01mreturn\u001b[39;00m outputs\n",
      "File \u001b[0;32m~/.pyenv/versions/3.10.6/envs/PDPA-virt_env/lib/python3.10/site-packages/tensorflow/python/distribute/distribute_lib.py:1315\u001b[0m, in \u001b[0;36mStrategyBase.run\u001b[0;34m(***failed resolving arguments***)\u001b[0m\n\u001b[1;32m   1310\u001b[0m \u001b[38;5;28;01mwith\u001b[39;00m \u001b[38;5;28mself\u001b[39m\u001b[38;5;241m.\u001b[39mscope():\n\u001b[1;32m   1311\u001b[0m   \u001b[38;5;66;03m# tf.distribute supports Eager functions, so AutoGraph should not be\u001b[39;00m\n\u001b[1;32m   1312\u001b[0m   \u001b[38;5;66;03m# applied when the caller is also in Eager mode.\u001b[39;00m\n\u001b[1;32m   1313\u001b[0m   fn \u001b[38;5;241m=\u001b[39m autograph\u001b[38;5;241m.\u001b[39mtf_convert(\n\u001b[1;32m   1314\u001b[0m       fn, autograph_ctx\u001b[38;5;241m.\u001b[39mcontrol_status_ctx(), convert_by_default\u001b[38;5;241m=\u001b[39m\u001b[38;5;28;01mFalse\u001b[39;00m)\n\u001b[0;32m-> 1315\u001b[0m   \u001b[38;5;28;01mreturn\u001b[39;00m \u001b[38;5;28;43mself\u001b[39;49m\u001b[38;5;241;43m.\u001b[39;49m\u001b[43m_extended\u001b[49m\u001b[38;5;241;43m.\u001b[39;49m\u001b[43mcall_for_each_replica\u001b[49m\u001b[43m(\u001b[49m\u001b[43mfn\u001b[49m\u001b[43m,\u001b[49m\u001b[43m \u001b[49m\u001b[43margs\u001b[49m\u001b[38;5;241;43m=\u001b[39;49m\u001b[43margs\u001b[49m\u001b[43m,\u001b[49m\u001b[43m \u001b[49m\u001b[43mkwargs\u001b[49m\u001b[38;5;241;43m=\u001b[39;49m\u001b[43mkwargs\u001b[49m\u001b[43m)\u001b[49m\n",
      "File \u001b[0;32m~/.pyenv/versions/3.10.6/envs/PDPA-virt_env/lib/python3.10/site-packages/tensorflow/python/distribute/distribute_lib.py:2891\u001b[0m, in \u001b[0;36mStrategyExtendedV1.call_for_each_replica\u001b[0;34m(self, fn, args, kwargs)\u001b[0m\n\u001b[1;32m   2889\u001b[0m   kwargs \u001b[38;5;241m=\u001b[39m {}\n\u001b[1;32m   2890\u001b[0m \u001b[38;5;28;01mwith\u001b[39;00m \u001b[38;5;28mself\u001b[39m\u001b[38;5;241m.\u001b[39m_container_strategy()\u001b[38;5;241m.\u001b[39mscope():\n\u001b[0;32m-> 2891\u001b[0m   \u001b[38;5;28;01mreturn\u001b[39;00m \u001b[38;5;28;43mself\u001b[39;49m\u001b[38;5;241;43m.\u001b[39;49m\u001b[43m_call_for_each_replica\u001b[49m\u001b[43m(\u001b[49m\u001b[43mfn\u001b[49m\u001b[43m,\u001b[49m\u001b[43m \u001b[49m\u001b[43margs\u001b[49m\u001b[43m,\u001b[49m\u001b[43m \u001b[49m\u001b[43mkwargs\u001b[49m\u001b[43m)\u001b[49m\n",
      "File \u001b[0;32m~/.pyenv/versions/3.10.6/envs/PDPA-virt_env/lib/python3.10/site-packages/tensorflow/python/distribute/distribute_lib.py:3692\u001b[0m, in \u001b[0;36m_DefaultDistributionExtended._call_for_each_replica\u001b[0;34m(self, fn, args, kwargs)\u001b[0m\n\u001b[1;32m   3690\u001b[0m \u001b[38;5;28;01mdef\u001b[39;00m \u001b[38;5;21m_call_for_each_replica\u001b[39m(\u001b[38;5;28mself\u001b[39m, fn, args, kwargs):\n\u001b[1;32m   3691\u001b[0m   \u001b[38;5;28;01mwith\u001b[39;00m ReplicaContext(\u001b[38;5;28mself\u001b[39m\u001b[38;5;241m.\u001b[39m_container_strategy(), replica_id_in_sync_group\u001b[38;5;241m=\u001b[39m\u001b[38;5;241m0\u001b[39m):\n\u001b[0;32m-> 3692\u001b[0m     \u001b[38;5;28;01mreturn\u001b[39;00m \u001b[43mfn\u001b[49m\u001b[43m(\u001b[49m\u001b[38;5;241;43m*\u001b[39;49m\u001b[43margs\u001b[49m\u001b[43m,\u001b[49m\u001b[43m \u001b[49m\u001b[38;5;241;43m*\u001b[39;49m\u001b[38;5;241;43m*\u001b[39;49m\u001b[43mkwargs\u001b[49m\u001b[43m)\u001b[49m\n",
      "File \u001b[0;32m~/.pyenv/versions/3.10.6/envs/PDPA-virt_env/lib/python3.10/site-packages/tensorflow/python/autograph/impl/api.py:689\u001b[0m, in \u001b[0;36mconvert.<locals>.decorator.<locals>.wrapper\u001b[0;34m(*args, **kwargs)\u001b[0m\n\u001b[1;32m    687\u001b[0m \u001b[38;5;28;01mtry\u001b[39;00m:\n\u001b[1;32m    688\u001b[0m   \u001b[38;5;28;01mwith\u001b[39;00m conversion_ctx:\n\u001b[0;32m--> 689\u001b[0m     \u001b[38;5;28;01mreturn\u001b[39;00m \u001b[43mconverted_call\u001b[49m\u001b[43m(\u001b[49m\u001b[43mf\u001b[49m\u001b[43m,\u001b[49m\u001b[43m \u001b[49m\u001b[43margs\u001b[49m\u001b[43m,\u001b[49m\u001b[43m \u001b[49m\u001b[43mkwargs\u001b[49m\u001b[43m,\u001b[49m\u001b[43m \u001b[49m\u001b[43moptions\u001b[49m\u001b[38;5;241;43m=\u001b[39;49m\u001b[43moptions\u001b[49m\u001b[43m)\u001b[49m\n\u001b[1;32m    690\u001b[0m \u001b[38;5;28;01mexcept\u001b[39;00m \u001b[38;5;167;01mException\u001b[39;00m \u001b[38;5;28;01mas\u001b[39;00m e:  \u001b[38;5;66;03m# pylint:disable=broad-except\u001b[39;00m\n\u001b[1;32m    691\u001b[0m   \u001b[38;5;28;01mif\u001b[39;00m \u001b[38;5;28mhasattr\u001b[39m(e, \u001b[38;5;124m'\u001b[39m\u001b[38;5;124mag_error_metadata\u001b[39m\u001b[38;5;124m'\u001b[39m):\n",
      "File \u001b[0;32m~/.pyenv/versions/3.10.6/envs/PDPA-virt_env/lib/python3.10/site-packages/tensorflow/python/autograph/impl/api.py:377\u001b[0m, in \u001b[0;36mconverted_call\u001b[0;34m(f, args, kwargs, caller_fn_scope, options)\u001b[0m\n\u001b[1;32m    374\u001b[0m   \u001b[38;5;28;01mreturn\u001b[39;00m _call_unconverted(f, args, kwargs, options)\n\u001b[1;32m    376\u001b[0m \u001b[38;5;28;01mif\u001b[39;00m \u001b[38;5;129;01mnot\u001b[39;00m options\u001b[38;5;241m.\u001b[39muser_requested \u001b[38;5;129;01mand\u001b[39;00m conversion\u001b[38;5;241m.\u001b[39mis_allowlisted(f):\n\u001b[0;32m--> 377\u001b[0m   \u001b[38;5;28;01mreturn\u001b[39;00m \u001b[43m_call_unconverted\u001b[49m\u001b[43m(\u001b[49m\u001b[43mf\u001b[49m\u001b[43m,\u001b[49m\u001b[43m \u001b[49m\u001b[43margs\u001b[49m\u001b[43m,\u001b[49m\u001b[43m \u001b[49m\u001b[43mkwargs\u001b[49m\u001b[43m,\u001b[49m\u001b[43m \u001b[49m\u001b[43moptions\u001b[49m\u001b[43m)\u001b[49m\n\u001b[1;32m    379\u001b[0m \u001b[38;5;66;03m# internal_convert_user_code is for example turned off when issuing a dynamic\u001b[39;00m\n\u001b[1;32m    380\u001b[0m \u001b[38;5;66;03m# call conversion from generated code while in nonrecursive mode. In that\u001b[39;00m\n\u001b[1;32m    381\u001b[0m \u001b[38;5;66;03m# case we evidently don't want to recurse, but we still have to convert\u001b[39;00m\n\u001b[1;32m    382\u001b[0m \u001b[38;5;66;03m# things like builtins.\u001b[39;00m\n\u001b[1;32m    383\u001b[0m \u001b[38;5;28;01mif\u001b[39;00m \u001b[38;5;129;01mnot\u001b[39;00m options\u001b[38;5;241m.\u001b[39minternal_convert_user_code:\n",
      "File \u001b[0;32m~/.pyenv/versions/3.10.6/envs/PDPA-virt_env/lib/python3.10/site-packages/tensorflow/python/autograph/impl/api.py:458\u001b[0m, in \u001b[0;36m_call_unconverted\u001b[0;34m(f, args, kwargs, options, update_cache)\u001b[0m\n\u001b[1;32m    455\u001b[0m   \u001b[38;5;28;01mreturn\u001b[39;00m f\u001b[38;5;241m.\u001b[39m\u001b[38;5;18m__self__\u001b[39m\u001b[38;5;241m.\u001b[39mcall(args, kwargs)\n\u001b[1;32m    457\u001b[0m \u001b[38;5;28;01mif\u001b[39;00m kwargs \u001b[38;5;129;01mis\u001b[39;00m \u001b[38;5;129;01mnot\u001b[39;00m \u001b[38;5;28;01mNone\u001b[39;00m:\n\u001b[0;32m--> 458\u001b[0m   \u001b[38;5;28;01mreturn\u001b[39;00m \u001b[43mf\u001b[49m\u001b[43m(\u001b[49m\u001b[38;5;241;43m*\u001b[39;49m\u001b[43margs\u001b[49m\u001b[43m,\u001b[49m\u001b[43m \u001b[49m\u001b[38;5;241;43m*\u001b[39;49m\u001b[38;5;241;43m*\u001b[39;49m\u001b[43mkwargs\u001b[49m\u001b[43m)\u001b[49m\n\u001b[1;32m    459\u001b[0m \u001b[38;5;28;01mreturn\u001b[39;00m f(\u001b[38;5;241m*\u001b[39margs)\n",
      "File \u001b[0;32m~/.pyenv/versions/3.10.6/envs/PDPA-virt_env/lib/python3.10/site-packages/keras/engine/training.py:1135\u001b[0m, in \u001b[0;36mModel.make_train_function.<locals>.step_function.<locals>.run_step\u001b[0;34m(data)\u001b[0m\n\u001b[1;32m   1134\u001b[0m \u001b[38;5;28;01mdef\u001b[39;00m \u001b[38;5;21mrun_step\u001b[39m(data):\n\u001b[0;32m-> 1135\u001b[0m     outputs \u001b[38;5;241m=\u001b[39m \u001b[43mmodel\u001b[49m\u001b[38;5;241;43m.\u001b[39;49m\u001b[43mtrain_step\u001b[49m\u001b[43m(\u001b[49m\u001b[43mdata\u001b[49m\u001b[43m)\u001b[49m\n\u001b[1;32m   1136\u001b[0m     \u001b[38;5;66;03m# Ensure counter is updated only if `train_step` succeeds.\u001b[39;00m\n\u001b[1;32m   1137\u001b[0m     \u001b[38;5;28;01mwith\u001b[39;00m tf\u001b[38;5;241m.\u001b[39mcontrol_dependencies(_minimum_control_deps(outputs)):\n",
      "File \u001b[0;32m~/.pyenv/versions/3.10.6/envs/PDPA-virt_env/lib/python3.10/site-packages/keras/engine/training.py:993\u001b[0m, in \u001b[0;36mModel.train_step\u001b[0;34m(self, data)\u001b[0m\n\u001b[1;32m    991\u001b[0m \u001b[38;5;66;03m# Run forward pass.\u001b[39;00m\n\u001b[1;32m    992\u001b[0m \u001b[38;5;28;01mwith\u001b[39;00m tf\u001b[38;5;241m.\u001b[39mGradientTape() \u001b[38;5;28;01mas\u001b[39;00m tape:\n\u001b[0;32m--> 993\u001b[0m     y_pred \u001b[38;5;241m=\u001b[39m \u001b[38;5;28;43mself\u001b[39;49m\u001b[43m(\u001b[49m\u001b[43mx\u001b[49m\u001b[43m,\u001b[49m\u001b[43m \u001b[49m\u001b[43mtraining\u001b[49m\u001b[38;5;241;43m=\u001b[39;49m\u001b[38;5;28;43;01mTrue\u001b[39;49;00m\u001b[43m)\u001b[49m\n\u001b[1;32m    994\u001b[0m     loss \u001b[38;5;241m=\u001b[39m \u001b[38;5;28mself\u001b[39m\u001b[38;5;241m.\u001b[39mcompute_loss(x, y, y_pred, sample_weight)\n\u001b[1;32m    995\u001b[0m \u001b[38;5;28mself\u001b[39m\u001b[38;5;241m.\u001b[39m_validate_target_and_loss(y, loss)\n",
      "File \u001b[0;32m~/.pyenv/versions/3.10.6/envs/PDPA-virt_env/lib/python3.10/site-packages/keras/utils/traceback_utils.py:65\u001b[0m, in \u001b[0;36mfilter_traceback.<locals>.error_handler\u001b[0;34m(*args, **kwargs)\u001b[0m\n\u001b[1;32m     63\u001b[0m filtered_tb \u001b[38;5;241m=\u001b[39m \u001b[38;5;28;01mNone\u001b[39;00m\n\u001b[1;32m     64\u001b[0m \u001b[38;5;28;01mtry\u001b[39;00m:\n\u001b[0;32m---> 65\u001b[0m     \u001b[38;5;28;01mreturn\u001b[39;00m \u001b[43mfn\u001b[49m\u001b[43m(\u001b[49m\u001b[38;5;241;43m*\u001b[39;49m\u001b[43margs\u001b[49m\u001b[43m,\u001b[49m\u001b[43m \u001b[49m\u001b[38;5;241;43m*\u001b[39;49m\u001b[38;5;241;43m*\u001b[39;49m\u001b[43mkwargs\u001b[49m\u001b[43m)\u001b[49m\n\u001b[1;32m     66\u001b[0m \u001b[38;5;28;01mexcept\u001b[39;00m \u001b[38;5;167;01mException\u001b[39;00m \u001b[38;5;28;01mas\u001b[39;00m e:\n\u001b[1;32m     67\u001b[0m     filtered_tb \u001b[38;5;241m=\u001b[39m _process_traceback_frames(e\u001b[38;5;241m.\u001b[39m__traceback__)\n",
      "File \u001b[0;32m~/.pyenv/versions/3.10.6/envs/PDPA-virt_env/lib/python3.10/site-packages/keras/engine/training.py:557\u001b[0m, in \u001b[0;36mModel.__call__\u001b[0;34m(self, *args, **kwargs)\u001b[0m\n\u001b[1;32m    553\u001b[0m         \u001b[38;5;28msuper\u001b[39m()\u001b[38;5;241m.\u001b[39m\u001b[38;5;21m__call__\u001b[39m(inputs, \u001b[38;5;241m*\u001b[39mcopied_args, \u001b[38;5;241m*\u001b[39m\u001b[38;5;241m*\u001b[39mcopied_kwargs)\n\u001b[1;32m    555\u001b[0m     layout_map_lib\u001b[38;5;241m.\u001b[39m_map_subclass_model_variable(\u001b[38;5;28mself\u001b[39m, \u001b[38;5;28mself\u001b[39m\u001b[38;5;241m.\u001b[39m_layout_map)\n\u001b[0;32m--> 557\u001b[0m \u001b[38;5;28;01mreturn\u001b[39;00m \u001b[38;5;28;43msuper\u001b[39;49m\u001b[43m(\u001b[49m\u001b[43m)\u001b[49m\u001b[38;5;241;43m.\u001b[39;49m\u001b[38;5;21;43m__call__\u001b[39;49m\u001b[43m(\u001b[49m\u001b[38;5;241;43m*\u001b[39;49m\u001b[43margs\u001b[49m\u001b[43m,\u001b[49m\u001b[43m \u001b[49m\u001b[38;5;241;43m*\u001b[39;49m\u001b[38;5;241;43m*\u001b[39;49m\u001b[43mkwargs\u001b[49m\u001b[43m)\u001b[49m\n",
      "File \u001b[0;32m~/.pyenv/versions/3.10.6/envs/PDPA-virt_env/lib/python3.10/site-packages/keras/utils/traceback_utils.py:65\u001b[0m, in \u001b[0;36mfilter_traceback.<locals>.error_handler\u001b[0;34m(*args, **kwargs)\u001b[0m\n\u001b[1;32m     63\u001b[0m filtered_tb \u001b[38;5;241m=\u001b[39m \u001b[38;5;28;01mNone\u001b[39;00m\n\u001b[1;32m     64\u001b[0m \u001b[38;5;28;01mtry\u001b[39;00m:\n\u001b[0;32m---> 65\u001b[0m     \u001b[38;5;28;01mreturn\u001b[39;00m \u001b[43mfn\u001b[49m\u001b[43m(\u001b[49m\u001b[38;5;241;43m*\u001b[39;49m\u001b[43margs\u001b[49m\u001b[43m,\u001b[49m\u001b[43m \u001b[49m\u001b[38;5;241;43m*\u001b[39;49m\u001b[38;5;241;43m*\u001b[39;49m\u001b[43mkwargs\u001b[49m\u001b[43m)\u001b[49m\n\u001b[1;32m     66\u001b[0m \u001b[38;5;28;01mexcept\u001b[39;00m \u001b[38;5;167;01mException\u001b[39;00m \u001b[38;5;28;01mas\u001b[39;00m e:\n\u001b[1;32m     67\u001b[0m     filtered_tb \u001b[38;5;241m=\u001b[39m _process_traceback_frames(e\u001b[38;5;241m.\u001b[39m__traceback__)\n",
      "File \u001b[0;32m~/.pyenv/versions/3.10.6/envs/PDPA-virt_env/lib/python3.10/site-packages/keras/engine/base_layer.py:1097\u001b[0m, in \u001b[0;36mLayer.__call__\u001b[0;34m(self, *args, **kwargs)\u001b[0m\n\u001b[1;32m   1092\u001b[0m     inputs \u001b[38;5;241m=\u001b[39m \u001b[38;5;28mself\u001b[39m\u001b[38;5;241m.\u001b[39m_maybe_cast_inputs(inputs, input_list)\n\u001b[1;32m   1094\u001b[0m \u001b[38;5;28;01mwith\u001b[39;00m autocast_variable\u001b[38;5;241m.\u001b[39menable_auto_cast_variables(\n\u001b[1;32m   1095\u001b[0m     \u001b[38;5;28mself\u001b[39m\u001b[38;5;241m.\u001b[39m_compute_dtype_object\n\u001b[1;32m   1096\u001b[0m ):\n\u001b[0;32m-> 1097\u001b[0m     outputs \u001b[38;5;241m=\u001b[39m \u001b[43mcall_fn\u001b[49m\u001b[43m(\u001b[49m\u001b[43minputs\u001b[49m\u001b[43m,\u001b[49m\u001b[43m \u001b[49m\u001b[38;5;241;43m*\u001b[39;49m\u001b[43margs\u001b[49m\u001b[43m,\u001b[49m\u001b[43m \u001b[49m\u001b[38;5;241;43m*\u001b[39;49m\u001b[38;5;241;43m*\u001b[39;49m\u001b[43mkwargs\u001b[49m\u001b[43m)\u001b[49m\n\u001b[1;32m   1099\u001b[0m \u001b[38;5;28;01mif\u001b[39;00m \u001b[38;5;28mself\u001b[39m\u001b[38;5;241m.\u001b[39m_activity_regularizer:\n\u001b[1;32m   1100\u001b[0m     \u001b[38;5;28mself\u001b[39m\u001b[38;5;241m.\u001b[39m_handle_activity_regularization(inputs, outputs)\n",
      "File \u001b[0;32m~/.pyenv/versions/3.10.6/envs/PDPA-virt_env/lib/python3.10/site-packages/keras/utils/traceback_utils.py:96\u001b[0m, in \u001b[0;36minject_argument_info_in_traceback.<locals>.error_handler\u001b[0;34m(*args, **kwargs)\u001b[0m\n\u001b[1;32m     94\u001b[0m bound_signature \u001b[38;5;241m=\u001b[39m \u001b[38;5;28;01mNone\u001b[39;00m\n\u001b[1;32m     95\u001b[0m \u001b[38;5;28;01mtry\u001b[39;00m:\n\u001b[0;32m---> 96\u001b[0m     \u001b[38;5;28;01mreturn\u001b[39;00m \u001b[43mfn\u001b[49m\u001b[43m(\u001b[49m\u001b[38;5;241;43m*\u001b[39;49m\u001b[43margs\u001b[49m\u001b[43m,\u001b[49m\u001b[43m \u001b[49m\u001b[38;5;241;43m*\u001b[39;49m\u001b[38;5;241;43m*\u001b[39;49m\u001b[43mkwargs\u001b[49m\u001b[43m)\u001b[49m\n\u001b[1;32m     97\u001b[0m \u001b[38;5;28;01mexcept\u001b[39;00m \u001b[38;5;167;01mException\u001b[39;00m \u001b[38;5;28;01mas\u001b[39;00m e:\n\u001b[1;32m     98\u001b[0m     \u001b[38;5;28;01mif\u001b[39;00m \u001b[38;5;28mhasattr\u001b[39m(e, \u001b[38;5;124m\"\u001b[39m\u001b[38;5;124m_keras_call_info_injected\u001b[39m\u001b[38;5;124m\"\u001b[39m):\n\u001b[1;32m     99\u001b[0m         \u001b[38;5;66;03m# Only inject info for the innermost failing call\u001b[39;00m\n",
      "File \u001b[0;32m~/.pyenv/versions/3.10.6/envs/PDPA-virt_env/lib/python3.10/site-packages/keras/engine/sequential.py:410\u001b[0m, in \u001b[0;36mSequential.call\u001b[0;34m(self, inputs, training, mask)\u001b[0m\n\u001b[1;32m    408\u001b[0m     \u001b[38;5;28;01mif\u001b[39;00m \u001b[38;5;129;01mnot\u001b[39;00m \u001b[38;5;28mself\u001b[39m\u001b[38;5;241m.\u001b[39mbuilt:\n\u001b[1;32m    409\u001b[0m         \u001b[38;5;28mself\u001b[39m\u001b[38;5;241m.\u001b[39m_init_graph_network(\u001b[38;5;28mself\u001b[39m\u001b[38;5;241m.\u001b[39minputs, \u001b[38;5;28mself\u001b[39m\u001b[38;5;241m.\u001b[39moutputs)\n\u001b[0;32m--> 410\u001b[0m     \u001b[38;5;28;01mreturn\u001b[39;00m \u001b[38;5;28;43msuper\u001b[39;49m\u001b[43m(\u001b[49m\u001b[43m)\u001b[49m\u001b[38;5;241;43m.\u001b[39;49m\u001b[43mcall\u001b[49m\u001b[43m(\u001b[49m\u001b[43minputs\u001b[49m\u001b[43m,\u001b[49m\u001b[43m \u001b[49m\u001b[43mtraining\u001b[49m\u001b[38;5;241;43m=\u001b[39;49m\u001b[43mtraining\u001b[49m\u001b[43m,\u001b[49m\u001b[43m \u001b[49m\u001b[43mmask\u001b[49m\u001b[38;5;241;43m=\u001b[39;49m\u001b[43mmask\u001b[49m\u001b[43m)\u001b[49m\n\u001b[1;32m    412\u001b[0m outputs \u001b[38;5;241m=\u001b[39m inputs  \u001b[38;5;66;03m# handle the corner case where self.layers is empty\u001b[39;00m\n\u001b[1;32m    413\u001b[0m \u001b[38;5;28;01mfor\u001b[39;00m layer \u001b[38;5;129;01min\u001b[39;00m \u001b[38;5;28mself\u001b[39m\u001b[38;5;241m.\u001b[39mlayers:\n\u001b[1;32m    414\u001b[0m     \u001b[38;5;66;03m# During each iteration, `inputs` are the inputs to `layer`, and\u001b[39;00m\n\u001b[1;32m    415\u001b[0m     \u001b[38;5;66;03m# `outputs` are the outputs of `layer` applied to `inputs`. At the\u001b[39;00m\n\u001b[1;32m    416\u001b[0m     \u001b[38;5;66;03m# end of each iteration `inputs` is set to `outputs` to prepare for\u001b[39;00m\n\u001b[1;32m    417\u001b[0m     \u001b[38;5;66;03m# the next layer.\u001b[39;00m\n",
      "File \u001b[0;32m~/.pyenv/versions/3.10.6/envs/PDPA-virt_env/lib/python3.10/site-packages/keras/engine/functional.py:510\u001b[0m, in \u001b[0;36mFunctional.call\u001b[0;34m(self, inputs, training, mask)\u001b[0m\n\u001b[1;32m    491\u001b[0m \u001b[38;5;129m@doc_controls\u001b[39m\u001b[38;5;241m.\u001b[39mdo_not_doc_inheritable\n\u001b[1;32m    492\u001b[0m \u001b[38;5;28;01mdef\u001b[39;00m \u001b[38;5;21mcall\u001b[39m(\u001b[38;5;28mself\u001b[39m, inputs, training\u001b[38;5;241m=\u001b[39m\u001b[38;5;28;01mNone\u001b[39;00m, mask\u001b[38;5;241m=\u001b[39m\u001b[38;5;28;01mNone\u001b[39;00m):\n\u001b[1;32m    493\u001b[0m     \u001b[38;5;124;03m\"\"\"Calls the model on new inputs.\u001b[39;00m\n\u001b[1;32m    494\u001b[0m \n\u001b[1;32m    495\u001b[0m \u001b[38;5;124;03m    In this case `call` just reapplies\u001b[39;00m\n\u001b[0;32m   (...)\u001b[0m\n\u001b[1;32m    508\u001b[0m \u001b[38;5;124;03m        a list of tensors if there are more than one outputs.\u001b[39;00m\n\u001b[1;32m    509\u001b[0m \u001b[38;5;124;03m    \"\"\"\u001b[39;00m\n\u001b[0;32m--> 510\u001b[0m     \u001b[38;5;28;01mreturn\u001b[39;00m \u001b[38;5;28;43mself\u001b[39;49m\u001b[38;5;241;43m.\u001b[39;49m\u001b[43m_run_internal_graph\u001b[49m\u001b[43m(\u001b[49m\u001b[43minputs\u001b[49m\u001b[43m,\u001b[49m\u001b[43m \u001b[49m\u001b[43mtraining\u001b[49m\u001b[38;5;241;43m=\u001b[39;49m\u001b[43mtraining\u001b[49m\u001b[43m,\u001b[49m\u001b[43m \u001b[49m\u001b[43mmask\u001b[49m\u001b[38;5;241;43m=\u001b[39;49m\u001b[43mmask\u001b[49m\u001b[43m)\u001b[49m\n",
      "File \u001b[0;32m~/.pyenv/versions/3.10.6/envs/PDPA-virt_env/lib/python3.10/site-packages/keras/engine/functional.py:667\u001b[0m, in \u001b[0;36mFunctional._run_internal_graph\u001b[0;34m(self, inputs, training, mask)\u001b[0m\n\u001b[1;32m    664\u001b[0m     \u001b[38;5;28;01mcontinue\u001b[39;00m  \u001b[38;5;66;03m# Node is not computable, try skipping.\u001b[39;00m\n\u001b[1;32m    666\u001b[0m args, kwargs \u001b[38;5;241m=\u001b[39m node\u001b[38;5;241m.\u001b[39mmap_arguments(tensor_dict)\n\u001b[0;32m--> 667\u001b[0m outputs \u001b[38;5;241m=\u001b[39m \u001b[43mnode\u001b[49m\u001b[38;5;241;43m.\u001b[39;49m\u001b[43mlayer\u001b[49m\u001b[43m(\u001b[49m\u001b[38;5;241;43m*\u001b[39;49m\u001b[43margs\u001b[49m\u001b[43m,\u001b[49m\u001b[43m \u001b[49m\u001b[38;5;241;43m*\u001b[39;49m\u001b[38;5;241;43m*\u001b[39;49m\u001b[43mkwargs\u001b[49m\u001b[43m)\u001b[49m\n\u001b[1;32m    669\u001b[0m \u001b[38;5;66;03m# Update tensor_dict.\u001b[39;00m\n\u001b[1;32m    670\u001b[0m \u001b[38;5;28;01mfor\u001b[39;00m x_id, y \u001b[38;5;129;01min\u001b[39;00m \u001b[38;5;28mzip\u001b[39m(\n\u001b[1;32m    671\u001b[0m     node\u001b[38;5;241m.\u001b[39mflat_output_ids, tf\u001b[38;5;241m.\u001b[39mnest\u001b[38;5;241m.\u001b[39mflatten(outputs)\n\u001b[1;32m    672\u001b[0m ):\n",
      "File \u001b[0;32m~/.pyenv/versions/3.10.6/envs/PDPA-virt_env/lib/python3.10/site-packages/keras/layers/rnn/base_rnn.py:553\u001b[0m, in \u001b[0;36mRNN.__call__\u001b[0;34m(self, inputs, initial_state, constants, **kwargs)\u001b[0m\n\u001b[1;32m    548\u001b[0m inputs, initial_state, constants \u001b[38;5;241m=\u001b[39m rnn_utils\u001b[38;5;241m.\u001b[39mstandardize_args(\n\u001b[1;32m    549\u001b[0m     inputs, initial_state, constants, \u001b[38;5;28mself\u001b[39m\u001b[38;5;241m.\u001b[39m_num_constants\n\u001b[1;32m    550\u001b[0m )\n\u001b[1;32m    552\u001b[0m \u001b[38;5;28;01mif\u001b[39;00m initial_state \u001b[38;5;129;01mis\u001b[39;00m \u001b[38;5;28;01mNone\u001b[39;00m \u001b[38;5;129;01mand\u001b[39;00m constants \u001b[38;5;129;01mis\u001b[39;00m \u001b[38;5;28;01mNone\u001b[39;00m:\n\u001b[0;32m--> 553\u001b[0m     \u001b[38;5;28;01mreturn\u001b[39;00m \u001b[38;5;28;43msuper\u001b[39;49m\u001b[43m(\u001b[49m\u001b[43m)\u001b[49m\u001b[38;5;241;43m.\u001b[39;49m\u001b[38;5;21;43m__call__\u001b[39;49m\u001b[43m(\u001b[49m\u001b[43minputs\u001b[49m\u001b[43m,\u001b[49m\u001b[43m \u001b[49m\u001b[38;5;241;43m*\u001b[39;49m\u001b[38;5;241;43m*\u001b[39;49m\u001b[43mkwargs\u001b[49m\u001b[43m)\u001b[49m\n\u001b[1;32m    555\u001b[0m \u001b[38;5;66;03m# If any of `initial_state` or `constants` are specified and are Keras\u001b[39;00m\n\u001b[1;32m    556\u001b[0m \u001b[38;5;66;03m# tensors, then add them to the inputs and temporarily modify the\u001b[39;00m\n\u001b[1;32m    557\u001b[0m \u001b[38;5;66;03m# input_spec to include them.\u001b[39;00m\n\u001b[1;32m    559\u001b[0m additional_inputs \u001b[38;5;241m=\u001b[39m []\n",
      "File \u001b[0;32m~/.pyenv/versions/3.10.6/envs/PDPA-virt_env/lib/python3.10/site-packages/keras/utils/traceback_utils.py:65\u001b[0m, in \u001b[0;36mfilter_traceback.<locals>.error_handler\u001b[0;34m(*args, **kwargs)\u001b[0m\n\u001b[1;32m     63\u001b[0m filtered_tb \u001b[38;5;241m=\u001b[39m \u001b[38;5;28;01mNone\u001b[39;00m\n\u001b[1;32m     64\u001b[0m \u001b[38;5;28;01mtry\u001b[39;00m:\n\u001b[0;32m---> 65\u001b[0m     \u001b[38;5;28;01mreturn\u001b[39;00m \u001b[43mfn\u001b[49m\u001b[43m(\u001b[49m\u001b[38;5;241;43m*\u001b[39;49m\u001b[43margs\u001b[49m\u001b[43m,\u001b[49m\u001b[43m \u001b[49m\u001b[38;5;241;43m*\u001b[39;49m\u001b[38;5;241;43m*\u001b[39;49m\u001b[43mkwargs\u001b[49m\u001b[43m)\u001b[49m\n\u001b[1;32m     66\u001b[0m \u001b[38;5;28;01mexcept\u001b[39;00m \u001b[38;5;167;01mException\u001b[39;00m \u001b[38;5;28;01mas\u001b[39;00m e:\n\u001b[1;32m     67\u001b[0m     filtered_tb \u001b[38;5;241m=\u001b[39m _process_traceback_frames(e\u001b[38;5;241m.\u001b[39m__traceback__)\n",
      "File \u001b[0;32m~/.pyenv/versions/3.10.6/envs/PDPA-virt_env/lib/python3.10/site-packages/keras/engine/base_layer.py:1097\u001b[0m, in \u001b[0;36mLayer.__call__\u001b[0;34m(self, *args, **kwargs)\u001b[0m\n\u001b[1;32m   1092\u001b[0m     inputs \u001b[38;5;241m=\u001b[39m \u001b[38;5;28mself\u001b[39m\u001b[38;5;241m.\u001b[39m_maybe_cast_inputs(inputs, input_list)\n\u001b[1;32m   1094\u001b[0m \u001b[38;5;28;01mwith\u001b[39;00m autocast_variable\u001b[38;5;241m.\u001b[39menable_auto_cast_variables(\n\u001b[1;32m   1095\u001b[0m     \u001b[38;5;28mself\u001b[39m\u001b[38;5;241m.\u001b[39m_compute_dtype_object\n\u001b[1;32m   1096\u001b[0m ):\n\u001b[0;32m-> 1097\u001b[0m     outputs \u001b[38;5;241m=\u001b[39m \u001b[43mcall_fn\u001b[49m\u001b[43m(\u001b[49m\u001b[43minputs\u001b[49m\u001b[43m,\u001b[49m\u001b[43m \u001b[49m\u001b[38;5;241;43m*\u001b[39;49m\u001b[43margs\u001b[49m\u001b[43m,\u001b[49m\u001b[43m \u001b[49m\u001b[38;5;241;43m*\u001b[39;49m\u001b[38;5;241;43m*\u001b[39;49m\u001b[43mkwargs\u001b[49m\u001b[43m)\u001b[49m\n\u001b[1;32m   1099\u001b[0m \u001b[38;5;28;01mif\u001b[39;00m \u001b[38;5;28mself\u001b[39m\u001b[38;5;241m.\u001b[39m_activity_regularizer:\n\u001b[1;32m   1100\u001b[0m     \u001b[38;5;28mself\u001b[39m\u001b[38;5;241m.\u001b[39m_handle_activity_regularization(inputs, outputs)\n",
      "File \u001b[0;32m~/.pyenv/versions/3.10.6/envs/PDPA-virt_env/lib/python3.10/site-packages/keras/utils/traceback_utils.py:96\u001b[0m, in \u001b[0;36minject_argument_info_in_traceback.<locals>.error_handler\u001b[0;34m(*args, **kwargs)\u001b[0m\n\u001b[1;32m     94\u001b[0m bound_signature \u001b[38;5;241m=\u001b[39m \u001b[38;5;28;01mNone\u001b[39;00m\n\u001b[1;32m     95\u001b[0m \u001b[38;5;28;01mtry\u001b[39;00m:\n\u001b[0;32m---> 96\u001b[0m     \u001b[38;5;28;01mreturn\u001b[39;00m \u001b[43mfn\u001b[49m\u001b[43m(\u001b[49m\u001b[38;5;241;43m*\u001b[39;49m\u001b[43margs\u001b[49m\u001b[43m,\u001b[49m\u001b[43m \u001b[49m\u001b[38;5;241;43m*\u001b[39;49m\u001b[38;5;241;43m*\u001b[39;49m\u001b[43mkwargs\u001b[49m\u001b[43m)\u001b[49m\n\u001b[1;32m     97\u001b[0m \u001b[38;5;28;01mexcept\u001b[39;00m \u001b[38;5;167;01mException\u001b[39;00m \u001b[38;5;28;01mas\u001b[39;00m e:\n\u001b[1;32m     98\u001b[0m     \u001b[38;5;28;01mif\u001b[39;00m \u001b[38;5;28mhasattr\u001b[39m(e, \u001b[38;5;124m\"\u001b[39m\u001b[38;5;124m_keras_call_info_injected\u001b[39m\u001b[38;5;124m\"\u001b[39m):\n\u001b[1;32m     99\u001b[0m         \u001b[38;5;66;03m# Only inject info for the innermost failing call\u001b[39;00m\n",
      "File \u001b[0;32m~/.pyenv/versions/3.10.6/envs/PDPA-virt_env/lib/python3.10/site-packages/keras/layers/rnn/lstm.py:625\u001b[0m, in \u001b[0;36mLSTM.call\u001b[0;34m(self, inputs, mask, training, initial_state)\u001b[0m\n\u001b[1;32m    622\u001b[0m     \u001b[38;5;28;01mdef\u001b[39;00m \u001b[38;5;21mstep\u001b[39m(inputs, states):\n\u001b[1;32m    623\u001b[0m         \u001b[38;5;28;01mreturn\u001b[39;00m \u001b[38;5;28mself\u001b[39m\u001b[38;5;241m.\u001b[39mcell(inputs, states, \u001b[38;5;241m*\u001b[39m\u001b[38;5;241m*\u001b[39mkwargs)\n\u001b[0;32m--> 625\u001b[0m     last_output, outputs, states \u001b[38;5;241m=\u001b[39m \u001b[43mbackend\u001b[49m\u001b[38;5;241;43m.\u001b[39;49m\u001b[43mrnn\u001b[49m\u001b[43m(\u001b[49m\n\u001b[1;32m    626\u001b[0m \u001b[43m        \u001b[49m\u001b[43mstep\u001b[49m\u001b[43m,\u001b[49m\n\u001b[1;32m    627\u001b[0m \u001b[43m        \u001b[49m\u001b[43minputs\u001b[49m\u001b[43m,\u001b[49m\n\u001b[1;32m    628\u001b[0m \u001b[43m        \u001b[49m\u001b[43minitial_state\u001b[49m\u001b[43m,\u001b[49m\n\u001b[1;32m    629\u001b[0m \u001b[43m        \u001b[49m\u001b[43mconstants\u001b[49m\u001b[38;5;241;43m=\u001b[39;49m\u001b[38;5;28;43;01mNone\u001b[39;49;00m\u001b[43m,\u001b[49m\n\u001b[1;32m    630\u001b[0m \u001b[43m        \u001b[49m\u001b[43mgo_backwards\u001b[49m\u001b[38;5;241;43m=\u001b[39;49m\u001b[38;5;28;43mself\u001b[39;49m\u001b[38;5;241;43m.\u001b[39;49m\u001b[43mgo_backwards\u001b[49m\u001b[43m,\u001b[49m\n\u001b[1;32m    631\u001b[0m \u001b[43m        \u001b[49m\u001b[43mmask\u001b[49m\u001b[38;5;241;43m=\u001b[39;49m\u001b[43mmask\u001b[49m\u001b[43m,\u001b[49m\n\u001b[1;32m    632\u001b[0m \u001b[43m        \u001b[49m\u001b[43munroll\u001b[49m\u001b[38;5;241;43m=\u001b[39;49m\u001b[38;5;28;43mself\u001b[39;49m\u001b[38;5;241;43m.\u001b[39;49m\u001b[43munroll\u001b[49m\u001b[43m,\u001b[49m\n\u001b[1;32m    633\u001b[0m \u001b[43m        \u001b[49m\u001b[43minput_length\u001b[49m\u001b[38;5;241;43m=\u001b[39;49m\u001b[43mrow_lengths\u001b[49m\n\u001b[1;32m    634\u001b[0m \u001b[43m        \u001b[49m\u001b[38;5;28;43;01mif\u001b[39;49;00m\u001b[43m \u001b[49m\u001b[43mrow_lengths\u001b[49m\u001b[43m \u001b[49m\u001b[38;5;129;43;01mis\u001b[39;49;00m\u001b[43m \u001b[49m\u001b[38;5;129;43;01mnot\u001b[39;49;00m\u001b[43m \u001b[49m\u001b[38;5;28;43;01mNone\u001b[39;49;00m\n\u001b[1;32m    635\u001b[0m \u001b[43m        \u001b[49m\u001b[38;5;28;43;01melse\u001b[39;49;00m\u001b[43m \u001b[49m\u001b[43mtimesteps\u001b[49m\u001b[43m,\u001b[49m\n\u001b[1;32m    636\u001b[0m \u001b[43m        \u001b[49m\u001b[43mtime_major\u001b[49m\u001b[38;5;241;43m=\u001b[39;49m\u001b[38;5;28;43mself\u001b[39;49m\u001b[38;5;241;43m.\u001b[39;49m\u001b[43mtime_major\u001b[49m\u001b[43m,\u001b[49m\n\u001b[1;32m    637\u001b[0m \u001b[43m        \u001b[49m\u001b[43mzero_output_for_mask\u001b[49m\u001b[38;5;241;43m=\u001b[39;49m\u001b[38;5;28;43mself\u001b[39;49m\u001b[38;5;241;43m.\u001b[39;49m\u001b[43mzero_output_for_mask\u001b[49m\u001b[43m,\u001b[49m\n\u001b[1;32m    638\u001b[0m \u001b[43m        \u001b[49m\u001b[43mreturn_all_outputs\u001b[49m\u001b[38;5;241;43m=\u001b[39;49m\u001b[38;5;28;43mself\u001b[39;49m\u001b[38;5;241;43m.\u001b[39;49m\u001b[43mreturn_sequences\u001b[49m\u001b[43m,\u001b[49m\n\u001b[1;32m    639\u001b[0m \u001b[43m    \u001b[49m\u001b[43m)\u001b[49m\n\u001b[1;32m    640\u001b[0m     runtime \u001b[38;5;241m=\u001b[39m gru_lstm_utils\u001b[38;5;241m.\u001b[39mruntime(gru_lstm_utils\u001b[38;5;241m.\u001b[39mRUNTIME_UNKNOWN)\n\u001b[1;32m    641\u001b[0m \u001b[38;5;28;01melse\u001b[39;00m:\n\u001b[1;32m    642\u001b[0m     \u001b[38;5;66;03m# Use the new defun approach for backend implementation swap.\u001b[39;00m\n\u001b[1;32m    643\u001b[0m     \u001b[38;5;66;03m# Note that different implementations need to have same function\u001b[39;00m\n\u001b[1;32m    644\u001b[0m     \u001b[38;5;66;03m# signature, eg, the tensor parameters need to have same shape and\u001b[39;00m\n\u001b[1;32m    645\u001b[0m     \u001b[38;5;66;03m# dtypes. Since the cuDNN has an extra set of bias, those bias will\u001b[39;00m\n\u001b[1;32m    646\u001b[0m     \u001b[38;5;66;03m# be passed to both normal and cuDNN implementations.\u001b[39;00m\n",
      "File \u001b[0;32m~/.pyenv/versions/3.10.6/envs/PDPA-virt_env/lib/python3.10/site-packages/tensorflow/python/util/traceback_utils.py:150\u001b[0m, in \u001b[0;36mfilter_traceback.<locals>.error_handler\u001b[0;34m(*args, **kwargs)\u001b[0m\n\u001b[1;32m    148\u001b[0m filtered_tb \u001b[38;5;241m=\u001b[39m \u001b[38;5;28;01mNone\u001b[39;00m\n\u001b[1;32m    149\u001b[0m \u001b[38;5;28;01mtry\u001b[39;00m:\n\u001b[0;32m--> 150\u001b[0m   \u001b[38;5;28;01mreturn\u001b[39;00m \u001b[43mfn\u001b[49m\u001b[43m(\u001b[49m\u001b[38;5;241;43m*\u001b[39;49m\u001b[43margs\u001b[49m\u001b[43m,\u001b[49m\u001b[43m \u001b[49m\u001b[38;5;241;43m*\u001b[39;49m\u001b[38;5;241;43m*\u001b[39;49m\u001b[43mkwargs\u001b[49m\u001b[43m)\u001b[49m\n\u001b[1;32m    151\u001b[0m \u001b[38;5;28;01mexcept\u001b[39;00m \u001b[38;5;167;01mException\u001b[39;00m \u001b[38;5;28;01mas\u001b[39;00m e:\n\u001b[1;32m    152\u001b[0m   filtered_tb \u001b[38;5;241m=\u001b[39m _process_traceback_frames(e\u001b[38;5;241m.\u001b[39m__traceback__)\n",
      "File \u001b[0;32m~/.pyenv/versions/3.10.6/envs/PDPA-virt_env/lib/python3.10/site-packages/tensorflow/python/util/dispatch.py:1176\u001b[0m, in \u001b[0;36madd_dispatch_support.<locals>.decorator.<locals>.op_dispatch_handler\u001b[0;34m(*args, **kwargs)\u001b[0m\n\u001b[1;32m   1174\u001b[0m \u001b[38;5;66;03m# Fallback dispatch system (dispatch v1):\u001b[39;00m\n\u001b[1;32m   1175\u001b[0m \u001b[38;5;28;01mtry\u001b[39;00m:\n\u001b[0;32m-> 1176\u001b[0m   \u001b[38;5;28;01mreturn\u001b[39;00m \u001b[43mdispatch_target\u001b[49m\u001b[43m(\u001b[49m\u001b[38;5;241;43m*\u001b[39;49m\u001b[43margs\u001b[49m\u001b[43m,\u001b[49m\u001b[43m \u001b[49m\u001b[38;5;241;43m*\u001b[39;49m\u001b[38;5;241;43m*\u001b[39;49m\u001b[43mkwargs\u001b[49m\u001b[43m)\u001b[49m\n\u001b[1;32m   1177\u001b[0m \u001b[38;5;28;01mexcept\u001b[39;00m (\u001b[38;5;167;01mTypeError\u001b[39;00m, \u001b[38;5;167;01mValueError\u001b[39;00m):\n\u001b[1;32m   1178\u001b[0m   \u001b[38;5;66;03m# Note: convert_to_eager_tensor currently raises a ValueError, not a\u001b[39;00m\n\u001b[1;32m   1179\u001b[0m   \u001b[38;5;66;03m# TypeError, when given unexpected types.  So we need to catch both.\u001b[39;00m\n\u001b[1;32m   1180\u001b[0m   result \u001b[38;5;241m=\u001b[39m dispatch(op_dispatch_handler, args, kwargs)\n",
      "File \u001b[0;32m~/.pyenv/versions/3.10.6/envs/PDPA-virt_env/lib/python3.10/site-packages/keras/backend.py:5139\u001b[0m, in \u001b[0;36mrnn\u001b[0;34m(step_function, inputs, initial_states, go_backwards, mask, constants, unroll, input_length, time_major, zero_output_for_mask, return_all_outputs)\u001b[0m\n\u001b[1;32m   5134\u001b[0m         new_states \u001b[38;5;241m=\u001b[39m tf\u001b[38;5;241m.\u001b[39mnest\u001b[38;5;241m.\u001b[39mpack_sequence_as(\n\u001b[1;32m   5135\u001b[0m             initial_states, flat_new_state\n\u001b[1;32m   5136\u001b[0m         )\n\u001b[1;32m   5137\u001b[0m         \u001b[38;5;28;01mreturn\u001b[39;00m (time \u001b[38;5;241m+\u001b[39m \u001b[38;5;241m1\u001b[39m, output_ta_t) \u001b[38;5;241m+\u001b[39m \u001b[38;5;28mtuple\u001b[39m(new_states)\n\u001b[0;32m-> 5139\u001b[0m     final_outputs \u001b[38;5;241m=\u001b[39m \u001b[43mtf\u001b[49m\u001b[38;5;241;43m.\u001b[39;49m\u001b[43mcompat\u001b[49m\u001b[38;5;241;43m.\u001b[39;49m\u001b[43mv1\u001b[49m\u001b[38;5;241;43m.\u001b[39;49m\u001b[43mwhile_loop\u001b[49m\u001b[43m(\u001b[49m\n\u001b[1;32m   5140\u001b[0m \u001b[43m        \u001b[49m\u001b[43mbody\u001b[49m\u001b[38;5;241;43m=\u001b[39;49m\u001b[43m_step\u001b[49m\u001b[43m,\u001b[49m\n\u001b[1;32m   5141\u001b[0m \u001b[43m        \u001b[49m\u001b[43mloop_vars\u001b[49m\u001b[38;5;241;43m=\u001b[39;49m\u001b[43m(\u001b[49m\u001b[43mtime\u001b[49m\u001b[43m,\u001b[49m\u001b[43m \u001b[49m\u001b[43moutput_ta\u001b[49m\u001b[43m)\u001b[49m\u001b[43m \u001b[49m\u001b[38;5;241;43m+\u001b[39;49m\u001b[43m \u001b[49m\u001b[43mstates\u001b[49m\u001b[43m,\u001b[49m\n\u001b[1;32m   5142\u001b[0m \u001b[43m        \u001b[49m\u001b[38;5;241;43m*\u001b[39;49m\u001b[38;5;241;43m*\u001b[39;49m\u001b[43mwhile_loop_kwargs\u001b[49m\u001b[43m,\u001b[49m\n\u001b[1;32m   5143\u001b[0m \u001b[43m    \u001b[49m\u001b[43m)\u001b[49m\n\u001b[1;32m   5144\u001b[0m     new_states \u001b[38;5;241m=\u001b[39m final_outputs[\u001b[38;5;241m2\u001b[39m:]\n\u001b[1;32m   5146\u001b[0m output_ta \u001b[38;5;241m=\u001b[39m final_outputs[\u001b[38;5;241m1\u001b[39m]\n",
      "File \u001b[0;32m~/.pyenv/versions/3.10.6/envs/PDPA-virt_env/lib/python3.10/site-packages/tensorflow/python/ops/control_flow_ops.py:2713\u001b[0m, in \u001b[0;36mwhile_loop\u001b[0;34m(cond, body, loop_vars, shape_invariants, parallel_iterations, back_prop, swap_memory, name, maximum_iterations, return_same_structure)\u001b[0m\n\u001b[1;32m   2710\u001b[0m executing_eagerly \u001b[38;5;241m=\u001b[39m context\u001b[38;5;241m.\u001b[39mexecuting_eagerly()\n\u001b[1;32m   2711\u001b[0m \u001b[38;5;28;01mif\u001b[39;00m (util\u001b[38;5;241m.\u001b[39mEnableControlFlowV2(ops\u001b[38;5;241m.\u001b[39mget_default_graph()) \u001b[38;5;129;01mand\u001b[39;00m\n\u001b[1;32m   2712\u001b[0m     \u001b[38;5;129;01mnot\u001b[39;00m executing_eagerly):\n\u001b[0;32m-> 2713\u001b[0m   \u001b[38;5;28;01mreturn\u001b[39;00m \u001b[43mwhile_v2\u001b[49m\u001b[38;5;241;43m.\u001b[39;49m\u001b[43mwhile_loop\u001b[49m\u001b[43m(\u001b[49m\n\u001b[1;32m   2714\u001b[0m \u001b[43m      \u001b[49m\u001b[43mcond\u001b[49m\u001b[43m,\u001b[49m\n\u001b[1;32m   2715\u001b[0m \u001b[43m      \u001b[49m\u001b[43mbody\u001b[49m\u001b[43m,\u001b[49m\n\u001b[1;32m   2716\u001b[0m \u001b[43m      \u001b[49m\u001b[43mloop_vars\u001b[49m\u001b[43m,\u001b[49m\n\u001b[1;32m   2717\u001b[0m \u001b[43m      \u001b[49m\u001b[43mshape_invariants\u001b[49m\u001b[38;5;241;43m=\u001b[39;49m\u001b[43mshape_invariants\u001b[49m\u001b[43m,\u001b[49m\n\u001b[1;32m   2718\u001b[0m \u001b[43m      \u001b[49m\u001b[43mparallel_iterations\u001b[49m\u001b[38;5;241;43m=\u001b[39;49m\u001b[43mparallel_iterations\u001b[49m\u001b[43m,\u001b[49m\n\u001b[1;32m   2719\u001b[0m \u001b[43m      \u001b[49m\u001b[43mmaximum_iterations\u001b[49m\u001b[38;5;241;43m=\u001b[39;49m\u001b[43mmaximum_iterations\u001b[49m\u001b[43m,\u001b[49m\n\u001b[1;32m   2720\u001b[0m \u001b[43m      \u001b[49m\u001b[43mname\u001b[49m\u001b[38;5;241;43m=\u001b[39;49m\u001b[43mname\u001b[49m\u001b[43m,\u001b[49m\n\u001b[1;32m   2721\u001b[0m \u001b[43m      \u001b[49m\u001b[43mreturn_same_structure\u001b[49m\u001b[38;5;241;43m=\u001b[39;49m\u001b[43mreturn_same_structure\u001b[49m\u001b[43m,\u001b[49m\n\u001b[1;32m   2722\u001b[0m \u001b[43m      \u001b[49m\u001b[43mback_prop\u001b[49m\u001b[38;5;241;43m=\u001b[39;49m\u001b[43mback_prop\u001b[49m\u001b[43m)\u001b[49m\n\u001b[1;32m   2724\u001b[0m \u001b[38;5;28;01mwith\u001b[39;00m ops\u001b[38;5;241m.\u001b[39mname_scope(name, \u001b[38;5;124m\"\u001b[39m\u001b[38;5;124mwhile\u001b[39m\u001b[38;5;124m\"\u001b[39m, loop_vars):\n\u001b[1;32m   2725\u001b[0m   \u001b[38;5;28;01mif\u001b[39;00m \u001b[38;5;129;01mnot\u001b[39;00m loop_vars:\n",
      "File \u001b[0;32m~/.pyenv/versions/3.10.6/envs/PDPA-virt_env/lib/python3.10/site-packages/tensorflow/python/ops/while_v2.py:307\u001b[0m, in \u001b[0;36mwhile_loop\u001b[0;34m(cond, body, loop_vars, shape_invariants, parallel_iterations, maximum_iterations, name, return_same_structure, back_prop)\u001b[0m\n\u001b[1;32m    303\u001b[0m   orig_loop_vars_range \u001b[38;5;241m=\u001b[39m \u001b[38;5;28mslice\u001b[39m(first_loop_var_index,\n\u001b[1;32m    304\u001b[0m                                first_loop_var_index \u001b[38;5;241m+\u001b[39m num_flattened_outputs)\n\u001b[1;32m    305\u001b[0m   output_shapes[orig_loop_vars_range] \u001b[38;5;241m=\u001b[39m flat_shape_invariants\n\u001b[0;32m--> 307\u001b[0m   outputs \u001b[38;5;241m=\u001b[39m \u001b[43m_build_while_op\u001b[49m\u001b[43m(\u001b[49m\n\u001b[1;32m    308\u001b[0m \u001b[43m      \u001b[49m\u001b[43mflattened_loop_vars\u001b[49m\u001b[43m,\u001b[49m\n\u001b[1;32m    309\u001b[0m \u001b[43m      \u001b[49m\u001b[43mcond_graph\u001b[49m\u001b[43m,\u001b[49m\n\u001b[1;32m    310\u001b[0m \u001b[43m      \u001b[49m\u001b[43mbody_graph\u001b[49m\u001b[43m,\u001b[49m\n\u001b[1;32m    311\u001b[0m \u001b[43m      \u001b[49m\u001b[43moutput_shapes\u001b[49m\u001b[38;5;241;43m=\u001b[39;49m\u001b[43moutput_shapes\u001b[49m\u001b[43m,\u001b[49m\n\u001b[1;32m    312\u001b[0m \u001b[43m      \u001b[49m\u001b[43mparallel_iterations\u001b[49m\u001b[38;5;241;43m=\u001b[39;49m\u001b[43mparallel_iterations\u001b[49m\u001b[43m,\u001b[49m\n\u001b[1;32m    313\u001b[0m \u001b[43m      \u001b[49m\u001b[43mname\u001b[49m\u001b[38;5;241;43m=\u001b[39;49m\u001b[43mscope\u001b[49m\u001b[43m,\u001b[49m\n\u001b[1;32m    314\u001b[0m \u001b[43m      \u001b[49m\u001b[43mnum_original_outputs\u001b[49m\u001b[38;5;241;43m=\u001b[39;49m\u001b[43mnum_original_outputs\u001b[49m\u001b[43m,\u001b[49m\n\u001b[1;32m    315\u001b[0m \u001b[43m      \u001b[49m\u001b[43mstateful_parallelism\u001b[49m\u001b[38;5;241;43m=\u001b[39;49m\u001b[43mstateful_parallelism\u001b[49m\u001b[43m)\u001b[49m\n\u001b[1;32m    316\u001b[0m \u001b[38;5;28;01mif\u001b[39;00m \u001b[38;5;129;01mnot\u001b[39;00m ops\u001b[38;5;241m.\u001b[39mget_default_graph()\u001b[38;5;241m.\u001b[39mbuilding_function:\n\u001b[1;32m    317\u001b[0m   \u001b[38;5;66;03m# In V1 graph mode, return identities for each output of the While op,\u001b[39;00m\n\u001b[1;32m    318\u001b[0m   \u001b[38;5;66;03m# rather than the output of the While op directly. This makes pruning work\u001b[39;00m\n\u001b[0;32m   (...)\u001b[0m\n\u001b[1;32m    322\u001b[0m   \u001b[38;5;66;03m# lowering, each output identity op will end up with only the appropriate\u001b[39;00m\n\u001b[1;32m    323\u001b[0m   \u001b[38;5;66;03m# exit op as input.\u001b[39;00m\n\u001b[1;32m    324\u001b[0m   outputs \u001b[38;5;241m=\u001b[39m \u001b[38;5;28mtuple\u001b[39m(array_ops\u001b[38;5;241m.\u001b[39midentity(t) \u001b[38;5;28;01mfor\u001b[39;00m t \u001b[38;5;129;01min\u001b[39;00m outputs)\n",
      "File \u001b[0;32m~/.pyenv/versions/3.10.6/envs/PDPA-virt_env/lib/python3.10/site-packages/tensorflow/python/ops/while_v2.py:508\u001b[0m, in \u001b[0;36m_build_while_op\u001b[0;34m(loop_vars, cond_graph, body_graph, output_shapes, parallel_iterations, name, num_original_outputs, stateful_parallelism)\u001b[0m\n\u001b[1;32m    506\u001b[0m   while_op\u001b[38;5;241m.\u001b[39m_body_graph \u001b[38;5;241m=\u001b[39m body_graph\n\u001b[1;32m    507\u001b[0m   \u001b[38;5;28;01mreturn\u001b[39;00m tensors\n\u001b[0;32m--> 508\u001b[0m \u001b[38;5;28;01mreturn\u001b[39;00m \u001b[43mutil\u001b[49m\u001b[38;5;241;43m.\u001b[39;49m\u001b[43mrun_as_function_for_tape_gradients\u001b[49m\u001b[43m(\u001b[49m\u001b[43m_make_op\u001b[49m\u001b[43m,\u001b[49m\u001b[43m \u001b[49m\u001b[43mloop_vars\u001b[49m\u001b[43m)\u001b[49m\n",
      "File \u001b[0;32m~/.pyenv/versions/3.10.6/envs/PDPA-virt_env/lib/python3.10/site-packages/tensorflow/python/ops/control_flow_util_v2.py:376\u001b[0m, in \u001b[0;36mrun_as_function_for_tape_gradients\u001b[0;34m(make_op, inputs)\u001b[0m\n\u001b[1;32m    374\u001b[0m   \u001b[38;5;28;01mreturn\u001b[39;00m results\n\u001b[1;32m    375\u001b[0m \u001b[38;5;28;01melse\u001b[39;00m:\n\u001b[0;32m--> 376\u001b[0m   \u001b[38;5;28;01mreturn\u001b[39;00m \u001b[43mmake_op\u001b[49m\u001b[43m(\u001b[49m\u001b[43minputs\u001b[49m\u001b[43m)\u001b[49m\n",
      "File \u001b[0;32m~/.pyenv/versions/3.10.6/envs/PDPA-virt_env/lib/python3.10/site-packages/tensorflow/python/ops/while_v2.py:487\u001b[0m, in \u001b[0;36m_build_while_op.<locals>._make_op\u001b[0;34m(inputs)\u001b[0m\n\u001b[1;32m    483\u001b[0m \u001b[38;5;28;01mdef\u001b[39;00m \u001b[38;5;21m_make_op\u001b[39m(inputs):\n\u001b[1;32m    484\u001b[0m   while_op, tensors \u001b[38;5;241m=\u001b[39m util\u001b[38;5;241m.\u001b[39mget_op_and_outputs(op_fn(\n\u001b[1;32m    485\u001b[0m       inputs,\n\u001b[1;32m    486\u001b[0m       util\u001b[38;5;241m.\u001b[39mcreate_new_tf_function(cond_graph),\n\u001b[0;32m--> 487\u001b[0m       \u001b[43mutil\u001b[49m\u001b[38;5;241;43m.\u001b[39;49m\u001b[43mcreate_new_tf_function\u001b[49m\u001b[43m(\u001b[49m\u001b[43mbody_graph\u001b[49m\u001b[43m)\u001b[49m,\n\u001b[1;32m    488\u001b[0m       output_shapes\u001b[38;5;241m=\u001b[39moutput_shapes,\n\u001b[1;32m    489\u001b[0m       parallel_iterations\u001b[38;5;241m=\u001b[39mparallel_iterations,\n\u001b[1;32m    490\u001b[0m       name\u001b[38;5;241m=\u001b[39mname))\n\u001b[1;32m    491\u001b[0m   _copy_handle_data(body_graph\u001b[38;5;241m.\u001b[39moutputs, tensors)\n\u001b[1;32m    492\u001b[0m   util\u001b[38;5;241m.\u001b[39mmaybe_set_lowering_attr(while_op)\n",
      "File \u001b[0;32m~/.pyenv/versions/3.10.6/envs/PDPA-virt_env/lib/python3.10/site-packages/tensorflow/python/ops/control_flow_util_v2.py:69\u001b[0m, in \u001b[0;36mcreate_new_tf_function\u001b[0;34m(func_graph)\u001b[0m\n\u001b[1;32m     60\u001b[0m \u001b[38;5;28;01mdef\u001b[39;00m \u001b[38;5;21mcreate_new_tf_function\u001b[39m(func_graph):\n\u001b[1;32m     61\u001b[0m   \u001b[38;5;124;03m\"\"\"Converts func_graph to a TF_Function and adds it to the current graph.\u001b[39;00m\n\u001b[1;32m     62\u001b[0m \n\u001b[1;32m     63\u001b[0m \u001b[38;5;124;03m  Args:\u001b[39;00m\n\u001b[0;32m   (...)\u001b[0m\n\u001b[1;32m     67\u001b[0m \u001b[38;5;124;03m    The name of the new TF_Function.\u001b[39;00m\n\u001b[1;32m     68\u001b[0m \u001b[38;5;124;03m  \"\"\"\u001b[39;00m\n\u001b[0;32m---> 69\u001b[0m   func \u001b[38;5;241m=\u001b[39m \u001b[43mfunction\u001b[49m\u001b[38;5;241;43m.\u001b[39;49m\u001b[43m_EagerDefinedFunction\u001b[49m\u001b[43m(\u001b[49m\u001b[43m  \u001b[49m\u001b[38;5;66;43;03m# pylint: disable=protected-access\u001b[39;49;00m\n\u001b[1;32m     70\u001b[0m \u001b[43m      \u001b[49m\u001b[43mfunc_graph\u001b[49m\u001b[38;5;241;43m.\u001b[39;49m\u001b[43mname\u001b[49m\u001b[43m,\u001b[49m\u001b[43m \u001b[49m\u001b[43mfunc_graph\u001b[49m\u001b[43m,\u001b[49m\u001b[43m \u001b[49m\u001b[43mfunc_graph\u001b[49m\u001b[38;5;241;43m.\u001b[39;49m\u001b[43minputs\u001b[49m\u001b[43m,\u001b[49m\u001b[43m \u001b[49m\u001b[43mfunc_graph\u001b[49m\u001b[38;5;241;43m.\u001b[39;49m\u001b[43moutputs\u001b[49m\u001b[43m,\u001b[49m\u001b[43m \u001b[49m\u001b[43m{\u001b[49m\u001b[43m}\u001b[49m\u001b[43m)\u001b[49m\n\u001b[1;32m     71\u001b[0m   func\u001b[38;5;241m.\u001b[39madd_to_graph(func_graph\u001b[38;5;241m.\u001b[39mouter_graph)\n\u001b[1;32m     72\u001b[0m   \u001b[38;5;28;01mreturn\u001b[39;00m func_graph\u001b[38;5;241m.\u001b[39mname\n",
      "File \u001b[0;32m~/.pyenv/versions/3.10.6/envs/PDPA-virt_env/lib/python3.10/site-packages/tensorflow/python/eager/function.py:385\u001b[0m, in \u001b[0;36m_EagerDefinedFunction.__init__\u001b[0;34m(self, name, graph, inputs, outputs, attrs)\u001b[0m\n\u001b[1;32m    379\u001b[0m   pywrap_tf_session\u001b[38;5;241m.\u001b[39mTF_FunctionSetAttrValueProto(fn, compat\u001b[38;5;241m.\u001b[39mas_str(name),\n\u001b[1;32m    380\u001b[0m                                                  serialized)\n\u001b[1;32m    382\u001b[0m \u001b[38;5;66;03m# NOTE(feyu): Do not cache signature and definition at initialization to\u001b[39;00m\n\u001b[1;32m    383\u001b[0m \u001b[38;5;66;03m# save memory usage of concrete functions never called through Python. We\u001b[39;00m\n\u001b[1;32m    384\u001b[0m \u001b[38;5;66;03m# cache them on the first call of .definition and .signature.\u001b[39;00m\n\u001b[0;32m--> 385\u001b[0m signature \u001b[38;5;241m=\u001b[39m \u001b[38;5;28;43mself\u001b[39;49m\u001b[38;5;241;43m.\u001b[39;49m\u001b[43m_get_definition\u001b[49m\u001b[43m(\u001b[49m\u001b[43m)\u001b[49m\u001b[38;5;241m.\u001b[39msignature\n\u001b[1;32m    387\u001b[0m \u001b[38;5;28mself\u001b[39m\u001b[38;5;241m.\u001b[39m_name \u001b[38;5;241m=\u001b[39m compat\u001b[38;5;241m.\u001b[39mas_bytes(signature\u001b[38;5;241m.\u001b[39mname)\n\u001b[1;32m    388\u001b[0m \u001b[38;5;28;01mwith\u001b[39;00m ops\u001b[38;5;241m.\u001b[39minit_scope():\n",
      "File \u001b[0;32m~/.pyenv/versions/3.10.6/envs/PDPA-virt_env/lib/python3.10/site-packages/tensorflow/python/eager/function.py:431\u001b[0m, in \u001b[0;36m_EagerDefinedFunction._get_definition\u001b[0;34m(self)\u001b[0m\n\u001b[1;32m    429\u001b[0m   proto_data \u001b[38;5;241m=\u001b[39m pywrap_tf_session\u001b[38;5;241m.\u001b[39mTF_GetBuffer(buffer_)\n\u001b[1;32m    430\u001b[0m function_def \u001b[38;5;241m=\u001b[39m function_pb2\u001b[38;5;241m.\u001b[39mFunctionDef()\n\u001b[0;32m--> 431\u001b[0m \u001b[43mfunction_def\u001b[49m\u001b[38;5;241;43m.\u001b[39;49m\u001b[43mParseFromString\u001b[49m\u001b[43m(\u001b[49m\u001b[43mcompat\u001b[49m\u001b[38;5;241;43m.\u001b[39;49m\u001b[43mas_bytes\u001b[49m\u001b[43m(\u001b[49m\u001b[43mproto_data\u001b[49m\u001b[43m)\u001b[49m\u001b[43m)\u001b[49m\n\u001b[1;32m    432\u001b[0m \u001b[38;5;28;01mreturn\u001b[39;00m function_def\n",
      "File \u001b[0;32m~/.pyenv/versions/3.10.6/envs/PDPA-virt_env/lib/python3.10/site-packages/google/protobuf/message.py:199\u001b[0m, in \u001b[0;36mMessage.ParseFromString\u001b[0;34m(self, serialized)\u001b[0m\n\u001b[1;32m    194\u001b[0m \u001b[38;5;124;03m\"\"\"Parse serialized protocol buffer data into this message.\u001b[39;00m\n\u001b[1;32m    195\u001b[0m \n\u001b[1;32m    196\u001b[0m \u001b[38;5;124;03mLike :func:`MergeFromString()`, except we clear the object first.\u001b[39;00m\n\u001b[1;32m    197\u001b[0m \u001b[38;5;124;03m\"\"\"\u001b[39;00m\n\u001b[1;32m    198\u001b[0m \u001b[38;5;28mself\u001b[39m\u001b[38;5;241m.\u001b[39mClear()\n\u001b[0;32m--> 199\u001b[0m \u001b[38;5;28;01mreturn\u001b[39;00m \u001b[38;5;28;43mself\u001b[39;49m\u001b[38;5;241;43m.\u001b[39;49m\u001b[43mMergeFromString\u001b[49m\u001b[43m(\u001b[49m\u001b[43mserialized\u001b[49m\u001b[43m)\u001b[49m\n",
      "File \u001b[0;32m~/.pyenv/versions/3.10.6/envs/PDPA-virt_env/lib/python3.10/site-packages/google/protobuf/internal/python_message.py:1128\u001b[0m, in \u001b[0;36m_AddMergeFromStringMethod.<locals>.MergeFromString\u001b[0;34m(self, serialized)\u001b[0m\n\u001b[1;32m   1126\u001b[0m length \u001b[38;5;241m=\u001b[39m \u001b[38;5;28mlen\u001b[39m(serialized)\n\u001b[1;32m   1127\u001b[0m \u001b[38;5;28;01mtry\u001b[39;00m:\n\u001b[0;32m-> 1128\u001b[0m   \u001b[38;5;28;01mif\u001b[39;00m \u001b[38;5;28;43mself\u001b[39;49m\u001b[38;5;241;43m.\u001b[39;49m\u001b[43m_InternalParse\u001b[49m\u001b[43m(\u001b[49m\u001b[43mserialized\u001b[49m\u001b[43m,\u001b[49m\u001b[43m \u001b[49m\u001b[38;5;241;43m0\u001b[39;49m\u001b[43m,\u001b[49m\u001b[43m \u001b[49m\u001b[43mlength\u001b[49m\u001b[43m)\u001b[49m \u001b[38;5;241m!=\u001b[39m length:\n\u001b[1;32m   1129\u001b[0m     \u001b[38;5;66;03m# The only reason _InternalParse would return early is if it\u001b[39;00m\n\u001b[1;32m   1130\u001b[0m     \u001b[38;5;66;03m# encountered an end-group tag.\u001b[39;00m\n\u001b[1;32m   1131\u001b[0m     \u001b[38;5;28;01mraise\u001b[39;00m message_mod\u001b[38;5;241m.\u001b[39mDecodeError(\u001b[38;5;124m'\u001b[39m\u001b[38;5;124mUnexpected end-group tag.\u001b[39m\u001b[38;5;124m'\u001b[39m)\n\u001b[1;32m   1132\u001b[0m \u001b[38;5;28;01mexcept\u001b[39;00m (\u001b[38;5;167;01mIndexError\u001b[39;00m, \u001b[38;5;167;01mTypeError\u001b[39;00m):\n\u001b[1;32m   1133\u001b[0m   \u001b[38;5;66;03m# Now ord(buf[p:p+1]) == ord('') gets TypeError.\u001b[39;00m\n",
      "File \u001b[0;32m~/.pyenv/versions/3.10.6/envs/PDPA-virt_env/lib/python3.10/site-packages/google/protobuf/internal/python_message.py:1195\u001b[0m, in \u001b[0;36m_AddMergeFromStringMethod.<locals>.InternalParse\u001b[0;34m(self, buffer, pos, end)\u001b[0m\n\u001b[1;32m   1193\u001b[0m   pos \u001b[38;5;241m=\u001b[39m new_pos\n\u001b[1;32m   1194\u001b[0m \u001b[38;5;28;01melse\u001b[39;00m:\n\u001b[0;32m-> 1195\u001b[0m   pos \u001b[38;5;241m=\u001b[39m \u001b[43mfield_decoder\u001b[49m\u001b[43m(\u001b[49m\u001b[43mbuffer\u001b[49m\u001b[43m,\u001b[49m\u001b[43m \u001b[49m\u001b[43mnew_pos\u001b[49m\u001b[43m,\u001b[49m\u001b[43m \u001b[49m\u001b[43mend\u001b[49m\u001b[43m,\u001b[49m\u001b[43m \u001b[49m\u001b[38;5;28;43mself\u001b[39;49m\u001b[43m,\u001b[49m\u001b[43m \u001b[49m\u001b[43mfield_dict\u001b[49m\u001b[43m)\u001b[49m\n\u001b[1;32m   1196\u001b[0m   \u001b[38;5;28;01mif\u001b[39;00m field_desc:\n\u001b[1;32m   1197\u001b[0m     \u001b[38;5;28mself\u001b[39m\u001b[38;5;241m.\u001b[39m_UpdateOneofState(field_desc)\n",
      "File \u001b[0;32m~/.pyenv/versions/3.10.6/envs/PDPA-virt_env/lib/python3.10/site-packages/google/protobuf/internal/decoder.py:726\u001b[0m, in \u001b[0;36mMessageDecoder.<locals>.DecodeField\u001b[0;34m(buffer, pos, end, message, field_dict)\u001b[0m\n\u001b[1;32m    724\u001b[0m   \u001b[38;5;28;01mraise\u001b[39;00m _DecodeError(\u001b[38;5;124m'\u001b[39m\u001b[38;5;124mTruncated message.\u001b[39m\u001b[38;5;124m'\u001b[39m)\n\u001b[1;32m    725\u001b[0m \u001b[38;5;66;03m# Read sub-message.\u001b[39;00m\n\u001b[0;32m--> 726\u001b[0m \u001b[38;5;28;01mif\u001b[39;00m \u001b[43mvalue\u001b[49m\u001b[38;5;241;43m.\u001b[39;49m\u001b[43m_InternalParse\u001b[49m\u001b[43m(\u001b[49m\u001b[43mbuffer\u001b[49m\u001b[43m,\u001b[49m\u001b[43m \u001b[49m\u001b[43mpos\u001b[49m\u001b[43m,\u001b[49m\u001b[43m \u001b[49m\u001b[43mnew_pos\u001b[49m\u001b[43m)\u001b[49m \u001b[38;5;241m!=\u001b[39m new_pos:\n\u001b[1;32m    727\u001b[0m   \u001b[38;5;66;03m# The only reason _InternalParse would return early is if it encountered\u001b[39;00m\n\u001b[1;32m    728\u001b[0m   \u001b[38;5;66;03m# an end-group tag.\u001b[39;00m\n\u001b[1;32m    729\u001b[0m   \u001b[38;5;28;01mraise\u001b[39;00m _DecodeError(\u001b[38;5;124m'\u001b[39m\u001b[38;5;124mUnexpected end-group tag.\u001b[39m\u001b[38;5;124m'\u001b[39m)\n\u001b[1;32m    730\u001b[0m \u001b[38;5;28;01mreturn\u001b[39;00m new_pos\n",
      "File \u001b[0;32m~/.pyenv/versions/3.10.6/envs/PDPA-virt_env/lib/python3.10/site-packages/google/protobuf/internal/python_message.py:1195\u001b[0m, in \u001b[0;36m_AddMergeFromStringMethod.<locals>.InternalParse\u001b[0;34m(self, buffer, pos, end)\u001b[0m\n\u001b[1;32m   1193\u001b[0m   pos \u001b[38;5;241m=\u001b[39m new_pos\n\u001b[1;32m   1194\u001b[0m \u001b[38;5;28;01melse\u001b[39;00m:\n\u001b[0;32m-> 1195\u001b[0m   pos \u001b[38;5;241m=\u001b[39m \u001b[43mfield_decoder\u001b[49m\u001b[43m(\u001b[49m\u001b[43mbuffer\u001b[49m\u001b[43m,\u001b[49m\u001b[43m \u001b[49m\u001b[43mnew_pos\u001b[49m\u001b[43m,\u001b[49m\u001b[43m \u001b[49m\u001b[43mend\u001b[49m\u001b[43m,\u001b[49m\u001b[43m \u001b[49m\u001b[38;5;28;43mself\u001b[39;49m\u001b[43m,\u001b[49m\u001b[43m \u001b[49m\u001b[43mfield_dict\u001b[49m\u001b[43m)\u001b[49m\n\u001b[1;32m   1196\u001b[0m   \u001b[38;5;28;01mif\u001b[39;00m field_desc:\n\u001b[1;32m   1197\u001b[0m     \u001b[38;5;28mself\u001b[39m\u001b[38;5;241m.\u001b[39m_UpdateOneofState(field_desc)\n",
      "File \u001b[0;32m~/.pyenv/versions/3.10.6/envs/PDPA-virt_env/lib/python3.10/site-packages/google/protobuf/internal/decoder.py:705\u001b[0m, in \u001b[0;36mMessageDecoder.<locals>.DecodeRepeatedField\u001b[0;34m(buffer, pos, end, message, field_dict)\u001b[0m\n\u001b[1;32m    703\u001b[0m   \u001b[38;5;28;01mraise\u001b[39;00m _DecodeError(\u001b[38;5;124m'\u001b[39m\u001b[38;5;124mTruncated message.\u001b[39m\u001b[38;5;124m'\u001b[39m)\n\u001b[1;32m    704\u001b[0m \u001b[38;5;66;03m# Read sub-message.\u001b[39;00m\n\u001b[0;32m--> 705\u001b[0m \u001b[38;5;28;01mif\u001b[39;00m \u001b[43mvalue\u001b[49m\u001b[38;5;241;43m.\u001b[39;49m\u001b[43madd\u001b[49m\u001b[43m(\u001b[49m\u001b[43m)\u001b[49m\u001b[38;5;241;43m.\u001b[39;49m\u001b[43m_InternalParse\u001b[49m\u001b[43m(\u001b[49m\u001b[43mbuffer\u001b[49m\u001b[43m,\u001b[49m\u001b[43m \u001b[49m\u001b[43mpos\u001b[49m\u001b[43m,\u001b[49m\u001b[43m \u001b[49m\u001b[43mnew_pos\u001b[49m\u001b[43m)\u001b[49m \u001b[38;5;241m!=\u001b[39m new_pos:\n\u001b[1;32m    706\u001b[0m   \u001b[38;5;66;03m# The only reason _InternalParse would return early is if it\u001b[39;00m\n\u001b[1;32m    707\u001b[0m   \u001b[38;5;66;03m# encountered an end-group tag.\u001b[39;00m\n\u001b[1;32m    708\u001b[0m   \u001b[38;5;28;01mraise\u001b[39;00m _DecodeError(\u001b[38;5;124m'\u001b[39m\u001b[38;5;124mUnexpected end-group tag.\u001b[39m\u001b[38;5;124m'\u001b[39m)\n\u001b[1;32m    709\u001b[0m \u001b[38;5;66;03m# Predict that the next tag is another copy of the same repeated field.\u001b[39;00m\n",
      "File \u001b[0;32m~/.pyenv/versions/3.10.6/envs/PDPA-virt_env/lib/python3.10/site-packages/google/protobuf/internal/python_message.py:1195\u001b[0m, in \u001b[0;36m_AddMergeFromStringMethod.<locals>.InternalParse\u001b[0;34m(self, buffer, pos, end)\u001b[0m\n\u001b[1;32m   1193\u001b[0m   pos \u001b[38;5;241m=\u001b[39m new_pos\n\u001b[1;32m   1194\u001b[0m \u001b[38;5;28;01melse\u001b[39;00m:\n\u001b[0;32m-> 1195\u001b[0m   pos \u001b[38;5;241m=\u001b[39m \u001b[43mfield_decoder\u001b[49m\u001b[43m(\u001b[49m\u001b[43mbuffer\u001b[49m\u001b[43m,\u001b[49m\u001b[43m \u001b[49m\u001b[43mnew_pos\u001b[49m\u001b[43m,\u001b[49m\u001b[43m \u001b[49m\u001b[43mend\u001b[49m\u001b[43m,\u001b[49m\u001b[43m \u001b[49m\u001b[38;5;28;43mself\u001b[39;49m\u001b[43m,\u001b[49m\u001b[43m \u001b[49m\u001b[43mfield_dict\u001b[49m\u001b[43m)\u001b[49m\n\u001b[1;32m   1196\u001b[0m   \u001b[38;5;28;01mif\u001b[39;00m field_desc:\n\u001b[1;32m   1197\u001b[0m     \u001b[38;5;28mself\u001b[39m\u001b[38;5;241m.\u001b[39m_UpdateOneofState(field_desc)\n",
      "File \u001b[0;32m~/.pyenv/versions/3.10.6/envs/PDPA-virt_env/lib/python3.10/site-packages/google/protobuf/internal/decoder.py:591\u001b[0m, in \u001b[0;36mStringDecoder.<locals>.DecodeField\u001b[0;34m(buffer, pos, end, message, field_dict)\u001b[0m\n\u001b[1;32m    589\u001b[0m   field_dict\u001b[38;5;241m.\u001b[39mpop(key, \u001b[38;5;28;01mNone\u001b[39;00m)\n\u001b[1;32m    590\u001b[0m \u001b[38;5;28;01melse\u001b[39;00m:\n\u001b[0;32m--> 591\u001b[0m   field_dict[key] \u001b[38;5;241m=\u001b[39m \u001b[43m_ConvertToUnicode\u001b[49m\u001b[43m(\u001b[49m\u001b[43mbuffer\u001b[49m\u001b[43m[\u001b[49m\u001b[43mpos\u001b[49m\u001b[43m:\u001b[49m\u001b[43mnew_pos\u001b[49m\u001b[43m]\u001b[49m\u001b[43m)\u001b[49m\n\u001b[1;32m    592\u001b[0m \u001b[38;5;28;01mreturn\u001b[39;00m new_pos\n",
      "File \u001b[0;32m~/.pyenv/versions/3.10.6/envs/PDPA-virt_env/lib/python3.10/site-packages/google/protobuf/internal/decoder.py:551\u001b[0m, in \u001b[0;36mStringDecoder.<locals>._ConvertToUnicode\u001b[0;34m(memview)\u001b[0m\n\u001b[1;32m    549\u001b[0m \u001b[38;5;28;01mdef\u001b[39;00m \u001b[38;5;21m_ConvertToUnicode\u001b[39m(memview):\n\u001b[1;32m    550\u001b[0m   \u001b[38;5;124;03m\"\"\"Convert byte to unicode.\"\"\"\u001b[39;00m\n\u001b[0;32m--> 551\u001b[0m   byte_str \u001b[38;5;241m=\u001b[39m \u001b[43mmemview\u001b[49m\u001b[38;5;241;43m.\u001b[39;49m\u001b[43mtobytes\u001b[49m\u001b[43m(\u001b[49m\u001b[43m)\u001b[49m\n\u001b[1;32m    552\u001b[0m   \u001b[38;5;28;01mtry\u001b[39;00m:\n\u001b[1;32m    553\u001b[0m     value \u001b[38;5;241m=\u001b[39m \u001b[38;5;28mstr\u001b[39m(byte_str, \u001b[38;5;124m'\u001b[39m\u001b[38;5;124mutf-8\u001b[39m\u001b[38;5;124m'\u001b[39m)\n",
      "\u001b[0;31mKeyboardInterrupt\u001b[0m: "
     ]
    }
   ],
   "source": [
    "list_of_accuracy_baseline_model = []\n",
    "list_of_accuracy_recurrent_model = []\n",
    "    \n",
    "# 1 - Creating FOLDS\n",
    "# =======================================================\n",
    "    \n",
    "folds = get_folds(df, FOLD_LENGTH, FOLD_STRIDE)\n",
    "    \n",
    "for fold_id, fold in enumerate(folds):    \n",
    "    \n",
    "    # 2 - CHRONOLOGICAL TRAIN TEST SPLIT of the current FOLD\n",
    "    # =======================================================    \n",
    "    \n",
    "    (fold_train, fold_test) = train_test_split(fold = fold, \n",
    "                                               train_test_ratio = TRAIN_TEST_RATIO, \n",
    "                                               input_length = INPUT_LENGTH, \n",
    "                                               horizon = HORIZON) \n",
    "    \n",
    "    # 3 - Scanninng fold_train and fold_test for SEQUENCES \n",
    "    # =======================================================       \n",
    "    \n",
    "    X_train, y_train = get_X_y(fold = fold_train, \n",
    "                               horizon = HORIZON, \n",
    "                               input_length = INPUT_LENGTH, \n",
    "                               output_length = OUTPUT_LENGTH, \n",
    "                               stride = STRIDE)\n",
    "    \n",
    "    X_test, y_test = get_X_y(fold_test, \n",
    "                             horizon = HORIZON, \n",
    "                             input_length = INPUT_LENGTH, \n",
    "                             output_length = OUTPUT_LENGTH,\n",
    "                             stride = STRIDE)\n",
    "    \n",
    "    # 4.1 - Baseline Model\n",
    "    # =======================================================\n",
    "    df, accuracy_baseline = baseline(df)\n",
    "        \n",
    "    list_of_accuracy_baseline_model.append(accuracy_baseline)\n",
    "    \n",
    "    print(\"-\"*50)\n",
    "    print(f\"Accuracy baseline fold n°{fold_id} = {round(accuracy_baseline, 2)}\")        \n",
    "    \n",
    "    \n",
    "    # 4.2 - LSTM Model\n",
    "    # =======================================================\n",
    "    \n",
    "    # Initializing the LSTM Model\n",
    "    model = init_model(X_train, y_train)\n",
    "    \n",
    "    # Training\n",
    "    model, history = fit_model(model, verbose=0)\n",
    "    \n",
    "    # Evaluation\n",
    "    res = model.evaluate(X_test, y_test, verbose = 0)\n",
    "    accuracy_lstm = res[1]\n",
    "    \n",
    "    list_of_accuracy_recurrent_model.append(accuracy_lstm)\n",
    "    \n",
    "    print(f\"Accuracy LSTM fold n°{fold_id} = {round(accuracy_lstm, 2)}\")\n",
    "    \n",
    "    # 4.3 - Comparison LSTM vs Baseline for the current fold\n",
    "    # =======================================================\n",
    "    print(f\"🏋🏽‍♂️ Improvement/Decrease vs. Baseline: {round(((accuracy_lstm-accuracy_baseline)/accuracy_baseline)*100,2)} % \\n\")"
   ]
  },
  {
   "cell_type": "code",
   "execution_count": null,
   "id": "dfeeec74",
   "metadata": {},
   "outputs": [],
   "source": [
    "list_of_accuracy_recurrent_model"
   ]
  },
  {
   "cell_type": "code",
   "execution_count": null,
   "id": "fcc6d883",
   "metadata": {
    "ExecuteTime": {
     "end_time": "2022-11-30T13:17:09.665867Z",
     "start_time": "2022-11-30T13:17:09.125956Z"
    }
   },
   "outputs": [],
   "source": [
    "cv_accuracy_baseline = np.mean(list_of_accuracy_baseline_model)\n",
    "cv_accuracy_lstm = np.mean(list_of_accuracy_recurrent_model)\n",
    "\n",
    "print(\"-\"*50)\n",
    "print(f\"Average accuracy baseline = {round(cv_accuracy_baseline, 2)}\")    \n",
    "print(f\"Average accuracy LSTM = {round(cv_accuracy_lstm, 2)}\")    \n",
    "print(f\"🏋🏽‍♂️ Improvement/Decrease vs. Baseline: {round(((cv_accuracy_lstm-cv_accuracy_baseline)/cv_accuracy_baseline)*100,2)} % \\n\")"
   ]
  },
  {
   "cell_type": "code",
   "execution_count": null,
   "id": "1374c5dc",
   "metadata": {},
   "outputs": [],
   "source": []
  }
 ],
 "metadata": {
  "kernelspec": {
   "display_name": "Python 3 (ipykernel)",
   "language": "python",
   "name": "python3"
  },
  "language_info": {
   "codemirror_mode": {
    "name": "ipython",
    "version": 3
   },
   "file_extension": ".py",
   "mimetype": "text/x-python",
   "name": "python",
   "nbconvert_exporter": "python",
   "pygments_lexer": "ipython3",
   "version": "3.10.6"
  },
  "toc": {
   "base_numbering": 1,
   "nav_menu": {},
   "number_sections": true,
   "sideBar": true,
   "skip_h1_title": false,
   "title_cell": "Table of Contents",
   "title_sidebar": "Contents",
   "toc_cell": false,
   "toc_position": {},
   "toc_section_display": true,
   "toc_window_display": false
  },
  "varInspector": {
   "cols": {
    "lenName": 16,
    "lenType": 16,
    "lenVar": 40
   },
   "kernels_config": {
    "python": {
     "delete_cmd_postfix": "",
     "delete_cmd_prefix": "del ",
     "library": "var_list.py",
     "varRefreshCmd": "print(var_dic_list())"
    },
    "r": {
     "delete_cmd_postfix": ") ",
     "delete_cmd_prefix": "rm(",
     "library": "var_list.r",
     "varRefreshCmd": "cat(var_dic_list()) "
    }
   },
   "types_to_exclude": [
    "module",
    "function",
    "builtin_function_or_method",
    "instance",
    "_Feature"
   ],
   "window_display": false
  }
 },
 "nbformat": 4,
 "nbformat_minor": 5
}
