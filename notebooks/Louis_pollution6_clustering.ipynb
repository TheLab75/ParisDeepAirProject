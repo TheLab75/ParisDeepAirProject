{
 "cells": [
  {
   "cell_type": "markdown",
   "id": "4e394d4e",
   "metadata": {},
   "source": [
    "# Imports"
   ]
  },
  {
   "cell_type": "code",
   "execution_count": 17,
   "id": "4522cbd5",
   "metadata": {},
   "outputs": [],
   "source": [
    "import pandas as pd"
   ]
  },
  {
   "cell_type": "code",
   "execution_count": 15,
   "id": "6433dba5",
   "metadata": {},
   "outputs": [],
   "source": [
    "files = !cd ../data/pollution/2_processed && ls"
   ]
  },
  {
   "cell_type": "code",
   "execution_count": 16,
   "id": "176a1660",
   "metadata": {},
   "outputs": [
    {
     "data": {
      "text/plain": [
       "['PA75001.csv',\n",
       " 'PA75002.csv',\n",
       " 'PA75004.csv',\n",
       " 'PA75006.csv',\n",
       " 'PA75007_1.csv',\n",
       " 'PA75007_2.csv',\n",
       " 'PA75008.csv',\n",
       " 'PA75009.csv',\n",
       " 'PA75012_1.csv',\n",
       " 'PA75012_2.csv',\n",
       " 'PA75012_3.csv',\n",
       " 'PA75013.csv',\n",
       " 'PA75014.csv',\n",
       " 'PA75015.csv',\n",
       " 'PA75016.csv',\n",
       " 'PA75018.csv',\n",
       " 'PA92220.csv',\n",
       " 'PA92800.csv',\n",
       " 'PA93300.csv',\n",
       " 'PA93500.csv']"
      ]
     },
     "execution_count": 16,
     "metadata": {},
     "output_type": "execute_result"
    }
   ],
   "source": [
    "list(files)"
   ]
  },
  {
   "cell_type": "markdown",
   "id": "a9a7b6ee",
   "metadata": {},
   "source": [
    "# Per station - EDA"
   ]
  },
  {
   "cell_type": "markdown",
   "id": "5bd9ff96",
   "metadata": {},
   "source": [
    "## 75001"
   ]
  },
  {
   "cell_type": "code",
   "execution_count": 23,
   "id": "888b0e13",
   "metadata": {},
   "outputs": [],
   "source": [
    "df = pd.read_csv(f\"../data/pollution/2_processed/{files[0]}\", index_col=\"Date_time\")"
   ]
  },
  {
   "cell_type": "code",
   "execution_count": 26,
   "id": "c9c13a48",
   "metadata": {},
   "outputs": [
    {
     "name": "stdout",
     "output_type": "stream",
     "text": [
      "General Info:\n",
      "33912 Rows 7 Columns\n",
      "7064 Duplicated Rows\n",
      "Memory Usage: 2.07Mb\n",
      "\n",
      "Columns float64: ['PM25', 'PM10', 'NO2', 'O3', 'SO2']\n",
      "\n",
      "Columns object: ['Station_name', 'Station_type']\n"
     ]
    },
    {
     "data": {
      "text/html": [
       "<div>\n",
       "<style scoped>\n",
       "    .dataframe tbody tr th:only-of-type {\n",
       "        vertical-align: middle;\n",
       "    }\n",
       "\n",
       "    .dataframe tbody tr th {\n",
       "        vertical-align: top;\n",
       "    }\n",
       "\n",
       "    .dataframe thead th {\n",
       "        text-align: right;\n",
       "    }\n",
       "</style>\n",
       "<table border=\"1\" class=\"dataframe\">\n",
       "  <thead>\n",
       "    <tr style=\"text-align: right;\">\n",
       "      <th></th>\n",
       "      <th>PM25</th>\n",
       "      <th>PM10</th>\n",
       "      <th>NO2</th>\n",
       "      <th>O3</th>\n",
       "      <th>SO2</th>\n",
       "    </tr>\n",
       "  </thead>\n",
       "  <tbody>\n",
       "    <tr>\n",
       "      <th>count</th>\n",
       "      <td>24533.000000</td>\n",
       "      <td>22492.000000</td>\n",
       "      <td>23987.000000</td>\n",
       "      <td>26325.000000</td>\n",
       "      <td>0.0</td>\n",
       "    </tr>\n",
       "    <tr>\n",
       "      <th>mean</th>\n",
       "      <td>11.622590</td>\n",
       "      <td>19.347461</td>\n",
       "      <td>23.252695</td>\n",
       "      <td>49.443905</td>\n",
       "      <td>NaN</td>\n",
       "    </tr>\n",
       "    <tr>\n",
       "      <th>std</th>\n",
       "      <td>8.667742</td>\n",
       "      <td>11.810691</td>\n",
       "      <td>15.071069</td>\n",
       "      <td>27.259004</td>\n",
       "      <td>NaN</td>\n",
       "    </tr>\n",
       "    <tr>\n",
       "      <th>min</th>\n",
       "      <td>0.000000</td>\n",
       "      <td>0.500000</td>\n",
       "      <td>1.900000</td>\n",
       "      <td>0.000000</td>\n",
       "      <td>NaN</td>\n",
       "    </tr>\n",
       "    <tr>\n",
       "      <th>25%</th>\n",
       "      <td>6.100000</td>\n",
       "      <td>11.500000</td>\n",
       "      <td>11.900000</td>\n",
       "      <td>30.400000</td>\n",
       "      <td>NaN</td>\n",
       "    </tr>\n",
       "    <tr>\n",
       "      <th>50%</th>\n",
       "      <td>9.100000</td>\n",
       "      <td>16.600000</td>\n",
       "      <td>19.000000</td>\n",
       "      <td>49.000000</td>\n",
       "      <td>NaN</td>\n",
       "    </tr>\n",
       "    <tr>\n",
       "      <th>75%</th>\n",
       "      <td>14.300000</td>\n",
       "      <td>24.000000</td>\n",
       "      <td>30.900000</td>\n",
       "      <td>66.000000</td>\n",
       "      <td>NaN</td>\n",
       "    </tr>\n",
       "    <tr>\n",
       "      <th>max</th>\n",
       "      <td>111.100000</td>\n",
       "      <td>128.500000</td>\n",
       "      <td>106.200000</td>\n",
       "      <td>193.100000</td>\n",
       "      <td>NaN</td>\n",
       "    </tr>\n",
       "  </tbody>\n",
       "</table>\n",
       "</div>"
      ],
      "text/plain": [
       "               PM25          PM10           NO2            O3  SO2\n",
       "count  24533.000000  22492.000000  23987.000000  26325.000000  0.0\n",
       "mean      11.622590     19.347461     23.252695     49.443905  NaN\n",
       "std        8.667742     11.810691     15.071069     27.259004  NaN\n",
       "min        0.000000      0.500000      1.900000      0.000000  NaN\n",
       "25%        6.100000     11.500000     11.900000     30.400000  NaN\n",
       "50%        9.100000     16.600000     19.000000     49.000000  NaN\n",
       "75%       14.300000     24.000000     30.900000     66.000000  NaN\n",
       "max      111.100000    128.500000    106.200000    193.100000  NaN"
      ]
     },
     "metadata": {},
     "output_type": "display_data"
    },
    {
     "name": "stdout",
     "output_type": "stream",
     "text": [
      "\n",
      "Cheking Missing Values:\n",
      "Column \"PM25\" has 9379 missing values (27.66%)\n",
      "Column \"PM10\" has 11420 missing values (33.68%)\n",
      "Column \"NO2\" has 9925 missing values (29.27%)\n",
      "Column \"O3\" has 7587 missing values (22.37%)\n",
      "Column \"SO2\" has 33912 missing values (100.00%)\n",
      "\n",
      "Checking Linear Correlation:\n",
      "Linear Correlation found between columns PM10 and PM25 -> Pearson coef. = 0.89\n"
     ]
    },
    {
     "name": "stderr",
     "output_type": "stream",
     "text": [
      "/Users/llm/code/TheLab75/ParisDeepAirProject/workflow/utils.py:83: FutureWarning: The default value of numeric_only in DataFrame.corr is deprecated. In a future version, it will default to False. Select only valid columns or specify the value of numeric_only to silence this warning.\n",
      "  df_corr = df.corr() # Correlation DataFrame\n"
     ]
    }
   ],
   "source": [
    "from workflow.utils import analyse_df\n",
    "\n",
    "analyse_df(df)"
   ]
  },
  {
   "cell_type": "markdown",
   "id": "2278ea72",
   "metadata": {
    "heading_collapsed": true
   },
   "source": [
    "## 75002"
   ]
  },
  {
   "cell_type": "code",
   "execution_count": 23,
   "id": "57a63666",
   "metadata": {
    "hidden": true
   },
   "outputs": [],
   "source": [
    "df = pd.read_csv(f\"../data/pollution/2_processed/{files[1]}\", index_col=\"Date_time\")"
   ]
  },
  {
   "cell_type": "code",
   "execution_count": 26,
   "id": "19ee8f1b",
   "metadata": {
    "hidden": true
   },
   "outputs": [
    {
     "name": "stdout",
     "output_type": "stream",
     "text": [
      "General Info:\n",
      "33912 Rows 7 Columns\n",
      "7064 Duplicated Rows\n",
      "Memory Usage: 2.07Mb\n",
      "\n",
      "Columns float64: ['PM25', 'PM10', 'NO2', 'O3', 'SO2']\n",
      "\n",
      "Columns object: ['Station_name', 'Station_type']\n"
     ]
    },
    {
     "data": {
      "text/html": [
       "<div>\n",
       "<style scoped>\n",
       "    .dataframe tbody tr th:only-of-type {\n",
       "        vertical-align: middle;\n",
       "    }\n",
       "\n",
       "    .dataframe tbody tr th {\n",
       "        vertical-align: top;\n",
       "    }\n",
       "\n",
       "    .dataframe thead th {\n",
       "        text-align: right;\n",
       "    }\n",
       "</style>\n",
       "<table border=\"1\" class=\"dataframe\">\n",
       "  <thead>\n",
       "    <tr style=\"text-align: right;\">\n",
       "      <th></th>\n",
       "      <th>PM25</th>\n",
       "      <th>PM10</th>\n",
       "      <th>NO2</th>\n",
       "      <th>O3</th>\n",
       "      <th>SO2</th>\n",
       "    </tr>\n",
       "  </thead>\n",
       "  <tbody>\n",
       "    <tr>\n",
       "      <th>count</th>\n",
       "      <td>24533.000000</td>\n",
       "      <td>22492.000000</td>\n",
       "      <td>23987.000000</td>\n",
       "      <td>26325.000000</td>\n",
       "      <td>0.0</td>\n",
       "    </tr>\n",
       "    <tr>\n",
       "      <th>mean</th>\n",
       "      <td>11.622590</td>\n",
       "      <td>19.347461</td>\n",
       "      <td>23.252695</td>\n",
       "      <td>49.443905</td>\n",
       "      <td>NaN</td>\n",
       "    </tr>\n",
       "    <tr>\n",
       "      <th>std</th>\n",
       "      <td>8.667742</td>\n",
       "      <td>11.810691</td>\n",
       "      <td>15.071069</td>\n",
       "      <td>27.259004</td>\n",
       "      <td>NaN</td>\n",
       "    </tr>\n",
       "    <tr>\n",
       "      <th>min</th>\n",
       "      <td>0.000000</td>\n",
       "      <td>0.500000</td>\n",
       "      <td>1.900000</td>\n",
       "      <td>0.000000</td>\n",
       "      <td>NaN</td>\n",
       "    </tr>\n",
       "    <tr>\n",
       "      <th>25%</th>\n",
       "      <td>6.100000</td>\n",
       "      <td>11.500000</td>\n",
       "      <td>11.900000</td>\n",
       "      <td>30.400000</td>\n",
       "      <td>NaN</td>\n",
       "    </tr>\n",
       "    <tr>\n",
       "      <th>50%</th>\n",
       "      <td>9.100000</td>\n",
       "      <td>16.600000</td>\n",
       "      <td>19.000000</td>\n",
       "      <td>49.000000</td>\n",
       "      <td>NaN</td>\n",
       "    </tr>\n",
       "    <tr>\n",
       "      <th>75%</th>\n",
       "      <td>14.300000</td>\n",
       "      <td>24.000000</td>\n",
       "      <td>30.900000</td>\n",
       "      <td>66.000000</td>\n",
       "      <td>NaN</td>\n",
       "    </tr>\n",
       "    <tr>\n",
       "      <th>max</th>\n",
       "      <td>111.100000</td>\n",
       "      <td>128.500000</td>\n",
       "      <td>106.200000</td>\n",
       "      <td>193.100000</td>\n",
       "      <td>NaN</td>\n",
       "    </tr>\n",
       "  </tbody>\n",
       "</table>\n",
       "</div>"
      ],
      "text/plain": [
       "               PM25          PM10           NO2            O3  SO2\n",
       "count  24533.000000  22492.000000  23987.000000  26325.000000  0.0\n",
       "mean      11.622590     19.347461     23.252695     49.443905  NaN\n",
       "std        8.667742     11.810691     15.071069     27.259004  NaN\n",
       "min        0.000000      0.500000      1.900000      0.000000  NaN\n",
       "25%        6.100000     11.500000     11.900000     30.400000  NaN\n",
       "50%        9.100000     16.600000     19.000000     49.000000  NaN\n",
       "75%       14.300000     24.000000     30.900000     66.000000  NaN\n",
       "max      111.100000    128.500000    106.200000    193.100000  NaN"
      ]
     },
     "metadata": {},
     "output_type": "display_data"
    },
    {
     "name": "stdout",
     "output_type": "stream",
     "text": [
      "\n",
      "Cheking Missing Values:\n",
      "Column \"PM25\" has 9379 missing values (27.66%)\n",
      "Column \"PM10\" has 11420 missing values (33.68%)\n",
      "Column \"NO2\" has 9925 missing values (29.27%)\n",
      "Column \"O3\" has 7587 missing values (22.37%)\n",
      "Column \"SO2\" has 33912 missing values (100.00%)\n",
      "\n",
      "Checking Linear Correlation:\n",
      "Linear Correlation found between columns PM10 and PM25 -> Pearson coef. = 0.89\n"
     ]
    },
    {
     "name": "stderr",
     "output_type": "stream",
     "text": [
      "/Users/llm/code/TheLab75/ParisDeepAirProject/workflow/utils.py:83: FutureWarning: The default value of numeric_only in DataFrame.corr is deprecated. In a future version, it will default to False. Select only valid columns or specify the value of numeric_only to silence this warning.\n",
      "  df_corr = df.corr() # Correlation DataFrame\n"
     ]
    }
   ],
   "source": [
    "from workflow.utils import analyse_df\n",
    "\n",
    "analyse_df(df)"
   ]
  },
  {
   "cell_type": "markdown",
   "id": "b8be5d10",
   "metadata": {},
   "source": [
    "## 75004"
   ]
  },
  {
   "cell_type": "code",
   "execution_count": 23,
   "id": "b09461e9",
   "metadata": {},
   "outputs": [],
   "source": [
    "df = pd.read_csv(f\"../data/pollution/2_processed/{files[2]}\", index_col=\"Date_time\")"
   ]
  },
  {
   "cell_type": "code",
   "execution_count": 26,
   "id": "8dea6760",
   "metadata": {},
   "outputs": [
    {
     "name": "stdout",
     "output_type": "stream",
     "text": [
      "General Info:\n",
      "33912 Rows 7 Columns\n",
      "7064 Duplicated Rows\n",
      "Memory Usage: 2.07Mb\n",
      "\n",
      "Columns float64: ['PM25', 'PM10', 'NO2', 'O3', 'SO2']\n",
      "\n",
      "Columns object: ['Station_name', 'Station_type']\n"
     ]
    },
    {
     "data": {
      "text/html": [
       "<div>\n",
       "<style scoped>\n",
       "    .dataframe tbody tr th:only-of-type {\n",
       "        vertical-align: middle;\n",
       "    }\n",
       "\n",
       "    .dataframe tbody tr th {\n",
       "        vertical-align: top;\n",
       "    }\n",
       "\n",
       "    .dataframe thead th {\n",
       "        text-align: right;\n",
       "    }\n",
       "</style>\n",
       "<table border=\"1\" class=\"dataframe\">\n",
       "  <thead>\n",
       "    <tr style=\"text-align: right;\">\n",
       "      <th></th>\n",
       "      <th>PM25</th>\n",
       "      <th>PM10</th>\n",
       "      <th>NO2</th>\n",
       "      <th>O3</th>\n",
       "      <th>SO2</th>\n",
       "    </tr>\n",
       "  </thead>\n",
       "  <tbody>\n",
       "    <tr>\n",
       "      <th>count</th>\n",
       "      <td>24533.000000</td>\n",
       "      <td>22492.000000</td>\n",
       "      <td>23987.000000</td>\n",
       "      <td>26325.000000</td>\n",
       "      <td>0.0</td>\n",
       "    </tr>\n",
       "    <tr>\n",
       "      <th>mean</th>\n",
       "      <td>11.622590</td>\n",
       "      <td>19.347461</td>\n",
       "      <td>23.252695</td>\n",
       "      <td>49.443905</td>\n",
       "      <td>NaN</td>\n",
       "    </tr>\n",
       "    <tr>\n",
       "      <th>std</th>\n",
       "      <td>8.667742</td>\n",
       "      <td>11.810691</td>\n",
       "      <td>15.071069</td>\n",
       "      <td>27.259004</td>\n",
       "      <td>NaN</td>\n",
       "    </tr>\n",
       "    <tr>\n",
       "      <th>min</th>\n",
       "      <td>0.000000</td>\n",
       "      <td>0.500000</td>\n",
       "      <td>1.900000</td>\n",
       "      <td>0.000000</td>\n",
       "      <td>NaN</td>\n",
       "    </tr>\n",
       "    <tr>\n",
       "      <th>25%</th>\n",
       "      <td>6.100000</td>\n",
       "      <td>11.500000</td>\n",
       "      <td>11.900000</td>\n",
       "      <td>30.400000</td>\n",
       "      <td>NaN</td>\n",
       "    </tr>\n",
       "    <tr>\n",
       "      <th>50%</th>\n",
       "      <td>9.100000</td>\n",
       "      <td>16.600000</td>\n",
       "      <td>19.000000</td>\n",
       "      <td>49.000000</td>\n",
       "      <td>NaN</td>\n",
       "    </tr>\n",
       "    <tr>\n",
       "      <th>75%</th>\n",
       "      <td>14.300000</td>\n",
       "      <td>24.000000</td>\n",
       "      <td>30.900000</td>\n",
       "      <td>66.000000</td>\n",
       "      <td>NaN</td>\n",
       "    </tr>\n",
       "    <tr>\n",
       "      <th>max</th>\n",
       "      <td>111.100000</td>\n",
       "      <td>128.500000</td>\n",
       "      <td>106.200000</td>\n",
       "      <td>193.100000</td>\n",
       "      <td>NaN</td>\n",
       "    </tr>\n",
       "  </tbody>\n",
       "</table>\n",
       "</div>"
      ],
      "text/plain": [
       "               PM25          PM10           NO2            O3  SO2\n",
       "count  24533.000000  22492.000000  23987.000000  26325.000000  0.0\n",
       "mean      11.622590     19.347461     23.252695     49.443905  NaN\n",
       "std        8.667742     11.810691     15.071069     27.259004  NaN\n",
       "min        0.000000      0.500000      1.900000      0.000000  NaN\n",
       "25%        6.100000     11.500000     11.900000     30.400000  NaN\n",
       "50%        9.100000     16.600000     19.000000     49.000000  NaN\n",
       "75%       14.300000     24.000000     30.900000     66.000000  NaN\n",
       "max      111.100000    128.500000    106.200000    193.100000  NaN"
      ]
     },
     "metadata": {},
     "output_type": "display_data"
    },
    {
     "name": "stdout",
     "output_type": "stream",
     "text": [
      "\n",
      "Cheking Missing Values:\n",
      "Column \"PM25\" has 9379 missing values (27.66%)\n",
      "Column \"PM10\" has 11420 missing values (33.68%)\n",
      "Column \"NO2\" has 9925 missing values (29.27%)\n",
      "Column \"O3\" has 7587 missing values (22.37%)\n",
      "Column \"SO2\" has 33912 missing values (100.00%)\n",
      "\n",
      "Checking Linear Correlation:\n",
      "Linear Correlation found between columns PM10 and PM25 -> Pearson coef. = 0.89\n"
     ]
    },
    {
     "name": "stderr",
     "output_type": "stream",
     "text": [
      "/Users/llm/code/TheLab75/ParisDeepAirProject/workflow/utils.py:83: FutureWarning: The default value of numeric_only in DataFrame.corr is deprecated. In a future version, it will default to False. Select only valid columns or specify the value of numeric_only to silence this warning.\n",
      "  df_corr = df.corr() # Correlation DataFrame\n"
     ]
    }
   ],
   "source": [
    "from workflow.utils import analyse_df\n",
    "\n",
    "analyse_df(df)"
   ]
  },
  {
   "cell_type": "code",
   "execution_count": null,
   "id": "6d71ca78",
   "metadata": {},
   "outputs": [],
   "source": []
  }
 ],
 "metadata": {
  "kernelspec": {
   "display_name": "Python 3 (ipykernel)",
   "language": "python",
   "name": "python3"
  },
  "language_info": {
   "codemirror_mode": {
    "name": "ipython",
    "version": 3
   },
   "file_extension": ".py",
   "mimetype": "text/x-python",
   "name": "python",
   "nbconvert_exporter": "python",
   "pygments_lexer": "ipython3",
   "version": "3.10.6"
  },
  "toc": {
   "base_numbering": 1,
   "nav_menu": {},
   "number_sections": true,
   "sideBar": true,
   "skip_h1_title": false,
   "title_cell": "Table of Contents",
   "title_sidebar": "Contents",
   "toc_cell": false,
   "toc_position": {},
   "toc_section_display": true,
   "toc_window_display": false
  },
  "varInspector": {
   "cols": {
    "lenName": 16,
    "lenType": 16,
    "lenVar": 40
   },
   "kernels_config": {
    "python": {
     "delete_cmd_postfix": "",
     "delete_cmd_prefix": "del ",
     "library": "var_list.py",
     "varRefreshCmd": "print(var_dic_list())"
    },
    "r": {
     "delete_cmd_postfix": ") ",
     "delete_cmd_prefix": "rm(",
     "library": "var_list.r",
     "varRefreshCmd": "cat(var_dic_list()) "
    }
   },
   "types_to_exclude": [
    "module",
    "function",
    "builtin_function_or_method",
    "instance",
    "_Feature"
   ],
   "window_display": false
  }
 },
 "nbformat": 4,
 "nbformat_minor": 5
}
