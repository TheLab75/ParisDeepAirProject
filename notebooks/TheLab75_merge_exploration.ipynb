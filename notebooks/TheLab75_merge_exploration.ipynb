{
 "cells": [
  {
   "cell_type": "code",
   "execution_count": 1,
   "id": "a05be38c",
   "metadata": {},
   "outputs": [],
   "source": [
    "import numpy as np\n",
    "import pandas as pd"
   ]
  },
  {
   "cell_type": "code",
   "execution_count": 2,
   "id": "9784bce0",
   "metadata": {},
   "outputs": [
    {
     "name": "stdout",
     "output_type": "stream",
     "text": [
      "total 117576\r\n",
      "drwxr-xr-x@ 23 llm  staff      736 Nov 25 00:14 \u001b[1m\u001b[36m.\u001b[m\u001b[m\r\n",
      "drwxr-xr-x@ 25 llm  staff      800 Nov 25 00:14 \u001b[1m\u001b[36m..\u001b[m\u001b[m\r\n",
      "-rw-r--r--@  1 llm  staff     6148 Nov 25 00:08 .DS_Store\r\n",
      "-rw-r--r--@  1 llm  staff  2561351 Nov 25 00:13 PA75001.csv\r\n",
      "-rw-r--r--@  1 llm  staff  2965830 Nov 25 00:13 PA75002.csv\r\n",
      "-rw-r--r--@  1 llm  staff  3181451 Nov 25 00:13 PA75004.csv\r\n",
      "-rw-r--r--@  1 llm  staff  2755954 Nov 25 00:13 PA75006.csv\r\n",
      "-rw-r--r--@  1 llm  staff  3343070 Nov 25 00:13 PA75007_1.csv\r\n",
      "-rw-r--r--@  1 llm  staff  2783824 Nov 25 00:13 PA75007_2.csv\r\n",
      "-rw-r--r--@  1 llm  staff  3308645 Nov 25 00:13 PA75008.csv\r\n",
      "-rw-r--r--@  1 llm  staff  3244208 Nov 25 00:13 PA75009.csv\r\n",
      "-rw-r--r--@  1 llm  staff  2881234 Nov 25 00:13 PA75012_1.csv\r\n",
      "-rw-r--r--@  1 llm  staff  3268030 Nov 25 00:13 PA75012_2.csv\r\n",
      "-rw-r--r--@  1 llm  staff  2789641 Nov 25 00:13 PA75012_3.csv\r\n",
      "-rw-r--r--@  1 llm  staff  2997587 Nov 25 00:13 PA75013.csv\r\n",
      "-rw-r--r--@  1 llm  staff  2123082 Nov 25 00:13 PA75014.csv\r\n",
      "-rw-r--r--@  1 llm  staff  2714631 Nov 25 00:14 PA75015.csv\r\n",
      "-rw-r--r--@  1 llm  staff  4028449 Nov 25 00:14 PA75016.csv\r\n",
      "-rw-r--r--@  1 llm  staff  3225916 Nov 25 00:14 PA75018.csv\r\n",
      "-rw-r--r--@  1 llm  staff  3119381 Nov 25 00:14 PA92220.csv\r\n",
      "-rw-r--r--@  1 llm  staff  2307843 Nov 25 00:14 PA92800.csv\r\n",
      "-rw-r--r--@  1 llm  staff  3321925 Nov 25 00:14 PA93300.csv\r\n",
      "-rw-r--r--@  1 llm  staff  3227569 Nov 25 00:14 PA93500.csv\r\n"
     ]
    }
   ],
   "source": [
    "!cd ../data/pollution/2_Processed && ls -la"
   ]
  },
  {
   "cell_type": "code",
   "execution_count": 3,
   "id": "620eff84",
   "metadata": {},
   "outputs": [],
   "source": [
    "file_list =  !find ../data/Pollution/2_Processed | grep .csv"
   ]
  },
  {
   "cell_type": "code",
   "execution_count": 4,
   "id": "5613e5ec",
   "metadata": {
    "collapsed": true
   },
   "outputs": [
    {
     "data": {
      "text/plain": [
       "['../data/Pollution/2_Processed/PA75001.csv',\n",
       " '../data/Pollution/2_Processed/PA75002.csv',\n",
       " '../data/Pollution/2_Processed/PA75004.csv',\n",
       " '../data/Pollution/2_Processed/PA75006.csv',\n",
       " '../data/Pollution/2_Processed/PA75007_1.csv',\n",
       " '../data/Pollution/2_Processed/PA75007_2.csv',\n",
       " '../data/Pollution/2_Processed/PA75008.csv',\n",
       " '../data/Pollution/2_Processed/PA75009.csv',\n",
       " '../data/Pollution/2_Processed/PA75012_1.csv',\n",
       " '../data/Pollution/2_Processed/PA75012_2.csv',\n",
       " '../data/Pollution/2_Processed/PA75012_3.csv',\n",
       " '../data/Pollution/2_Processed/PA75013.csv',\n",
       " '../data/Pollution/2_Processed/PA75014.csv',\n",
       " '../data/Pollution/2_Processed/PA75015.csv',\n",
       " '../data/Pollution/2_Processed/PA75016.csv',\n",
       " '../data/Pollution/2_Processed/PA75018.csv',\n",
       " '../data/Pollution/2_Processed/PA92220.csv',\n",
       " '../data/Pollution/2_Processed/PA92800.csv',\n",
       " '../data/Pollution/2_Processed/PA93300.csv',\n",
       " '../data/Pollution/2_Processed/PA93500.csv']"
      ]
     },
     "execution_count": 4,
     "metadata": {},
     "output_type": "execute_result"
    }
   ],
   "source": [
    "file_list = file_list.sort()\n",
    "file_list"
   ]
  },
  {
   "cell_type": "code",
   "execution_count": 5,
   "id": "e3609b91",
   "metadata": {},
   "outputs": [
    {
     "data": {
      "text/html": [
       "<div>\n",
       "<style scoped>\n",
       "    .dataframe tbody tr th:only-of-type {\n",
       "        vertical-align: middle;\n",
       "    }\n",
       "\n",
       "    .dataframe tbody tr th {\n",
       "        vertical-align: top;\n",
       "    }\n",
       "\n",
       "    .dataframe thead th {\n",
       "        text-align: right;\n",
       "    }\n",
       "</style>\n",
       "<table border=\"1\" class=\"dataframe\">\n",
       "  <thead>\n",
       "    <tr style=\"text-align: right;\">\n",
       "      <th></th>\n",
       "      <th>CO</th>\n",
       "      <th>PM10</th>\n",
       "      <th>PM25</th>\n",
       "      <th>NO2</th>\n",
       "      <th>NO</th>\n",
       "      <th>NOX</th>\n",
       "      <th>O3</th>\n",
       "    </tr>\n",
       "  </thead>\n",
       "  <tbody>\n",
       "    <tr>\n",
       "      <th>count</th>\n",
       "      <td>14335.000000</td>\n",
       "      <td>22492.000000</td>\n",
       "      <td>24533.000000</td>\n",
       "      <td>23987.000000</td>\n",
       "      <td>23987.000000</td>\n",
       "      <td>23997.000000</td>\n",
       "      <td>26325.000000</td>\n",
       "    </tr>\n",
       "    <tr>\n",
       "      <th>mean</th>\n",
       "      <td>0.200336</td>\n",
       "      <td>19.347461</td>\n",
       "      <td>11.622590</td>\n",
       "      <td>23.252695</td>\n",
       "      <td>5.152441</td>\n",
       "      <td>31.245956</td>\n",
       "      <td>49.443905</td>\n",
       "    </tr>\n",
       "    <tr>\n",
       "      <th>std</th>\n",
       "      <td>0.102242</td>\n",
       "      <td>11.810691</td>\n",
       "      <td>8.667742</td>\n",
       "      <td>15.071069</td>\n",
       "      <td>13.880600</td>\n",
       "      <td>31.951493</td>\n",
       "      <td>27.259004</td>\n",
       "    </tr>\n",
       "    <tr>\n",
       "      <th>min</th>\n",
       "      <td>0.037000</td>\n",
       "      <td>0.500000</td>\n",
       "      <td>0.000000</td>\n",
       "      <td>1.900000</td>\n",
       "      <td>0.000000</td>\n",
       "      <td>2.000000</td>\n",
       "      <td>0.000000</td>\n",
       "    </tr>\n",
       "    <tr>\n",
       "      <th>25%</th>\n",
       "      <td>0.144000</td>\n",
       "      <td>11.500000</td>\n",
       "      <td>6.100000</td>\n",
       "      <td>11.900000</td>\n",
       "      <td>0.700000</td>\n",
       "      <td>13.600000</td>\n",
       "      <td>30.400000</td>\n",
       "    </tr>\n",
       "    <tr>\n",
       "      <th>50%</th>\n",
       "      <td>0.180000</td>\n",
       "      <td>16.600000</td>\n",
       "      <td>9.100000</td>\n",
       "      <td>19.000000</td>\n",
       "      <td>1.500000</td>\n",
       "      <td>21.700000</td>\n",
       "      <td>49.000000</td>\n",
       "    </tr>\n",
       "    <tr>\n",
       "      <th>75%</th>\n",
       "      <td>0.230000</td>\n",
       "      <td>24.000000</td>\n",
       "      <td>14.300000</td>\n",
       "      <td>30.900000</td>\n",
       "      <td>3.500000</td>\n",
       "      <td>36.400000</td>\n",
       "      <td>66.000000</td>\n",
       "    </tr>\n",
       "    <tr>\n",
       "      <th>max</th>\n",
       "      <td>4.309000</td>\n",
       "      <td>128.500000</td>\n",
       "      <td>111.100000</td>\n",
       "      <td>106.200000</td>\n",
       "      <td>252.200000</td>\n",
       "      <td>455.900000</td>\n",
       "      <td>193.100000</td>\n",
       "    </tr>\n",
       "  </tbody>\n",
       "</table>\n",
       "</div>"
      ],
      "text/plain": [
       "                 CO          PM10          PM25           NO2            NO  \\\n",
       "count  14335.000000  22492.000000  24533.000000  23987.000000  23987.000000   \n",
       "mean       0.200336     19.347461     11.622590     23.252695      5.152441   \n",
       "std        0.102242     11.810691      8.667742     15.071069     13.880600   \n",
       "min        0.037000      0.500000      0.000000      1.900000      0.000000   \n",
       "25%        0.144000     11.500000      6.100000     11.900000      0.700000   \n",
       "50%        0.180000     16.600000      9.100000     19.000000      1.500000   \n",
       "75%        0.230000     24.000000     14.300000     30.900000      3.500000   \n",
       "max        4.309000    128.500000    111.100000    106.200000    252.200000   \n",
       "\n",
       "                NOX            O3  \n",
       "count  23997.000000  26325.000000  \n",
       "mean      31.245956     49.443905  \n",
       "std       31.951493     27.259004  \n",
       "min        2.000000      0.000000  \n",
       "25%       13.600000     30.400000  \n",
       "50%       21.700000     49.000000  \n",
       "75%       36.400000     66.000000  \n",
       "max      455.900000    193.100000  "
      ]
     },
     "execution_count": 5,
     "metadata": {},
     "output_type": "execute_result"
    }
   ],
   "source": [
    "PA75001 = pd.read_csv(file_list[0]).copy()\n",
    "PA75001 = PA75001.drop(columns=(\"Unnamed: 0\"))\n",
    "PA75001.describe()"
   ]
  },
  {
   "cell_type": "code",
   "execution_count": 6,
   "id": "8b0697db",
   "metadata": {},
   "outputs": [
    {
     "ename": "ModuleNotFoundError",
     "evalue": "No module named 'statsmodels'",
     "output_type": "error",
     "traceback": [
      "\u001b[0;31m---------------------------------------------------------------------------\u001b[0m",
      "\u001b[0;31mModuleNotFoundError\u001b[0m                       Traceback (most recent call last)",
      "Cell \u001b[0;32mIn [6], line 3\u001b[0m\n\u001b[1;32m      1\u001b[0m \u001b[38;5;28;01mimport\u001b[39;00m \u001b[38;5;21;01mmatplotlib\u001b[39;00m\u001b[38;5;21;01m.\u001b[39;00m\u001b[38;5;21;01mpyplot\u001b[39;00m \u001b[38;5;28;01mas\u001b[39;00m \u001b[38;5;21;01mplt\u001b[39;00m\n\u001b[1;32m      2\u001b[0m \u001b[38;5;28;01mimport\u001b[39;00m \u001b[38;5;21;01mseaborn\u001b[39;00m \u001b[38;5;28;01mas\u001b[39;00m \u001b[38;5;21;01msns\u001b[39;00m\n\u001b[0;32m----> 3\u001b[0m \u001b[38;5;28;01mfrom\u001b[39;00m \u001b[38;5;21;01mstatsmodels\u001b[39;00m\u001b[38;5;21;01m.\u001b[39;00m\u001b[38;5;21;01mgraphics\u001b[39;00m\u001b[38;5;21;01m.\u001b[39;00m\u001b[38;5;21;01mgofplots\u001b[39;00m \u001b[38;5;28;01mimport\u001b[39;00m qqplot\n\u001b[1;32m      4\u001b[0m \u001b[38;5;28;01mimport\u001b[39;00m \u001b[38;5;21;01mpandas\u001b[39;00m \u001b[38;5;28;01mas\u001b[39;00m \u001b[38;5;21;01mpd\u001b[39;00m\n\u001b[1;32m      6\u001b[0m \u001b[38;5;28;01mdef\u001b[39;00m \u001b[38;5;21mturbo_plot\u001b[39m(X):\n",
      "\u001b[0;31mModuleNotFoundError\u001b[0m: No module named 'statsmodels'"
     ]
    }
   ],
   "source": [
    "import matplotlib.pyplot as plt\n",
    "import seaborn as sns\n",
    "from statsmodels.graphics.gofplots import qqplot\n",
    "import pandas as pd\n",
    "\n",
    "def turbo_plot(X):\n",
    "    fig = plt.figure(constrained_layout=True,figsize=(15,120))\n",
    "    subfigs = fig.subfigures(X.shape[1], 1,squeeze=False,hspace=20)\n",
    "    for outerind, subfig in enumerate(subfigs.flat):\n",
    "        subfig.suptitle(f'Subfig {X.columns[outerind]}')\n",
    "        axs = subfig.subplots(1, 3)\n",
    "        sns.histplot(data = X, x = X.columns[outerind], kde=True, ax = axs[0])\n",
    "        sns.boxplot(data = X, x = X.columns[outerind], ax = axs[1])\n",
    "        qqplot(X[X.columns[outerind]],line='s',ax=axs[2])\n",
    "    return plt.show()"
   ]
  },
  {
   "cell_type": "raw",
   "id": "57c1739e",
   "metadata": {},
   "source": [
    "turbo_plot"
   ]
  }
 ],
 "metadata": {
  "kernelspec": {
   "display_name": "Python 3 (ipykernel)",
   "language": "python",
   "name": "python3"
  },
  "language_info": {
   "codemirror_mode": {
    "name": "ipython",
    "version": 3
   },
   "file_extension": ".py",
   "mimetype": "text/x-python",
   "name": "python",
   "nbconvert_exporter": "python",
   "pygments_lexer": "ipython3",
   "version": "3.10.6"
  },
  "toc": {
   "base_numbering": 1,
   "nav_menu": {},
   "number_sections": true,
   "sideBar": true,
   "skip_h1_title": false,
   "title_cell": "Table of Contents",
   "title_sidebar": "Contents",
   "toc_cell": false,
   "toc_position": {},
   "toc_section_display": true,
   "toc_window_display": false
  },
  "varInspector": {
   "cols": {
    "lenName": 16,
    "lenType": 16,
    "lenVar": 40
   },
   "kernels_config": {
    "python": {
     "delete_cmd_postfix": "",
     "delete_cmd_prefix": "del ",
     "library": "var_list.py",
     "varRefreshCmd": "print(var_dic_list())"
    },
    "r": {
     "delete_cmd_postfix": ") ",
     "delete_cmd_prefix": "rm(",
     "library": "var_list.r",
     "varRefreshCmd": "cat(var_dic_list()) "
    }
   },
   "types_to_exclude": [
    "module",
    "function",
    "builtin_function_or_method",
    "instance",
    "_Feature"
   ],
   "window_display": false
  }
 },
 "nbformat": 4,
 "nbformat_minor": 5
}
