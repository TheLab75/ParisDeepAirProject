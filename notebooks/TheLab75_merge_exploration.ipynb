{
 "cells": [
  {
   "cell_type": "code",
   "execution_count": 2,
   "id": "d7923fa1",
   "metadata": {},
   "outputs": [
    {
     "name": "stdout",
     "output_type": "stream",
     "text": [
      "total 117576\r\n",
      "drwxr-xr-x@ 23 llm  staff      736 Nov 25 00:14 \u001b[1m\u001b[36m.\u001b[m\u001b[m\r\n",
      "drwxr-xr-x@ 25 llm  staff      800 Nov 25 00:14 \u001b[1m\u001b[36m..\u001b[m\u001b[m\r\n",
      "-rw-r--r--@  1 llm  staff     6148 Nov 25 00:08 .DS_Store\r\n",
      "-rw-r--r--@  1 llm  staff  2561351 Nov 25 00:13 PA75001.csv\r\n",
      "-rw-r--r--@  1 llm  staff  2965830 Nov 25 00:13 PA75002.csv\r\n",
      "-rw-r--r--@  1 llm  staff  3181451 Nov 25 00:13 PA75004.csv\r\n",
      "-rw-r--r--@  1 llm  staff  2755954 Nov 25 00:13 PA75006.csv\r\n",
      "-rw-r--r--@  1 llm  staff  3343070 Nov 25 00:13 PA75007_1.csv\r\n",
      "-rw-r--r--@  1 llm  staff  2783824 Nov 25 00:13 PA75007_2.csv\r\n",
      "-rw-r--r--@  1 llm  staff  3308645 Nov 25 00:13 PA75008.csv\r\n",
      "-rw-r--r--@  1 llm  staff  3244208 Nov 25 00:13 PA75009.csv\r\n",
      "-rw-r--r--@  1 llm  staff  2881234 Nov 25 00:13 PA75012_1.csv\r\n",
      "-rw-r--r--@  1 llm  staff  3268030 Nov 25 00:13 PA75012_2.csv\r\n",
      "-rw-r--r--@  1 llm  staff  2789641 Nov 25 00:13 PA75012_3.csv\r\n",
      "-rw-r--r--@  1 llm  staff  2997587 Nov 25 00:13 PA75013.csv\r\n",
      "-rw-r--r--@  1 llm  staff  2123082 Nov 25 00:13 PA75014.csv\r\n",
      "-rw-r--r--@  1 llm  staff  2714631 Nov 25 00:14 PA75015.csv\r\n",
      "-rw-r--r--@  1 llm  staff  4028449 Nov 25 00:14 PA75016.csv\r\n",
      "-rw-r--r--@  1 llm  staff  3225916 Nov 25 00:14 PA75018.csv\r\n",
      "-rw-r--r--@  1 llm  staff  3119381 Nov 25 00:14 PA92220.csv\r\n",
      "-rw-r--r--@  1 llm  staff  2307843 Nov 25 00:14 PA92800.csv\r\n",
      "-rw-r--r--@  1 llm  staff  3321925 Nov 25 00:14 PA93300.csv\r\n",
      "-rw-r--r--@  1 llm  staff  3227569 Nov 25 00:14 PA93500.csv\r\n"
     ]
    }
   ],
   "source": [
    "!cd ../data/pollution/2_Processed && ls -la"
   ]
  },
  {
   "cell_type": "code",
   "execution_count": 3,
   "id": "8d0efb35",
   "metadata": {},
   "outputs": [],
   "source": [
    "import numpy as np\n",
    "import pandas as pd"
   ]
  },
  {
   "cell_type": "code",
   "execution_count": null,
   "id": "7bac58f4",
   "metadata": {},
   "outputs": [],
   "source": []
  }
 ],
 "metadata": {
  "kernelspec": {
   "display_name": "Python 3 (ipykernel)",
   "language": "python",
   "name": "python3"
  },
  "language_info": {
   "codemirror_mode": {
    "name": "ipython",
    "version": 3
   },
   "file_extension": ".py",
   "mimetype": "text/x-python",
   "name": "python",
   "nbconvert_exporter": "python",
   "pygments_lexer": "ipython3",
   "version": "3.10.6"
  },
  "toc": {
   "base_numbering": 1,
   "nav_menu": {},
   "number_sections": true,
   "sideBar": true,
   "skip_h1_title": false,
   "title_cell": "Table of Contents",
   "title_sidebar": "Contents",
   "toc_cell": false,
   "toc_position": {},
   "toc_section_display": true,
   "toc_window_display": false
  },
  "varInspector": {
   "cols": {
    "lenName": 16,
    "lenType": 16,
    "lenVar": 40
   },
   "kernels_config": {
    "python": {
     "delete_cmd_postfix": "",
     "delete_cmd_prefix": "del ",
     "library": "var_list.py",
     "varRefreshCmd": "print(var_dic_list())"
    },
    "r": {
     "delete_cmd_postfix": ") ",
     "delete_cmd_prefix": "rm(",
     "library": "var_list.r",
     "varRefreshCmd": "cat(var_dic_list()) "
    }
   },
   "types_to_exclude": [
    "module",
    "function",
    "builtin_function_or_method",
    "instance",
    "_Feature"
   ],
   "window_display": false
  }
 },
 "nbformat": 4,
 "nbformat_minor": 5
}
