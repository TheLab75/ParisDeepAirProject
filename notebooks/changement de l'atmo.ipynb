{
 "cells": [
  {
   "cell_type": "code",
   "execution_count": 1,
   "id": "d0a1a1eb",
   "metadata": {
    "ExecuteTime": {
     "end_time": "2022-12-07T10:50:43.091460Z",
     "start_time": "2022-12-07T10:50:42.781344Z"
    }
   },
   "outputs": [],
   "source": [
    "# import\n",
    "import pandas as pd"
   ]
  },
  {
   "cell_type": "code",
   "execution_count": 2,
   "id": "337dc613",
   "metadata": {
    "ExecuteTime": {
     "end_time": "2022-12-07T10:51:21.455987Z",
     "start_time": "2022-12-07T10:51:21.450191Z"
    }
   },
   "outputs": [],
   "source": [
    "# data pass\n",
    "LOCAL_DATA_PATH_3 = 'data/pollution/5_Clusters'"
   ]
  },
  {
   "cell_type": "code",
   "execution_count": 3,
   "id": "d35e69ae",
   "metadata": {
    "ExecuteTime": {
     "end_time": "2022-12-07T10:53:35.666337Z",
     "start_time": "2022-12-07T10:53:35.631922Z"
    }
   },
   "outputs": [],
   "source": [
    "df_2 = pd.read_csv(f\"../{LOCAL_DATA_PATH_3}/cluster2_Nord.csv\", index_col='Date_time').copy()\n",
    "df_3 = pd.read_csv(f\"../{LOCAL_DATA_PATH_3}/cluster3_Est.csv\", index_col='Date_time').copy()\n",
    "df_4 = pd.read_csv(f\"../{LOCAL_DATA_PATH_3}/cluster4_Sud.csv\", index_col='Date_time').copy()\n",
    "df_5 = pd.read_csv(f\"../{LOCAL_DATA_PATH_3}/cluster5_Centre.csv\", index_col='Date_time').copy()"
   ]
  },
  {
   "cell_type": "code",
   "execution_count": 4,
   "id": "8254ff00",
   "metadata": {
    "ExecuteTime": {
     "end_time": "2022-12-07T10:54:19.835688Z",
     "start_time": "2022-12-07T10:54:19.829584Z"
    }
   },
   "outputs": [],
   "source": [
    "# transformation de l'atmo\n",
    "def atmo(x):\n",
    "    return x+1"
   ]
  },
  {
   "cell_type": "code",
   "execution_count": 5,
   "id": "b55e9e60",
   "metadata": {
    "ExecuteTime": {
     "end_time": "2022-12-07T10:55:06.667613Z",
     "start_time": "2022-12-07T10:55:06.653001Z"
    }
   },
   "outputs": [],
   "source": [
    "df_2['ATMO'] = df_2['ATMO'].apply(atmo)\n",
    "df_3['ATMO'] = df_3['ATMO'].apply(atmo)\n",
    "df_4['ATMO'] = df_4['ATMO'].apply(atmo)\n",
    "df_5['ATMO'] = df_5['ATMO'].apply(atmo)"
   ]
  },
  {
   "cell_type": "code",
   "execution_count": 13,
   "id": "b7e22c5b",
   "metadata": {
    "ExecuteTime": {
     "end_time": "2022-12-07T10:58:49.938644Z",
     "start_time": "2022-12-07T10:58:49.879291Z"
    }
   },
   "outputs": [],
   "source": [
    "df_2.to_csv('../data/pollution/6_Clusters_split/cluster2_Nord_new_atmo.csv', index=True)\n",
    "df_3.to_csv('../data/pollution/6_Clusters_split/cluster3_Est_new_atmo.csv', index=True)\n",
    "df_4.to_csv('../data/pollution/6_Clusters_split/cluster4_Sud_new_atmo.csv', index=True)\n",
    "df_5.to_csv('../data/pollution/6_Clusters_split/cluster5_Centre_new_atmo.csv', index=True)"
   ]
  },
  {
   "cell_type": "code",
   "execution_count": null,
   "id": "3020864a",
   "metadata": {},
   "outputs": [],
   "source": []
  }
 ],
 "metadata": {
  "kernelspec": {
   "display_name": "Python 3 (ipykernel)",
   "language": "python",
   "name": "python3"
  },
  "language_info": {
   "codemirror_mode": {
    "name": "ipython",
    "version": 3
   },
   "file_extension": ".py",
   "mimetype": "text/x-python",
   "name": "python",
   "nbconvert_exporter": "python",
   "pygments_lexer": "ipython3",
   "version": "3.8.13"
  },
  "toc": {
   "base_numbering": 1,
   "nav_menu": {},
   "number_sections": true,
   "sideBar": true,
   "skip_h1_title": false,
   "title_cell": "Table of Contents",
   "title_sidebar": "Contents",
   "toc_cell": false,
   "toc_position": {},
   "toc_section_display": true,
   "toc_window_display": false
  }
 },
 "nbformat": 4,
 "nbformat_minor": 5
}
